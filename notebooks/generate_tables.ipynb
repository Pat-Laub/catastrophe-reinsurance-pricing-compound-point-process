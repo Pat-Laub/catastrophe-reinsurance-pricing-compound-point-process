{
 "cells": [
  {
   "cell_type": "code",
   "execution_count": 1,
   "metadata": {},
   "outputs": [],
   "source": [
    "%config InlineBackend.figure_format='retina'\n",
    "\n",
    "# Add the parent directory to the path so that we can import the modules.\n",
    "import os\n",
    "import sys\n",
    "from functools import partial\n",
    "\n",
    "module_path = os.path.abspath(os.path.join(\"..\"))\n",
    "if module_path not in sys.path:\n",
    "    sys.path.append(module_path)\n",
    "\n",
    "import matplotlib.pyplot as plt\n",
    "import pandas as pd\n",
    "\n",
    "from dynamic_contagion import *\n",
    "from market_conditions import *\n",
    "from reinsurance import *"
   ]
  },
  {
   "cell_type": "code",
   "execution_count": 2,
   "metadata": {},
   "outputs": [],
   "source": [
    "# Other parameters\n",
    "maturity = 3\n",
    "markup = 0.4\n",
    "R = int(1e5)\n",
    "seed = 123\n",
    "\n",
    "# Asset parameters\n",
    "V_0 = 130\n",
    "phi_V = -3  # * (1.3) # = V0 / L0\n",
    "sigma_V = 0.05\n",
    "\n",
    "# Liability parameters\n",
    "L_0 = 100\n",
    "phi_L = -3\n",
    "sigma_L = 0.02\n",
    "\n",
    "# Interest rate parameters\n",
    "r_0 = 0.02\n",
    "k = 0.2\n",
    "m = 0.05  # 0.5\n",
    "upsilon = 0.1\n",
    "eta_r = -0.01\n",
    "\n",
    "# Catastrophe loss size distribution parameters\n",
    "mu_C = 2\n",
    "sigma_C = 0.5"
   ]
  },
  {
   "cell_type": "code",
   "execution_count": 3,
   "metadata": {},
   "outputs": [],
   "source": [
    "# Poisson process\n",
    "def simulate_poisson(seed):\n",
    "    lambda_ = 0.5\n",
    "    rg = rnd.default_rng(seed)\n",
    "    return rg.poisson(lambda_ * maturity)\n",
    "\n",
    "\n",
    "# Cox proces\n",
    "def simulate_cox(seed):\n",
    "    lambda0 = 0.49\n",
    "    a = 0.4\n",
    "    rho = 0.4\n",
    "    delta = 1\n",
    "\n",
    "    return simulate_num_dynamic_contagion_uniform_jumps(\n",
    "        seed, maturity, lambda0, a, rho, delta, 0.0, 0.0, 0.0, 0.5\n",
    "    )\n",
    "\n",
    "\n",
    "# Hawkes process\n",
    "def simulate_hawkes(seed):\n",
    "    lambda0 = 0.47\n",
    "    a = 0.26\n",
    "    rho = 0.4\n",
    "    delta = 1\n",
    "\n",
    "    return simulate_num_dynamic_contagion_uniform_jumps(\n",
    "        seed, maturity, lambda0, a, rho, delta, 0.0, 1.0, 0.0, 0.0\n",
    "    )\n",
    "\n",
    "\n",
    "# Dynamic contagion process\n",
    "def simulate_dcp(seed):\n",
    "    lambda0 = 0.29\n",
    "    a = 0.26\n",
    "    rho = 0.4\n",
    "    delta = 1\n",
    "\n",
    "    return simulate_num_dynamic_contagion_uniform_jumps(\n",
    "        seed, maturity, lambda0, a, rho, delta, 0.0, 1.0, 0.0, 0.5\n",
    "    )\n",
    "\n",
    "\n",
    "simulators = (simulate_poisson, simulate_cox, simulate_hawkes, simulate_dcp)"
   ]
  },
  {
   "attachments": {},
   "cell_type": "markdown",
   "metadata": {},
   "source": [
    "## Tables 1-4"
   ]
  },
  {
   "cell_type": "code",
   "execution_count": 4,
   "metadata": {},
   "outputs": [],
   "source": [
    "ROUNDING = 4\n",
    "\n",
    "As = (10.0, 15.0, 20.0, 25.0, 30.0)\n",
    "Ms = (60.0, 65.0, 70.0, 75.0, 80.0, 85.0, 90.0)\n",
    "\n",
    "\n",
    "def prices_to_df(prices, As, Ms):\n",
    "    try:\n",
    "        cols = [f\"$M={int(m)}$\" for m in Ms]\n",
    "        rows = [f\"$A={int(a)}$\" for a in As]\n",
    "    except ValueError:\n",
    "        cols = [f\"$M={m}$\" for m in Ms]\n",
    "        rows = [f\"$A={a}$\" for a in As]\n",
    "\n",
    "    return pd.DataFrame(prices.round(ROUNDING), columns=cols, index=rows)\n",
    "\n",
    "\n",
    "def prices_to_tex(prices, As, Ms):\n",
    "    df = prices_to_df(prices, As, Ms)\n",
    "    display(df)\n",
    "    return (\n",
    "        df.style.to_latex().replace(\"lrrrrrrr\", \"c|c|c|c|c|c|c|c\").replace(\"00 \", \" \")\n",
    "    )"
   ]
  },
  {
   "cell_type": "code",
   "execution_count": 5,
   "metadata": {},
   "outputs": [
    {
     "name": "stdout",
     "output_type": "stream",
     "text": [
      "CPU times: total: 2.02 s\n",
      "Wall time: 4.65 s\n"
     ]
    }
   ],
   "source": [
    "%%time\n",
    "prices = reinsurance_prices(\n",
    "    R,\n",
    "    seed,\n",
    "    maturity,\n",
    "    k,\n",
    "    eta_r,\n",
    "    m,\n",
    "    phi_V,\n",
    "    sigma_V,\n",
    "    phi_L,\n",
    "    sigma_L,\n",
    "    upsilon,\n",
    "    V_0,\n",
    "    L_0,\n",
    "    r_0,\n",
    "    simulators,\n",
    "    mu_C,\n",
    "    sigma_C,\n",
    "    markup,\n",
    "    A=As,\n",
    "    M=Ms,\n",
    ")"
   ]
  },
  {
   "cell_type": "code",
   "execution_count": 6,
   "metadata": {},
   "outputs": [
    {
     "name": "stdout",
     "output_type": "stream",
     "text": [
      "Poisson\n"
     ]
    },
    {
     "data": {
      "text/html": [
       "<div>\n",
       "<style scoped>\n",
       "    .dataframe tbody tr th:only-of-type {\n",
       "        vertical-align: middle;\n",
       "    }\n",
       "\n",
       "    .dataframe tbody tr th {\n",
       "        vertical-align: top;\n",
       "    }\n",
       "\n",
       "    .dataframe thead th {\n",
       "        text-align: right;\n",
       "    }\n",
       "</style>\n",
       "<table border=\"1\" class=\"dataframe\">\n",
       "  <thead>\n",
       "    <tr style=\"text-align: right;\">\n",
       "      <th></th>\n",
       "      <th>$M=60$</th>\n",
       "      <th>$M=65$</th>\n",
       "      <th>$M=70$</th>\n",
       "      <th>$M=75$</th>\n",
       "      <th>$M=80$</th>\n",
       "      <th>$M=85$</th>\n",
       "      <th>$M=90$</th>\n",
       "    </tr>\n",
       "  </thead>\n",
       "  <tbody>\n",
       "    <tr>\n",
       "      <th>$A=10$</th>\n",
       "      <td>7.2478</td>\n",
       "      <td>7.2561</td>\n",
       "      <td>7.2605</td>\n",
       "      <td>7.2625</td>\n",
       "      <td>7.2635</td>\n",
       "      <td>7.2640</td>\n",
       "      <td>7.2643</td>\n",
       "    </tr>\n",
       "    <tr>\n",
       "      <th>$A=15$</th>\n",
       "      <td>4.5758</td>\n",
       "      <td>4.5848</td>\n",
       "      <td>4.5895</td>\n",
       "      <td>4.5916</td>\n",
       "      <td>4.5927</td>\n",
       "      <td>4.5932</td>\n",
       "      <td>4.5935</td>\n",
       "    </tr>\n",
       "    <tr>\n",
       "      <th>$A=20$</th>\n",
       "      <td>2.7822</td>\n",
       "      <td>2.7921</td>\n",
       "      <td>2.7972</td>\n",
       "      <td>2.7995</td>\n",
       "      <td>2.8006</td>\n",
       "      <td>2.8012</td>\n",
       "      <td>2.8015</td>\n",
       "    </tr>\n",
       "    <tr>\n",
       "      <th>$A=25$</th>\n",
       "      <td>1.6393</td>\n",
       "      <td>1.6500</td>\n",
       "      <td>1.6557</td>\n",
       "      <td>1.6581</td>\n",
       "      <td>1.6594</td>\n",
       "      <td>1.6600</td>\n",
       "      <td>1.6603</td>\n",
       "    </tr>\n",
       "    <tr>\n",
       "      <th>$A=30$</th>\n",
       "      <td>0.9403</td>\n",
       "      <td>0.9519</td>\n",
       "      <td>0.9580</td>\n",
       "      <td>0.9607</td>\n",
       "      <td>0.9620</td>\n",
       "      <td>0.9627</td>\n",
       "      <td>0.9630</td>\n",
       "    </tr>\n",
       "  </tbody>\n",
       "</table>\n",
       "</div>"
      ],
      "text/plain": [
       "        $M=60$  $M=65$  $M=70$  $M=75$  $M=80$  $M=85$  $M=90$\n",
       "$A=10$  7.2478  7.2561  7.2605  7.2625  7.2635  7.2640  7.2643\n",
       "$A=15$  4.5758  4.5848  4.5895  4.5916  4.5927  4.5932  4.5935\n",
       "$A=20$  2.7822  2.7921  2.7972  2.7995  2.8006  2.8012  2.8015\n",
       "$A=25$  1.6393  1.6500  1.6557  1.6581  1.6594  1.6600  1.6603\n",
       "$A=30$  0.9403  0.9519  0.9580  0.9607  0.9620  0.9627  0.9630"
      ]
     },
     "metadata": {},
     "output_type": "display_data"
    },
    {
     "name": "stdout",
     "output_type": "stream",
     "text": [
      "\\begin{tabular}{c|c|c|c|c|c|c|c}\n",
      " & $M=60$ & $M=65$ & $M=70$ & $M=75$ & $M=80$ & $M=85$ & $M=90$ \\\\\n",
      "$A=10$ & 7.2478 & 7.2561 & 7.2605 & 7.2625 & 7.2635 & 7.2640 & 7.2643 \\\\\n",
      "$A=15$ & 4.5758 & 4.5848 & 4.5895 & 4.5916 & 4.5927 & 4.5932 & 4.5935 \\\\\n",
      "$A=20$ & 2.7822 & 2.7921 & 2.7972 & 2.7995 & 2.8006 & 2.8012 & 2.8015 \\\\\n",
      "$A=25$ & 1.6393 & 1.6500 & 1.6557 & 1.6581 & 1.6594 & 1.6600 & 1.6603 \\\\\n",
      "$A=30$ & 0.9403 & 0.9519 & 0.9580 & 0.9607 & 0.9620 & 0.9627 & 0.9630 \\\\\n",
      "\\end{tabular}\n",
      "\n",
      "Cox\n"
     ]
    },
    {
     "data": {
      "text/html": [
       "<div>\n",
       "<style scoped>\n",
       "    .dataframe tbody tr th:only-of-type {\n",
       "        vertical-align: middle;\n",
       "    }\n",
       "\n",
       "    .dataframe tbody tr th {\n",
       "        vertical-align: top;\n",
       "    }\n",
       "\n",
       "    .dataframe thead th {\n",
       "        text-align: right;\n",
       "    }\n",
       "</style>\n",
       "<table border=\"1\" class=\"dataframe\">\n",
       "  <thead>\n",
       "    <tr style=\"text-align: right;\">\n",
       "      <th></th>\n",
       "      <th>$M=60$</th>\n",
       "      <th>$M=65$</th>\n",
       "      <th>$M=70$</th>\n",
       "      <th>$M=75$</th>\n",
       "      <th>$M=80$</th>\n",
       "      <th>$M=85$</th>\n",
       "      <th>$M=90$</th>\n",
       "    </tr>\n",
       "  </thead>\n",
       "  <tbody>\n",
       "    <tr>\n",
       "      <th>$A=10$</th>\n",
       "      <td>7.2451</td>\n",
       "      <td>7.2538</td>\n",
       "      <td>7.2583</td>\n",
       "      <td>7.2607</td>\n",
       "      <td>7.2620</td>\n",
       "      <td>7.2626</td>\n",
       "      <td>7.2629</td>\n",
       "    </tr>\n",
       "    <tr>\n",
       "      <th>$A=15$</th>\n",
       "      <td>4.6032</td>\n",
       "      <td>4.6126</td>\n",
       "      <td>4.6175</td>\n",
       "      <td>4.6201</td>\n",
       "      <td>4.6215</td>\n",
       "      <td>4.6221</td>\n",
       "      <td>4.6224</td>\n",
       "    </tr>\n",
       "    <tr>\n",
       "      <th>$A=20$</th>\n",
       "      <td>2.8205</td>\n",
       "      <td>2.8309</td>\n",
       "      <td>2.8362</td>\n",
       "      <td>2.8390</td>\n",
       "      <td>2.8405</td>\n",
       "      <td>2.8412</td>\n",
       "      <td>2.8415</td>\n",
       "    </tr>\n",
       "    <tr>\n",
       "      <th>$A=25$</th>\n",
       "      <td>1.6718</td>\n",
       "      <td>1.6831</td>\n",
       "      <td>1.6890</td>\n",
       "      <td>1.6920</td>\n",
       "      <td>1.6936</td>\n",
       "      <td>1.6944</td>\n",
       "      <td>1.6947</td>\n",
       "    </tr>\n",
       "    <tr>\n",
       "      <th>$A=30$</th>\n",
       "      <td>0.9628</td>\n",
       "      <td>0.9750</td>\n",
       "      <td>0.9813</td>\n",
       "      <td>0.9846</td>\n",
       "      <td>0.9863</td>\n",
       "      <td>0.9872</td>\n",
       "      <td>0.9876</td>\n",
       "    </tr>\n",
       "  </tbody>\n",
       "</table>\n",
       "</div>"
      ],
      "text/plain": [
       "        $M=60$  $M=65$  $M=70$  $M=75$  $M=80$  $M=85$  $M=90$\n",
       "$A=10$  7.2451  7.2538  7.2583  7.2607  7.2620  7.2626  7.2629\n",
       "$A=15$  4.6032  4.6126  4.6175  4.6201  4.6215  4.6221  4.6224\n",
       "$A=20$  2.8205  2.8309  2.8362  2.8390  2.8405  2.8412  2.8415\n",
       "$A=25$  1.6718  1.6831  1.6890  1.6920  1.6936  1.6944  1.6947\n",
       "$A=30$  0.9628  0.9750  0.9813  0.9846  0.9863  0.9872  0.9876"
      ]
     },
     "metadata": {},
     "output_type": "display_data"
    },
    {
     "name": "stdout",
     "output_type": "stream",
     "text": [
      "\\begin{tabular}{c|c|c|c|c|c|c|c}\n",
      " & $M=60$ & $M=65$ & $M=70$ & $M=75$ & $M=80$ & $M=85$ & $M=90$ \\\\\n",
      "$A=10$ & 7.2451 & 7.2538 & 7.2583 & 7.2607 & 7.2620 & 7.2626 & 7.2629 \\\\\n",
      "$A=15$ & 4.6032 & 4.6126 & 4.6175 & 4.6201 & 4.6215 & 4.6221 & 4.6224 \\\\\n",
      "$A=20$ & 2.8205 & 2.8309 & 2.8362 & 2.8390 & 2.8405 & 2.8412 & 2.8415 \\\\\n",
      "$A=25$ & 1.6718 & 1.6831 & 1.6890 & 1.6920 & 1.6936 & 1.6944 & 1.6947 \\\\\n",
      "$A=30$ & 0.9628 & 0.9750 & 0.9813 & 0.9846 & 0.9863 & 0.9872 & 0.9876 \\\\\n",
      "\\end{tabular}\n",
      "\n",
      "Hawkes\n"
     ]
    },
    {
     "data": {
      "text/html": [
       "<div>\n",
       "<style scoped>\n",
       "    .dataframe tbody tr th:only-of-type {\n",
       "        vertical-align: middle;\n",
       "    }\n",
       "\n",
       "    .dataframe tbody tr th {\n",
       "        vertical-align: top;\n",
       "    }\n",
       "\n",
       "    .dataframe thead th {\n",
       "        text-align: right;\n",
       "    }\n",
       "</style>\n",
       "<table border=\"1\" class=\"dataframe\">\n",
       "  <thead>\n",
       "    <tr style=\"text-align: right;\">\n",
       "      <th></th>\n",
       "      <th>$M=60$</th>\n",
       "      <th>$M=65$</th>\n",
       "      <th>$M=70$</th>\n",
       "      <th>$M=75$</th>\n",
       "      <th>$M=80$</th>\n",
       "      <th>$M=85$</th>\n",
       "      <th>$M=90$</th>\n",
       "    </tr>\n",
       "  </thead>\n",
       "  <tbody>\n",
       "    <tr>\n",
       "      <th>$A=10$</th>\n",
       "      <td>8.1183</td>\n",
       "      <td>8.1950</td>\n",
       "      <td>8.2488</td>\n",
       "      <td>8.2876</td>\n",
       "      <td>8.3151</td>\n",
       "      <td>8.3339</td>\n",
       "      <td>8.3476</td>\n",
       "    </tr>\n",
       "    <tr>\n",
       "      <th>$A=15$</th>\n",
       "      <td>5.9402</td>\n",
       "      <td>6.0235</td>\n",
       "      <td>6.0817</td>\n",
       "      <td>6.1233</td>\n",
       "      <td>6.1525</td>\n",
       "      <td>6.1726</td>\n",
       "      <td>6.1871</td>\n",
       "    </tr>\n",
       "    <tr>\n",
       "      <th>$A=20$</th>\n",
       "      <td>4.3240</td>\n",
       "      <td>4.4150</td>\n",
       "      <td>4.4781</td>\n",
       "      <td>4.5231</td>\n",
       "      <td>4.5545</td>\n",
       "      <td>4.5758</td>\n",
       "      <td>4.5912</td>\n",
       "    </tr>\n",
       "    <tr>\n",
       "      <th>$A=25$</th>\n",
       "      <td>3.1259</td>\n",
       "      <td>3.2249</td>\n",
       "      <td>3.2938</td>\n",
       "      <td>3.3428</td>\n",
       "      <td>3.3766</td>\n",
       "      <td>3.3995</td>\n",
       "      <td>3.4158</td>\n",
       "    </tr>\n",
       "    <tr>\n",
       "      <th>$A=30$</th>\n",
       "      <td>2.2317</td>\n",
       "      <td>2.3390</td>\n",
       "      <td>2.4140</td>\n",
       "      <td>2.4674</td>\n",
       "      <td>2.5043</td>\n",
       "      <td>2.5289</td>\n",
       "      <td>2.5464</td>\n",
       "    </tr>\n",
       "  </tbody>\n",
       "</table>\n",
       "</div>"
      ],
      "text/plain": [
       "        $M=60$  $M=65$  $M=70$  $M=75$  $M=80$  $M=85$  $M=90$\n",
       "$A=10$  8.1183  8.1950  8.2488  8.2876  8.3151  8.3339  8.3476\n",
       "$A=15$  5.9402  6.0235  6.0817  6.1233  6.1525  6.1726  6.1871\n",
       "$A=20$  4.3240  4.4150  4.4781  4.5231  4.5545  4.5758  4.5912\n",
       "$A=25$  3.1259  3.2249  3.2938  3.3428  3.3766  3.3995  3.4158\n",
       "$A=30$  2.2317  2.3390  2.4140  2.4674  2.5043  2.5289  2.5464"
      ]
     },
     "metadata": {},
     "output_type": "display_data"
    },
    {
     "name": "stdout",
     "output_type": "stream",
     "text": [
      "\\begin{tabular}{c|c|c|c|c|c|c|c}\n",
      " & $M=60$ & $M=65$ & $M=70$ & $M=75$ & $M=80$ & $M=85$ & $M=90$ \\\\\n",
      "$A=10$ & 8.1183 & 8.1950 & 8.2488 & 8.2876 & 8.3151 & 8.3339 & 8.3476 \\\\\n",
      "$A=15$ & 5.9402 & 6.0235 & 6.0817 & 6.1233 & 6.1525 & 6.1726 & 6.1871 \\\\\n",
      "$A=20$ & 4.3240 & 4.4150 & 4.4781 & 4.5231 & 4.5545 & 4.5758 & 4.5912 \\\\\n",
      "$A=25$ & 3.1259 & 3.2249 & 3.2938 & 3.3428 & 3.3766 & 3.3995 & 3.4158 \\\\\n",
      "$A=30$ & 2.2317 & 2.3390 & 2.4140 & 2.4674 & 2.5043 & 2.5289 & 2.5464 \\\\\n",
      "\\end{tabular}\n",
      "\n",
      "DCP\n"
     ]
    },
    {
     "data": {
      "text/html": [
       "<div>\n",
       "<style scoped>\n",
       "    .dataframe tbody tr th:only-of-type {\n",
       "        vertical-align: middle;\n",
       "    }\n",
       "\n",
       "    .dataframe tbody tr th {\n",
       "        vertical-align: top;\n",
       "    }\n",
       "\n",
       "    .dataframe thead th {\n",
       "        text-align: right;\n",
       "    }\n",
       "</style>\n",
       "<table border=\"1\" class=\"dataframe\">\n",
       "  <thead>\n",
       "    <tr style=\"text-align: right;\">\n",
       "      <th></th>\n",
       "      <th>$M=60$</th>\n",
       "      <th>$M=65$</th>\n",
       "      <th>$M=70$</th>\n",
       "      <th>$M=75$</th>\n",
       "      <th>$M=80$</th>\n",
       "      <th>$M=85$</th>\n",
       "      <th>$M=90$</th>\n",
       "    </tr>\n",
       "  </thead>\n",
       "  <tbody>\n",
       "    <tr>\n",
       "      <th>$A=10$</th>\n",
       "      <td>8.2255</td>\n",
       "      <td>8.3003</td>\n",
       "      <td>8.3523</td>\n",
       "      <td>8.3891</td>\n",
       "      <td>8.4147</td>\n",
       "      <td>8.4329</td>\n",
       "      <td>8.4457</td>\n",
       "    </tr>\n",
       "    <tr>\n",
       "      <th>$A=15$</th>\n",
       "      <td>6.0212</td>\n",
       "      <td>6.1026</td>\n",
       "      <td>6.1588</td>\n",
       "      <td>6.1981</td>\n",
       "      <td>6.2253</td>\n",
       "      <td>6.2447</td>\n",
       "      <td>6.2582</td>\n",
       "    </tr>\n",
       "    <tr>\n",
       "      <th>$A=20$</th>\n",
       "      <td>4.3848</td>\n",
       "      <td>4.4738</td>\n",
       "      <td>4.5349</td>\n",
       "      <td>4.5773</td>\n",
       "      <td>4.6064</td>\n",
       "      <td>4.6270</td>\n",
       "      <td>4.6414</td>\n",
       "    </tr>\n",
       "    <tr>\n",
       "      <th>$A=25$</th>\n",
       "      <td>3.1672</td>\n",
       "      <td>3.2644</td>\n",
       "      <td>3.3310</td>\n",
       "      <td>3.3771</td>\n",
       "      <td>3.4085</td>\n",
       "      <td>3.4305</td>\n",
       "      <td>3.4458</td>\n",
       "    </tr>\n",
       "    <tr>\n",
       "      <th>$A=30$</th>\n",
       "      <td>2.2562</td>\n",
       "      <td>2.3615</td>\n",
       "      <td>2.4342</td>\n",
       "      <td>2.4843</td>\n",
       "      <td>2.5184</td>\n",
       "      <td>2.5421</td>\n",
       "      <td>2.5585</td>\n",
       "    </tr>\n",
       "  </tbody>\n",
       "</table>\n",
       "</div>"
      ],
      "text/plain": [
       "        $M=60$  $M=65$  $M=70$  $M=75$  $M=80$  $M=85$  $M=90$\n",
       "$A=10$  8.2255  8.3003  8.3523  8.3891  8.4147  8.4329  8.4457\n",
       "$A=15$  6.0212  6.1026  6.1588  6.1981  6.2253  6.2447  6.2582\n",
       "$A=20$  4.3848  4.4738  4.5349  4.5773  4.6064  4.6270  4.6414\n",
       "$A=25$  3.1672  3.2644  3.3310  3.3771  3.4085  3.4305  3.4458\n",
       "$A=30$  2.2562  2.3615  2.4342  2.4843  2.5184  2.5421  2.5585"
      ]
     },
     "metadata": {},
     "output_type": "display_data"
    },
    {
     "name": "stdout",
     "output_type": "stream",
     "text": [
      "\\begin{tabular}{c|c|c|c|c|c|c|c}\n",
      " & $M=60$ & $M=65$ & $M=70$ & $M=75$ & $M=80$ & $M=85$ & $M=90$ \\\\\n",
      "$A=10$ & 8.2255 & 8.3003 & 8.3523 & 8.3891 & 8.4147 & 8.4329 & 8.4457 \\\\\n",
      "$A=15$ & 6.0212 & 6.1026 & 6.1588 & 6.1981 & 6.2253 & 6.2447 & 6.2582 \\\\\n",
      "$A=20$ & 4.3848 & 4.4738 & 4.5349 & 4.5773 & 4.6064 & 4.6270 & 4.6414 \\\\\n",
      "$A=25$ & 3.1672 & 3.2644 & 3.3310 & 3.3771 & 3.4085 & 3.4305 & 3.4458 \\\\\n",
      "$A=30$ & 2.2562 & 2.3615 & 2.4342 & 2.4843 & 2.5184 & 2.5421 & 2.5585 \\\\\n",
      "\\end{tabular}\n",
      "\n"
     ]
    }
   ],
   "source": [
    "# Tables 1 to 4\n",
    "cat_models = (\"Poisson\", \"Cox\", \"Hawkes\", \"DCP\")\n",
    "for c in range(4):\n",
    "    print(cat_models[c])\n",
    "    print(prices_to_tex(prices[c], As, Ms))"
   ]
  },
  {
   "attachments": {},
   "cell_type": "markdown",
   "metadata": {},
   "source": [
    "## Table 5: Default risk premium"
   ]
  },
  {
   "cell_type": "code",
   "execution_count": 7,
   "metadata": {},
   "outputs": [
    {
     "name": "stdout",
     "output_type": "stream",
     "text": [
      "CPU times: total: 1.66 s\n",
      "Wall time: 3.89 s\n"
     ]
    }
   ],
   "source": [
    "%%time\n",
    "risky_prices = reinsurance_prices(\n",
    "    R,\n",
    "    seed,\n",
    "    maturity,\n",
    "    k,\n",
    "    eta_r,\n",
    "    m,\n",
    "    phi_V,\n",
    "    sigma_V,\n",
    "    phi_L,\n",
    "    sigma_L,\n",
    "    upsilon,\n",
    "    V_0,\n",
    "    L_0,\n",
    "    r_0,\n",
    "    simulators,\n",
    "    mu_C,\n",
    "    sigma_C,\n",
    "    markup,\n",
    ")[:, np.newaxis]"
   ]
  },
  {
   "cell_type": "code",
   "execution_count": 8,
   "metadata": {},
   "outputs": [
    {
     "data": {
      "text/plain": [
       "array([[2.8015],\n",
       "       [2.8415],\n",
       "       [4.5912],\n",
       "       [4.6414]])"
      ]
     },
     "execution_count": 8,
     "metadata": {},
     "output_type": "execute_result"
    }
   ],
   "source": [
    "risky_prices.round(4)"
   ]
  },
  {
   "cell_type": "code",
   "execution_count": 9,
   "metadata": {},
   "outputs": [
    {
     "name": "stdout",
     "output_type": "stream",
     "text": [
      "CPU times: total: 1.59 s\n",
      "Wall time: 4.02 s\n"
     ]
    }
   ],
   "source": [
    "%%time\n",
    "safe_prices = reinsurance_prices(\n",
    "    R,\n",
    "    seed,\n",
    "    maturity,\n",
    "    k,\n",
    "    eta_r,\n",
    "    m,\n",
    "    phi_V,\n",
    "    sigma_V,\n",
    "    phi_L,\n",
    "    sigma_L,\n",
    "    upsilon,\n",
    "    V_0,\n",
    "    L_0,\n",
    "    r_0,\n",
    "    simulators,\n",
    "    mu_C,\n",
    "    sigma_C,\n",
    "    markup,\n",
    "    defaultable=False,\n",
    ")[:, np.newaxis]"
   ]
  },
  {
   "cell_type": "code",
   "execution_count": 10,
   "metadata": {},
   "outputs": [
    {
     "data": {
      "text/plain": [
       "array([[2.847 ],\n",
       "       [2.8844],\n",
       "       [4.8709],\n",
       "       [4.9161]])"
      ]
     },
     "execution_count": 10,
     "metadata": {},
     "output_type": "execute_result"
    }
   ],
   "source": [
    "safe_prices.round(4)"
   ]
  },
  {
   "cell_type": "code",
   "execution_count": 11,
   "metadata": {},
   "outputs": [
    {
     "data": {
      "text/plain": [
       "array([[0.0455],\n",
       "       [0.0429],\n",
       "       [0.2797],\n",
       "       [0.2747]])"
      ]
     },
     "execution_count": 11,
     "metadata": {},
     "output_type": "execute_result"
    }
   ],
   "source": [
    "risk_premium = safe_prices - risky_prices\n",
    "risk_premium.round(4)"
   ]
  },
  {
   "cell_type": "code",
   "execution_count": 12,
   "metadata": {},
   "outputs": [
    {
     "data": {
      "text/plain": [
       "array([[2.8015, 2.847 , 0.0455],\n",
       "       [2.8415, 2.8844, 0.0429],\n",
       "       [4.5912, 4.8709, 0.2797],\n",
       "       [4.6414, 4.9161, 0.2747]])"
      ]
     },
     "execution_count": 12,
     "metadata": {},
     "output_type": "execute_result"
    }
   ],
   "source": [
    "default_risk_premiums = np.hstack((risky_prices, safe_prices, risk_premium)).round(4)\n",
    "default_risk_premiums"
   ]
  },
  {
   "cell_type": "code",
   "execution_count": 13,
   "metadata": {},
   "outputs": [
    {
     "name": "stdout",
     "output_type": "stream",
     "text": [
      "\\begin{tabular}{lrrr}\n",
      " & 0 & 1 & 2 \\\\\n",
      "0 & 2.8015 & 2.8470 & 0.0455 \\\\\n",
      "1 & 2.8415 & 2.8844 & 0.0429 \\\\\n",
      "2 & 4.5912 & 4.8709 & 0.2797 \\\\\n",
      "3 & 4.6414 & 4.9161 & 0.2747 \\\\\n",
      "\\end{tabular}\n",
      "\n"
     ]
    }
   ],
   "source": [
    "print(pd.DataFrame(default_risk_premiums).style.to_latex().replace(\"00 \", \" \"))"
   ]
  },
  {
   "attachments": {},
   "cell_type": "markdown",
   "metadata": {},
   "source": [
    "## Table 6: Impacts of externally-excited jump frequency rate"
   ]
  },
  {
   "cell_type": "code",
   "execution_count": 14,
   "metadata": {},
   "outputs": [],
   "source": [
    "def simulate_dcp_variations(seed, rho):\n",
    "    lambda0 = 0.29\n",
    "    a = 0.26\n",
    "    delta = 1\n",
    "\n",
    "    return simulate_num_dynamic_contagion_uniform_jumps(\n",
    "        seed, maturity, lambda0, a, rho, delta, 0.0, 1.0, 0.0, 0.5\n",
    "    )\n",
    "\n",
    "\n",
    "dcp_variations = [partial(simulate_dcp_variations, rho=rho) for rho in (0.4, 3, 10, 20)]"
   ]
  },
  {
   "cell_type": "code",
   "execution_count": 15,
   "metadata": {},
   "outputs": [
    {
     "name": "stdout",
     "output_type": "stream",
     "text": [
      "CPU times: total: 3.89 s\n",
      "Wall time: 10.4 s\n"
     ]
    }
   ],
   "source": [
    "%%time\n",
    "risky_prices = reinsurance_prices(\n",
    "    R,\n",
    "    seed,\n",
    "    maturity,\n",
    "    k,\n",
    "    eta_r,\n",
    "    m,\n",
    "    phi_V,\n",
    "    sigma_V,\n",
    "    phi_L,\n",
    "    sigma_L,\n",
    "    upsilon,\n",
    "    tuple(int(scale * L_0) for scale in (1.1, 1.3, 1.5)),\n",
    "    L_0,\n",
    "    r_0,\n",
    "    dcp_variations,\n",
    "    mu_C,\n",
    "    sigma_C,\n",
    "    markup,\n",
    ").T"
   ]
  },
  {
   "cell_type": "code",
   "execution_count": 16,
   "metadata": {},
   "outputs": [
    {
     "data": {
      "text/plain": [
       "array([[ 4.1942,  4.6414,  4.8367],\n",
       "       [13.593 , 15.3399, 16.2959],\n",
       "       [39.9647, 46.4996, 51.4606],\n",
       "       [56.7379, 66.8978, 76.0682]])"
      ]
     },
     "execution_count": 16,
     "metadata": {},
     "output_type": "execute_result"
    }
   ],
   "source": [
    "risky_prices.round(4)"
   ]
  },
  {
   "cell_type": "code",
   "execution_count": 17,
   "metadata": {},
   "outputs": [
    {
     "name": "stdout",
     "output_type": "stream",
     "text": [
      "CPU times: total: 844 ms\n",
      "Wall time: 3.51 s\n"
     ]
    }
   ],
   "source": [
    "%%time\n",
    "safe_prices = reinsurance_prices(\n",
    "    R,\n",
    "    seed,\n",
    "    maturity,\n",
    "    k,\n",
    "    eta_r,\n",
    "    m,\n",
    "    phi_V,\n",
    "    sigma_V,\n",
    "    phi_L,\n",
    "    sigma_L,\n",
    "    upsilon,\n",
    "    tuple(int(scale * L_0) for scale in (1.1, 1.3, 1.5)),\n",
    "    L_0,\n",
    "    r_0,\n",
    "    dcp_variations,\n",
    "    mu_C,\n",
    "    sigma_C,\n",
    "    markup,\n",
    "    defaultable=False,\n",
    ").T"
   ]
  },
  {
   "cell_type": "code",
   "execution_count": 18,
   "metadata": {},
   "outputs": [
    {
     "data": {
      "text/plain": [
       "array([[ 4.9161,  4.9161,  4.9161],\n",
       "       [16.7538, 16.7538, 16.7538],\n",
       "       [54.7041, 54.7041, 54.7041],\n",
       "       [83.286 , 83.286 , 83.286 ]])"
      ]
     },
     "execution_count": 18,
     "metadata": {},
     "output_type": "execute_result"
    }
   ],
   "source": [
    "safe_prices.round(4)"
   ]
  },
  {
   "cell_type": "code",
   "execution_count": 19,
   "metadata": {},
   "outputs": [],
   "source": [
    "risk_premium = safe_prices - risky_prices"
   ]
  },
  {
   "cell_type": "code",
   "execution_count": 20,
   "metadata": {},
   "outputs": [
    {
     "data": {
      "text/plain": [
       "array([[ 4.1942,  4.6414,  4.8367,  0.7219,  0.2747,  0.0794],\n",
       "       [13.593 , 15.3399, 16.2959,  3.1608,  1.414 ,  0.4579],\n",
       "       [39.9647, 46.4996, 51.4606, 14.7394,  8.2045,  3.2435],\n",
       "       [56.7379, 66.8978, 76.0682, 26.5481, 16.3882,  7.2178]])"
      ]
     },
     "execution_count": 20,
     "metadata": {},
     "output_type": "execute_result"
    }
   ],
   "source": [
    "impacts_of_ext_jump_freq = np.hstack([risky_prices, risk_premium]).round(4)\n",
    "impacts_of_ext_jump_freq"
   ]
  },
  {
   "cell_type": "code",
   "execution_count": 21,
   "metadata": {},
   "outputs": [
    {
     "name": "stdout",
     "output_type": "stream",
     "text": [
      "\\begin{tabular}{lrrrrrr}\n",
      " & 0 & 1 & 2 & 3 & 4 & 5 \\\\\n",
      "0 & 4.1942 & 4.6414 & 4.8367 & 0.7219 & 0.2747 & 0.0794 \\\\\n",
      "1 & 13.5930 & 15.3399 & 16.2959 & 3.1608 & 1.4140 & 0.4579 \\\\\n",
      "2 & 39.9647 & 46.4996 & 51.4606 & 14.7394 & 8.2045 & 3.2435 \\\\\n",
      "3 & 56.7379 & 66.8978 & 76.0682 & 26.5481 & 16.3882 & 7.2178 \\\\\n",
      "\\end{tabular}\n",
      "\n"
     ]
    }
   ],
   "source": [
    "print(pd.DataFrame(impacts_of_ext_jump_freq).style.to_latex().replace(\"00 \", \" \"))"
   ]
  },
  {
   "attachments": {},
   "cell_type": "markdown",
   "metadata": {},
   "source": [
    "## Table 7: Impacts of externally-excited jump magnitude"
   ]
  },
  {
   "cell_type": "code",
   "execution_count": 22,
   "metadata": {},
   "outputs": [],
   "source": [
    "def simulate_dcp_variations(seed, mu_F=0.25, mu_G=0.5):\n",
    "    lambda0 = 0.29\n",
    "    a = 0.26\n",
    "    delta = 1\n",
    "    rho = 0.4\n",
    "\n",
    "    return simulate_num_dynamic_contagion_uniform_jumps(\n",
    "        seed, maturity, lambda0, a, rho, delta, 0.0, 2 * mu_G, 0.0, 2 * mu_F\n",
    "    )\n",
    "\n",
    "\n",
    "dcp_variations = [\n",
    "    partial(simulate_dcp_variations, mu_F=mu_F) for mu_F in (0.25, 1.0, 4.0, 8.0)\n",
    "]"
   ]
  },
  {
   "cell_type": "code",
   "execution_count": 23,
   "metadata": {},
   "outputs": [
    {
     "name": "stdout",
     "output_type": "stream",
     "text": [
      "CPU times: total: 5.78 s\n",
      "Wall time: 10.8 s\n"
     ]
    }
   ],
   "source": [
    "%%time\n",
    "risky_prices = reinsurance_prices(\n",
    "    R,\n",
    "    seed,\n",
    "    maturity,\n",
    "    k,\n",
    "    eta_r,\n",
    "    m,\n",
    "    phi_V,\n",
    "    sigma_V,\n",
    "    phi_L,\n",
    "    sigma_L,\n",
    "    upsilon,\n",
    "    tuple(int(scale * L_0) for scale in (1.1, 1.3, 1.5)),\n",
    "    L_0,\n",
    "    r_0,\n",
    "    dcp_variations,\n",
    "    mu_C,\n",
    "    sigma_C,\n",
    "    markup,\n",
    ").T\n",
    "\n",
    "safe_prices = reinsurance_prices(\n",
    "    R,\n",
    "    seed,\n",
    "    maturity,\n",
    "    k,\n",
    "    eta_r,\n",
    "    m,\n",
    "    phi_V,\n",
    "    sigma_V,\n",
    "    phi_L,\n",
    "    sigma_L,\n",
    "    upsilon,\n",
    "    tuple(int(scale * L_0) for scale in (1.1, 1.3, 1.5)),\n",
    "    L_0,\n",
    "    r_0,\n",
    "    dcp_variations,\n",
    "    mu_C,\n",
    "    sigma_C,\n",
    "    markup,\n",
    "    defaultable=False,\n",
    ").T\n",
    "\n",
    "risk_premium = safe_prices - risky_prices"
   ]
  },
  {
   "cell_type": "code",
   "execution_count": 24,
   "metadata": {},
   "outputs": [
    {
     "data": {
      "text/plain": [
       "array([[ 4.1942,  4.6414,  4.8367,  0.7219,  0.2747,  0.0794],\n",
       "       [ 8.599 ,  9.6724, 10.253 ,  1.9358,  0.8625,  0.2818],\n",
       "       [23.4755, 27.2457, 30.1638,  8.7104,  4.9402,  2.0221],\n",
       "       [31.6212, 37.0257, 41.6676, 13.6175,  8.213 ,  3.5712]])"
      ]
     },
     "execution_count": 24,
     "metadata": {},
     "output_type": "execute_result"
    }
   ],
   "source": [
    "impacts_of_ext_jump_mag = np.hstack([risky_prices, risk_premium]).round(4)\n",
    "impacts_of_ext_jump_mag"
   ]
  },
  {
   "cell_type": "code",
   "execution_count": 25,
   "metadata": {},
   "outputs": [
    {
     "name": "stdout",
     "output_type": "stream",
     "text": [
      "\\begin{tabular}{lrrrrrr}\n",
      " & 0 & 1 & 2 & 3 & 4 & 5 \\\\\n",
      "0 & 4.1942 & 4.6414 & 4.8367 & 0.7219 & 0.2747 & 0.0794 \\\\\n",
      "1 & 8.5990 & 9.6724 & 10.2530 & 1.9358 & 0.8625 & 0.2818 \\\\\n",
      "2 & 23.4755 & 27.2457 & 30.1638 & 8.7104 & 4.9402 & 2.0221 \\\\\n",
      "3 & 31.6212 & 37.0257 & 41.6676 & 13.6175 & 8.2130 & 3.5712 \\\\\n",
      "\\end{tabular}\n",
      "\n"
     ]
    }
   ],
   "source": [
    "print(pd.DataFrame(impacts_of_ext_jump_mag).style.to_latex().replace(\"00 \", \" \"))"
   ]
  },
  {
   "attachments": {},
   "cell_type": "markdown",
   "metadata": {},
   "source": [
    "## Table 8: Impacts of self-excited jump magnitude"
   ]
  },
  {
   "cell_type": "code",
   "execution_count": 26,
   "metadata": {},
   "outputs": [
    {
     "name": "stdout",
     "output_type": "stream",
     "text": [
      "CPU times: total: 5.62 s\n",
      "Wall time: 13.3 s\n"
     ]
    }
   ],
   "source": [
    "%%time\n",
    "dcp_variations = [\n",
    "    partial(simulate_dcp_variations, mu_G=mu_G) for mu_G in (0.5, 1.0, 2.0, 3.0)\n",
    "]\n",
    "\n",
    "risky_prices = reinsurance_prices(\n",
    "    R,\n",
    "    seed,\n",
    "    maturity,\n",
    "    k,\n",
    "    eta_r,\n",
    "    m,\n",
    "    phi_V,\n",
    "    sigma_V,\n",
    "    phi_L,\n",
    "    sigma_L,\n",
    "    upsilon,\n",
    "    tuple(int(scale * L_0) for scale in (1.1, 1.3, 1.5)),\n",
    "    L_0,\n",
    "    r_0,\n",
    "    dcp_variations,\n",
    "    mu_C,\n",
    "    sigma_C,\n",
    "    markup,\n",
    ").T\n",
    "\n",
    "safe_prices = reinsurance_prices(\n",
    "    R,\n",
    "    seed,\n",
    "    maturity,\n",
    "    k,\n",
    "    eta_r,\n",
    "    m,\n",
    "    phi_V,\n",
    "    sigma_V,\n",
    "    phi_L,\n",
    "    sigma_L,\n",
    "    upsilon,\n",
    "    tuple(int(scale * L_0) for scale in (1.1, 1.3, 1.5)),\n",
    "    L_0,\n",
    "    r_0,\n",
    "    dcp_variations,\n",
    "    mu_C,\n",
    "    sigma_C,\n",
    "    markup,\n",
    "    defaultable=False,\n",
    ").T\n",
    "\n",
    "risk_premium = safe_prices - risky_prices"
   ]
  },
  {
   "cell_type": "code",
   "execution_count": 27,
   "metadata": {},
   "outputs": [
    {
     "data": {
      "text/plain": [
       "array([[ 4.1942,  4.6414,  4.8367,  0.7219,  0.2747,  0.0794],\n",
       "       [ 9.1782, 10.4914, 11.379 ,  2.7508,  1.4376,  0.5499],\n",
       "       [19.0579, 22.2719, 25.0156,  8.0597,  4.8457,  2.102 ],\n",
       "       [24.9325, 29.305 , 33.245 , 11.4795,  7.1069,  3.1669]])"
      ]
     },
     "execution_count": 27,
     "metadata": {},
     "output_type": "execute_result"
    }
   ],
   "source": [
    "impact_of_self_jump_mag = np.hstack([risky_prices, risk_premium]).round(4)\n",
    "impact_of_self_jump_mag"
   ]
  },
  {
   "cell_type": "code",
   "execution_count": 28,
   "metadata": {},
   "outputs": [
    {
     "name": "stdout",
     "output_type": "stream",
     "text": [
      "\\begin{tabular}{lrrrrrr}\n",
      " & 0 & 1 & 2 & 3 & 4 & 5 \\\\\n",
      "0 & 4.1942 & 4.6414 & 4.8367 & 0.7219 & 0.2747 & 0.0794 \\\\\n",
      "1 & 9.1782 & 10.4914 & 11.3790 & 2.7508 & 1.4376 & 0.5499 \\\\\n",
      "2 & 19.0579 & 22.2719 & 25.0156 & 8.0597 & 4.8457 & 2.1020 \\\\\n",
      "3 & 24.9325 & 29.3050 & 33.2450 & 11.4795 & 7.1069 & 3.1669 \\\\\n",
      "\\end{tabular}\n",
      "\n"
     ]
    }
   ],
   "source": [
    "print(pd.DataFrame(impact_of_self_jump_mag).style.to_latex().replace(\"00 \", \" \"))"
   ]
  },
  {
   "attachments": {},
   "cell_type": "markdown",
   "metadata": {},
   "source": [
    "## Tables 9-12: Prices with catbond"
   ]
  },
  {
   "cell_type": "code",
   "execution_count": 29,
   "metadata": {},
   "outputs": [],
   "source": [
    "K = 40.0\n",
    "F = 25.0"
   ]
  },
  {
   "cell_type": "code",
   "execution_count": 30,
   "metadata": {},
   "outputs": [
    {
     "name": "stdout",
     "output_type": "stream",
     "text": [
      "CPU times: total: 1.66 s\n",
      "Wall time: 3.91 s\n"
     ]
    }
   ],
   "source": [
    "%%time\n",
    "catbond_prices = reinsurance_prices(\n",
    "    R,\n",
    "    seed,\n",
    "    maturity,\n",
    "    k,\n",
    "    eta_r,\n",
    "    m,\n",
    "    phi_V,\n",
    "    sigma_V,\n",
    "    phi_L,\n",
    "    sigma_L,\n",
    "    upsilon,\n",
    "    V_0,\n",
    "    L_0,\n",
    "    r_0,\n",
    "    simulators,\n",
    "    mu_C,\n",
    "    sigma_C,\n",
    "    markup,\n",
    "    A=As,\n",
    "    M=Ms,\n",
    "    catbond=True,\n",
    "    K=K,\n",
    "    F=F,\n",
    ")"
   ]
  },
  {
   "cell_type": "code",
   "execution_count": 31,
   "metadata": {},
   "outputs": [
    {
     "name": "stdout",
     "output_type": "stream",
     "text": [
      "Prices of reinsurance when the reinsurer issues a catbond\n",
      "\n",
      "Poisson\n"
     ]
    },
    {
     "data": {
      "text/html": [
       "<div>\n",
       "<style scoped>\n",
       "    .dataframe tbody tr th:only-of-type {\n",
       "        vertical-align: middle;\n",
       "    }\n",
       "\n",
       "    .dataframe tbody tr th {\n",
       "        vertical-align: top;\n",
       "    }\n",
       "\n",
       "    .dataframe thead th {\n",
       "        text-align: right;\n",
       "    }\n",
       "</style>\n",
       "<table border=\"1\" class=\"dataframe\">\n",
       "  <thead>\n",
       "    <tr style=\"text-align: right;\">\n",
       "      <th></th>\n",
       "      <th>$M=60$</th>\n",
       "      <th>$M=65$</th>\n",
       "      <th>$M=70$</th>\n",
       "      <th>$M=75$</th>\n",
       "      <th>$M=80$</th>\n",
       "      <th>$M=85$</th>\n",
       "      <th>$M=90$</th>\n",
       "    </tr>\n",
       "  </thead>\n",
       "  <tbody>\n",
       "    <tr>\n",
       "      <th>$A=10$</th>\n",
       "      <td>7.3011</td>\n",
       "      <td>7.3128</td>\n",
       "      <td>7.3189</td>\n",
       "      <td>7.3216</td>\n",
       "      <td>7.3229</td>\n",
       "      <td>7.3235</td>\n",
       "      <td>7.3239</td>\n",
       "    </tr>\n",
       "    <tr>\n",
       "      <th>$A=15$</th>\n",
       "      <td>4.6137</td>\n",
       "      <td>4.6261</td>\n",
       "      <td>4.6328</td>\n",
       "      <td>4.6357</td>\n",
       "      <td>4.6371</td>\n",
       "      <td>4.6378</td>\n",
       "      <td>4.6382</td>\n",
       "    </tr>\n",
       "    <tr>\n",
       "      <th>$A=20$</th>\n",
       "      <td>2.8065</td>\n",
       "      <td>2.8195</td>\n",
       "      <td>2.8266</td>\n",
       "      <td>2.8298</td>\n",
       "      <td>2.8314</td>\n",
       "      <td>2.8321</td>\n",
       "      <td>2.8325</td>\n",
       "    </tr>\n",
       "    <tr>\n",
       "      <th>$A=25$</th>\n",
       "      <td>1.6530</td>\n",
       "      <td>1.6664</td>\n",
       "      <td>1.6738</td>\n",
       "      <td>1.6773</td>\n",
       "      <td>1.6790</td>\n",
       "      <td>1.6799</td>\n",
       "      <td>1.6803</td>\n",
       "    </tr>\n",
       "    <tr>\n",
       "      <th>$A=30$</th>\n",
       "      <td>0.9472</td>\n",
       "      <td>0.9606</td>\n",
       "      <td>0.9683</td>\n",
       "      <td>0.9720</td>\n",
       "      <td>0.9738</td>\n",
       "      <td>0.9748</td>\n",
       "      <td>0.9753</td>\n",
       "    </tr>\n",
       "  </tbody>\n",
       "</table>\n",
       "</div>"
      ],
      "text/plain": [
       "        $M=60$  $M=65$  $M=70$  $M=75$  $M=80$  $M=85$  $M=90$\n",
       "$A=10$  7.3011  7.3128  7.3189  7.3216  7.3229  7.3235  7.3239\n",
       "$A=15$  4.6137  4.6261  4.6328  4.6357  4.6371  4.6378  4.6382\n",
       "$A=20$  2.8065  2.8195  2.8266  2.8298  2.8314  2.8321  2.8325\n",
       "$A=25$  1.6530  1.6664  1.6738  1.6773  1.6790  1.6799  1.6803\n",
       "$A=30$  0.9472  0.9606  0.9683  0.9720  0.9738  0.9748  0.9753"
      ]
     },
     "metadata": {},
     "output_type": "display_data"
    },
    {
     "name": "stdout",
     "output_type": "stream",
     "text": [
      "\\begin{tabular}{c|c|c|c|c|c|c|c}\n",
      " & $M=60$ & $M=65$ & $M=70$ & $M=75$ & $M=80$ & $M=85$ & $M=90$ \\\\\n",
      "$A=10$ & 7.3011 & 7.3128 & 7.3189 & 7.3216 & 7.3229 & 7.3235 & 7.3239 \\\\\n",
      "$A=15$ & 4.6137 & 4.6261 & 4.6328 & 4.6357 & 4.6371 & 4.6378 & 4.6382 \\\\\n",
      "$A=20$ & 2.8065 & 2.8195 & 2.8266 & 2.8298 & 2.8314 & 2.8321 & 2.8325 \\\\\n",
      "$A=25$ & 1.6530 & 1.6664 & 1.6738 & 1.6773 & 1.6790 & 1.6799 & 1.6803 \\\\\n",
      "$A=30$ & 0.9472 & 0.9606 & 0.9683 & 0.9720 & 0.9738 & 0.9748 & 0.9753 \\\\\n",
      "\\end{tabular}\n",
      "\n",
      "Cox\n"
     ]
    },
    {
     "data": {
      "text/html": [
       "<div>\n",
       "<style scoped>\n",
       "    .dataframe tbody tr th:only-of-type {\n",
       "        vertical-align: middle;\n",
       "    }\n",
       "\n",
       "    .dataframe tbody tr th {\n",
       "        vertical-align: top;\n",
       "    }\n",
       "\n",
       "    .dataframe thead th {\n",
       "        text-align: right;\n",
       "    }\n",
       "</style>\n",
       "<table border=\"1\" class=\"dataframe\">\n",
       "  <thead>\n",
       "    <tr style=\"text-align: right;\">\n",
       "      <th></th>\n",
       "      <th>$M=60$</th>\n",
       "      <th>$M=65$</th>\n",
       "      <th>$M=70$</th>\n",
       "      <th>$M=75$</th>\n",
       "      <th>$M=80$</th>\n",
       "      <th>$M=85$</th>\n",
       "      <th>$M=90$</th>\n",
       "    </tr>\n",
       "  </thead>\n",
       "  <tbody>\n",
       "    <tr>\n",
       "      <th>$A=10$</th>\n",
       "      <td>7.2977</td>\n",
       "      <td>7.3101</td>\n",
       "      <td>7.3165</td>\n",
       "      <td>7.3198</td>\n",
       "      <td>7.3215</td>\n",
       "      <td>7.3223</td>\n",
       "      <td>7.3227</td>\n",
       "    </tr>\n",
       "    <tr>\n",
       "      <th>$A=15$</th>\n",
       "      <td>4.6397</td>\n",
       "      <td>4.6527</td>\n",
       "      <td>4.6597</td>\n",
       "      <td>4.6634</td>\n",
       "      <td>4.6652</td>\n",
       "      <td>4.6661</td>\n",
       "      <td>4.6665</td>\n",
       "    </tr>\n",
       "    <tr>\n",
       "      <th>$A=20$</th>\n",
       "      <td>2.8430</td>\n",
       "      <td>2.8567</td>\n",
       "      <td>2.8640</td>\n",
       "      <td>2.8680</td>\n",
       "      <td>2.8701</td>\n",
       "      <td>2.8711</td>\n",
       "      <td>2.8715</td>\n",
       "    </tr>\n",
       "    <tr>\n",
       "      <th>$A=25$</th>\n",
       "      <td>1.6840</td>\n",
       "      <td>1.6980</td>\n",
       "      <td>1.7057</td>\n",
       "      <td>1.7099</td>\n",
       "      <td>1.7121</td>\n",
       "      <td>1.7133</td>\n",
       "      <td>1.7137</td>\n",
       "    </tr>\n",
       "    <tr>\n",
       "      <th>$A=30$</th>\n",
       "      <td>0.9687</td>\n",
       "      <td>0.9827</td>\n",
       "      <td>0.9906</td>\n",
       "      <td>0.9950</td>\n",
       "      <td>0.9974</td>\n",
       "      <td>0.9986</td>\n",
       "      <td>0.9991</td>\n",
       "    </tr>\n",
       "  </tbody>\n",
       "</table>\n",
       "</div>"
      ],
      "text/plain": [
       "        $M=60$  $M=65$  $M=70$  $M=75$  $M=80$  $M=85$  $M=90$\n",
       "$A=10$  7.2977  7.3101  7.3165  7.3198  7.3215  7.3223  7.3227\n",
       "$A=15$  4.6397  4.6527  4.6597  4.6634  4.6652  4.6661  4.6665\n",
       "$A=20$  2.8430  2.8567  2.8640  2.8680  2.8701  2.8711  2.8715\n",
       "$A=25$  1.6840  1.6980  1.7057  1.7099  1.7121  1.7133  1.7137\n",
       "$A=30$  0.9687  0.9827  0.9906  0.9950  0.9974  0.9986  0.9991"
      ]
     },
     "metadata": {},
     "output_type": "display_data"
    },
    {
     "name": "stdout",
     "output_type": "stream",
     "text": [
      "\\begin{tabular}{c|c|c|c|c|c|c|c}\n",
      " & $M=60$ & $M=65$ & $M=70$ & $M=75$ & $M=80$ & $M=85$ & $M=90$ \\\\\n",
      "$A=10$ & 7.2977 & 7.3101 & 7.3165 & 7.3198 & 7.3215 & 7.3223 & 7.3227 \\\\\n",
      "$A=15$ & 4.6397 & 4.6527 & 4.6597 & 4.6634 & 4.6652 & 4.6661 & 4.6665 \\\\\n",
      "$A=20$ & 2.8430 & 2.8567 & 2.8640 & 2.8680 & 2.8701 & 2.8711 & 2.8715 \\\\\n",
      "$A=25$ & 1.6840 & 1.6980 & 1.7057 & 1.7099 & 1.7121 & 1.7133 & 1.7137 \\\\\n",
      "$A=30$ & 0.9687 & 0.9827 & 0.9906 & 0.9950 & 0.9974 & 0.9986 & 0.9991 \\\\\n",
      "\\end{tabular}\n",
      "\n",
      "Hawkes\n"
     ]
    },
    {
     "data": {
      "text/html": [
       "<div>\n",
       "<style scoped>\n",
       "    .dataframe tbody tr th:only-of-type {\n",
       "        vertical-align: middle;\n",
       "    }\n",
       "\n",
       "    .dataframe tbody tr th {\n",
       "        vertical-align: top;\n",
       "    }\n",
       "\n",
       "    .dataframe thead th {\n",
       "        text-align: right;\n",
       "    }\n",
       "</style>\n",
       "<table border=\"1\" class=\"dataframe\">\n",
       "  <thead>\n",
       "    <tr style=\"text-align: right;\">\n",
       "      <th></th>\n",
       "      <th>$M=60$</th>\n",
       "      <th>$M=65$</th>\n",
       "      <th>$M=70$</th>\n",
       "      <th>$M=75$</th>\n",
       "      <th>$M=80$</th>\n",
       "      <th>$M=85$</th>\n",
       "      <th>$M=90$</th>\n",
       "    </tr>\n",
       "  </thead>\n",
       "  <tbody>\n",
       "    <tr>\n",
       "      <th>$A=10$</th>\n",
       "      <td>8.3431</td>\n",
       "      <td>8.4519</td>\n",
       "      <td>8.5285</td>\n",
       "      <td>8.5820</td>\n",
       "      <td>8.6187</td>\n",
       "      <td>8.6429</td>\n",
       "      <td>8.6598</td>\n",
       "    </tr>\n",
       "    <tr>\n",
       "      <th>$A=15$</th>\n",
       "      <td>6.1037</td>\n",
       "      <td>6.2194</td>\n",
       "      <td>6.3021</td>\n",
       "      <td>6.3613</td>\n",
       "      <td>6.4016</td>\n",
       "      <td>6.4283</td>\n",
       "      <td>6.4468</td>\n",
       "    </tr>\n",
       "    <tr>\n",
       "      <th>$A=20$</th>\n",
       "      <td>4.4321</td>\n",
       "      <td>4.5526</td>\n",
       "      <td>4.6404</td>\n",
       "      <td>4.7043</td>\n",
       "      <td>4.7490</td>\n",
       "      <td>4.7784</td>\n",
       "      <td>4.7988</td>\n",
       "    </tr>\n",
       "    <tr>\n",
       "      <th>$A=25$</th>\n",
       "      <td>3.1898</td>\n",
       "      <td>3.3130</td>\n",
       "      <td>3.4044</td>\n",
       "      <td>3.4724</td>\n",
       "      <td>3.5207</td>\n",
       "      <td>3.5533</td>\n",
       "      <td>3.5759</td>\n",
       "    </tr>\n",
       "    <tr>\n",
       "      <th>$A=30$</th>\n",
       "      <td>2.2650</td>\n",
       "      <td>2.3896</td>\n",
       "      <td>2.4829</td>\n",
       "      <td>2.5536</td>\n",
       "      <td>2.6050</td>\n",
       "      <td>2.6403</td>\n",
       "      <td>2.6655</td>\n",
       "    </tr>\n",
       "  </tbody>\n",
       "</table>\n",
       "</div>"
      ],
      "text/plain": [
       "        $M=60$  $M=65$  $M=70$  $M=75$  $M=80$  $M=85$  $M=90$\n",
       "$A=10$  8.3431  8.4519  8.5285  8.5820  8.6187  8.6429  8.6598\n",
       "$A=15$  6.1037  6.2194  6.3021  6.3613  6.4016  6.4283  6.4468\n",
       "$A=20$  4.4321  4.5526  4.6404  4.7043  4.7490  4.7784  4.7988\n",
       "$A=25$  3.1898  3.3130  3.4044  3.4724  3.5207  3.5533  3.5759\n",
       "$A=30$  2.2650  2.3896  2.4829  2.5536  2.6050  2.6403  2.6655"
      ]
     },
     "metadata": {},
     "output_type": "display_data"
    },
    {
     "name": "stdout",
     "output_type": "stream",
     "text": [
      "\\begin{tabular}{c|c|c|c|c|c|c|c}\n",
      " & $M=60$ & $M=65$ & $M=70$ & $M=75$ & $M=80$ & $M=85$ & $M=90$ \\\\\n",
      "$A=10$ & 8.3431 & 8.4519 & 8.5285 & 8.5820 & 8.6187 & 8.6429 & 8.6598 \\\\\n",
      "$A=15$ & 6.1037 & 6.2194 & 6.3021 & 6.3613 & 6.4016 & 6.4283 & 6.4468 \\\\\n",
      "$A=20$ & 4.4321 & 4.5526 & 4.6404 & 4.7043 & 4.7490 & 4.7784 & 4.7988 \\\\\n",
      "$A=25$ & 3.1898 & 3.3130 & 3.4044 & 3.4724 & 3.5207 & 3.5533 & 3.5759 \\\\\n",
      "$A=30$ & 2.2650 & 2.3896 & 2.4829 & 2.5536 & 2.6050 & 2.6403 & 2.6655 \\\\\n",
      "\\end{tabular}\n",
      "\n",
      "DCP\n"
     ]
    },
    {
     "data": {
      "text/html": [
       "<div>\n",
       "<style scoped>\n",
       "    .dataframe tbody tr th:only-of-type {\n",
       "        vertical-align: middle;\n",
       "    }\n",
       "\n",
       "    .dataframe tbody tr th {\n",
       "        vertical-align: top;\n",
       "    }\n",
       "\n",
       "    .dataframe thead th {\n",
       "        text-align: right;\n",
       "    }\n",
       "</style>\n",
       "<table border=\"1\" class=\"dataframe\">\n",
       "  <thead>\n",
       "    <tr style=\"text-align: right;\">\n",
       "      <th></th>\n",
       "      <th>$M=60$</th>\n",
       "      <th>$M=65$</th>\n",
       "      <th>$M=70$</th>\n",
       "      <th>$M=75$</th>\n",
       "      <th>$M=80$</th>\n",
       "      <th>$M=85$</th>\n",
       "      <th>$M=90$</th>\n",
       "    </tr>\n",
       "  </thead>\n",
       "  <tbody>\n",
       "    <tr>\n",
       "      <th>$A=10$</th>\n",
       "      <td>8.4492</td>\n",
       "      <td>8.5565</td>\n",
       "      <td>8.6307</td>\n",
       "      <td>8.6811</td>\n",
       "      <td>8.7147</td>\n",
       "      <td>8.7378</td>\n",
       "      <td>8.7535</td>\n",
       "    </tr>\n",
       "    <tr>\n",
       "      <th>$A=15$</th>\n",
       "      <td>6.1830</td>\n",
       "      <td>6.2966</td>\n",
       "      <td>6.3774</td>\n",
       "      <td>6.4334</td>\n",
       "      <td>6.4707</td>\n",
       "      <td>6.4960</td>\n",
       "      <td>6.5132</td>\n",
       "    </tr>\n",
       "    <tr>\n",
       "      <th>$A=20$</th>\n",
       "      <td>4.4913</td>\n",
       "      <td>4.6094</td>\n",
       "      <td>4.6950</td>\n",
       "      <td>4.7561</td>\n",
       "      <td>4.7975</td>\n",
       "      <td>4.8258</td>\n",
       "      <td>4.8444</td>\n",
       "    </tr>\n",
       "    <tr>\n",
       "      <th>$A=25$</th>\n",
       "      <td>3.2302</td>\n",
       "      <td>3.3509</td>\n",
       "      <td>3.4398</td>\n",
       "      <td>3.5046</td>\n",
       "      <td>3.5498</td>\n",
       "      <td>3.5811</td>\n",
       "      <td>3.6020</td>\n",
       "    </tr>\n",
       "    <tr>\n",
       "      <th>$A=30$</th>\n",
       "      <td>2.2892</td>\n",
       "      <td>2.4112</td>\n",
       "      <td>2.5021</td>\n",
       "      <td>2.5693</td>\n",
       "      <td>2.6172</td>\n",
       "      <td>2.6514</td>\n",
       "      <td>2.6747</td>\n",
       "    </tr>\n",
       "  </tbody>\n",
       "</table>\n",
       "</div>"
      ],
      "text/plain": [
       "        $M=60$  $M=65$  $M=70$  $M=75$  $M=80$  $M=85$  $M=90$\n",
       "$A=10$  8.4492  8.5565  8.6307  8.6811  8.7147  8.7378  8.7535\n",
       "$A=15$  6.1830  6.2966  6.3774  6.4334  6.4707  6.4960  6.5132\n",
       "$A=20$  4.4913  4.6094  4.6950  4.7561  4.7975  4.8258  4.8444\n",
       "$A=25$  3.2302  3.3509  3.4398  3.5046  3.5498  3.5811  3.6020\n",
       "$A=30$  2.2892  2.4112  2.5021  2.5693  2.6172  2.6514  2.6747"
      ]
     },
     "metadata": {},
     "output_type": "display_data"
    },
    {
     "name": "stdout",
     "output_type": "stream",
     "text": [
      "\\begin{tabular}{c|c|c|c|c|c|c|c}\n",
      " & $M=60$ & $M=65$ & $M=70$ & $M=75$ & $M=80$ & $M=85$ & $M=90$ \\\\\n",
      "$A=10$ & 8.4492 & 8.5565 & 8.6307 & 8.6811 & 8.7147 & 8.7378 & 8.7535 \\\\\n",
      "$A=15$ & 6.1830 & 6.2966 & 6.3774 & 6.4334 & 6.4707 & 6.4960 & 6.5132 \\\\\n",
      "$A=20$ & 4.4913 & 4.6094 & 4.6950 & 4.7561 & 4.7975 & 4.8258 & 4.8444 \\\\\n",
      "$A=25$ & 3.2302 & 3.3509 & 3.4398 & 3.5046 & 3.5498 & 3.5811 & 3.6020 \\\\\n",
      "$A=30$ & 2.2892 & 2.4112 & 2.5021 & 2.5693 & 2.6172 & 2.6514 & 2.6747 \\\\\n",
      "\\end{tabular}\n",
      "\n"
     ]
    }
   ],
   "source": [
    "print(\"Prices of reinsurance when the reinsurer issues a catbond\\n\")\n",
    "\n",
    "for c in range(4):\n",
    "    print(cat_models[c])\n",
    "    print(prices_to_tex(catbond_prices[c], As, Ms))"
   ]
  },
  {
   "attachments": {},
   "cell_type": "markdown",
   "metadata": {},
   "source": [
    "## Tables 13-16: Percentage increase in costs after issuing a catbond"
   ]
  },
  {
   "cell_type": "code",
   "execution_count": 32,
   "metadata": {},
   "outputs": [
    {
     "name": "stdout",
     "output_type": "stream",
     "text": [
      "Percentage increase in price for reinsurance after the reinsurer issues a catbond\n",
      "\n",
      "Poisson\n"
     ]
    },
    {
     "data": {
      "text/html": [
       "<div>\n",
       "<style scoped>\n",
       "    .dataframe tbody tr th:only-of-type {\n",
       "        vertical-align: middle;\n",
       "    }\n",
       "\n",
       "    .dataframe tbody tr th {\n",
       "        vertical-align: top;\n",
       "    }\n",
       "\n",
       "    .dataframe thead th {\n",
       "        text-align: right;\n",
       "    }\n",
       "</style>\n",
       "<table border=\"1\" class=\"dataframe\">\n",
       "  <thead>\n",
       "    <tr style=\"text-align: right;\">\n",
       "      <th></th>\n",
       "      <th>$M=60$</th>\n",
       "      <th>$M=65$</th>\n",
       "      <th>$M=70$</th>\n",
       "      <th>$M=75$</th>\n",
       "      <th>$M=80$</th>\n",
       "      <th>$M=85$</th>\n",
       "      <th>$M=90$</th>\n",
       "    </tr>\n",
       "  </thead>\n",
       "  <tbody>\n",
       "    <tr>\n",
       "      <th>$A=10$</th>\n",
       "      <td>0.74</td>\n",
       "      <td>0.78</td>\n",
       "      <td>0.80</td>\n",
       "      <td>0.81</td>\n",
       "      <td>0.82</td>\n",
       "      <td>0.82</td>\n",
       "      <td>0.82</td>\n",
       "    </tr>\n",
       "    <tr>\n",
       "      <th>$A=15$</th>\n",
       "      <td>0.83</td>\n",
       "      <td>0.90</td>\n",
       "      <td>0.94</td>\n",
       "      <td>0.96</td>\n",
       "      <td>0.97</td>\n",
       "      <td>0.97</td>\n",
       "      <td>0.97</td>\n",
       "    </tr>\n",
       "    <tr>\n",
       "      <th>$A=20$</th>\n",
       "      <td>0.87</td>\n",
       "      <td>0.98</td>\n",
       "      <td>1.05</td>\n",
       "      <td>1.08</td>\n",
       "      <td>1.10</td>\n",
       "      <td>1.10</td>\n",
       "      <td>1.11</td>\n",
       "    </tr>\n",
       "    <tr>\n",
       "      <th>$A=25$</th>\n",
       "      <td>0.84</td>\n",
       "      <td>0.99</td>\n",
       "      <td>1.10</td>\n",
       "      <td>1.15</td>\n",
       "      <td>1.18</td>\n",
       "      <td>1.20</td>\n",
       "      <td>1.20</td>\n",
       "    </tr>\n",
       "    <tr>\n",
       "      <th>$A=30$</th>\n",
       "      <td>0.72</td>\n",
       "      <td>0.92</td>\n",
       "      <td>1.08</td>\n",
       "      <td>1.17</td>\n",
       "      <td>1.23</td>\n",
       "      <td>1.26</td>\n",
       "      <td>1.27</td>\n",
       "    </tr>\n",
       "  </tbody>\n",
       "</table>\n",
       "</div>"
      ],
      "text/plain": [
       "        $M=60$  $M=65$  $M=70$  $M=75$  $M=80$  $M=85$  $M=90$\n",
       "$A=10$    0.74    0.78    0.80    0.81    0.82    0.82    0.82\n",
       "$A=15$    0.83    0.90    0.94    0.96    0.97    0.97    0.97\n",
       "$A=20$    0.87    0.98    1.05    1.08    1.10    1.10    1.11\n",
       "$A=25$    0.84    0.99    1.10    1.15    1.18    1.20    1.20\n",
       "$A=30$    0.72    0.92    1.08    1.17    1.23    1.26    1.27"
      ]
     },
     "metadata": {},
     "output_type": "display_data"
    },
    {
     "name": "stdout",
     "output_type": "stream",
     "text": [
      "\\begin{tabular}{c|c|c|c|c|c|c|c}\n",
      " & $M=60$ & $M=65$ & $M=70$ & $M=75$ & $M=80$ & $M=85$ & $M=90$ \\\\\n",
      "$A=10$ & 0.74\\% & 0.78\\% & 0.80\\% & 0.81\\% & 0.82\\% & 0.82\\% & 0.82\\% \\\\\n",
      "$A=15$ & 0.83\\% & 0.90\\% & 0.94\\% & 0.96\\% & 0.97\\% & 0.97\\% & 0.97\\% \\\\\n",
      "$A=20$ & 0.87\\% & 0.98\\% & 1.05\\% & 1.08\\% & 1.10\\% & 1.10\\% & 1.11\\% \\\\\n",
      "$A=25$ & 0.84\\% & 0.99\\% & 1.10\\% & 1.15\\% & 1.18\\% & 1.20\\% & 1.20\\% \\\\\n",
      "$A=30$ & 0.72\\% & 0.92\\% & 1.08\\% & 1.17\\% & 1.23\\% & 1.26\\% & 1.27\\% \\\\\n",
      "\\end{tabular}\n",
      "\n",
      "Cox\n"
     ]
    },
    {
     "data": {
      "text/html": [
       "<div>\n",
       "<style scoped>\n",
       "    .dataframe tbody tr th:only-of-type {\n",
       "        vertical-align: middle;\n",
       "    }\n",
       "\n",
       "    .dataframe tbody tr th {\n",
       "        vertical-align: top;\n",
       "    }\n",
       "\n",
       "    .dataframe thead th {\n",
       "        text-align: right;\n",
       "    }\n",
       "</style>\n",
       "<table border=\"1\" class=\"dataframe\">\n",
       "  <thead>\n",
       "    <tr style=\"text-align: right;\">\n",
       "      <th></th>\n",
       "      <th>$M=60$</th>\n",
       "      <th>$M=65$</th>\n",
       "      <th>$M=70$</th>\n",
       "      <th>$M=75$</th>\n",
       "      <th>$M=80$</th>\n",
       "      <th>$M=85$</th>\n",
       "      <th>$M=90$</th>\n",
       "    </tr>\n",
       "  </thead>\n",
       "  <tbody>\n",
       "    <tr>\n",
       "      <th>$A=10$</th>\n",
       "      <td>0.73</td>\n",
       "      <td>0.78</td>\n",
       "      <td>0.80</td>\n",
       "      <td>0.81</td>\n",
       "      <td>0.82</td>\n",
       "      <td>0.82</td>\n",
       "      <td>0.82</td>\n",
       "    </tr>\n",
       "    <tr>\n",
       "      <th>$A=15$</th>\n",
       "      <td>0.79</td>\n",
       "      <td>0.87</td>\n",
       "      <td>0.91</td>\n",
       "      <td>0.94</td>\n",
       "      <td>0.95</td>\n",
       "      <td>0.95</td>\n",
       "      <td>0.95</td>\n",
       "    </tr>\n",
       "    <tr>\n",
       "      <th>$A=20$</th>\n",
       "      <td>0.80</td>\n",
       "      <td>0.91</td>\n",
       "      <td>0.98</td>\n",
       "      <td>1.02</td>\n",
       "      <td>1.04</td>\n",
       "      <td>1.05</td>\n",
       "      <td>1.05</td>\n",
       "    </tr>\n",
       "    <tr>\n",
       "      <th>$A=25$</th>\n",
       "      <td>0.73</td>\n",
       "      <td>0.88</td>\n",
       "      <td>0.99</td>\n",
       "      <td>1.06</td>\n",
       "      <td>1.09</td>\n",
       "      <td>1.11</td>\n",
       "      <td>1.12</td>\n",
       "    </tr>\n",
       "    <tr>\n",
       "      <th>$A=30$</th>\n",
       "      <td>0.61</td>\n",
       "      <td>0.79</td>\n",
       "      <td>0.94</td>\n",
       "      <td>1.05</td>\n",
       "      <td>1.12</td>\n",
       "      <td>1.15</td>\n",
       "      <td>1.17</td>\n",
       "    </tr>\n",
       "  </tbody>\n",
       "</table>\n",
       "</div>"
      ],
      "text/plain": [
       "        $M=60$  $M=65$  $M=70$  $M=75$  $M=80$  $M=85$  $M=90$\n",
       "$A=10$    0.73    0.78    0.80    0.81    0.82    0.82    0.82\n",
       "$A=15$    0.79    0.87    0.91    0.94    0.95    0.95    0.95\n",
       "$A=20$    0.80    0.91    0.98    1.02    1.04    1.05    1.05\n",
       "$A=25$    0.73    0.88    0.99    1.06    1.09    1.11    1.12\n",
       "$A=30$    0.61    0.79    0.94    1.05    1.12    1.15    1.17"
      ]
     },
     "metadata": {},
     "output_type": "display_data"
    },
    {
     "name": "stdout",
     "output_type": "stream",
     "text": [
      "\\begin{tabular}{c|c|c|c|c|c|c|c}\n",
      " & $M=60$ & $M=65$ & $M=70$ & $M=75$ & $M=80$ & $M=85$ & $M=90$ \\\\\n",
      "$A=10$ & 0.73\\% & 0.78\\% & 0.80\\% & 0.81\\% & 0.82\\% & 0.82\\% & 0.82\\% \\\\\n",
      "$A=15$ & 0.79\\% & 0.87\\% & 0.91\\% & 0.94\\% & 0.95\\% & 0.95\\% & 0.95\\% \\\\\n",
      "$A=20$ & 0.80\\% & 0.91\\% & 0.98\\% & 1.02\\% & 1.04\\% & 1.05\\% & 1.05\\% \\\\\n",
      "$A=25$ & 0.73\\% & 0.88\\% & 0.99\\% & 1.06\\% & 1.09\\% & 1.11\\% & 1.12\\% \\\\\n",
      "$A=30$ & 0.61\\% & 0.79\\% & 0.94\\% & 1.05\\% & 1.12\\% & 1.15\\% & 1.17\\% \\\\\n",
      "\\end{tabular}\n",
      "\n",
      "Hawkes\n"
     ]
    },
    {
     "data": {
      "text/html": [
       "<div>\n",
       "<style scoped>\n",
       "    .dataframe tbody tr th:only-of-type {\n",
       "        vertical-align: middle;\n",
       "    }\n",
       "\n",
       "    .dataframe tbody tr th {\n",
       "        vertical-align: top;\n",
       "    }\n",
       "\n",
       "    .dataframe thead th {\n",
       "        text-align: right;\n",
       "    }\n",
       "</style>\n",
       "<table border=\"1\" class=\"dataframe\">\n",
       "  <thead>\n",
       "    <tr style=\"text-align: right;\">\n",
       "      <th></th>\n",
       "      <th>$M=60$</th>\n",
       "      <th>$M=65$</th>\n",
       "      <th>$M=70$</th>\n",
       "      <th>$M=75$</th>\n",
       "      <th>$M=80$</th>\n",
       "      <th>$M=85$</th>\n",
       "      <th>$M=90$</th>\n",
       "    </tr>\n",
       "  </thead>\n",
       "  <tbody>\n",
       "    <tr>\n",
       "      <th>$A=10$</th>\n",
       "      <td>2.77</td>\n",
       "      <td>3.14</td>\n",
       "      <td>3.39</td>\n",
       "      <td>3.55</td>\n",
       "      <td>3.65</td>\n",
       "      <td>3.71</td>\n",
       "      <td>3.74</td>\n",
       "    </tr>\n",
       "    <tr>\n",
       "      <th>$A=15$</th>\n",
       "      <td>2.75</td>\n",
       "      <td>3.25</td>\n",
       "      <td>3.62</td>\n",
       "      <td>3.89</td>\n",
       "      <td>4.05</td>\n",
       "      <td>4.14</td>\n",
       "      <td>4.20</td>\n",
       "    </tr>\n",
       "    <tr>\n",
       "      <th>$A=20$</th>\n",
       "      <td>2.50</td>\n",
       "      <td>3.12</td>\n",
       "      <td>3.62</td>\n",
       "      <td>4.01</td>\n",
       "      <td>4.27</td>\n",
       "      <td>4.43</td>\n",
       "      <td>4.52</td>\n",
       "    </tr>\n",
       "    <tr>\n",
       "      <th>$A=25$</th>\n",
       "      <td>2.05</td>\n",
       "      <td>2.73</td>\n",
       "      <td>3.36</td>\n",
       "      <td>3.88</td>\n",
       "      <td>4.27</td>\n",
       "      <td>4.52</td>\n",
       "      <td>4.69</td>\n",
       "    </tr>\n",
       "    <tr>\n",
       "      <th>$A=30$</th>\n",
       "      <td>1.49</td>\n",
       "      <td>2.17</td>\n",
       "      <td>2.85</td>\n",
       "      <td>3.50</td>\n",
       "      <td>4.02</td>\n",
       "      <td>4.41</td>\n",
       "      <td>4.67</td>\n",
       "    </tr>\n",
       "  </tbody>\n",
       "</table>\n",
       "</div>"
      ],
      "text/plain": [
       "        $M=60$  $M=65$  $M=70$  $M=75$  $M=80$  $M=85$  $M=90$\n",
       "$A=10$    2.77    3.14    3.39    3.55    3.65    3.71    3.74\n",
       "$A=15$    2.75    3.25    3.62    3.89    4.05    4.14    4.20\n",
       "$A=20$    2.50    3.12    3.62    4.01    4.27    4.43    4.52\n",
       "$A=25$    2.05    2.73    3.36    3.88    4.27    4.52    4.69\n",
       "$A=30$    1.49    2.17    2.85    3.50    4.02    4.41    4.67"
      ]
     },
     "metadata": {},
     "output_type": "display_data"
    },
    {
     "name": "stdout",
     "output_type": "stream",
     "text": [
      "\\begin{tabular}{c|c|c|c|c|c|c|c}\n",
      " & $M=60$ & $M=65$ & $M=70$ & $M=75$ & $M=80$ & $M=85$ & $M=90$ \\\\\n",
      "$A=10$ & 2.77\\% & 3.14\\% & 3.39\\% & 3.55\\% & 3.65\\% & 3.71\\% & 3.74\\% \\\\\n",
      "$A=15$ & 2.75\\% & 3.25\\% & 3.62\\% & 3.89\\% & 4.05\\% & 4.14\\% & 4.20\\% \\\\\n",
      "$A=20$ & 2.50\\% & 3.12\\% & 3.62\\% & 4.01\\% & 4.27\\% & 4.43\\% & 4.52\\% \\\\\n",
      "$A=25$ & 2.05\\% & 2.73\\% & 3.36\\% & 3.88\\% & 4.27\\% & 4.52\\% & 4.69\\% \\\\\n",
      "$A=30$ & 1.49\\% & 2.17\\% & 2.85\\% & 3.50\\% & 4.02\\% & 4.41\\% & 4.67\\% \\\\\n",
      "\\end{tabular}\n",
      "\n",
      "DCP\n"
     ]
    },
    {
     "data": {
      "text/html": [
       "<div>\n",
       "<style scoped>\n",
       "    .dataframe tbody tr th:only-of-type {\n",
       "        vertical-align: middle;\n",
       "    }\n",
       "\n",
       "    .dataframe tbody tr th {\n",
       "        vertical-align: top;\n",
       "    }\n",
       "\n",
       "    .dataframe thead th {\n",
       "        text-align: right;\n",
       "    }\n",
       "</style>\n",
       "<table border=\"1\" class=\"dataframe\">\n",
       "  <thead>\n",
       "    <tr style=\"text-align: right;\">\n",
       "      <th></th>\n",
       "      <th>$M=60$</th>\n",
       "      <th>$M=65$</th>\n",
       "      <th>$M=70$</th>\n",
       "      <th>$M=75$</th>\n",
       "      <th>$M=80$</th>\n",
       "      <th>$M=85$</th>\n",
       "      <th>$M=90$</th>\n",
       "    </tr>\n",
       "  </thead>\n",
       "  <tbody>\n",
       "    <tr>\n",
       "      <th>$A=10$</th>\n",
       "      <td>2.72</td>\n",
       "      <td>3.09</td>\n",
       "      <td>3.33</td>\n",
       "      <td>3.48</td>\n",
       "      <td>3.56</td>\n",
       "      <td>3.62</td>\n",
       "      <td>3.64</td>\n",
       "    </tr>\n",
       "    <tr>\n",
       "      <th>$A=15$</th>\n",
       "      <td>2.69</td>\n",
       "      <td>3.18</td>\n",
       "      <td>3.55</td>\n",
       "      <td>3.80</td>\n",
       "      <td>3.94</td>\n",
       "      <td>4.02</td>\n",
       "      <td>4.07</td>\n",
       "    </tr>\n",
       "    <tr>\n",
       "      <th>$A=20$</th>\n",
       "      <td>2.43</td>\n",
       "      <td>3.03</td>\n",
       "      <td>3.53</td>\n",
       "      <td>3.91</td>\n",
       "      <td>4.15</td>\n",
       "      <td>4.29</td>\n",
       "      <td>4.38</td>\n",
       "    </tr>\n",
       "    <tr>\n",
       "      <th>$A=25$</th>\n",
       "      <td>1.99</td>\n",
       "      <td>2.65</td>\n",
       "      <td>3.27</td>\n",
       "      <td>3.78</td>\n",
       "      <td>4.15</td>\n",
       "      <td>4.39</td>\n",
       "      <td>4.53</td>\n",
       "    </tr>\n",
       "    <tr>\n",
       "      <th>$A=30$</th>\n",
       "      <td>1.46</td>\n",
       "      <td>2.11</td>\n",
       "      <td>2.79</td>\n",
       "      <td>3.42</td>\n",
       "      <td>3.92</td>\n",
       "      <td>4.30</td>\n",
       "      <td>4.54</td>\n",
       "    </tr>\n",
       "  </tbody>\n",
       "</table>\n",
       "</div>"
      ],
      "text/plain": [
       "        $M=60$  $M=65$  $M=70$  $M=75$  $M=80$  $M=85$  $M=90$\n",
       "$A=10$    2.72    3.09    3.33    3.48    3.56    3.62    3.64\n",
       "$A=15$    2.69    3.18    3.55    3.80    3.94    4.02    4.07\n",
       "$A=20$    2.43    3.03    3.53    3.91    4.15    4.29    4.38\n",
       "$A=25$    1.99    2.65    3.27    3.78    4.15    4.39    4.53\n",
       "$A=30$    1.46    2.11    2.79    3.42    3.92    4.30    4.54"
      ]
     },
     "metadata": {},
     "output_type": "display_data"
    },
    {
     "name": "stdout",
     "output_type": "stream",
     "text": [
      "\\begin{tabular}{c|c|c|c|c|c|c|c}\n",
      " & $M=60$ & $M=65$ & $M=70$ & $M=75$ & $M=80$ & $M=85$ & $M=90$ \\\\\n",
      "$A=10$ & 2.72\\% & 3.09\\% & 3.33\\% & 3.48\\% & 3.56\\% & 3.62\\% & 3.64\\% \\\\\n",
      "$A=15$ & 2.69\\% & 3.18\\% & 3.55\\% & 3.80\\% & 3.94\\% & 4.02\\% & 4.07\\% \\\\\n",
      "$A=20$ & 2.43\\% & 3.03\\% & 3.53\\% & 3.91\\% & 4.15\\% & 4.29\\% & 4.38\\% \\\\\n",
      "$A=25$ & 1.99\\% & 2.65\\% & 3.27\\% & 3.78\\% & 4.15\\% & 4.39\\% & 4.53\\% \\\\\n",
      "$A=30$ & 1.46\\% & 2.11\\% & 2.79\\% & 3.42\\% & 3.92\\% & 4.30\\% & 4.54\\% \\\\\n",
      "\\end{tabular}\n",
      "\n"
     ]
    }
   ],
   "source": [
    "print(\n",
    "    \"Percentage increase in price for reinsurance after the reinsurer issues a catbond\\n\"\n",
    ")\n",
    "\n",
    "for c in range(4):\n",
    "    print(cat_models[c])\n",
    "    percentage_increase = ((catbond_prices[c] - prices[c]) / prices[c] * 100).round(2)\n",
    "    print(prices_to_tex(percentage_increase, As, Ms).replace(\"00 \", \"\\% \"))"
   ]
  }
 ],
 "metadata": {
  "kernelspec": {
   "display_name": "catbond",
   "language": "python",
   "name": "python3"
  },
  "language_info": {
   "codemirror_mode": {
    "name": "ipython",
    "version": 3
   },
   "file_extension": ".py",
   "mimetype": "text/x-python",
   "name": "python",
   "nbconvert_exporter": "python",
   "pygments_lexer": "ipython3",
   "version": "3.10.8"
  },
  "orig_nbformat": 4,
  "vscode": {
   "interpreter": {
    "hash": "45062e76df119c224491543ade1c775deff687d4d3c0827043d2aedbe8a88908"
   }
  }
 },
 "nbformat": 4,
 "nbformat_minor": 2
}
