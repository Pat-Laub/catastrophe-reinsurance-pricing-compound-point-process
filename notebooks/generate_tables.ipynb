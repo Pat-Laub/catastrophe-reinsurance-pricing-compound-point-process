{
 "cells": [
  {
   "cell_type": "code",
   "execution_count": 1,
   "metadata": {},
   "outputs": [],
   "source": [
    "%config InlineBackend.figure_format='retina'\n",
    "\n",
    "# Add the parent directory to the path so that we can import the modules.\n",
    "from functools import partial\n",
    "import os\n",
    "import sys\n",
    "\n",
    "module_path = os.path.abspath(os.path.join(\"..\"))\n",
    "if module_path not in sys.path:\n",
    "    sys.path.append(module_path)\n",
    "\n",
    "from market_conditions import *\n",
    "from dynamic_contagion import *\n",
    "from reinsurance import *\n",
    "\n",
    "import matplotlib.pyplot as plt\n",
    "import pandas as pd"
   ]
  },
  {
   "cell_type": "code",
   "execution_count": 2,
   "metadata": {},
   "outputs": [],
   "source": [
    "# Other parameters\n",
    "maturity = 3\n",
    "markup = 0.4\n",
    "R = int(1e5)\n",
    "seed = 123\n",
    "\n",
    "# Asset parameters\n",
    "V_0 = 130\n",
    "phi_V = -3  # * (1.3) # = V0 / L0\n",
    "sigma_V = 0.05\n",
    "\n",
    "# Liability parameters\n",
    "L_0 = 100\n",
    "phi_L = -3\n",
    "sigma_L = 0.02\n",
    "\n",
    "# Interest rate parameters\n",
    "r_0 = 0.02\n",
    "k = 0.2\n",
    "m = 0.05  # 0.5\n",
    "upsilon = 0.1\n",
    "eta_r = -0.01\n",
    "\n",
    "# Catastrophe loss size distribution parameters\n",
    "mu_C = 2\n",
    "sigma_C = 0.5"
   ]
  },
  {
   "cell_type": "code",
   "execution_count": 3,
   "metadata": {},
   "outputs": [],
   "source": [
    "# Poisson process\n",
    "def simulate_poisson(seed):\n",
    "    lambda_ = 0.5\n",
    "    rg = rnd.default_rng(seed)\n",
    "    return rg.poisson(lambda_ * maturity)\n",
    "\n",
    "\n",
    "# Cox proces\n",
    "def simulate_cox(seed):\n",
    "    lambda0 = 0.49\n",
    "    a = 0.4\n",
    "    rho = 0.4\n",
    "    delta = 1\n",
    "\n",
    "    return simulate_num_dynamic_contagion_uniform_jumps(\n",
    "        seed, maturity, lambda0, a, rho, delta, 0.0, 0.0, 0.0, 0.5\n",
    "    )\n",
    "\n",
    "\n",
    "# Hawkes process\n",
    "def simulate_hawkes(seed):\n",
    "    lambda0 = 0.47\n",
    "    a = 0.26\n",
    "    rho = 0.4\n",
    "    delta = 1\n",
    "\n",
    "    return simulate_num_dynamic_contagion_uniform_jumps(\n",
    "        seed, maturity, lambda0, a, rho, delta, 0.0, 1.0, 0.0, 0.0\n",
    "    )\n",
    "\n",
    "\n",
    "# Dynamic contagion process\n",
    "def simulate_dcp(seed):\n",
    "    lambda0 = 0.29\n",
    "    a = 0.26\n",
    "    rho = 0.4\n",
    "    delta = 1\n",
    "\n",
    "    return simulate_num_dynamic_contagion_uniform_jumps(\n",
    "        seed, maturity, lambda0, a, rho, delta, 0.0, 1.0, 0.0, 0.5\n",
    "    )"
   ]
  },
  {
   "attachments": {},
   "cell_type": "markdown",
   "metadata": {},
   "source": [
    "## Tables 1-4"
   ]
  },
  {
   "cell_type": "code",
   "execution_count": 4,
   "metadata": {},
   "outputs": [
    {
     "name": "stdout",
     "output_type": "stream",
     "text": [
      "Loading 'c:\\Users\\Patrick\\Dropbox\\Jiwook Project Local\\catastrophe-reinsurance-pricing-compound-point-process\\data\\mc-R=100000,seed=123,maturity=3,k=0.2,lambda_r=-0.01,m=0.05,phi_V=-3,sigma_V=0.05,phi_L=-3,sigma_L=0.02,upsilon=0.1,V_0=130,L_0=100,r_0=0.02.npy'\n"
     ]
    },
    {
     "name": "stderr",
     "output_type": "stream",
     "text": [
      "100%|██████████| 100000/100000 [00:02<00:00, 40526.69it/s]\n",
      "100%|██████████| 100000/100000 [00:01<00:00, 81313.88it/s]\n",
      "100%|██████████| 100000/100000 [00:01<00:00, 59477.67it/s]\n",
      "100%|██████████| 100000/100000 [00:01<00:00, 59169.60it/s]\n",
      "100%|██████████| 4/4 [00:16<00:00,  4.04s/it]"
     ]
    },
    {
     "name": "stdout",
     "output_type": "stream",
     "text": [
      "CPU times: total: 8.52 s\n",
      "Wall time: 16.8 s\n"
     ]
    },
    {
     "name": "stderr",
     "output_type": "stream",
     "text": [
      "\n"
     ]
    },
    {
     "data": {
      "text/plain": [
       "(4, 5, 7)"
      ]
     },
     "execution_count": 4,
     "metadata": {},
     "output_type": "execute_result"
    }
   ],
   "source": [
    "%%time\n",
    "prices = reinsurance_prices(\n",
    "    R,\n",
    "    seed,\n",
    "    maturity,\n",
    "    k,\n",
    "    eta_r,\n",
    "    m,\n",
    "    phi_V,\n",
    "    sigma_V,\n",
    "    phi_L,\n",
    "    sigma_L,\n",
    "    upsilon,\n",
    "    V_0,\n",
    "    L_0,\n",
    "    r_0,\n",
    "    (simulate_poisson, simulate_cox, simulate_hawkes, simulate_dcp),\n",
    "    mu_C,\n",
    "    sigma_C,\n",
    "    markup,\n",
    "    As=(10.0, 15.0, 20.0, 25.0, 30.0),\n",
    "    Ms=(60.0, 65.0, 70.0, 75.0, 80.0, 85.0, 90.0),\n",
    ")\n",
    "\n",
    "prices.shape"
   ]
  },
  {
   "cell_type": "code",
   "execution_count": 5,
   "metadata": {},
   "outputs": [
    {
     "name": "stdout",
     "output_type": "stream",
     "text": [
      "Poisson\n"
     ]
    },
    {
     "data": {
      "text/html": [
       "<div>\n",
       "<style scoped>\n",
       "    .dataframe tbody tr th:only-of-type {\n",
       "        vertical-align: middle;\n",
       "    }\n",
       "\n",
       "    .dataframe tbody tr th {\n",
       "        vertical-align: top;\n",
       "    }\n",
       "\n",
       "    .dataframe thead th {\n",
       "        text-align: right;\n",
       "    }\n",
       "</style>\n",
       "<table border=\"1\" class=\"dataframe\">\n",
       "  <thead>\n",
       "    <tr style=\"text-align: right;\">\n",
       "      <th></th>\n",
       "      <th>0</th>\n",
       "      <th>1</th>\n",
       "      <th>2</th>\n",
       "      <th>3</th>\n",
       "      <th>4</th>\n",
       "      <th>5</th>\n",
       "      <th>6</th>\n",
       "    </tr>\n",
       "  </thead>\n",
       "  <tbody>\n",
       "    <tr>\n",
       "      <th>0</th>\n",
       "      <td>7.2478</td>\n",
       "      <td>7.2561</td>\n",
       "      <td>7.2605</td>\n",
       "      <td>7.2625</td>\n",
       "      <td>7.2635</td>\n",
       "      <td>7.2640</td>\n",
       "      <td>7.2643</td>\n",
       "    </tr>\n",
       "    <tr>\n",
       "      <th>1</th>\n",
       "      <td>4.5758</td>\n",
       "      <td>4.5848</td>\n",
       "      <td>4.5895</td>\n",
       "      <td>4.5916</td>\n",
       "      <td>4.5927</td>\n",
       "      <td>4.5932</td>\n",
       "      <td>4.5935</td>\n",
       "    </tr>\n",
       "    <tr>\n",
       "      <th>2</th>\n",
       "      <td>2.7822</td>\n",
       "      <td>2.7921</td>\n",
       "      <td>2.7972</td>\n",
       "      <td>2.7995</td>\n",
       "      <td>2.8006</td>\n",
       "      <td>2.8012</td>\n",
       "      <td>2.8015</td>\n",
       "    </tr>\n",
       "    <tr>\n",
       "      <th>3</th>\n",
       "      <td>1.6393</td>\n",
       "      <td>1.6500</td>\n",
       "      <td>1.6557</td>\n",
       "      <td>1.6581</td>\n",
       "      <td>1.6594</td>\n",
       "      <td>1.6600</td>\n",
       "      <td>1.6603</td>\n",
       "    </tr>\n",
       "    <tr>\n",
       "      <th>4</th>\n",
       "      <td>0.9403</td>\n",
       "      <td>0.9519</td>\n",
       "      <td>0.9580</td>\n",
       "      <td>0.9607</td>\n",
       "      <td>0.9620</td>\n",
       "      <td>0.9627</td>\n",
       "      <td>0.9630</td>\n",
       "    </tr>\n",
       "  </tbody>\n",
       "</table>\n",
       "</div>"
      ],
      "text/plain": [
       "        0       1       2       3       4       5       6\n",
       "0  7.2478  7.2561  7.2605  7.2625  7.2635  7.2640  7.2643\n",
       "1  4.5758  4.5848  4.5895  4.5916  4.5927  4.5932  4.5935\n",
       "2  2.7822  2.7921  2.7972  2.7995  2.8006  2.8012  2.8015\n",
       "3  1.6393  1.6500  1.6557  1.6581  1.6594  1.6600  1.6603\n",
       "4  0.9403  0.9519  0.9580  0.9607  0.9620  0.9627  0.9630"
      ]
     },
     "metadata": {},
     "output_type": "display_data"
    },
    {
     "name": "stdout",
     "output_type": "stream",
     "text": [
      "Cox\n"
     ]
    },
    {
     "data": {
      "text/html": [
       "<div>\n",
       "<style scoped>\n",
       "    .dataframe tbody tr th:only-of-type {\n",
       "        vertical-align: middle;\n",
       "    }\n",
       "\n",
       "    .dataframe tbody tr th {\n",
       "        vertical-align: top;\n",
       "    }\n",
       "\n",
       "    .dataframe thead th {\n",
       "        text-align: right;\n",
       "    }\n",
       "</style>\n",
       "<table border=\"1\" class=\"dataframe\">\n",
       "  <thead>\n",
       "    <tr style=\"text-align: right;\">\n",
       "      <th></th>\n",
       "      <th>0</th>\n",
       "      <th>1</th>\n",
       "      <th>2</th>\n",
       "      <th>3</th>\n",
       "      <th>4</th>\n",
       "      <th>5</th>\n",
       "      <th>6</th>\n",
       "    </tr>\n",
       "  </thead>\n",
       "  <tbody>\n",
       "    <tr>\n",
       "      <th>0</th>\n",
       "      <td>7.2451</td>\n",
       "      <td>7.2538</td>\n",
       "      <td>7.2583</td>\n",
       "      <td>7.2607</td>\n",
       "      <td>7.2620</td>\n",
       "      <td>7.2626</td>\n",
       "      <td>7.2629</td>\n",
       "    </tr>\n",
       "    <tr>\n",
       "      <th>1</th>\n",
       "      <td>4.6032</td>\n",
       "      <td>4.6126</td>\n",
       "      <td>4.6175</td>\n",
       "      <td>4.6201</td>\n",
       "      <td>4.6215</td>\n",
       "      <td>4.6221</td>\n",
       "      <td>4.6224</td>\n",
       "    </tr>\n",
       "    <tr>\n",
       "      <th>2</th>\n",
       "      <td>2.8205</td>\n",
       "      <td>2.8309</td>\n",
       "      <td>2.8362</td>\n",
       "      <td>2.8390</td>\n",
       "      <td>2.8405</td>\n",
       "      <td>2.8412</td>\n",
       "      <td>2.8415</td>\n",
       "    </tr>\n",
       "    <tr>\n",
       "      <th>3</th>\n",
       "      <td>1.6718</td>\n",
       "      <td>1.6831</td>\n",
       "      <td>1.6890</td>\n",
       "      <td>1.6920</td>\n",
       "      <td>1.6936</td>\n",
       "      <td>1.6944</td>\n",
       "      <td>1.6947</td>\n",
       "    </tr>\n",
       "    <tr>\n",
       "      <th>4</th>\n",
       "      <td>0.9628</td>\n",
       "      <td>0.9750</td>\n",
       "      <td>0.9813</td>\n",
       "      <td>0.9846</td>\n",
       "      <td>0.9863</td>\n",
       "      <td>0.9872</td>\n",
       "      <td>0.9876</td>\n",
       "    </tr>\n",
       "  </tbody>\n",
       "</table>\n",
       "</div>"
      ],
      "text/plain": [
       "        0       1       2       3       4       5       6\n",
       "0  7.2451  7.2538  7.2583  7.2607  7.2620  7.2626  7.2629\n",
       "1  4.6032  4.6126  4.6175  4.6201  4.6215  4.6221  4.6224\n",
       "2  2.8205  2.8309  2.8362  2.8390  2.8405  2.8412  2.8415\n",
       "3  1.6718  1.6831  1.6890  1.6920  1.6936  1.6944  1.6947\n",
       "4  0.9628  0.9750  0.9813  0.9846  0.9863  0.9872  0.9876"
      ]
     },
     "metadata": {},
     "output_type": "display_data"
    },
    {
     "name": "stdout",
     "output_type": "stream",
     "text": [
      "Hawkes\n"
     ]
    },
    {
     "data": {
      "text/html": [
       "<div>\n",
       "<style scoped>\n",
       "    .dataframe tbody tr th:only-of-type {\n",
       "        vertical-align: middle;\n",
       "    }\n",
       "\n",
       "    .dataframe tbody tr th {\n",
       "        vertical-align: top;\n",
       "    }\n",
       "\n",
       "    .dataframe thead th {\n",
       "        text-align: right;\n",
       "    }\n",
       "</style>\n",
       "<table border=\"1\" class=\"dataframe\">\n",
       "  <thead>\n",
       "    <tr style=\"text-align: right;\">\n",
       "      <th></th>\n",
       "      <th>0</th>\n",
       "      <th>1</th>\n",
       "      <th>2</th>\n",
       "      <th>3</th>\n",
       "      <th>4</th>\n",
       "      <th>5</th>\n",
       "      <th>6</th>\n",
       "    </tr>\n",
       "  </thead>\n",
       "  <tbody>\n",
       "    <tr>\n",
       "      <th>0</th>\n",
       "      <td>8.1183</td>\n",
       "      <td>8.1950</td>\n",
       "      <td>8.2488</td>\n",
       "      <td>8.2876</td>\n",
       "      <td>8.3151</td>\n",
       "      <td>8.3339</td>\n",
       "      <td>8.3476</td>\n",
       "    </tr>\n",
       "    <tr>\n",
       "      <th>1</th>\n",
       "      <td>5.9402</td>\n",
       "      <td>6.0235</td>\n",
       "      <td>6.0817</td>\n",
       "      <td>6.1233</td>\n",
       "      <td>6.1525</td>\n",
       "      <td>6.1726</td>\n",
       "      <td>6.1871</td>\n",
       "    </tr>\n",
       "    <tr>\n",
       "      <th>2</th>\n",
       "      <td>4.3240</td>\n",
       "      <td>4.4150</td>\n",
       "      <td>4.4781</td>\n",
       "      <td>4.5231</td>\n",
       "      <td>4.5545</td>\n",
       "      <td>4.5758</td>\n",
       "      <td>4.5912</td>\n",
       "    </tr>\n",
       "    <tr>\n",
       "      <th>3</th>\n",
       "      <td>3.1259</td>\n",
       "      <td>3.2249</td>\n",
       "      <td>3.2938</td>\n",
       "      <td>3.3428</td>\n",
       "      <td>3.3766</td>\n",
       "      <td>3.3995</td>\n",
       "      <td>3.4158</td>\n",
       "    </tr>\n",
       "    <tr>\n",
       "      <th>4</th>\n",
       "      <td>2.2317</td>\n",
       "      <td>2.3390</td>\n",
       "      <td>2.4140</td>\n",
       "      <td>2.4674</td>\n",
       "      <td>2.5043</td>\n",
       "      <td>2.5289</td>\n",
       "      <td>2.5464</td>\n",
       "    </tr>\n",
       "  </tbody>\n",
       "</table>\n",
       "</div>"
      ],
      "text/plain": [
       "        0       1       2       3       4       5       6\n",
       "0  8.1183  8.1950  8.2488  8.2876  8.3151  8.3339  8.3476\n",
       "1  5.9402  6.0235  6.0817  6.1233  6.1525  6.1726  6.1871\n",
       "2  4.3240  4.4150  4.4781  4.5231  4.5545  4.5758  4.5912\n",
       "3  3.1259  3.2249  3.2938  3.3428  3.3766  3.3995  3.4158\n",
       "4  2.2317  2.3390  2.4140  2.4674  2.5043  2.5289  2.5464"
      ]
     },
     "metadata": {},
     "output_type": "display_data"
    },
    {
     "name": "stdout",
     "output_type": "stream",
     "text": [
      "DCP\n"
     ]
    },
    {
     "data": {
      "text/html": [
       "<div>\n",
       "<style scoped>\n",
       "    .dataframe tbody tr th:only-of-type {\n",
       "        vertical-align: middle;\n",
       "    }\n",
       "\n",
       "    .dataframe tbody tr th {\n",
       "        vertical-align: top;\n",
       "    }\n",
       "\n",
       "    .dataframe thead th {\n",
       "        text-align: right;\n",
       "    }\n",
       "</style>\n",
       "<table border=\"1\" class=\"dataframe\">\n",
       "  <thead>\n",
       "    <tr style=\"text-align: right;\">\n",
       "      <th></th>\n",
       "      <th>0</th>\n",
       "      <th>1</th>\n",
       "      <th>2</th>\n",
       "      <th>3</th>\n",
       "      <th>4</th>\n",
       "      <th>5</th>\n",
       "      <th>6</th>\n",
       "    </tr>\n",
       "  </thead>\n",
       "  <tbody>\n",
       "    <tr>\n",
       "      <th>0</th>\n",
       "      <td>8.2255</td>\n",
       "      <td>8.3003</td>\n",
       "      <td>8.3523</td>\n",
       "      <td>8.3891</td>\n",
       "      <td>8.4147</td>\n",
       "      <td>8.4329</td>\n",
       "      <td>8.4457</td>\n",
       "    </tr>\n",
       "    <tr>\n",
       "      <th>1</th>\n",
       "      <td>6.0212</td>\n",
       "      <td>6.1026</td>\n",
       "      <td>6.1588</td>\n",
       "      <td>6.1981</td>\n",
       "      <td>6.2253</td>\n",
       "      <td>6.2447</td>\n",
       "      <td>6.2582</td>\n",
       "    </tr>\n",
       "    <tr>\n",
       "      <th>2</th>\n",
       "      <td>4.3848</td>\n",
       "      <td>4.4738</td>\n",
       "      <td>4.5349</td>\n",
       "      <td>4.5773</td>\n",
       "      <td>4.6064</td>\n",
       "      <td>4.6270</td>\n",
       "      <td>4.6414</td>\n",
       "    </tr>\n",
       "    <tr>\n",
       "      <th>3</th>\n",
       "      <td>3.1672</td>\n",
       "      <td>3.2644</td>\n",
       "      <td>3.3310</td>\n",
       "      <td>3.3771</td>\n",
       "      <td>3.4085</td>\n",
       "      <td>3.4305</td>\n",
       "      <td>3.4458</td>\n",
       "    </tr>\n",
       "    <tr>\n",
       "      <th>4</th>\n",
       "      <td>2.2562</td>\n",
       "      <td>2.3615</td>\n",
       "      <td>2.4342</td>\n",
       "      <td>2.4843</td>\n",
       "      <td>2.5184</td>\n",
       "      <td>2.5421</td>\n",
       "      <td>2.5585</td>\n",
       "    </tr>\n",
       "  </tbody>\n",
       "</table>\n",
       "</div>"
      ],
      "text/plain": [
       "        0       1       2       3       4       5       6\n",
       "0  8.2255  8.3003  8.3523  8.3891  8.4147  8.4329  8.4457\n",
       "1  6.0212  6.1026  6.1588  6.1981  6.2253  6.2447  6.2582\n",
       "2  4.3848  4.4738  4.5349  4.5773  4.6064  4.6270  4.6414\n",
       "3  3.1672  3.2644  3.3310  3.3771  3.4085  3.4305  3.4458\n",
       "4  2.2562  2.3615  2.4342  2.4843  2.5184  2.5421  2.5585"
      ]
     },
     "metadata": {},
     "output_type": "display_data"
    }
   ],
   "source": [
    "# Tables 1 to 4\n",
    "cat_models = (\"Poisson\", \"Cox\", \"Hawkes\", \"DCP\")\n",
    "for c in range(4):\n",
    "    print(cat_models[c])\n",
    "    display(pd.DataFrame(prices[c]).round(4))"
   ]
  },
  {
   "attachments": {},
   "cell_type": "markdown",
   "metadata": {},
   "source": [
    "## Table 5: Default risk premium"
   ]
  },
  {
   "cell_type": "code",
   "execution_count": 6,
   "metadata": {},
   "outputs": [
    {
     "name": "stdout",
     "output_type": "stream",
     "text": [
      "Loading 'c:\\Users\\Patrick\\Dropbox\\Jiwook Project Local\\catastrophe-reinsurance-pricing-compound-point-process\\data\\mc-R=100000,seed=123,maturity=3,k=0.2,lambda_r=-0.01,m=0.05,phi_V=-3,sigma_V=0.05,phi_L=-3,sigma_L=0.02,upsilon=0.1,V_0=130,L_0=100,r_0=0.02.npy'\n"
     ]
    },
    {
     "name": "stderr",
     "output_type": "stream",
     "text": [
      "100%|██████████| 100000/100000 [00:07<00:00, 13524.04it/s]\n",
      "100%|██████████| 100000/100000 [00:01<00:00, 58167.79it/s]\n",
      "100%|██████████| 100000/100000 [00:01<00:00, 58049.14it/s]\n",
      "100%|██████████| 100000/100000 [00:01<00:00, 52742.51it/s]\n",
      "100%|██████████| 4/4 [00:13<00:00,  3.26s/it]\n"
     ]
    },
    {
     "name": "stdout",
     "output_type": "stream",
     "text": [
      "CPU times: total: 8.09 s\n",
      "Wall time: 14.7 s\n"
     ]
    }
   ],
   "source": [
    "%%time\n",
    "risky_prices = reinsurance_prices(\n",
    "    R,\n",
    "    seed,\n",
    "    maturity,\n",
    "    k,\n",
    "    eta_r,\n",
    "    m,\n",
    "    phi_V,\n",
    "    sigma_V,\n",
    "    phi_L,\n",
    "    sigma_L,\n",
    "    upsilon,\n",
    "    V_0,\n",
    "    L_0,\n",
    "    r_0,\n",
    "    (simulate_poisson, simulate_cox, simulate_hawkes, simulate_dcp),\n",
    "    mu_C,\n",
    "    sigma_C,\n",
    "    markup,\n",
    ")[:, np.newaxis]"
   ]
  },
  {
   "cell_type": "code",
   "execution_count": 7,
   "metadata": {},
   "outputs": [
    {
     "data": {
      "text/plain": [
       "array([[2.8015],\n",
       "       [2.8415],\n",
       "       [4.5912],\n",
       "       [4.6414]])"
      ]
     },
     "execution_count": 7,
     "metadata": {},
     "output_type": "execute_result"
    }
   ],
   "source": [
    "risky_prices.round(4)"
   ]
  },
  {
   "cell_type": "code",
   "execution_count": 8,
   "metadata": {},
   "outputs": [
    {
     "name": "stdout",
     "output_type": "stream",
     "text": [
      "Loading 'c:\\Users\\Patrick\\Dropbox\\Jiwook Project Local\\catastrophe-reinsurance-pricing-compound-point-process\\data\\mc-R=100000,seed=123,maturity=3,k=0.2,lambda_r=-0.01,m=0.05,phi_V=-3,sigma_V=0.05,phi_L=-3,sigma_L=0.02,upsilon=0.1,V_0=130,L_0=100,r_0=0.02.npy'\n"
     ]
    },
    {
     "name": "stderr",
     "output_type": "stream",
     "text": [
      "100%|██████████| 100000/100000 [00:02<00:00, 47527.25it/s]\n",
      "100%|██████████| 100000/100000 [00:00<00:00, 152829.19it/s]\n",
      "100%|██████████| 100000/100000 [00:00<00:00, 118738.28it/s]\n",
      "100%|██████████| 100000/100000 [00:00<00:00, 155414.70it/s]\n",
      "100%|██████████| 4/4 [00:04<00:00,  1.09s/it]"
     ]
    },
    {
     "name": "stdout",
     "output_type": "stream",
     "text": [
      "CPU times: total: 1.91 s\n",
      "Wall time: 5.73 s\n"
     ]
    },
    {
     "name": "stderr",
     "output_type": "stream",
     "text": [
      "\n"
     ]
    }
   ],
   "source": [
    "%%time\n",
    "safe_prices = reinsurance_prices(\n",
    "    R,\n",
    "    seed,\n",
    "    maturity,\n",
    "    k,\n",
    "    eta_r,\n",
    "    m,\n",
    "    phi_V,\n",
    "    sigma_V,\n",
    "    phi_L,\n",
    "    sigma_L,\n",
    "    upsilon,\n",
    "    V_0,\n",
    "    L_0,\n",
    "    r_0,\n",
    "    (simulate_poisson, simulate_cox, simulate_hawkes, simulate_dcp),\n",
    "    mu_C,\n",
    "    sigma_C,\n",
    "    markup,\n",
    "    defaultable=False,\n",
    ")[:, np.newaxis]"
   ]
  },
  {
   "cell_type": "code",
   "execution_count": 9,
   "metadata": {},
   "outputs": [
    {
     "data": {
      "text/plain": [
       "array([[2.847 ],\n",
       "       [2.8844],\n",
       "       [4.8709],\n",
       "       [4.9161]])"
      ]
     },
     "execution_count": 9,
     "metadata": {},
     "output_type": "execute_result"
    }
   ],
   "source": [
    "safe_prices.round(4)"
   ]
  },
  {
   "cell_type": "code",
   "execution_count": 10,
   "metadata": {},
   "outputs": [
    {
     "data": {
      "text/plain": [
       "array([[0.0455],\n",
       "       [0.0429],\n",
       "       [0.2797],\n",
       "       [0.2747]])"
      ]
     },
     "execution_count": 10,
     "metadata": {},
     "output_type": "execute_result"
    }
   ],
   "source": [
    "risk_premium = safe_prices - risky_prices\n",
    "risk_premium.round(4)"
   ]
  },
  {
   "cell_type": "code",
   "execution_count": 11,
   "metadata": {},
   "outputs": [
    {
     "data": {
      "text/plain": [
       "array([[2.8015, 2.847 , 0.0455],\n",
       "       [2.8415, 2.8844, 0.0429],\n",
       "       [4.5912, 4.8709, 0.2797],\n",
       "       [4.6414, 4.9161, 0.2747]])"
      ]
     },
     "execution_count": 11,
     "metadata": {},
     "output_type": "execute_result"
    }
   ],
   "source": [
    "np.hstack((risky_prices, safe_prices, risk_premium)).round(4)"
   ]
  },
  {
   "attachments": {},
   "cell_type": "markdown",
   "metadata": {},
   "source": [
    "## Table 6: Impacts of externally-excited jump frequency rate"
   ]
  },
  {
   "cell_type": "code",
   "execution_count": 12,
   "metadata": {},
   "outputs": [],
   "source": [
    "def simulate_dcp_variations(seed, rho):\n",
    "    lambda0 = 0.29\n",
    "    a = 0.26\n",
    "    delta = 1\n",
    "\n",
    "    return simulate_num_dynamic_contagion_uniform_jumps(\n",
    "        seed, maturity, lambda0, a, rho, delta, 0.0, 1.0, 0.0, 0.5\n",
    "    )\n",
    "\n",
    "\n",
    "simulators = [partial(simulate_dcp_variations, rho=rho) for rho in (0.4, 3, 10, 20)]"
   ]
  },
  {
   "cell_type": "code",
   "execution_count": 13,
   "metadata": {},
   "outputs": [
    {
     "name": "stdout",
     "output_type": "stream",
     "text": [
      "Loading 'c:\\Users\\Patrick\\Dropbox\\Jiwook Project Local\\catastrophe-reinsurance-pricing-compound-point-process\\data\\mc-R=100000,seed=123,maturity=3,k=0.2,lambda_r=-0.01,m=0.05,phi_V=-3,sigma_V=0.05,phi_L=-3,sigma_L=0.02,upsilon=0.1,V_0=110,L_0=100,r_0=0.02.npy'\n"
     ]
    },
    {
     "name": "stderr",
     "output_type": "stream",
     "text": [
      "100%|██████████| 100000/100000 [00:00<00:00, 124782.94it/s]\n",
      "100%|██████████| 100000/100000 [00:00<00:00, 101699.62it/s]\n",
      "100%|██████████| 100000/100000 [00:00<00:00, 102528.84it/s]\n",
      "100%|██████████| 100000/100000 [00:01<00:00, 79437.67it/s]\n",
      "100%|██████████| 4/4 [00:04<00:00,  1.08s/it]\n"
     ]
    },
    {
     "name": "stdout",
     "output_type": "stream",
     "text": [
      "Loading 'c:\\Users\\Patrick\\Dropbox\\Jiwook Project Local\\catastrophe-reinsurance-pricing-compound-point-process\\data\\mc-R=100000,seed=123,maturity=3,k=0.2,lambda_r=-0.01,m=0.05,phi_V=-3,sigma_V=0.05,phi_L=-3,sigma_L=0.02,upsilon=0.1,V_0=130,L_0=100,r_0=0.02.npy'\n"
     ]
    },
    {
     "name": "stderr",
     "output_type": "stream",
     "text": [
      "100%|██████████| 100000/100000 [00:00<00:00, 136897.46it/s]\n",
      "100%|██████████| 100000/100000 [00:00<00:00, 116628.64it/s]\n",
      "100%|██████████| 100000/100000 [00:01<00:00, 98214.47it/s]\n",
      "100%|██████████| 100000/100000 [00:01<00:00, 76525.38it/s]\n",
      "100%|██████████| 4/4 [00:04<00:00,  1.05s/it]\n"
     ]
    },
    {
     "name": "stdout",
     "output_type": "stream",
     "text": [
      "Loading 'c:\\Users\\Patrick\\Dropbox\\Jiwook Project Local\\catastrophe-reinsurance-pricing-compound-point-process\\data\\mc-R=100000,seed=123,maturity=3,k=0.2,lambda_r=-0.01,m=0.05,phi_V=-3,sigma_V=0.05,phi_L=-3,sigma_L=0.02,upsilon=0.1,V_0=150,L_0=100,r_0=0.02.npy'\n"
     ]
    },
    {
     "name": "stderr",
     "output_type": "stream",
     "text": [
      "100%|██████████| 100000/100000 [00:00<00:00, 128595.02it/s]\n",
      "100%|██████████| 100000/100000 [00:00<00:00, 117863.85it/s]\n",
      "100%|██████████| 100000/100000 [00:00<00:00, 100637.42it/s]\n",
      "100%|██████████| 100000/100000 [00:01<00:00, 75429.66it/s]\n",
      "100%|██████████| 4/4 [00:04<00:00,  1.05s/it]\n"
     ]
    },
    {
     "name": "stdout",
     "output_type": "stream",
     "text": [
      "CPU times: total: 3.47 s\n",
      "Wall time: 14.8 s\n"
     ]
    }
   ],
   "source": [
    "%%time\n",
    "risky_prices = reinsurance_prices(\n",
    "    R,\n",
    "    seed,\n",
    "    maturity,\n",
    "    k,\n",
    "    eta_r,\n",
    "    m,\n",
    "    phi_V,\n",
    "    sigma_V,\n",
    "    phi_L,\n",
    "    sigma_L,\n",
    "    upsilon,\n",
    "    tuple(int(scale * L_0) for scale in (1.1, 1.3, 1.5)),\n",
    "    L_0,\n",
    "    r_0,\n",
    "    simulators,\n",
    "    mu_C,\n",
    "    sigma_C,\n",
    "    markup,\n",
    ").T"
   ]
  },
  {
   "cell_type": "code",
   "execution_count": 14,
   "metadata": {},
   "outputs": [
    {
     "data": {
      "text/plain": [
       "array([[ 4.1942,  4.6414,  4.8367],\n",
       "       [13.593 , 15.3399, 16.2959],\n",
       "       [39.9647, 46.4996, 51.4606],\n",
       "       [56.7379, 66.8978, 76.0682]])"
      ]
     },
     "execution_count": 14,
     "metadata": {},
     "output_type": "execute_result"
    }
   ],
   "source": [
    "risky_prices.round(4)"
   ]
  },
  {
   "cell_type": "code",
   "execution_count": 15,
   "metadata": {},
   "outputs": [
    {
     "name": "stdout",
     "output_type": "stream",
     "text": [
      "Loading 'c:\\Users\\Patrick\\Dropbox\\Jiwook Project Local\\catastrophe-reinsurance-pricing-compound-point-process\\data\\mc-R=100000,seed=123,maturity=3,k=0.2,lambda_r=-0.01,m=0.05,phi_V=-3,sigma_V=0.05,phi_L=-3,sigma_L=0.02,upsilon=0.1,V_0=110,L_0=100,r_0=0.02.npy'\n"
     ]
    },
    {
     "name": "stderr",
     "output_type": "stream",
     "text": [
      "100%|██████████| 100000/100000 [00:00<00:00, 136857.75it/s]\n",
      "100%|██████████| 100000/100000 [00:00<00:00, 135288.78it/s]\n",
      "100%|██████████| 100000/100000 [00:01<00:00, 91159.67it/s]\n",
      "100%|██████████| 100000/100000 [00:01<00:00, 70612.31it/s]\n",
      "100%|██████████| 4/4 [00:04<00:00,  1.02s/it]"
     ]
    },
    {
     "name": "stdout",
     "output_type": "stream",
     "text": [
      "CPU times: total: 1.22 s\n",
      "Wall time: 4.69 s\n"
     ]
    },
    {
     "name": "stderr",
     "output_type": "stream",
     "text": [
      "\n"
     ]
    }
   ],
   "source": [
    "%%time\n",
    "safe_prices = reinsurance_prices(\n",
    "    R,\n",
    "    seed,\n",
    "    maturity,\n",
    "    k,\n",
    "    eta_r,\n",
    "    m,\n",
    "    phi_V,\n",
    "    sigma_V,\n",
    "    phi_L,\n",
    "    sigma_L,\n",
    "    upsilon,\n",
    "    tuple(int(scale * L_0) for scale in (1.1, 1.3, 1.5)),\n",
    "    L_0,\n",
    "    r_0,\n",
    "    simulators,\n",
    "    mu_C,\n",
    "    sigma_C,\n",
    "    markup,\n",
    "    defaultable=False,\n",
    ").T"
   ]
  },
  {
   "cell_type": "code",
   "execution_count": 16,
   "metadata": {},
   "outputs": [
    {
     "data": {
      "text/plain": [
       "array([[ 4.9161,  4.9161,  4.9161],\n",
       "       [16.7538, 16.7538, 16.7538],\n",
       "       [54.7041, 54.7041, 54.7041],\n",
       "       [83.286 , 83.286 , 83.286 ]])"
      ]
     },
     "execution_count": 16,
     "metadata": {},
     "output_type": "execute_result"
    }
   ],
   "source": [
    "safe_prices.round(4)"
   ]
  },
  {
   "cell_type": "code",
   "execution_count": 17,
   "metadata": {},
   "outputs": [],
   "source": [
    "risk_premium = safe_prices - risky_prices"
   ]
  },
  {
   "cell_type": "code",
   "execution_count": 18,
   "metadata": {},
   "outputs": [
    {
     "data": {
      "text/plain": [
       "array([[ 4.1942,  4.6414,  4.8367,  0.7219,  0.2747,  0.0794],\n",
       "       [13.593 , 15.3399, 16.2959,  3.1608,  1.414 ,  0.4579],\n",
       "       [39.9647, 46.4996, 51.4606, 14.7394,  8.2045,  3.2435],\n",
       "       [56.7379, 66.8978, 76.0682, 26.5481, 16.3882,  7.2178]])"
      ]
     },
     "execution_count": 18,
     "metadata": {},
     "output_type": "execute_result"
    }
   ],
   "source": [
    "np.hstack([risky_prices, risk_premium]).round(4)"
   ]
  },
  {
   "attachments": {},
   "cell_type": "markdown",
   "metadata": {},
   "source": [
    "## Table 7: Impacts of externally-excited jump magnitude"
   ]
  },
  {
   "cell_type": "code",
   "execution_count": 19,
   "metadata": {},
   "outputs": [],
   "source": [
    "def simulate_dcp_variations(seed, mu_F=0.25, mu_G=0.5):\n",
    "    lambda0 = 0.29\n",
    "    a = 0.26\n",
    "    delta = 1\n",
    "    rho = 0.4\n",
    "\n",
    "    return simulate_num_dynamic_contagion_uniform_jumps(\n",
    "        seed, maturity, lambda0, a, rho, delta, 0.0, 2 * mu_G, 0.0, 2 * mu_F\n",
    "    )\n",
    "\n",
    "\n",
    "simulators = [\n",
    "    partial(simulate_dcp_variations, mu_F=mu_F) for mu_F in (0.25, 1.0, 4.0, 8.0)\n",
    "]"
   ]
  },
  {
   "cell_type": "code",
   "execution_count": 20,
   "metadata": {},
   "outputs": [
    {
     "name": "stdout",
     "output_type": "stream",
     "text": [
      "Loading 'c:\\Users\\Patrick\\Dropbox\\Jiwook Project Local\\catastrophe-reinsurance-pricing-compound-point-process\\data\\mc-R=100000,seed=123,maturity=3,k=0.2,lambda_r=-0.01,m=0.05,phi_V=-3,sigma_V=0.05,phi_L=-3,sigma_L=0.02,upsilon=0.1,V_0=110,L_0=100,r_0=0.02.npy'\n"
     ]
    },
    {
     "name": "stderr",
     "output_type": "stream",
     "text": [
      "100%|██████████| 100000/100000 [00:00<00:00, 145188.80it/s]\n",
      "100%|██████████| 100000/100000 [00:00<00:00, 140698.83it/s]\n",
      "100%|██████████| 100000/100000 [00:00<00:00, 129542.27it/s]\n",
      "100%|██████████| 100000/100000 [00:00<00:00, 134375.41it/s]\n",
      "100%|██████████| 4/4 [00:03<00:00,  1.26it/s]\n"
     ]
    },
    {
     "name": "stdout",
     "output_type": "stream",
     "text": [
      "Loading 'c:\\Users\\Patrick\\Dropbox\\Jiwook Project Local\\catastrophe-reinsurance-pricing-compound-point-process\\data\\mc-R=100000,seed=123,maturity=3,k=0.2,lambda_r=-0.01,m=0.05,phi_V=-3,sigma_V=0.05,phi_L=-3,sigma_L=0.02,upsilon=0.1,V_0=130,L_0=100,r_0=0.02.npy'\n"
     ]
    },
    {
     "name": "stderr",
     "output_type": "stream",
     "text": [
      "100%|██████████| 100000/100000 [00:00<00:00, 131407.09it/s]\n",
      "100%|██████████| 100000/100000 [00:00<00:00, 134281.67it/s]\n",
      "100%|██████████| 100000/100000 [00:00<00:00, 124314.83it/s]\n",
      "100%|██████████| 100000/100000 [00:00<00:00, 141911.75it/s]\n",
      "100%|██████████| 4/4 [00:03<00:00,  1.23it/s]\n"
     ]
    },
    {
     "name": "stdout",
     "output_type": "stream",
     "text": [
      "Loading 'c:\\Users\\Patrick\\Dropbox\\Jiwook Project Local\\catastrophe-reinsurance-pricing-compound-point-process\\data\\mc-R=100000,seed=123,maturity=3,k=0.2,lambda_r=-0.01,m=0.05,phi_V=-3,sigma_V=0.05,phi_L=-3,sigma_L=0.02,upsilon=0.1,V_0=150,L_0=100,r_0=0.02.npy'\n"
     ]
    },
    {
     "name": "stderr",
     "output_type": "stream",
     "text": [
      "100%|██████████| 100000/100000 [00:00<00:00, 123801.27it/s]\n",
      "100%|██████████| 100000/100000 [00:00<00:00, 142020.25it/s]\n",
      "100%|██████████| 100000/100000 [00:00<00:00, 121787.67it/s]\n",
      "100%|██████████| 100000/100000 [00:00<00:00, 136753.06it/s]\n",
      "100%|██████████| 4/4 [00:03<00:00,  1.22it/s]\n"
     ]
    },
    {
     "name": "stdout",
     "output_type": "stream",
     "text": [
      "Loading 'c:\\Users\\Patrick\\Dropbox\\Jiwook Project Local\\catastrophe-reinsurance-pricing-compound-point-process\\data\\mc-R=100000,seed=123,maturity=3,k=0.2,lambda_r=-0.01,m=0.05,phi_V=-3,sigma_V=0.05,phi_L=-3,sigma_L=0.02,upsilon=0.1,V_0=110,L_0=100,r_0=0.02.npy'\n"
     ]
    },
    {
     "name": "stderr",
     "output_type": "stream",
     "text": [
      "100%|██████████| 100000/100000 [00:00<00:00, 153033.61it/s]\n",
      "100%|██████████| 100000/100000 [00:00<00:00, 151252.21it/s]\n",
      "100%|██████████| 100000/100000 [00:00<00:00, 118962.91it/s]\n",
      "100%|██████████| 100000/100000 [00:00<00:00, 134744.03it/s]\n",
      "100%|██████████| 4/4 [00:03<00:00,  1.33it/s]"
     ]
    },
    {
     "name": "stdout",
     "output_type": "stream",
     "text": [
      "CPU times: total: 3.92 s\n",
      "Wall time: 15.2 s\n"
     ]
    },
    {
     "name": "stderr",
     "output_type": "stream",
     "text": [
      "\n"
     ]
    }
   ],
   "source": [
    "%%time\n",
    "risky_prices = reinsurance_prices(\n",
    "    R,\n",
    "    seed,\n",
    "    maturity,\n",
    "    k,\n",
    "    eta_r,\n",
    "    m,\n",
    "    phi_V,\n",
    "    sigma_V,\n",
    "    phi_L,\n",
    "    sigma_L,\n",
    "    upsilon,\n",
    "    tuple(int(scale * L_0) for scale in (1.1, 1.3, 1.5)),\n",
    "    L_0,\n",
    "    r_0,\n",
    "    simulators,\n",
    "    mu_C,\n",
    "    sigma_C,\n",
    "    markup,\n",
    ").T\n",
    "\n",
    "safe_prices = reinsurance_prices(\n",
    "    R,\n",
    "    seed,\n",
    "    maturity,\n",
    "    k,\n",
    "    eta_r,\n",
    "    m,\n",
    "    phi_V,\n",
    "    sigma_V,\n",
    "    phi_L,\n",
    "    sigma_L,\n",
    "    upsilon,\n",
    "    tuple(int(scale * L_0) for scale in (1.1, 1.3, 1.5)),\n",
    "    L_0,\n",
    "    r_0,\n",
    "    simulators,\n",
    "    mu_C,\n",
    "    sigma_C,\n",
    "    markup,\n",
    "    defaultable=False,\n",
    ").T\n",
    "\n",
    "risk_premium = safe_prices - risky_prices"
   ]
  },
  {
   "cell_type": "code",
   "execution_count": 21,
   "metadata": {},
   "outputs": [
    {
     "data": {
      "text/plain": [
       "array([[ 4.1942,  4.6414,  4.8367,  0.7219,  0.2747,  0.0794],\n",
       "       [ 8.599 ,  9.6724, 10.253 ,  1.9358,  0.8625,  0.2818],\n",
       "       [23.4755, 27.2457, 30.1638,  8.7104,  4.9402,  2.0221],\n",
       "       [31.6212, 37.0257, 41.6676, 13.6175,  8.213 ,  3.5712]])"
      ]
     },
     "execution_count": 21,
     "metadata": {},
     "output_type": "execute_result"
    }
   ],
   "source": [
    "np.hstack([risky_prices, risk_premium]).round(4)"
   ]
  },
  {
   "attachments": {},
   "cell_type": "markdown",
   "metadata": {},
   "source": [
    "## Table 8: Impacts of self-excited jump magnitude"
   ]
  },
  {
   "cell_type": "code",
   "execution_count": 22,
   "metadata": {},
   "outputs": [
    {
     "name": "stdout",
     "output_type": "stream",
     "text": [
      "Loading 'c:\\Users\\Patrick\\Dropbox\\Jiwook Project Local\\catastrophe-reinsurance-pricing-compound-point-process\\data\\mc-R=100000,seed=123,maturity=3,k=0.2,lambda_r=-0.01,m=0.05,phi_V=-3,sigma_V=0.05,phi_L=-3,sigma_L=0.02,upsilon=0.1,V_0=110,L_0=100,r_0=0.02.npy'\n"
     ]
    },
    {
     "name": "stderr",
     "output_type": "stream",
     "text": [
      "100%|██████████| 100000/100000 [00:00<00:00, 134742.38it/s]\n",
      "100%|██████████| 100000/100000 [00:00<00:00, 122236.37it/s]\n",
      "100%|██████████| 100000/100000 [00:00<00:00, 148454.81it/s]\n",
      "100%|██████████| 100000/100000 [00:01<00:00, 77305.14it/s]\n",
      "100%|██████████| 4/4 [00:03<00:00,  1.06it/s]\n"
     ]
    },
    {
     "name": "stdout",
     "output_type": "stream",
     "text": [
      "Loading 'c:\\Users\\Patrick\\Dropbox\\Jiwook Project Local\\catastrophe-reinsurance-pricing-compound-point-process\\data\\mc-R=100000,seed=123,maturity=3,k=0.2,lambda_r=-0.01,m=0.05,phi_V=-3,sigma_V=0.05,phi_L=-3,sigma_L=0.02,upsilon=0.1,V_0=130,L_0=100,r_0=0.02.npy'\n"
     ]
    },
    {
     "name": "stderr",
     "output_type": "stream",
     "text": [
      "100%|██████████| 100000/100000 [00:00<00:00, 121319.57it/s]\n",
      "100%|██████████| 100000/100000 [00:00<00:00, 124567.36it/s]\n",
      "100%|██████████| 100000/100000 [00:00<00:00, 147173.57it/s]\n",
      "100%|██████████| 100000/100000 [00:01<00:00, 77568.71it/s]\n",
      "100%|██████████| 4/4 [00:03<00:00,  1.05it/s]\n"
     ]
    },
    {
     "name": "stdout",
     "output_type": "stream",
     "text": [
      "Loading 'c:\\Users\\Patrick\\Dropbox\\Jiwook Project Local\\catastrophe-reinsurance-pricing-compound-point-process\\data\\mc-R=100000,seed=123,maturity=3,k=0.2,lambda_r=-0.01,m=0.05,phi_V=-3,sigma_V=0.05,phi_L=-3,sigma_L=0.02,upsilon=0.1,V_0=150,L_0=100,r_0=0.02.npy'\n"
     ]
    },
    {
     "name": "stderr",
     "output_type": "stream",
     "text": [
      "100%|██████████| 100000/100000 [00:00<00:00, 151331.89it/s]\n",
      "100%|██████████| 100000/100000 [00:00<00:00, 147614.41it/s]\n",
      "100%|██████████| 100000/100000 [00:00<00:00, 147732.74it/s]\n",
      "100%|██████████| 100000/100000 [00:01<00:00, 77534.96it/s]\n",
      "100%|██████████| 4/4 [00:03<00:00,  1.14it/s]\n"
     ]
    },
    {
     "name": "stdout",
     "output_type": "stream",
     "text": [
      "Loading 'c:\\Users\\Patrick\\Dropbox\\Jiwook Project Local\\catastrophe-reinsurance-pricing-compound-point-process\\data\\mc-R=100000,seed=123,maturity=3,k=0.2,lambda_r=-0.01,m=0.05,phi_V=-3,sigma_V=0.05,phi_L=-3,sigma_L=0.02,upsilon=0.1,V_0=110,L_0=100,r_0=0.02.npy'\n"
     ]
    },
    {
     "name": "stderr",
     "output_type": "stream",
     "text": [
      "100%|██████████| 100000/100000 [00:00<00:00, 151448.55it/s]\n",
      "100%|██████████| 100000/100000 [00:00<00:00, 140478.86it/s]\n",
      "100%|██████████| 100000/100000 [00:00<00:00, 144396.25it/s]\n",
      "100%|██████████| 100000/100000 [00:01<00:00, 76553.19it/s]\n",
      "100%|██████████| 4/4 [00:03<00:00,  1.15it/s]"
     ]
    },
    {
     "name": "stdout",
     "output_type": "stream",
     "text": [
      "CPU times: total: 4.62 s\n",
      "Wall time: 17 s\n"
     ]
    },
    {
     "name": "stderr",
     "output_type": "stream",
     "text": [
      "\n"
     ]
    }
   ],
   "source": [
    "%%time\n",
    "\n",
    "simulators = [\n",
    "    partial(simulate_dcp_variations, mu_G=mu_G) for mu_G in (0.5, 1.0, 2.0, 3.0)\n",
    "]\n",
    "\n",
    "risky_prices = reinsurance_prices(\n",
    "    R,\n",
    "    seed,\n",
    "    maturity,\n",
    "    k,\n",
    "    eta_r,\n",
    "    m,\n",
    "    phi_V,\n",
    "    sigma_V,\n",
    "    phi_L,\n",
    "    sigma_L,\n",
    "    upsilon,\n",
    "    tuple(int(scale * L_0) for scale in (1.1, 1.3, 1.5)),\n",
    "    L_0,\n",
    "    r_0,\n",
    "    simulators,\n",
    "    mu_C,\n",
    "    sigma_C,\n",
    "    markup,\n",
    ").T\n",
    "\n",
    "safe_prices = reinsurance_prices(\n",
    "    R,\n",
    "    seed,\n",
    "    maturity,\n",
    "    k,\n",
    "    eta_r,\n",
    "    m,\n",
    "    phi_V,\n",
    "    sigma_V,\n",
    "    phi_L,\n",
    "    sigma_L,\n",
    "    upsilon,\n",
    "    tuple(int(scale * L_0) for scale in (1.1, 1.3, 1.5)),\n",
    "    L_0,\n",
    "    r_0,\n",
    "    simulators,\n",
    "    mu_C,\n",
    "    sigma_C,\n",
    "    markup,\n",
    "    defaultable=False,\n",
    ").T\n",
    "\n",
    "risk_premium = safe_prices - risky_prices"
   ]
  },
  {
   "cell_type": "code",
   "execution_count": 23,
   "metadata": {},
   "outputs": [
    {
     "data": {
      "text/plain": [
       "array([[ 4.1942,  4.6414,  4.8367,  0.7219,  0.2747,  0.0794],\n",
       "       [ 9.1782, 10.4914, 11.379 ,  2.7508,  1.4376,  0.5499],\n",
       "       [19.0579, 22.2719, 25.0156,  8.0597,  4.8457,  2.102 ],\n",
       "       [24.9325, 29.305 , 33.245 , 11.4795,  7.1069,  3.1669]])"
      ]
     },
     "execution_count": 23,
     "metadata": {},
     "output_type": "execute_result"
    }
   ],
   "source": [
    "np.hstack([risky_prices, risk_premium]).round(4)"
   ]
  }
 ],
 "metadata": {
  "kernelspec": {
   "display_name": "catbond",
   "language": "python",
   "name": "python3"
  },
  "language_info": {
   "codemirror_mode": {
    "name": "ipython",
    "version": 3
   },
   "file_extension": ".py",
   "mimetype": "text/x-python",
   "name": "python",
   "nbconvert_exporter": "python",
   "pygments_lexer": "ipython3",
   "version": "3.10.8"
  },
  "orig_nbformat": 4,
  "vscode": {
   "interpreter": {
    "hash": "45062e76df119c224491543ade1c775deff687d4d3c0827043d2aedbe8a88908"
   }
  }
 },
 "nbformat": 4,
 "nbformat_minor": 2
}
