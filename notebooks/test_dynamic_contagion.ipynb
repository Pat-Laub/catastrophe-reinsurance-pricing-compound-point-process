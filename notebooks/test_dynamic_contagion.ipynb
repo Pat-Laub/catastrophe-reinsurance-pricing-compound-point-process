{
 "cells": [
  {
   "cell_type": "code",
   "execution_count": 1,
   "metadata": {},
   "outputs": [],
   "source": [
    "# Add the parent directory to the path so that we can import the modules.\n",
    "import os\n",
    "import sys\n",
    "\n",
    "module_path = os.path.abspath(os.path.join(\"..\"))\n",
    "if module_path not in sys.path:\n",
    "    sys.path.append(module_path)\n",
    "\n",
    "from dynamic_contagion import *\n",
    "import matplotlib.pyplot as plt"
   ]
  },
  {
   "cell_type": "code",
   "execution_count": 2,
   "metadata": {},
   "outputs": [],
   "source": [
    "maturity = 3\n",
    "R = 1_000_000"
   ]
  },
  {
   "cell_type": "code",
   "execution_count": 3,
   "metadata": {},
   "outputs": [
    {
     "data": {
      "text/plain": [
       "(1.499944, 1.5017099968640002)"
      ]
     },
     "execution_count": 3,
     "metadata": {},
     "output_type": "execute_result"
    }
   ],
   "source": [
    "# Poisson process\n",
    "def simulate_poisson(rg):\n",
    "    lambda_ = 0.5\n",
    "    return rg.poisson(lambda_ * maturity)\n",
    "\n",
    "\n",
    "rg = np.random.default_rng(123)\n",
    "N_T = [simulate_poisson(rg) for _ in range(R)]\n",
    "np.mean(N_T), np.var(N_T)"
   ]
  },
  {
   "cell_type": "code",
   "execution_count": 4,
   "metadata": {},
   "outputs": [
    {
     "name": "stdout",
     "output_type": "stream",
     "text": [
      "CPU times: total: 5.03 s\n",
      "Wall time: 10.8 s\n"
     ]
    },
    {
     "data": {
      "text/plain": [
       "(1.489966, 1.5453733188439998)"
      ]
     },
     "execution_count": 4,
     "metadata": {},
     "output_type": "execute_result"
    }
   ],
   "source": [
    "%%time\n",
    "# Cox proces\n",
    "def simulate_cox(rg):\n",
    "    lambda0 = 0.49\n",
    "    a = 0.4\n",
    "    rho = 0.4\n",
    "    delta = 1\n",
    "\n",
    "    selfJumpSizeDist = lambda rg: 0\n",
    "    extJumpSizeDist = lambda rg: rg.uniform(0, 0.5)\n",
    "\n",
    "    return simulate_num_dynamic_contagion(\n",
    "        rg, maturity, lambda0, a, rho, delta, selfJumpSizeDist, extJumpSizeDist\n",
    "    )\n",
    "\n",
    "\n",
    "seed = 123\n",
    "rg = np.random.default_rng(seed)\n",
    "N_T = [simulate_cox(rg) for _ in range(R)]\n",
    "np.mean(N_T), np.var(N_T)"
   ]
  },
  {
   "cell_type": "code",
   "execution_count": 5,
   "metadata": {},
   "outputs": [
    {
     "name": "stdout",
     "output_type": "stream",
     "text": [
      "CPU times: total: 1.39 s\n",
      "Wall time: 3.76 s\n"
     ]
    },
    {
     "data": {
      "text/plain": [
       "(1.491009, 1.544681161919001)"
      ]
     },
     "execution_count": 5,
     "metadata": {},
     "output_type": "execute_result"
    }
   ],
   "source": [
    "%%time\n",
    "# Cox proces\n",
    "def simulate_cox(rg):\n",
    "    lambda0 = 0.49\n",
    "    a = 0.4\n",
    "    rho = 0.4\n",
    "    delta = 1\n",
    "\n",
    "    return simulate_num_dynamic_contagion_uniform_jumps(\n",
    "        rg.integers(0, 2**32), maturity, lambda0, a, rho, delta, 0, 0, 0, 0.5\n",
    "    )\n",
    "\n",
    "\n",
    "rg = np.random.default_rng()\n",
    "N_T = [simulate_cox(rg) for _ in range(R)]\n",
    "np.mean(N_T), np.var(N_T)"
   ]
  },
  {
   "cell_type": "code",
   "execution_count": 6,
   "metadata": {},
   "outputs": [
    {
     "name": "stdout",
     "output_type": "stream",
     "text": [
      "CPU times: total: 4.36 s\n",
      "Wall time: 11.6 s\n"
     ]
    },
    {
     "data": {
      "text/plain": [
       "(1.482219, 3.4433478360390013)"
      ]
     },
     "execution_count": 6,
     "metadata": {},
     "output_type": "execute_result"
    }
   ],
   "source": [
    "%%time\n",
    "# Hawkes process\n",
    "def simulate_hawkes(rg):\n",
    "    lambda0 = 0.47\n",
    "    a = 0.26\n",
    "    rho = 0.4\n",
    "    delta = 1\n",
    "\n",
    "    selfJumpSizeDist = lambda rg: rg.uniform()\n",
    "    extJumpSizeDist = lambda rg: 0\n",
    "\n",
    "    return simulate_num_dynamic_contagion(\n",
    "        rg, maturity, lambda0, a, rho, delta, selfJumpSizeDist, extJumpSizeDist\n",
    "    )\n",
    "\n",
    "\n",
    "rg = np.random.default_rng(123)\n",
    "N_T = [simulate_hawkes(rg) for _ in range(R)]\n",
    "np.mean(N_T), np.var(N_T)"
   ]
  },
  {
   "cell_type": "code",
   "execution_count": 7,
   "metadata": {},
   "outputs": [
    {
     "name": "stdout",
     "output_type": "stream",
     "text": [
      "CPU times: total: 1.56 s\n",
      "Wall time: 3.5 s\n"
     ]
    },
    {
     "data": {
      "text/plain": [
       "(1.481, 3.4552970000000007)"
      ]
     },
     "execution_count": 7,
     "metadata": {},
     "output_type": "execute_result"
    }
   ],
   "source": [
    "%%time\n",
    "# Hawkes process\n",
    "def simulate_hawkes(rg):\n",
    "    lambda0 = 0.47\n",
    "    a = 0.26\n",
    "    rho = 0.4\n",
    "    delta = 1\n",
    "\n",
    "    return simulate_num_dynamic_contagion_uniform_jumps(\n",
    "        rg.integers(0, 2**32), maturity, lambda0, a, rho, delta, 0.0, 1.0, 0.0, 0.0\n",
    "    )\n",
    "\n",
    "\n",
    "rg = np.random.default_rng(123)\n",
    "N_T = [simulate_hawkes(rg) for _ in range(R)]\n",
    "np.mean(N_T), np.var(N_T)"
   ]
  },
  {
   "cell_type": "code",
   "execution_count": 8,
   "metadata": {},
   "outputs": [
    {
     "name": "stdout",
     "output_type": "stream",
     "text": [
      "CPU times: total: 5.88 s\n",
      "Wall time: 12.8 s\n"
     ]
    },
    {
     "data": {
      "text/plain": [
       "(1.490998, 3.399946963996)"
      ]
     },
     "execution_count": 8,
     "metadata": {},
     "output_type": "execute_result"
    }
   ],
   "source": [
    "%%time\n",
    "# Dynamic contagion process\n",
    "def simulate_dcp(rg):\n",
    "    lambda0 = 0.29\n",
    "    a = 0.26\n",
    "    rho = 0.4\n",
    "    delta = 1\n",
    "\n",
    "    selfJumpSizeDist = lambda rg: rg.uniform()\n",
    "    extJumpSizeDist = lambda rg: rg.uniform(0, 0.5)\n",
    "\n",
    "    return simulate_num_dynamic_contagion(\n",
    "        rg, maturity, lambda0, a, rho, delta, selfJumpSizeDist, extJumpSizeDist\n",
    "    )\n",
    "\n",
    "\n",
    "rg = np.random.default_rng(123)\n",
    "N_T = [simulate_dcp(rg) for _ in range(R)]\n",
    "np.mean(N_T), np.var(N_T)"
   ]
  },
  {
   "cell_type": "code",
   "execution_count": 9,
   "metadata": {},
   "outputs": [
    {
     "name": "stdout",
     "output_type": "stream",
     "text": [
      "CPU times: total: 1.53 s\n",
      "Wall time: 3.34 s\n"
     ]
    },
    {
     "data": {
      "text/plain": [
       "(1.491757, 3.4296420529510003)"
      ]
     },
     "execution_count": 9,
     "metadata": {},
     "output_type": "execute_result"
    }
   ],
   "source": [
    "%%time\n",
    "# Dynamic contagion process\n",
    "def simulate_dcp(rg):\n",
    "    lambda0 = 0.29\n",
    "    a = 0.26\n",
    "    rho = 0.4\n",
    "    delta = 1\n",
    "\n",
    "    return simulate_num_dynamic_contagion_uniform_jumps(\n",
    "        rg.integers(0, 2**32), maturity, lambda0, a, rho, delta, 0.0, 1.0, 0.0, 0.5\n",
    "    )\n",
    "\n",
    "\n",
    "rg = np.random.default_rng(123)\n",
    "N_T = [simulate_dcp(rg) for _ in range(R)]\n",
    "np.mean(N_T), np.var(N_T)"
   ]
  }
 ],
 "metadata": {
  "jupytext": {
   "formats": "ipynb,auto:light"
  },
  "kernelspec": {
   "display_name": "catbond",
   "language": "python",
   "name": "python3"
  },
  "language_info": {
   "codemirror_mode": {
    "name": "ipython",
    "version": 3
   },
   "file_extension": ".py",
   "mimetype": "text/x-python",
   "name": "python",
   "nbconvert_exporter": "python",
   "pygments_lexer": "ipython3",
   "version": "3.10.8"
  },
  "vscode": {
   "interpreter": {
    "hash": "45062e76df119c224491543ade1c775deff687d4d3c0827043d2aedbe8a88908"
   }
  }
 },
 "nbformat": 4,
 "nbformat_minor": 2
}
