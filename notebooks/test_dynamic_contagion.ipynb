{
 "cells": [
  {
   "cell_type": "code",
   "execution_count": 1,
   "metadata": {},
   "outputs": [],
   "source": [
    "# Add the parent directory to the path so that we can import the modules.\n",
    "import os\n",
    "import sys\n",
    "module_path = os.path.abspath(os.path.join('..'))\n",
    "if module_path not in sys.path:\n",
    "    sys.path.append(module_path)\n",
    "\n",
    "from dynamic_contagion import *\n",
    "import matplotlib.pyplot as plt"
   ]
  },
  {
   "cell_type": "code",
   "execution_count": 2,
   "metadata": {},
   "outputs": [],
   "source": [
    "maturity = 3\n",
    "R = 1_000_000"
   ]
  },
  {
   "cell_type": "code",
   "execution_count": 3,
   "metadata": {},
   "outputs": [
    {
     "data": {
      "text/plain": [
       "(1.499944, 1.5017099968640002)"
      ]
     },
     "execution_count": 3,
     "metadata": {},
     "output_type": "execute_result"
    }
   ],
   "source": [
    "# Poisson process\n",
    "def simulate_poisson(rg):\n",
    "    lambda_ = 0.5\n",
    "    return rg.poisson(lambda_ * maturity)\n",
    "\n",
    "rg = np.random.default_rng(123)\n",
    "N_T = [simulate_poisson(rg) for _ in range(R)]\n",
    "np.mean(N_T), np.var(N_T)"
   ]
  },
  {
   "cell_type": "code",
   "execution_count": 4,
   "metadata": {},
   "outputs": [
    {
     "data": {
      "text/plain": [
       "(1.489966, 1.5453733188439998)"
      ]
     },
     "execution_count": 4,
     "metadata": {},
     "output_type": "execute_result"
    }
   ],
   "source": [
    "# Cox proces\n",
    "def simulate_cox(rg):\n",
    "    lambda0 = 0.49\n",
    "    a = 0.4\n",
    "    rho = 0.4\n",
    "    delta = 1\n",
    "\n",
    "    selfJumpSizeDist = lambda rg: 0\n",
    "    extJumpSizeDist = lambda rg: rg.uniform(0, 0.5)\n",
    "\n",
    "    return simulate_num_dynamic_contagion(rg, maturity,\n",
    "        lambda0, a, rho, delta,\n",
    "        selfJumpSizeDist, extJumpSizeDist)\n",
    "\n",
    "rg = np.random.default_rng(123)\n",
    "N_T = [simulate_cox(rg) for _ in range(R)]\n",
    "np.mean(N_T), np.var(N_T)"
   ]
  },
  {
   "cell_type": "code",
   "execution_count": 5,
   "metadata": {},
   "outputs": [
    {
     "data": {
      "text/plain": [
       "(1.482219, 3.4433478360390013)"
      ]
     },
     "execution_count": 5,
     "metadata": {},
     "output_type": "execute_result"
    }
   ],
   "source": [
    "# Hawkes process\n",
    "def simulate_hawkes(rg):\n",
    "    lambda0 = 0.47\n",
    "    a = 0.26\n",
    "    rho = 0.4\n",
    "    delta = 1\n",
    "\n",
    "    selfJumpSizeDist = lambda rg: rg.uniform()\n",
    "    extJumpSizeDist = lambda rg: 0\n",
    "\n",
    "    return simulate_num_dynamic_contagion(rg, maturity,\n",
    "        lambda0, a, rho, delta,\n",
    "        selfJumpSizeDist, extJumpSizeDist)\n",
    "\n",
    "rg = np.random.default_rng(123)\n",
    "N_T = [simulate_hawkes(rg) for _ in range(R)]\n",
    "np.mean(N_T), np.var(N_T)"
   ]
  },
  {
   "cell_type": "code",
   "execution_count": 6,
   "metadata": {},
   "outputs": [
    {
     "data": {
      "text/plain": [
       "(1.490998, 3.399946963996)"
      ]
     },
     "execution_count": 6,
     "metadata": {},
     "output_type": "execute_result"
    }
   ],
   "source": [
    "# Dynamic contagion process\n",
    "def simulate_dcp(rg):\n",
    "    lambda0 = 0.29\n",
    "    a = 0.26\n",
    "    rho = 0.4\n",
    "    delta = 1\n",
    "\n",
    "    selfJumpSizeDist = lambda rg: rg.uniform()\n",
    "    extJumpSizeDist = lambda rg: rg.uniform(0, 0.5)\n",
    "\n",
    "    return simulate_num_dynamic_contagion(rg, maturity,\n",
    "        lambda0, a, rho, delta,\n",
    "        selfJumpSizeDist, extJumpSizeDist)\n",
    "\n",
    "rg = np.random.default_rng(123)\n",
    "N_T = [simulate_dcp(rg) for _ in range(R)]\n",
    "np.mean(N_T), np.var(N_T)"
   ]
  }
 ],
 "metadata": {
  "jupytext": {
   "formats": "ipynb,auto:light"
  },
  "kernelspec": {
   "display_name": "catbond",
   "language": "python",
   "name": "python3"
  },
  "language_info": {
   "codemirror_mode": {
    "name": "ipython",
    "version": 3
   },
   "file_extension": ".py",
   "mimetype": "text/x-python",
   "name": "python",
   "nbconvert_exporter": "python",
   "pygments_lexer": "ipython3",
   "version": "3.10.8"
  },
  "vscode": {
   "interpreter": {
    "hash": "45062e76df119c224491543ade1c775deff687d4d3c0827043d2aedbe8a88908"
   }
  }
 },
 "nbformat": 4,
 "nbformat_minor": 2
}
