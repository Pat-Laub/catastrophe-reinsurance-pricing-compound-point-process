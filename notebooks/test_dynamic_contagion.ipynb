{
 "cells": [
  {
   "cell_type": "code",
   "execution_count": null,
   "metadata": {},
   "outputs": [],
   "source": [
    "import matplotlib.pyplot as plt\n",
    "\n",
    "import __module_import__\n",
    "from dynamic_contagion import *"
   ]
  },
  {
   "cell_type": "code",
   "execution_count": null,
   "metadata": {},
   "outputs": [],
   "source": [
    "maturity = 3\n",
    "R = 1_000_000"
   ]
  },
  {
   "cell_type": "code",
   "execution_count": null,
   "metadata": {},
   "outputs": [
    {
     "data": {
      "text/plain": [
       "(1.499944, 1.5017099968640002)"
      ]
     },
     "execution_count": null,
     "metadata": {},
     "output_type": "execute_result"
    }
   ],
   "source": [
    "# Poisson process\n",
    "def simulate_poisson(rg):\n",
    "    lambda_ = 0.5\n",
    "    return rg.poisson(lambda_ * maturity)\n",
    "\n",
    "\n",
    "rg = np.random.default_rng(123)\n",
    "N_T = [simulate_poisson(rg) for _ in range(R)]\n",
    "np.mean(N_T), np.var(N_T)"
   ]
  },
  {
   "cell_type": "code",
   "execution_count": null,
   "metadata": {},
   "outputs": [
    {
     "name": "stdout",
     "output_type": "stream",
     "text": [
      "CPU times: user 7.26 s, sys: 47.2 ms, total: 7.31 s\n",
      "Wall time: 7.31 s\n"
     ]
    },
    {
     "data": {
      "text/plain": [
       "(1.489966, 1.5453733188439998)"
      ]
     },
     "execution_count": null,
     "metadata": {},
     "output_type": "execute_result"
    }
   ],
   "source": [
    "%%time\n",
    "# Cox proces\n",
    "def simulate_cox_slow(rg):\n",
    "    lambda0 = 0.49\n",
    "    a = 0.4\n",
    "    rho = 0.4\n",
    "    delta = 1\n",
    "\n",
    "    selfJumpSizeDist = lambda rg: 0\n",
    "    extJumpSizeDist = lambda rg: rg.uniform(0, 0.5)\n",
    "\n",
    "    return simulate_num_dynamic_contagion(rg, maturity, lambda0, a, rho, delta, selfJumpSizeDist, extJumpSizeDist)\n",
    "\n",
    "\n",
    "seed = 123\n",
    "rg = np.random.default_rng(seed)\n",
    "N_T = [simulate_cox_slow(rg) for _ in range(R)]\n",
    "np.mean(N_T), np.var(N_T)"
   ]
  },
  {
   "cell_type": "code",
   "execution_count": null,
   "metadata": {},
   "outputs": [
    {
     "name": "stdout",
     "output_type": "stream",
     "text": [
      "CPU times: user 2.88 s, sys: 48.6 ms, total: 2.93 s\n",
      "Wall time: 3.7 s\n"
     ]
    },
    {
     "data": {
      "text/plain": [
       "(1.491437, 1.5459826750310002)"
      ]
     },
     "execution_count": null,
     "metadata": {},
     "output_type": "execute_result"
    }
   ],
   "source": [
    "%%time\n",
    "# Cox proces\n",
    "def simulate_cox(rg):\n",
    "    lambda0 = 0.49\n",
    "    a = 0.4\n",
    "    rho = 0.4\n",
    "    delta = 1\n",
    "\n",
    "    return simulate_num_dynamic_contagion_uniform_jumps(\n",
    "        rg.integers(0, 2**32), maturity, lambda0, a, rho, delta, 0, 0, 0, 0.5\n",
    "    )\n",
    "\n",
    "\n",
    "rg = np.random.default_rng()\n",
    "N_T = [simulate_cox(rg) for _ in range(R)]\n",
    "np.mean(N_T), np.var(N_T)"
   ]
  },
  {
   "cell_type": "code",
   "execution_count": null,
   "metadata": {},
   "outputs": [
    {
     "name": "stdout",
     "output_type": "stream",
     "text": [
      "CPU times: user 7.86 s, sys: 48.9 ms, total: 7.91 s\n",
      "Wall time: 7.91 s\n"
     ]
    },
    {
     "data": {
      "text/plain": [
       "(1.482219, 3.4433478360390013)"
      ]
     },
     "execution_count": null,
     "metadata": {},
     "output_type": "execute_result"
    }
   ],
   "source": [
    "%%time\n",
    "# Hawkes process\n",
    "def simulate_hawkes_slow(rg):\n",
    "    lambda0 = 0.47\n",
    "    a = 0.26\n",
    "    rho = 0.4\n",
    "    delta = 1\n",
    "\n",
    "    selfJumpSizeDist = lambda rg: rg.uniform()\n",
    "    extJumpSizeDist = lambda rg: 0\n",
    "\n",
    "    return simulate_num_dynamic_contagion(rg, maturity, lambda0, a, rho, delta, selfJumpSizeDist, extJumpSizeDist)\n",
    "\n",
    "\n",
    "rg = np.random.default_rng(123)\n",
    "N_T = [simulate_hawkes_slow(rg) for _ in range(R)]\n",
    "np.mean(N_T), np.var(N_T)"
   ]
  },
  {
   "cell_type": "code",
   "execution_count": null,
   "metadata": {},
   "outputs": [
    {
     "name": "stdout",
     "output_type": "stream",
     "text": [
      "CPU times: user 2.65 s, sys: 25.3 ms, total: 2.67 s\n",
      "Wall time: 2.67 s\n"
     ]
    },
    {
     "data": {
      "text/plain": [
       "(1.481, 3.4552970000000007)"
      ]
     },
     "execution_count": null,
     "metadata": {},
     "output_type": "execute_result"
    }
   ],
   "source": [
    "%%time\n",
    "# Hawkes process\n",
    "def simulate_hawkes(rg):\n",
    "    lambda0 = 0.47\n",
    "    a = 0.26\n",
    "    rho = 0.4\n",
    "    delta = 1\n",
    "\n",
    "    return simulate_num_dynamic_contagion_uniform_jumps(\n",
    "        rg.integers(0, 2**32), maturity, lambda0, a, rho, delta, 0.0, 1.0, 0.0, 0.0\n",
    "    )\n",
    "\n",
    "\n",
    "rg = np.random.default_rng(123)\n",
    "N_T = [simulate_hawkes(rg) for _ in range(R)]\n",
    "np.mean(N_T), np.var(N_T)"
   ]
  },
  {
   "cell_type": "code",
   "execution_count": null,
   "metadata": {},
   "outputs": [
    {
     "name": "stdout",
     "output_type": "stream",
     "text": [
      "CPU times: user 9.12 s, sys: 78.1 ms, total: 9.2 s\n",
      "Wall time: 9.21 s\n"
     ]
    },
    {
     "data": {
      "text/plain": [
       "(1.490998, 3.399946963996)"
      ]
     },
     "execution_count": null,
     "metadata": {},
     "output_type": "execute_result"
    }
   ],
   "source": [
    "%%time\n",
    "# Dynamic contagion process\n",
    "def simulate_dcp_slow(rg):\n",
    "    lambda0 = 0.29\n",
    "    a = 0.26\n",
    "    rho = 0.4\n",
    "    delta = 1\n",
    "\n",
    "    selfJumpSizeDist = lambda rg: rg.uniform()\n",
    "    extJumpSizeDist = lambda rg: rg.uniform(0, 0.5)\n",
    "\n",
    "    return simulate_num_dynamic_contagion(rg, maturity, lambda0, a, rho, delta, selfJumpSizeDist, extJumpSizeDist)\n",
    "\n",
    "\n",
    "rg = np.random.default_rng(123)\n",
    "N_T = [simulate_dcp_slow(rg) for _ in range(R)]\n",
    "np.mean(N_T), np.var(N_T)"
   ]
  },
  {
   "cell_type": "code",
   "execution_count": null,
   "metadata": {},
   "outputs": [
    {
     "name": "stdout",
     "output_type": "stream",
     "text": [
      "CPU times: user 2.56 s, sys: 21.3 ms, total: 2.58 s\n",
      "Wall time: 2.58 s\n"
     ]
    },
    {
     "data": {
      "text/plain": [
       "(1.491757, 3.4296420529510003)"
      ]
     },
     "execution_count": null,
     "metadata": {},
     "output_type": "execute_result"
    }
   ],
   "source": [
    "%%time\n",
    "# Dynamic contagion process\n",
    "def simulate_dcp(rg):\n",
    "    lambda0 = 0.29\n",
    "    a = 0.26\n",
    "    rho = 0.4\n",
    "    delta = 1\n",
    "\n",
    "    return simulate_num_dynamic_contagion_uniform_jumps(\n",
    "        rg.integers(0, 2**32), maturity, lambda0, a, rho, delta, 0.0, 1.0, 0.0, 0.5\n",
    "    )\n",
    "\n",
    "\n",
    "rg = np.random.default_rng(123)\n",
    "N_T = [simulate_dcp(rg) for _ in range(R)]\n",
    "np.mean(N_T), np.var(N_T)"
   ]
  }
 ],
 "metadata": {
  "jupytext": {
   "formats": "ipynb,py:light"
  },
  "kernelspec": {
   "display_name": "Python [conda env:catbond]",
   "language": "python",
   "name": "conda-env-catbond-py"
  }
 },
 "nbformat": 4,
 "nbformat_minor": 2
}
