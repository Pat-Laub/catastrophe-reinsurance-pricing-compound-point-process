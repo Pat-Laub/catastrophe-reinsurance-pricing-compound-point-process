{
 "cells": [
  {
   "cell_type": "code",
   "execution_count": 1,
   "metadata": {},
   "outputs": [],
   "source": [
    "%config InlineBackend.figure_format='retina'\n",
    "\n",
    "# Add the parent directory to the path so that we can import the modules.\n",
    "import os\n",
    "import sys\n",
    "\n",
    "module_path = os.path.abspath(os.path.join(\"..\"))\n",
    "if module_path not in sys.path:\n",
    "    sys.path.append(module_path)\n",
    "\n",
    "from market_conditions import *\n",
    "from dynamic_contagion import *\n",
    "from reinsurance import *\n",
    "\n",
    "import matplotlib.pyplot as plt\n",
    "import pandas as pd"
   ]
  },
  {
   "cell_type": "code",
   "execution_count": 2,
   "metadata": {},
   "outputs": [],
   "source": [
    "# Other parameters\n",
    "maturity = 3\n",
    "markup = 0.4\n",
    "R = int(1e5)\n",
    "seed = 123\n",
    "\n",
    "# Asset parameters\n",
    "V_0 = 130\n",
    "phi_V = -3  # * (1.3) # = V0 / L0\n",
    "sigma_V = 0.05\n",
    "\n",
    "# Liability parameters\n",
    "L_0 = 100\n",
    "phi_L = -3\n",
    "sigma_L = 0.02\n",
    "\n",
    "# Interest rate parameters\n",
    "r_0 = 0.02\n",
    "k = 0.2\n",
    "m = 0.05  # 0.5\n",
    "upsilon = 0.1\n",
    "eta_r = -0.01\n",
    "\n",
    "# Catastrophe loss size distribution parameters\n",
    "mu_C = 2\n",
    "sigma_C = 0.5"
   ]
  },
  {
   "cell_type": "code",
   "execution_count": 3,
   "metadata": {},
   "outputs": [],
   "source": [
    "# Poisson process\n",
    "def simulate_poisson(seed):\n",
    "    lambda_ = 0.5\n",
    "    rg = rnd.default_rng(seed)\n",
    "    return rg.poisson(lambda_ * maturity)\n",
    "\n",
    "\n",
    "# Cox proces\n",
    "def simulate_cox(seed):\n",
    "    lambda0 = 0.49\n",
    "    a = 0.4\n",
    "    rho = 0.4\n",
    "    delta = 1\n",
    "\n",
    "    return simulate_num_dynamic_contagion_uniform_jumps(\n",
    "        seed, maturity, lambda0, a, rho, delta, 0.0, 0.0, 0.0, 0.5\n",
    "    )\n",
    "\n",
    "\n",
    "# Hawkes process\n",
    "def simulate_hawkes(seed):\n",
    "    lambda0 = 0.47\n",
    "    a = 0.26\n",
    "    rho = 0.4\n",
    "    delta = 1\n",
    "\n",
    "    return simulate_num_dynamic_contagion_uniform_jumps(\n",
    "        seed, maturity, lambda0, a, rho, delta, 0.0, 1.0, 0.0, 0.0\n",
    "    )\n",
    "\n",
    "\n",
    "# Dynamic contagion process\n",
    "def simulate_dcp(seed):\n",
    "    lambda0 = 0.29\n",
    "    a = 0.26\n",
    "    rho = 0.4\n",
    "    delta = 1\n",
    "\n",
    "    return simulate_num_dynamic_contagion_uniform_jumps(\n",
    "        seed, maturity, lambda0, a, rho, delta, 0.0, 1.0, 0.0, 0.5\n",
    "    )"
   ]
  },
  {
   "cell_type": "code",
   "execution_count": 4,
   "metadata": {},
   "outputs": [
    {
     "name": "stdout",
     "output_type": "stream",
     "text": [
      "CPU times: user 3.34 s, sys: 162 ms, total: 3.5 s\n",
      "Wall time: 3.5 s\n"
     ]
    }
   ],
   "source": [
    "%%time\n",
    "\n",
    "catbond_fn = lambda C_T, K, F_cat: np.minimum(np.maximum(C_T - K, 0), F_cat)\n",
    "\n",
    "safe_prices = reinsurance_prices(\n",
    "    R,\n",
    "    seed,\n",
    "    maturity,\n",
    "    k,\n",
    "    eta_r,\n",
    "    m,\n",
    "    phi_V,\n",
    "    sigma_V,\n",
    "    phi_L,\n",
    "    sigma_L,\n",
    "    upsilon,\n",
    "    V_0,\n",
    "    L_0,\n",
    "    r_0,\n",
    "    simulate_poisson,\n",
    "    mu_C,\n",
    "    sigma_C,\n",
    "    markup,\n",
    "    As = 10.0,\n",
    "    Ms = 70.0,\n",
    "\tcatbond=True,\n",
    "    K = 40.0,\n",
    "    psi_T = catbond_fn,\n",
    "    F_cat = 100.0\n",
    ")\n",
    "\n",
    "risky_prices = reinsurance_prices(\n",
    "    R,\n",
    "    seed,\n",
    "    maturity,\n",
    "    k,\n",
    "    eta_r,\n",
    "    m,\n",
    "    phi_V,\n",
    "    sigma_V,\n",
    "    phi_L,\n",
    "    sigma_L,\n",
    "    upsilon,\n",
    "    V_0,\n",
    "    L_0,\n",
    "    r_0,\n",
    "    simulate_poisson,\n",
    "    mu_C,\n",
    "    sigma_C,\n",
    "    markup,\n",
    ")\n",
    "\n",
    "\n",
    "catbond_premium = safe_prices - risky_prices"
   ]
  },
  {
   "cell_type": "code",
   "execution_count": 5,
   "metadata": {},
   "outputs": [
    {
     "data": {
      "text/plain": [
       "7.321323283066884"
      ]
     },
     "execution_count": 5,
     "metadata": {},
     "output_type": "execute_result"
    }
   ],
   "source": [
    "safe_prices"
   ]
  },
  {
   "cell_type": "code",
   "execution_count": 6,
   "metadata": {},
   "outputs": [
    {
     "data": {
      "text/plain": [
       "2.801521070833136"
      ]
     },
     "execution_count": 6,
     "metadata": {},
     "output_type": "execute_result"
    }
   ],
   "source": [
    "risky_prices"
   ]
  },
  {
   "cell_type": "code",
   "execution_count": 7,
   "metadata": {},
   "outputs": [
    {
     "data": {
      "text/plain": [
       "4.519802212233748"
      ]
     },
     "execution_count": 7,
     "metadata": {},
     "output_type": "execute_result"
    }
   ],
   "source": [
    "catbond_premium"
   ]
  },
  {
   "cell_type": "code",
   "execution_count": 8,
   "metadata": {},
   "outputs": [],
   "source": [
    "delta_0 = catbond_prices(\n",
    "    R,\n",
    "    seed,\n",
    "    maturity,\n",
    "    k,\n",
    "    eta_r,\n",
    "    m,\n",
    "    phi_V,\n",
    "    sigma_V,\n",
    "    phi_L,\n",
    "    sigma_L,\n",
    "    upsilon,\n",
    "    V_0,\n",
    "    L_0,\n",
    "    r_0,\n",
    "    simulate_poisson,\n",
    "    mu_C,\n",
    "    sigma_C,\n",
    "    markup = 0.0,\n",
    "    As = 10.0,\n",
    "    Ms = 70.0,\n",
    "    K = 40.0,\n",
    "    psi_T = catbond_fn,\n",
    "    F_cat = 100.0\n",
    ")\n"
   ]
  },
  {
   "cell_type": "code",
   "execution_count": 9,
   "metadata": {},
   "outputs": [
    {
     "data": {
      "text/plain": [
       "91.86681212219811"
      ]
     },
     "execution_count": 9,
     "metadata": {},
     "output_type": "execute_result"
    }
   ],
   "source": [
    "delta_0"
   ]
  },
  {
   "cell_type": "code",
   "execution_count": 10,
   "metadata": {},
   "outputs": [
    {
     "name": "stdout",
     "output_type": "stream",
     "text": [
      "CPU times: user 8.14 s, sys: 340 ms, total: 8.48 s\n",
      "Wall time: 8.48 s\n"
     ]
    }
   ],
   "source": [
    "%%time\n",
    "\n",
    "face_values = np.linspace(0.0, 2, 5)\n",
    "present_values = np.empty_like(face_values)\n",
    "\n",
    "for i, face_value in enumerate(face_values):\n",
    "\tpresent_values[i] = reinsurance_prices(\n",
    "\t\tR,\n",
    "\t\tseed,\n",
    "\t\tmaturity,\n",
    "\t\tk,\n",
    "\t\teta_r,\n",
    "\t\tm,\n",
    "\t\tphi_V,\n",
    "\t\tsigma_V,\n",
    "\t\tphi_L,\n",
    "\t\tsigma_L,\n",
    "\t\tupsilon,\n",
    "\t\tV_0,\n",
    "\t\tL_0,\n",
    "\t\tr_0,\n",
    "\t\tsimulate_poisson,\n",
    "\t\tmu_C,\n",
    "\t\tsigma_C,\n",
    "\t\tmarkup = 0.0,\n",
    "\t\tAs = 10.0,\n",
    "\t\tMs = 70.0,\n",
    "\t\tcatbond=True,\n",
    "\t\tK = 10.0,\n",
    "\t\tpsi_T = catbond_fn,\n",
    "\t\tF_cat = face_value\n",
    "\t)"
   ]
  },
  {
   "cell_type": "code",
   "execution_count": 11,
   "metadata": {},
   "outputs": [
    {
     "data": {
      "text/plain": [
       "array([5.18608276, 5.19037674, 5.19450239, 5.19847806, 5.20230987])"
      ]
     },
     "execution_count": 11,
     "metadata": {},
     "output_type": "execute_result"
    }
   ],
   "source": [
    "present_values"
   ]
  },
  {
   "cell_type": "code",
   "execution_count": 12,
   "metadata": {},
   "outputs": [
    {
     "data": {
      "image/png": "[encoded data removed]",
      "text/plain": [
       "<Figure size 640x480 with 1 Axes>"
      ]
     },
     "metadata": {
      "image/png": {
       "height": 413,
       "width": 565
      }
     },
     "output_type": "display_data"
    }
   ],
   "source": [
    "plt.plot(face_values, present_values);\n",
    "plt.plot(face_values, present_values, ls=\"--\");\n",
    "# plt.plot(face_values, face_values / face_values[-1] * present_values[-1], ls=\"--\")"
   ]
  },
  {
   "cell_type": "code",
   "execution_count": 13,
   "metadata": {},
   "outputs": [
    {
     "data": {
      "text/plain": [
       "0.0"
      ]
     },
     "execution_count": 13,
     "metadata": {},
     "output_type": "execute_result"
    }
   ],
   "source": [
    "free_bond = catbond_prices(\n",
    "        R,\n",
    "        seed,\n",
    "        maturity,\n",
    "        k,\n",
    "        eta_r,\n",
    "        m,\n",
    "        phi_V,\n",
    "        sigma_V,\n",
    "        phi_L,\n",
    "        sigma_L,\n",
    "        upsilon,\n",
    "        V_0,\n",
    "        L_0,\n",
    "        r_0,\n",
    "        simulate_poisson,\n",
    "        mu_C,\n",
    "        sigma_C,\n",
    "        markup = 0.0,\n",
    "        As = 10.0,\n",
    "        Ms = 70.0,\n",
    "        K = 70.0,\n",
    "        psi_T = catbond_fn,\n",
    "        F_cat = 0.0\n",
    "    )\n",
    "\t\n",
    "free_bond"
   ]
  },
  {
   "cell_type": "code",
   "execution_count": 14,
   "metadata": {},
   "outputs": [
    {
     "name": "stdout",
     "output_type": "stream",
     "text": [
      "CPU times: user 7.94 s, sys: 353 ms, total: 8.29 s\n",
      "Wall time: 8.29 s\n"
     ]
    }
   ],
   "source": [
    "%%time\n",
    "face_values = np.linspace(0.0, 2, 5)\n",
    "deltas = np.empty_like(face_values)\n",
    "\n",
    "for i, face_value in enumerate(face_values):\n",
    "    deltas[i] = catbond_prices(\n",
    "        R,\n",
    "        seed,\n",
    "        maturity,\n",
    "        k,\n",
    "        eta_r,\n",
    "        m,\n",
    "        phi_V,\n",
    "        sigma_V,\n",
    "        phi_L,\n",
    "        sigma_L,\n",
    "        upsilon,\n",
    "        V_0,\n",
    "        L_0,\n",
    "        r_0,\n",
    "        simulate_poisson,\n",
    "        mu_C,\n",
    "        sigma_C,\n",
    "        markup = 0.0,\n",
    "        As = 10.0,\n",
    "        Ms = 70.0,\n",
    "        K = 10.0,\n",
    "        psi_T = catbond_fn,\n",
    "        F_cat = face_value\n",
    "    )"
   ]
  },
  {
   "cell_type": "code",
   "execution_count": 15,
   "metadata": {},
   "outputs": [
    {
     "data": {
      "text/plain": [
       "array([0.        , 0.23142451, 0.47090613, 0.71827594, 0.97308058])"
      ]
     },
     "execution_count": 15,
     "metadata": {},
     "output_type": "execute_result"
    }
   ],
   "source": [
    "deltas"
   ]
  },
  {
   "cell_type": "code",
   "execution_count": 16,
   "metadata": {},
   "outputs": [
    {
     "data": {
      "text/plain": [
       "[<matplotlib.lines.Line2D at 0x137af11e0>]"
      ]
     },
     "execution_count": 16,
     "metadata": {},
     "output_type": "execute_result"
    },
    {
     "data": {
      "image/png": "[encoded data removed]",
      "text/plain": [
       "<Figure size 640x480 with 1 Axes>"
      ]
     },
     "metadata": {
      "image/png": {
       "height": 413,
       "width": 556
      }
     },
     "output_type": "display_data"
    }
   ],
   "source": [
    "plt.plot(face_values, deltas);\n",
    "plt.plot(face_values, face_values, ls=\"--\")\n",
    "plt.plot(face_values, face_values / face_values[-1] * deltas[-1], ls=\"--\")"
   ]
  },
  {
   "attachments": {},
   "cell_type": "markdown",
   "metadata": {},
   "source": [
    "## Attempt the optimisation problem (Poisson)"
   ]
  },
  {
   "cell_type": "code",
   "execution_count": 17,
   "metadata": {},
   "outputs": [],
   "source": [
    "catbond_markup = 0.05\n",
    "\n",
    "def net_present_value(K, F_cat):\n",
    "\treinsurance_pv = reinsurance_prices(\n",
    "\t\tR,\n",
    "\t\tseed,\n",
    "\t\tmaturity,\n",
    "\t\tk,\n",
    "\t\teta_r,\n",
    "\t\tm,\n",
    "\t\tphi_V,\n",
    "\t\tsigma_V,\n",
    "\t\tphi_L,\n",
    "\t\tsigma_L,\n",
    "\t\tupsilon,\n",
    "\t\tV_0,\n",
    "\t\tL_0,\n",
    "\t\tr_0,\n",
    "\t\tsimulate_poisson,\n",
    "\t\tmu_C,\n",
    "\t\tsigma_C,\n",
    "\t\tmarkup = 0.0,\n",
    "\t\tAs = 10.0,\n",
    "\t\tMs = 70.0,\n",
    "\t\tcatbond=True,\n",
    "\t\tK = K,\n",
    "\t\tpsi_T = catbond_fn,\n",
    "\t\tF_cat = F_cat\n",
    "\t)\n",
    "\n",
    "\tdelta_0 = catbond_prices(\n",
    "\t\tR,\n",
    "\t\tseed,\n",
    "\t\tmaturity,\n",
    "\t\tk,\n",
    "\t\teta_r,\n",
    "\t\tm,\n",
    "\t\tphi_V,\n",
    "\t\tsigma_V,\n",
    "\t\tphi_L,\n",
    "\t\tsigma_L,\n",
    "\t\tupsilon,\n",
    "\t\tV_0,\n",
    "\t\tL_0,\n",
    "\t\tr_0,\n",
    "\t\tsimulate_poisson,\n",
    "\t\tmu_C,\n",
    "\t\tsigma_C,\n",
    "\t\tmarkup = 0.0,\n",
    "\t\tAs = 10.0,\n",
    "\t\tMs = 70.0,\n",
    "\t\tK = K,\n",
    "\t\tpsi_T = catbond_fn,\n",
    "\t\tF_cat = F_cat\n",
    "\t)\n",
    "\n",
    "\treturn markup * reinsurance_pv - catbond_markup * delta_0"
   ]
  },
  {
   "cell_type": "code",
   "execution_count": 18,
   "metadata": {},
   "outputs": [
    {
     "data": {
      "text/plain": [
       "-2.226489851183604"
      ]
     },
     "execution_count": 18,
     "metadata": {},
     "output_type": "execute_result"
    }
   ],
   "source": [
    "net_present_value(10.0, 100.0)"
   ]
  },
  {
   "cell_type": "code",
   "execution_count": 19,
   "metadata": {},
   "outputs": [
    {
     "name": "stdout",
     "output_type": "stream",
     "text": [
      "K = 10.0, F_cat = 0.0, NPV = 2.0744331036659216\n",
      "K = 10.0, F_cat = 0.1, NPV = 2.0724985711570327\n",
      "K = 10.0, F_cat = 0.5, NPV = 2.0645794708372254\n",
      "K = 10.0, F_cat = 1.0, NPV = 2.0542556511672307\n",
      "K = 10.0, F_cat = 5.0, NPV = 1.9562736838144672\n",
      "K = 10.0, F_cat = 10.0, NPV = 1.8010579501106805\n",
      "K = 10.0, F_cat = 20.0, NPV = 1.4174625557848697\n",
      "K = 10.0, F_cat = 30.0, NPV = 0.9841427100846039\n",
      "K = 10.0, F_cat = 40.0, NPV = 0.5325475445184147\n",
      "K = 10.0, F_cat = 50.0, NPV = 0.07473983297200126\n",
      "K = 10.0, F_cat = 100.0, NPV = -2.226489851183604\n",
      "K = 10.0, F_cat = 150.0, NPV = -4.52878831185334\n",
      "CPU times: user 38.8 s, sys: 1.67 s, total: 40.5 s\n",
      "Wall time: 40.5 s\n"
     ]
    }
   ],
   "source": [
    "%%time\n",
    "A = 10.0\n",
    "K = A\n",
    "for F_cat in [0.0, 0.1, 0.5, 1.0, 5.0, 10.0, 20.0, 30.0, 40.0, 50.0, 100.0, 150.0]:\n",
    "\t\tprint(f'K = {K}, F_cat = {F_cat}, NPV = {net_present_value(K, F_cat)}')\n"
   ]
  },
  {
   "attachments": {},
   "cell_type": "markdown",
   "metadata": {},
   "source": [
    "## Attempt the optimisation problem (DCP)"
   ]
  },
  {
   "cell_type": "code",
   "execution_count": 20,
   "metadata": {},
   "outputs": [],
   "source": [
    "catbond_markup = 0.05\n",
    "\n",
    "def net_present_value(K, F_cat):\n",
    "\treinsurance_pv = reinsurance_prices(\n",
    "\t\tR,\n",
    "\t\tseed,\n",
    "\t\tmaturity,\n",
    "\t\tk,\n",
    "\t\teta_r,\n",
    "\t\tm,\n",
    "\t\tphi_V,\n",
    "\t\tsigma_V,\n",
    "\t\tphi_L,\n",
    "\t\tsigma_L,\n",
    "\t\tupsilon,\n",
    "\t\tV_0,\n",
    "\t\tL_0,\n",
    "\t\tr_0,\n",
    "\t\tsimulate_dcp,\n",
    "\t\tmu_C,\n",
    "\t\tsigma_C,\n",
    "\t\tmarkup = 0.0,\n",
    "\t\tAs = 10.0,\n",
    "\t\tMs = 70.0,\n",
    "\t\tcatbond=True,\n",
    "\t\tK = K,\n",
    "\t\tpsi_T = catbond_fn,\n",
    "\t\tF_cat = F_cat\n",
    "\t)\n",
    "\n",
    "\tdelta_0 = catbond_prices(\n",
    "\t\tR,\n",
    "\t\tseed,\n",
    "\t\tmaturity,\n",
    "\t\tk,\n",
    "\t\teta_r,\n",
    "\t\tm,\n",
    "\t\tphi_V,\n",
    "\t\tsigma_V,\n",
    "\t\tphi_L,\n",
    "\t\tsigma_L,\n",
    "\t\tupsilon,\n",
    "\t\tV_0,\n",
    "\t\tL_0,\n",
    "\t\tr_0,\n",
    "\t\tsimulate_dcp,\n",
    "\t\tmu_C,\n",
    "\t\tsigma_C,\n",
    "\t\tmarkup = 0.0,\n",
    "\t\tAs = 10.0,\n",
    "\t\tMs = 70.0,\n",
    "\t\tK = K,\n",
    "\t\tpsi_T = catbond_fn,\n",
    "\t\tF_cat = F_cat\n",
    "\t)\n",
    "\n",
    "\treturn markup * reinsurance_pv - catbond_markup * delta_0"
   ]
  },
  {
   "cell_type": "code",
   "execution_count": 21,
   "metadata": {},
   "outputs": [
    {
     "data": {
      "text/plain": [
       "-1.7729822345887043"
      ]
     },
     "execution_count": 21,
     "metadata": {},
     "output_type": "execute_result"
    }
   ],
   "source": [
    "net_present_value(10.0, 100.0)"
   ]
  },
  {
   "cell_type": "code",
   "execution_count": 22,
   "metadata": {},
   "outputs": [
    {
     "name": "stdout",
     "output_type": "stream",
     "text": [
      "K = 10.0, F_cat = 0.0, NPV = 2.3863792979588783\n",
      "K = 10.0, F_cat = 0.01, NPV = 2.3861847694187888\n",
      "K = 10.0, F_cat = 0.05, NPV = 2.385405058941156\n",
      "K = 10.0, F_cat = 0.1, NPV = 2.3844271795985916\n",
      "K = 10.0, F_cat = 0.5, NPV = 2.3764741718191376\n",
      "K = 10.0, F_cat = 1.0, NPV = 2.366209645217634\n",
      "K = 10.0, F_cat = 5.0, NPV = 2.2721899855823255\n",
      "K = 10.0, F_cat = 10.0, NPV = 2.1296572124059905\n",
      "K = 10.0, F_cat = 20.0, NPV = 1.7840908836494727\n",
      "CPU times: user 16.2 s, sys: 1.14 s, total: 17.3 s\n",
      "Wall time: 17.3 s\n"
     ]
    }
   ],
   "source": [
    "%%time\n",
    "A = 10.0\n",
    "K = A\n",
    "for F_cat in [0.0, 0.01, 0.05, 0.1, 0.5, 1.0, 5.0, 10.0, 20.0]:\n",
    "\t\tprint(f'K = {K}, F_cat = {F_cat}, NPV = {net_present_value(K, F_cat)}')\n"
   ]
  },
  {
   "cell_type": "code",
   "execution_count": 23,
   "metadata": {},
   "outputs": [],
   "source": [
    "%%time\n",
    "no_bond_npv = net_present_value(K, 0.0)\n",
    "\n",
    "face_values = [0.0, 0.01, 0.05, 0.1, 0.5, 1.0, 5.0, 10.0, 20.0]\n",
    "strikes = [10.0, 20.0, 30.0, 40.0, 50.0, 60.0, 70.0]\n",
    "\n",
    "npvs = np.empty((len(face_values), len(strikes)), dtype = float)\n",
    "\n",
    "for i, face_value in enumerate(face_values):\n",
    "\tfor j, strike in enumerate(strikes):\n",
    "\t\tnpvs[i,j] = net_present_value(strike, face_value)\n",
    "\t\tif npvs[i,j] > no_bond_npv:\n",
    "\t\t\tprint(f'K = {K}, F_cat = {F_cat}, NPV = {npvs[i,j]}')\n",
    "\t"
   ]
  },
  {
   "cell_type": "code",
   "execution_count": 24,
   "metadata": {},
   "outputs": [
    {
     "data": {
      "text/plain": [
       "array([[2.3864, 2.3864, 2.3864, 2.3864, 2.3864, 2.3864, 2.3864],\n",
       "       [2.3862, 2.3861, 2.386 , 2.386 , 2.386 , 2.386 , 2.3859],\n",
       "       [2.3854, 2.385 , 2.3847, 2.3845, 2.3844, 2.3843, 2.3842],\n",
       "       [2.3844, 2.3835, 2.383 , 2.3827, 2.3824, 2.3821, 2.382 ],\n",
       "       [2.3765, 2.3721, 2.3696, 2.3678, 2.3663, 2.3652, 2.3644],\n",
       "       [2.3662, 2.3576, 2.3527, 2.3491, 2.3462, 2.344 , 2.3424],\n",
       "       [2.2722, 2.2342, 2.212 , 2.1957, 2.1824, 2.1724, 2.1656],\n",
       "       [2.1297, 2.0636, 2.0248, 1.9959, 1.9721, 1.9543, 1.9421],\n",
       "       [1.7841, 1.6822, 1.6211, 1.5752, 1.5372, 1.5087, 1.4901]])"
      ]
     },
     "execution_count": 24,
     "metadata": {},
     "output_type": "execute_result"
    }
   ],
   "source": [
    "npvs.round(4)"
   ]
  }
 ],
 "metadata": {
  "kernelspec": {
   "display_name": "catbond",
   "language": "python",
   "name": "python3"
  },
  "language_info": {
   "codemirror_mode": {
    "name": "ipython",
    "version": 3
   },
   "file_extension": ".py",
   "mimetype": "text/x-python",
   "name": "python",
   "nbconvert_exporter": "python",
   "pygments_lexer": "ipython3",
   "version": "3.10.0"
  },
  "orig_nbformat": 4,
  "vscode": {
   "interpreter": {
    "hash": "dd4dc5c54768b9716edc77d917d2c6c129af2b0827205d4c9646f7e32a294aa7"
   }
  }
 },
 "nbformat": 4,
 "nbformat_minor": 2
}
