{
 "cells": [
  {
   "cell_type": "code",
   "execution_count": null,
   "metadata": {},
   "outputs": [],
   "source": [
    "from functools import partial\n",
    "\n",
    "import matplotlib.pyplot as plt\n",
    "import pandas as pd\n",
    "\n",
    "import __module_import__\n",
    "from dynamic_contagion import *\n",
    "from market_conditions import *\n",
    "from reinsurance import *"
   ]
  },
  {
   "cell_type": "code",
   "execution_count": null,
   "metadata": {},
   "outputs": [],
   "source": [
    "# Other parameters\n",
    "maturity = 3\n",
    "markup = 0.4\n",
    "R = int(1e6)\n",
    "seed = 123\n",
    "\n",
    "# Asset parameters\n",
    "V_0 = 130\n",
    "phi_V = -3  # * (1.3) # = V0 / L0\n",
    "sigma_V = 0.05\n",
    "\n",
    "# Liability parameters\n",
    "L_0 = 100\n",
    "phi_L = -3\n",
    "sigma_L = 0.02\n",
    "\n",
    "# Interest rate parameters\n",
    "r_0 = 0.02\n",
    "k = 0.2\n",
    "m = 0.05  # 0.5\n",
    "upsilon = 0.1\n",
    "eta_r = -0.01\n",
    "\n",
    "# Catastrophe loss size distribution parameters\n",
    "mu_C = 2\n",
    "sigma_C = 0.5"
   ]
  },
  {
   "cell_type": "code",
   "execution_count": null,
   "metadata": {},
   "outputs": [],
   "source": [
    "# Poisson process\n",
    "def simulate_poisson(seed):\n",
    "    lambda_ = 0.5\n",
    "    rg = rnd.default_rng(seed)\n",
    "    return rg.poisson(lambda_ * maturity)\n",
    "\n",
    "\n",
    "# Cox proces\n",
    "def simulate_cox(seed):\n",
    "    lambda0 = 0.49\n",
    "    a = 0.4\n",
    "    rho = 0.4\n",
    "    delta = 1\n",
    "\n",
    "    return simulate_num_dynamic_contagion_uniform_jumps(seed, maturity, lambda0, a, rho, delta, 0.0, 0.0, 0.0, 0.5)\n",
    "\n",
    "\n",
    "# Hawkes process\n",
    "def simulate_hawkes(seed):\n",
    "    lambda0 = 0.47\n",
    "    a = 0.26\n",
    "    rho = 0.4\n",
    "    delta = 1\n",
    "\n",
    "    return simulate_num_dynamic_contagion_uniform_jumps(seed, maturity, lambda0, a, rho, delta, 0.0, 1.0, 0.0, 0.0)\n",
    "\n",
    "\n",
    "# Dynamic contagion process\n",
    "def simulate_dcp(seed):\n",
    "    lambda0 = 0.29\n",
    "    a = 0.26\n",
    "    rho = 0.4\n",
    "    delta = 1\n",
    "\n",
    "    return simulate_num_dynamic_contagion_uniform_jumps(seed, maturity, lambda0, a, rho, delta, 0.0, 1.0, 0.0, 0.5)\n",
    "\n",
    "\n",
    "simulators = (simulate_poisson, simulate_cox, simulate_hawkes, simulate_dcp)"
   ]
  },
  {
   "cell_type": "markdown",
   "metadata": {},
   "source": [
    "## Tables 1-4"
   ]
  },
  {
   "cell_type": "code",
   "execution_count": null,
   "metadata": {},
   "outputs": [],
   "source": [
    "ROUNDING = 4\n",
    "\n",
    "As = (10.0, 15.0, 20.0, 25.0, 30.0)\n",
    "Ms = (60.0, 65.0, 70.0, 75.0, 80.0, 85.0, 90.0)\n",
    "\n",
    "\n",
    "def prices_to_df(prices, As, Ms):\n",
    "    try:\n",
    "        cols = [f\"$M={int(m)}$\" for m in Ms]\n",
    "        rows = [f\"$A={int(a)}$\" for a in As]\n",
    "    except ValueError:\n",
    "        cols = [f\"$M={m}$\" for m in Ms]\n",
    "        rows = [f\"$A={a}$\" for a in As]\n",
    "\n",
    "    return pd.DataFrame(prices.round(ROUNDING), columns=cols, index=rows)\n",
    "\n",
    "\n",
    "def prices_to_tex(prices, As, Ms):\n",
    "    df = prices_to_df(prices, As, Ms)\n",
    "    display(df)\n",
    "    return df.style.to_latex().replace(\"lrrrrrrr\", \"c|c|c|c|c|c|c|c\").replace(\"00 \", \" \")"
   ]
  },
  {
   "cell_type": "code",
   "execution_count": null,
   "metadata": {},
   "outputs": [
    {
     "name": "stdout",
     "output_type": "stream",
     "text": [
      "CPU times: user 26.8 s, sys: 932 ms, total: 27.7 s\n",
      "Wall time: 27.7 s\n"
     ]
    }
   ],
   "source": [
    "%%time\n",
    "prices = reinsurance_prices(\n",
    "    R,\n",
    "    seed,\n",
    "    maturity,\n",
    "    k,\n",
    "    eta_r,\n",
    "    m,\n",
    "    phi_V,\n",
    "    sigma_V,\n",
    "    phi_L,\n",
    "    sigma_L,\n",
    "    upsilon,\n",
    "    V_0,\n",
    "    L_0,\n",
    "    r_0,\n",
    "    simulators,\n",
    "    mu_C,\n",
    "    sigma_C,\n",
    "    markup,\n",
    "    A=As,\n",
    "    M=Ms,\n",
    ")"
   ]
  },
  {
   "cell_type": "code",
   "execution_count": null,
   "metadata": {},
   "outputs": [
    {
     "name": "stdout",
     "output_type": "stream",
     "text": [
      "Poisson\n"
     ]
    },
    {
     "data": {
      "text/html": [
       "<div>\n",
       "<style scoped>\n",
       "    .dataframe tbody tr th:only-of-type {\n",
       "        vertical-align: middle;\n",
       "    }\n",
       "\n",
       "    .dataframe tbody tr th {\n",
       "        vertical-align: top;\n",
       "    }\n",
       "\n",
       "    .dataframe thead th {\n",
       "        text-align: right;\n",
       "    }\n",
       "</style>\n",
       "<table border=\"1\" class=\"dataframe\">\n",
       "  <thead>\n",
       "    <tr style=\"text-align: right;\">\n",
       "      <th></th>\n",
       "      <th>$M=60$</th>\n",
       "      <th>$M=65$</th>\n",
       "      <th>$M=70$</th>\n",
       "      <th>$M=75$</th>\n",
       "      <th>$M=80$</th>\n",
       "      <th>$M=85$</th>\n",
       "      <th>$M=90$</th>\n",
       "    </tr>\n",
       "  </thead>\n",
       "  <tbody>\n",
       "    <tr>\n",
       "      <th>$A=10$</th>\n",
       "      <td>7.2633</td>\n",
       "      <td>7.2706</td>\n",
       "      <td>7.2742</td>\n",
       "      <td>7.2759</td>\n",
       "      <td>7.2767</td>\n",
       "      <td>7.2771</td>\n",
       "      <td>7.2773</td>\n",
       "    </tr>\n",
       "    <tr>\n",
       "      <th>$A=15$</th>\n",
       "      <td>4.5877</td>\n",
       "      <td>4.5956</td>\n",
       "      <td>4.5995</td>\n",
       "      <td>4.6013</td>\n",
       "      <td>4.6022</td>\n",
       "      <td>4.6026</td>\n",
       "      <td>4.6028</td>\n",
       "    </tr>\n",
       "    <tr>\n",
       "      <th>$A=20$</th>\n",
       "      <td>2.7921</td>\n",
       "      <td>2.8008</td>\n",
       "      <td>2.8050</td>\n",
       "      <td>2.8070</td>\n",
       "      <td>2.8079</td>\n",
       "      <td>2.8083</td>\n",
       "      <td>2.8086</td>\n",
       "    </tr>\n",
       "    <tr>\n",
       "      <th>$A=25$</th>\n",
       "      <td>1.6426</td>\n",
       "      <td>1.6519</td>\n",
       "      <td>1.6565</td>\n",
       "      <td>1.6587</td>\n",
       "      <td>1.6597</td>\n",
       "      <td>1.6602</td>\n",
       "      <td>1.6604</td>\n",
       "    </tr>\n",
       "    <tr>\n",
       "      <th>$A=30$</th>\n",
       "      <td>0.9380</td>\n",
       "      <td>0.9481</td>\n",
       "      <td>0.9531</td>\n",
       "      <td>0.9554</td>\n",
       "      <td>0.9565</td>\n",
       "      <td>0.9570</td>\n",
       "      <td>0.9573</td>\n",
       "    </tr>\n",
       "  </tbody>\n",
       "</table>\n",
       "</div>"
      ],
      "text/plain": [
       "        $M=60$  $M=65$  $M=70$  $M=75$  $M=80$  $M=85$  $M=90$\n",
       "$A=10$  7.2633  7.2706  7.2742  7.2759  7.2767  7.2771  7.2773\n",
       "$A=15$  4.5877  4.5956  4.5995  4.6013  4.6022  4.6026  4.6028\n",
       "$A=20$  2.7921  2.8008  2.8050  2.8070  2.8079  2.8083  2.8086\n",
       "$A=25$  1.6426  1.6519  1.6565  1.6587  1.6597  1.6602  1.6604\n",
       "$A=30$  0.9380  0.9481  0.9531  0.9554  0.9565  0.9570  0.9573"
      ]
     },
     "metadata": {},
     "output_type": "display_data"
    },
    {
     "name": "stdout",
     "output_type": "stream",
     "text": [
      "\\begin{tabular}{c|c|c|c|c|c|c|c}\n",
      " & $M=60$ & $M=65$ & $M=70$ & $M=75$ & $M=80$ & $M=85$ & $M=90$ \\\\\n",
      "$A=10$ & 7.2633 & 7.2706 & 7.2742 & 7.2759 & 7.2767 & 7.2771 & 7.2773 \\\\\n",
      "$A=15$ & 4.5877 & 4.5956 & 4.5995 & 4.6013 & 4.6022 & 4.6026 & 4.6028 \\\\\n",
      "$A=20$ & 2.7921 & 2.8008 & 2.8050 & 2.8070 & 2.8079 & 2.8083 & 2.8086 \\\\\n",
      "$A=25$ & 1.6426 & 1.6519 & 1.6565 & 1.6587 & 1.6597 & 1.6602 & 1.6604 \\\\\n",
      "$A=30$ & 0.9380 & 0.9481 & 0.9531 & 0.9554 & 0.9565 & 0.9570 & 0.9573 \\\\\n",
      "\\end{tabular}\n",
      "\n",
      "Cox\n"
     ]
    },
    {
     "data": {
      "text/html": [
       "<div>\n",
       "<style scoped>\n",
       "    .dataframe tbody tr th:only-of-type {\n",
       "        vertical-align: middle;\n",
       "    }\n",
       "\n",
       "    .dataframe tbody tr th {\n",
       "        vertical-align: top;\n",
       "    }\n",
       "\n",
       "    .dataframe thead th {\n",
       "        text-align: right;\n",
       "    }\n",
       "</style>\n",
       "<table border=\"1\" class=\"dataframe\">\n",
       "  <thead>\n",
       "    <tr style=\"text-align: right;\">\n",
       "      <th></th>\n",
       "      <th>$M=60$</th>\n",
       "      <th>$M=65$</th>\n",
       "      <th>$M=70$</th>\n",
       "      <th>$M=75$</th>\n",
       "      <th>$M=80$</th>\n",
       "      <th>$M=85$</th>\n",
       "      <th>$M=90$</th>\n",
       "    </tr>\n",
       "  </thead>\n",
       "  <tbody>\n",
       "    <tr>\n",
       "      <th>$A=10$</th>\n",
       "      <td>7.2382</td>\n",
       "      <td>7.2462</td>\n",
       "      <td>7.2502</td>\n",
       "      <td>7.2521</td>\n",
       "      <td>7.2531</td>\n",
       "      <td>7.2536</td>\n",
       "      <td>7.2538</td>\n",
       "    </tr>\n",
       "    <tr>\n",
       "      <th>$A=15$</th>\n",
       "      <td>4.5959</td>\n",
       "      <td>4.6047</td>\n",
       "      <td>4.6090</td>\n",
       "      <td>4.6110</td>\n",
       "      <td>4.6121</td>\n",
       "      <td>4.6126</td>\n",
       "      <td>4.6129</td>\n",
       "    </tr>\n",
       "    <tr>\n",
       "      <th>$A=20$</th>\n",
       "      <td>2.8164</td>\n",
       "      <td>2.8260</td>\n",
       "      <td>2.8307</td>\n",
       "      <td>2.8329</td>\n",
       "      <td>2.8340</td>\n",
       "      <td>2.8346</td>\n",
       "      <td>2.8349</td>\n",
       "    </tr>\n",
       "    <tr>\n",
       "      <th>$A=25$</th>\n",
       "      <td>1.6727</td>\n",
       "      <td>1.6832</td>\n",
       "      <td>1.6883</td>\n",
       "      <td>1.6907</td>\n",
       "      <td>1.6920</td>\n",
       "      <td>1.6925</td>\n",
       "      <td>1.6928</td>\n",
       "    </tr>\n",
       "    <tr>\n",
       "      <th>$A=30$</th>\n",
       "      <td>0.9650</td>\n",
       "      <td>0.9763</td>\n",
       "      <td>0.9818</td>\n",
       "      <td>0.9845</td>\n",
       "      <td>0.9858</td>\n",
       "      <td>0.9864</td>\n",
       "      <td>0.9868</td>\n",
       "    </tr>\n",
       "  </tbody>\n",
       "</table>\n",
       "</div>"
      ],
      "text/plain": [
       "        $M=60$  $M=65$  $M=70$  $M=75$  $M=80$  $M=85$  $M=90$\n",
       "$A=10$  7.2382  7.2462  7.2502  7.2521  7.2531  7.2536  7.2538\n",
       "$A=15$  4.5959  4.6047  4.6090  4.6110  4.6121  4.6126  4.6129\n",
       "$A=20$  2.8164  2.8260  2.8307  2.8329  2.8340  2.8346  2.8349\n",
       "$A=25$  1.6727  1.6832  1.6883  1.6907  1.6920  1.6925  1.6928\n",
       "$A=30$  0.9650  0.9763  0.9818  0.9845  0.9858  0.9864  0.9868"
      ]
     },
     "metadata": {},
     "output_type": "display_data"
    },
    {
     "name": "stdout",
     "output_type": "stream",
     "text": [
      "\\begin{tabular}{c|c|c|c|c|c|c|c}\n",
      " & $M=60$ & $M=65$ & $M=70$ & $M=75$ & $M=80$ & $M=85$ & $M=90$ \\\\\n",
      "$A=10$ & 7.2382 & 7.2462 & 7.2502 & 7.2521 & 7.2531 & 7.2536 & 7.2538 \\\\\n",
      "$A=15$ & 4.5959 & 4.6047 & 4.6090 & 4.6110 & 4.6121 & 4.6126 & 4.6129 \\\\\n",
      "$A=20$ & 2.8164 & 2.8260 & 2.8307 & 2.8329 & 2.8340 & 2.8346 & 2.8349 \\\\\n",
      "$A=25$ & 1.6727 & 1.6832 & 1.6883 & 1.6907 & 1.6920 & 1.6925 & 1.6928 \\\\\n",
      "$A=30$ & 0.9650 & 0.9763 & 0.9818 & 0.9845 & 0.9858 & 0.9864 & 0.9868 \\\\\n",
      "\\end{tabular}\n",
      "\n",
      "Hawkes\n"
     ]
    },
    {
     "data": {
      "text/html": [
       "<div>\n",
       "<style scoped>\n",
       "    .dataframe tbody tr th:only-of-type {\n",
       "        vertical-align: middle;\n",
       "    }\n",
       "\n",
       "    .dataframe tbody tr th {\n",
       "        vertical-align: top;\n",
       "    }\n",
       "\n",
       "    .dataframe thead th {\n",
       "        text-align: right;\n",
       "    }\n",
       "</style>\n",
       "<table border=\"1\" class=\"dataframe\">\n",
       "  <thead>\n",
       "    <tr style=\"text-align: right;\">\n",
       "      <th></th>\n",
       "      <th>$M=60$</th>\n",
       "      <th>$M=65$</th>\n",
       "      <th>$M=70$</th>\n",
       "      <th>$M=75$</th>\n",
       "      <th>$M=80$</th>\n",
       "      <th>$M=85$</th>\n",
       "      <th>$M=90$</th>\n",
       "    </tr>\n",
       "  </thead>\n",
       "  <tbody>\n",
       "    <tr>\n",
       "      <th>$A=10$</th>\n",
       "      <td>8.0884</td>\n",
       "      <td>8.1620</td>\n",
       "      <td>8.2134</td>\n",
       "      <td>8.2496</td>\n",
       "      <td>8.2754</td>\n",
       "      <td>8.2937</td>\n",
       "      <td>8.3069</td>\n",
       "    </tr>\n",
       "    <tr>\n",
       "      <th>$A=15$</th>\n",
       "      <td>5.9090</td>\n",
       "      <td>5.9889</td>\n",
       "      <td>6.0443</td>\n",
       "      <td>6.0831</td>\n",
       "      <td>6.1106</td>\n",
       "      <td>6.1301</td>\n",
       "      <td>6.1439</td>\n",
       "    </tr>\n",
       "    <tr>\n",
       "      <th>$A=20$</th>\n",
       "      <td>4.2961</td>\n",
       "      <td>4.3833</td>\n",
       "      <td>4.4435</td>\n",
       "      <td>4.4853</td>\n",
       "      <td>4.5147</td>\n",
       "      <td>4.5355</td>\n",
       "      <td>4.5502</td>\n",
       "    </tr>\n",
       "    <tr>\n",
       "      <th>$A=25$</th>\n",
       "      <td>3.0969</td>\n",
       "      <td>3.1919</td>\n",
       "      <td>3.2576</td>\n",
       "      <td>3.3031</td>\n",
       "      <td>3.3349</td>\n",
       "      <td>3.3571</td>\n",
       "      <td>3.3728</td>\n",
       "    </tr>\n",
       "    <tr>\n",
       "      <th>$A=30$</th>\n",
       "      <td>2.2032</td>\n",
       "      <td>2.3060</td>\n",
       "      <td>2.3775</td>\n",
       "      <td>2.4272</td>\n",
       "      <td>2.4617</td>\n",
       "      <td>2.4858</td>\n",
       "      <td>2.5026</td>\n",
       "    </tr>\n",
       "  </tbody>\n",
       "</table>\n",
       "</div>"
      ],
      "text/plain": [
       "        $M=60$  $M=65$  $M=70$  $M=75$  $M=80$  $M=85$  $M=90$\n",
       "$A=10$  8.0884  8.1620  8.2134  8.2496  8.2754  8.2937  8.3069\n",
       "$A=15$  5.9090  5.9889  6.0443  6.0831  6.1106  6.1301  6.1439\n",
       "$A=20$  4.2961  4.3833  4.4435  4.4853  4.5147  4.5355  4.5502\n",
       "$A=25$  3.0969  3.1919  3.2576  3.3031  3.3349  3.3571  3.3728\n",
       "$A=30$  2.2032  2.3060  2.3775  2.4272  2.4617  2.4858  2.5026"
      ]
     },
     "metadata": {},
     "output_type": "display_data"
    },
    {
     "name": "stdout",
     "output_type": "stream",
     "text": [
      "\\begin{tabular}{c|c|c|c|c|c|c|c}\n",
      " & $M=60$ & $M=65$ & $M=70$ & $M=75$ & $M=80$ & $M=85$ & $M=90$ \\\\\n",
      "$A=10$ & 8.0884 & 8.1620 & 8.2134 & 8.2496 & 8.2754 & 8.2937 & 8.3069 \\\\\n",
      "$A=15$ & 5.9090 & 5.9889 & 6.0443 & 6.0831 & 6.1106 & 6.1301 & 6.1439 \\\\\n",
      "$A=20$ & 4.2961 & 4.3833 & 4.4435 & 4.4853 & 4.5147 & 4.5355 & 4.5502 \\\\\n",
      "$A=25$ & 3.0969 & 3.1919 & 3.2576 & 3.3031 & 3.3349 & 3.3571 & 3.3728 \\\\\n",
      "$A=30$ & 2.2032 & 2.3060 & 2.3775 & 2.4272 & 2.4617 & 2.4858 & 2.5026 \\\\\n",
      "\\end{tabular}\n",
      "\n",
      "DCP\n"
     ]
    },
    {
     "data": {
      "text/html": [
       "<div>\n",
       "<style scoped>\n",
       "    .dataframe tbody tr th:only-of-type {\n",
       "        vertical-align: middle;\n",
       "    }\n",
       "\n",
       "    .dataframe tbody tr th {\n",
       "        vertical-align: top;\n",
       "    }\n",
       "\n",
       "    .dataframe thead th {\n",
       "        text-align: right;\n",
       "    }\n",
       "</style>\n",
       "<table border=\"1\" class=\"dataframe\">\n",
       "  <thead>\n",
       "    <tr style=\"text-align: right;\">\n",
       "      <th></th>\n",
       "      <th>$M=60$</th>\n",
       "      <th>$M=65$</th>\n",
       "      <th>$M=70$</th>\n",
       "      <th>$M=75$</th>\n",
       "      <th>$M=80$</th>\n",
       "      <th>$M=85$</th>\n",
       "      <th>$M=90$</th>\n",
       "    </tr>\n",
       "  </thead>\n",
       "  <tbody>\n",
       "    <tr>\n",
       "      <th>$A=10$</th>\n",
       "      <td>8.1700</td>\n",
       "      <td>8.2422</td>\n",
       "      <td>8.2926</td>\n",
       "      <td>8.3277</td>\n",
       "      <td>8.3521</td>\n",
       "      <td>8.3696</td>\n",
       "      <td>8.3821</td>\n",
       "    </tr>\n",
       "    <tr>\n",
       "      <th>$A=15$</th>\n",
       "      <td>5.9639</td>\n",
       "      <td>6.0423</td>\n",
       "      <td>6.0967</td>\n",
       "      <td>6.1343</td>\n",
       "      <td>6.1603</td>\n",
       "      <td>6.1789</td>\n",
       "      <td>6.1921</td>\n",
       "    </tr>\n",
       "    <tr>\n",
       "      <th>$A=20$</th>\n",
       "      <td>4.3290</td>\n",
       "      <td>4.4146</td>\n",
       "      <td>4.4737</td>\n",
       "      <td>4.5142</td>\n",
       "      <td>4.5422</td>\n",
       "      <td>4.5620</td>\n",
       "      <td>4.5760</td>\n",
       "    </tr>\n",
       "    <tr>\n",
       "      <th>$A=25$</th>\n",
       "      <td>3.1150</td>\n",
       "      <td>3.2083</td>\n",
       "      <td>3.2728</td>\n",
       "      <td>3.3168</td>\n",
       "      <td>3.3470</td>\n",
       "      <td>3.3682</td>\n",
       "      <td>3.3831</td>\n",
       "    </tr>\n",
       "    <tr>\n",
       "      <th>$A=30$</th>\n",
       "      <td>2.2110</td>\n",
       "      <td>2.3118</td>\n",
       "      <td>2.3820</td>\n",
       "      <td>2.4301</td>\n",
       "      <td>2.4629</td>\n",
       "      <td>2.4857</td>\n",
       "      <td>2.5017</td>\n",
       "    </tr>\n",
       "  </tbody>\n",
       "</table>\n",
       "</div>"
      ],
      "text/plain": [
       "        $M=60$  $M=65$  $M=70$  $M=75$  $M=80$  $M=85$  $M=90$\n",
       "$A=10$  8.1700  8.2422  8.2926  8.3277  8.3521  8.3696  8.3821\n",
       "$A=15$  5.9639  6.0423  6.0967  6.1343  6.1603  6.1789  6.1921\n",
       "$A=20$  4.3290  4.4146  4.4737  4.5142  4.5422  4.5620  4.5760\n",
       "$A=25$  3.1150  3.2083  3.2728  3.3168  3.3470  3.3682  3.3831\n",
       "$A=30$  2.2110  2.3118  2.3820  2.4301  2.4629  2.4857  2.5017"
      ]
     },
     "metadata": {},
     "output_type": "display_data"
    },
    {
     "name": "stdout",
     "output_type": "stream",
     "text": [
      "\\begin{tabular}{c|c|c|c|c|c|c|c}\n",
      " & $M=60$ & $M=65$ & $M=70$ & $M=75$ & $M=80$ & $M=85$ & $M=90$ \\\\\n",
      "$A=10$ & 8.1700 & 8.2422 & 8.2926 & 8.3277 & 8.3521 & 8.3696 & 8.3821 \\\\\n",
      "$A=15$ & 5.9639 & 6.0423 & 6.0967 & 6.1343 & 6.1603 & 6.1789 & 6.1921 \\\\\n",
      "$A=20$ & 4.3290 & 4.4146 & 4.4737 & 4.5142 & 4.5422 & 4.5620 & 4.5760 \\\\\n",
      "$A=25$ & 3.1150 & 3.2083 & 3.2728 & 3.3168 & 3.3470 & 3.3682 & 3.3831 \\\\\n",
      "$A=30$ & 2.2110 & 2.3118 & 2.3820 & 2.4301 & 2.4629 & 2.4857 & 2.5017 \\\\\n",
      "\\end{tabular}\n",
      "\n"
     ]
    }
   ],
   "source": [
    "# Tables 1 to 4\n",
    "cat_models = (\"Poisson\", \"Cox\", \"Hawkes\", \"DCP\")\n",
    "for c in range(4):\n",
    "    print(cat_models[c])\n",
    "    print(prices_to_tex(prices[c], As, Ms))"
   ]
  },
  {
   "cell_type": "markdown",
   "metadata": {},
   "source": [
    "## Table 5: Default risk premium"
   ]
  },
  {
   "cell_type": "code",
   "execution_count": null,
   "metadata": {},
   "outputs": [
    {
     "name": "stdout",
     "output_type": "stream",
     "text": [
      "CPU times: user 25.5 s, sys: 738 ms, total: 26.2 s\n",
      "Wall time: 26.2 s\n"
     ]
    }
   ],
   "source": [
    "%%time\n",
    "risky_prices = reinsurance_prices(\n",
    "    R,\n",
    "    seed,\n",
    "    maturity,\n",
    "    k,\n",
    "    eta_r,\n",
    "    m,\n",
    "    phi_V,\n",
    "    sigma_V,\n",
    "    phi_L,\n",
    "    sigma_L,\n",
    "    upsilon,\n",
    "    V_0,\n",
    "    L_0,\n",
    "    r_0,\n",
    "    simulators,\n",
    "    mu_C,\n",
    "    sigma_C,\n",
    "    markup,\n",
    ")[:, np.newaxis]"
   ]
  },
  {
   "cell_type": "code",
   "execution_count": null,
   "metadata": {},
   "outputs": [
    {
     "data": {
      "text/plain": [
       "array([[2.8086],\n",
       "       [2.8349],\n",
       "       [4.5502],\n",
       "       [4.576 ]])"
      ]
     },
     "execution_count": null,
     "metadata": {},
     "output_type": "execute_result"
    }
   ],
   "source": [
    "risky_prices.round(4)"
   ]
  },
  {
   "cell_type": "code",
   "execution_count": null,
   "metadata": {},
   "outputs": [
    {
     "name": "stdout",
     "output_type": "stream",
     "text": [
      "CPU times: user 25.4 s, sys: 643 ms, total: 26 s\n",
      "Wall time: 26 s\n"
     ]
    }
   ],
   "source": [
    "%%time\n",
    "safe_prices = reinsurance_prices(\n",
    "    R,\n",
    "    seed,\n",
    "    maturity,\n",
    "    k,\n",
    "    eta_r,\n",
    "    m,\n",
    "    phi_V,\n",
    "    sigma_V,\n",
    "    phi_L,\n",
    "    sigma_L,\n",
    "    upsilon,\n",
    "    V_0,\n",
    "    L_0,\n",
    "    r_0,\n",
    "    simulators,\n",
    "    mu_C,\n",
    "    sigma_C,\n",
    "    markup,\n",
    "    defaultable=False,\n",
    ")[:, np.newaxis]"
   ]
  },
  {
   "cell_type": "code",
   "execution_count": null,
   "metadata": {},
   "outputs": [
    {
     "data": {
      "text/plain": [
       "array([[2.8495],\n",
       "       [2.879 ],\n",
       "       [4.8205],\n",
       "       [4.8414]])"
      ]
     },
     "execution_count": null,
     "metadata": {},
     "output_type": "execute_result"
    }
   ],
   "source": [
    "safe_prices.round(4)"
   ]
  },
  {
   "cell_type": "code",
   "execution_count": null,
   "metadata": {},
   "outputs": [
    {
     "data": {
      "text/plain": [
       "array([[0.0409],\n",
       "       [0.0441],\n",
       "       [0.2703],\n",
       "       [0.2654]])"
      ]
     },
     "execution_count": null,
     "metadata": {},
     "output_type": "execute_result"
    }
   ],
   "source": [
    "risk_premium = safe_prices - risky_prices\n",
    "risk_premium.round(4)"
   ]
  },
  {
   "cell_type": "code",
   "execution_count": null,
   "metadata": {},
   "outputs": [
    {
     "data": {
      "text/plain": [
       "array([[2.8086, 2.8495, 0.0409],\n",
       "       [2.8349, 2.879 , 0.0441],\n",
       "       [4.5502, 4.8205, 0.2703],\n",
       "       [4.576 , 4.8414, 0.2654]])"
      ]
     },
     "execution_count": null,
     "metadata": {},
     "output_type": "execute_result"
    }
   ],
   "source": [
    "default_risk_premiums = np.hstack((risky_prices, safe_prices, risk_premium)).round(4)\n",
    "default_risk_premiums"
   ]
  },
  {
   "cell_type": "code",
   "execution_count": null,
   "metadata": {},
   "outputs": [
    {
     "name": "stdout",
     "output_type": "stream",
     "text": [
      "\\begin{tabular}{lrrr}\n",
      " & 0 & 1 & 2 \\\\\n",
      "0 & 2.8086 & 2.8495 & 0.0409 \\\\\n",
      "1 & 2.8349 & 2.8790 & 0.0441 \\\\\n",
      "2 & 4.5502 & 4.8205 & 0.2703 \\\\\n",
      "3 & 4.5760 & 4.8414 & 0.2654 \\\\\n",
      "\\end{tabular}\n",
      "\n"
     ]
    }
   ],
   "source": [
    "print(pd.DataFrame(default_risk_premiums).style.to_latex().replace(\"00 \", \" \"))"
   ]
  },
  {
   "cell_type": "markdown",
   "metadata": {},
   "source": [
    "## Table 6: Impacts of externally-excited jump frequency rate"
   ]
  },
  {
   "cell_type": "code",
   "execution_count": null,
   "metadata": {},
   "outputs": [],
   "source": [
    "def simulate_dcp_variations(seed, rho):\n",
    "    lambda0 = 0.29\n",
    "    a = 0.26\n",
    "    delta = 1\n",
    "\n",
    "    return simulate_num_dynamic_contagion_uniform_jumps(seed, maturity, lambda0, a, rho, delta, 0.0, 1.0, 0.0, 0.5)\n",
    "\n",
    "\n",
    "dcp_variations = [partial(simulate_dcp_variations, rho=rho) for rho in (0.4, 3, 10, 20)]"
   ]
  },
  {
   "cell_type": "code",
   "execution_count": null,
   "metadata": {},
   "outputs": [
    {
     "name": "stdout",
     "output_type": "stream",
     "text": [
      "CPU times: user 1min 22s, sys: 2.93 s, total: 1min 25s\n",
      "Wall time: 1min 25s\n"
     ]
    }
   ],
   "source": [
    "%%time\n",
    "risky_prices = reinsurance_prices(\n",
    "    R,\n",
    "    seed,\n",
    "    maturity,\n",
    "    k,\n",
    "    eta_r,\n",
    "    m,\n",
    "    phi_V,\n",
    "    sigma_V,\n",
    "    phi_L,\n",
    "    sigma_L,\n",
    "    upsilon,\n",
    "    tuple(int(scale * L_0) for scale in (1.1, 1.3, 1.5)),\n",
    "    L_0,\n",
    "    r_0,\n",
    "    dcp_variations,\n",
    "    mu_C,\n",
    "    sigma_C,\n",
    "    markup,\n",
    ").T"
   ]
  },
  {
   "cell_type": "code",
   "execution_count": null,
   "metadata": {},
   "outputs": [
    {
     "data": {
      "text/plain": [
       "array([[ 4.137 ,  4.576 ,  4.7667],\n",
       "       [13.5344, 15.2673, 16.2062],\n",
       "       [39.8862, 46.4095, 51.3561],\n",
       "       [56.6998, 66.8516, 76.0095]])"
      ]
     },
     "execution_count": null,
     "metadata": {},
     "output_type": "execute_result"
    }
   ],
   "source": [
    "risky_prices.round(4)"
   ]
  },
  {
   "cell_type": "code",
   "execution_count": null,
   "metadata": {},
   "outputs": [
    {
     "name": "stdout",
     "output_type": "stream",
     "text": [
      "CPU times: user 27.1 s, sys: 805 ms, total: 27.9 s\n",
      "Wall time: 27.9 s\n"
     ]
    }
   ],
   "source": [
    "%%time\n",
    "safe_prices = reinsurance_prices(\n",
    "    R,\n",
    "    seed,\n",
    "    maturity,\n",
    "    k,\n",
    "    eta_r,\n",
    "    m,\n",
    "    phi_V,\n",
    "    sigma_V,\n",
    "    phi_L,\n",
    "    sigma_L,\n",
    "    upsilon,\n",
    "    tuple(int(scale * L_0) for scale in (1.1, 1.3, 1.5)),\n",
    "    L_0,\n",
    "    r_0,\n",
    "    dcp_variations,\n",
    "    mu_C,\n",
    "    sigma_C,\n",
    "    markup,\n",
    "    defaultable=False,\n",
    ").T"
   ]
  },
  {
   "cell_type": "code",
   "execution_count": null,
   "metadata": {},
   "outputs": [
    {
     "data": {
      "text/plain": [
       "array([[ 4.8414,  4.8414,  4.8414],\n",
       "       [16.6552, 16.6552, 16.6552],\n",
       "       [54.5809, 54.5809, 54.5809],\n",
       "       [83.1984, 83.1984, 83.1984]])"
      ]
     },
     "execution_count": null,
     "metadata": {},
     "output_type": "execute_result"
    }
   ],
   "source": [
    "safe_prices.round(4)"
   ]
  },
  {
   "cell_type": "code",
   "execution_count": null,
   "metadata": {},
   "outputs": [],
   "source": [
    "risk_premium = safe_prices - risky_prices"
   ]
  },
  {
   "cell_type": "code",
   "execution_count": null,
   "metadata": {},
   "outputs": [
    {
     "data": {
      "text/plain": [
       "array([[4.13700e+00, 4.57600e+00, 4.76670e+00, 7.04400e-01, 2.65400e-01,\n",
       "        7.47000e-02],\n",
       "       [1.35344e+01, 1.52673e+01, 1.62062e+01, 3.12080e+00, 1.38790e+00,\n",
       "        4.49000e-01],\n",
       "       [3.98862e+01, 4.64095e+01, 5.13561e+01, 1.46947e+01, 8.17130e+00,\n",
       "        3.22480e+00],\n",
       "       [5.66998e+01, 6.68516e+01, 7.60095e+01, 2.64986e+01, 1.63468e+01,\n",
       "        7.18890e+00]])"
      ]
     },
     "execution_count": null,
     "metadata": {},
     "output_type": "execute_result"
    }
   ],
   "source": [
    "impacts_of_ext_jump_freq = np.hstack([risky_prices, risk_premium]).round(4)\n",
    "impacts_of_ext_jump_freq"
   ]
  },
  {
   "cell_type": "code",
   "execution_count": null,
   "metadata": {},
   "outputs": [
    {
     "name": "stdout",
     "output_type": "stream",
     "text": [
      "\\begin{tabular}{lrrrrrr}\n",
      " & 0 & 1 & 2 & 3 & 4 & 5 \\\\\n",
      "0 & 4.1370 & 4.5760 & 4.7667 & 0.7044 & 0.2654 & 0.0747 \\\\\n",
      "1 & 13.5344 & 15.2673 & 16.2062 & 3.1208 & 1.3879 & 0.4490 \\\\\n",
      "2 & 39.8862 & 46.4095 & 51.3561 & 14.6947 & 8.1713 & 3.2248 \\\\\n",
      "3 & 56.6998 & 66.8516 & 76.0095 & 26.4986 & 16.3468 & 7.1889 \\\\\n",
      "\\end{tabular}\n",
      "\n"
     ]
    }
   ],
   "source": [
    "print(pd.DataFrame(impacts_of_ext_jump_freq).style.to_latex().replace(\"00 \", \" \"))"
   ]
  },
  {
   "cell_type": "markdown",
   "metadata": {},
   "source": [
    "## Table 7: Impacts of externally-excited jump magnitude"
   ]
  },
  {
   "cell_type": "code",
   "execution_count": null,
   "metadata": {},
   "outputs": [],
   "source": [
    "def simulate_dcp_variations(seed, mu_F=0.25, mu_G=0.5):\n",
    "    lambda0 = 0.29\n",
    "    a = 0.26\n",
    "    delta = 1\n",
    "    rho = 0.4\n",
    "\n",
    "    return simulate_num_dynamic_contagion_uniform_jumps(\n",
    "        seed, maturity, lambda0, a, rho, delta, 0.0, 2 * mu_G, 0.0, 2 * mu_F\n",
    "    )\n",
    "\n",
    "\n",
    "dcp_variations = [partial(simulate_dcp_variations, mu_F=mu_F) for mu_F in (0.25, 1.0, 4.0, 8.0)]"
   ]
  },
  {
   "cell_type": "code",
   "execution_count": null,
   "metadata": {},
   "outputs": [
    {
     "name": "stdout",
     "output_type": "stream",
     "text": [
      "CPU times: user 1min 21s, sys: 3.27 s, total: 1min 24s\n",
      "Wall time: 1min 24s\n"
     ]
    }
   ],
   "source": [
    "%%time\n",
    "risky_prices = reinsurance_prices(\n",
    "    R,\n",
    "    seed,\n",
    "    maturity,\n",
    "    k,\n",
    "    eta_r,\n",
    "    m,\n",
    "    phi_V,\n",
    "    sigma_V,\n",
    "    phi_L,\n",
    "    sigma_L,\n",
    "    upsilon,\n",
    "    tuple(int(scale * L_0) for scale in (1.1, 1.3, 1.5)),\n",
    "    L_0,\n",
    "    r_0,\n",
    "    dcp_variations,\n",
    "    mu_C,\n",
    "    sigma_C,\n",
    "    markup,\n",
    ").T\n",
    "\n",
    "safe_prices = reinsurance_prices(\n",
    "    R,\n",
    "    seed,\n",
    "    maturity,\n",
    "    k,\n",
    "    eta_r,\n",
    "    m,\n",
    "    phi_V,\n",
    "    sigma_V,\n",
    "    phi_L,\n",
    "    sigma_L,\n",
    "    upsilon,\n",
    "    tuple(int(scale * L_0) for scale in (1.1, 1.3, 1.5)),\n",
    "    L_0,\n",
    "    r_0,\n",
    "    dcp_variations,\n",
    "    mu_C,\n",
    "    sigma_C,\n",
    "    markup,\n",
    "    defaultable=False,\n",
    ").T\n",
    "\n",
    "risk_premium = safe_prices - risky_prices"
   ]
  },
  {
   "cell_type": "code",
   "execution_count": null,
   "metadata": {},
   "outputs": [
    {
     "data": {
      "text/plain": [
       "array([[ 4.137 ,  4.576 ,  4.7667,  0.7044,  0.2654,  0.0747],\n",
       "       [ 8.5331,  9.5955, 10.1627,  1.9013,  0.8389,  0.2717],\n",
       "       [23.304 , 27.0421, 29.9316,  8.6188,  4.8807,  1.9912],\n",
       "       [31.4876, 36.8698, 41.4919, 13.5394,  8.1572,  3.5351]])"
      ]
     },
     "execution_count": null,
     "metadata": {},
     "output_type": "execute_result"
    }
   ],
   "source": [
    "impacts_of_ext_jump_mag = np.hstack([risky_prices, risk_premium]).round(4)\n",
    "impacts_of_ext_jump_mag"
   ]
  },
  {
   "cell_type": "code",
   "execution_count": null,
   "metadata": {},
   "outputs": [
    {
     "name": "stdout",
     "output_type": "stream",
     "text": [
      "\\begin{tabular}{lrrrrrr}\n",
      " & 0 & 1 & 2 & 3 & 4 & 5 \\\\\n",
      "0 & 4.1370 & 4.5760 & 4.7667 & 0.7044 & 0.2654 & 0.0747 \\\\\n",
      "1 & 8.5331 & 9.5955 & 10.1627 & 1.9013 & 0.8389 & 0.2717 \\\\\n",
      "2 & 23.3040 & 27.0421 & 29.9316 & 8.6188 & 4.8807 & 1.9912 \\\\\n",
      "3 & 31.4876 & 36.8698 & 41.4919 & 13.5394 & 8.1572 & 3.5351 \\\\\n",
      "\\end{tabular}\n",
      "\n"
     ]
    }
   ],
   "source": [
    "print(pd.DataFrame(impacts_of_ext_jump_mag).style.to_latex().replace(\"00 \", \" \"))"
   ]
  },
  {
   "cell_type": "markdown",
   "metadata": {},
   "source": [
    "## Table 8: Impacts of self-excited jump magnitude"
   ]
  },
  {
   "cell_type": "code",
   "execution_count": null,
   "metadata": {},
   "outputs": [
    {
     "name": "stdout",
     "output_type": "stream",
     "text": [
      "CPU times: user 1min 43s, sys: 2.91 s, total: 1min 46s\n",
      "Wall time: 1min 46s\n"
     ]
    }
   ],
   "source": [
    "%%time\n",
    "dcp_variations = [partial(simulate_dcp_variations, mu_G=mu_G) for mu_G in (0.5, 1.0, 2.0, 3.0)]\n",
    "\n",
    "risky_prices = reinsurance_prices(\n",
    "    R,\n",
    "    seed,\n",
    "    maturity,\n",
    "    k,\n",
    "    eta_r,\n",
    "    m,\n",
    "    phi_V,\n",
    "    sigma_V,\n",
    "    phi_L,\n",
    "    sigma_L,\n",
    "    upsilon,\n",
    "    tuple(int(scale * L_0) for scale in (1.1, 1.3, 1.5)),\n",
    "    L_0,\n",
    "    r_0,\n",
    "    dcp_variations,\n",
    "    mu_C,\n",
    "    sigma_C,\n",
    "    markup,\n",
    ").T\n",
    "\n",
    "safe_prices = reinsurance_prices(\n",
    "    R,\n",
    "    seed,\n",
    "    maturity,\n",
    "    k,\n",
    "    eta_r,\n",
    "    m,\n",
    "    phi_V,\n",
    "    sigma_V,\n",
    "    phi_L,\n",
    "    sigma_L,\n",
    "    upsilon,\n",
    "    tuple(int(scale * L_0) for scale in (1.1, 1.3, 1.5)),\n",
    "    L_0,\n",
    "    r_0,\n",
    "    dcp_variations,\n",
    "    mu_C,\n",
    "    sigma_C,\n",
    "    markup,\n",
    "    defaultable=False,\n",
    ").T\n",
    "\n",
    "risk_premium = safe_prices - risky_prices"
   ]
  },
  {
   "cell_type": "code",
   "execution_count": null,
   "metadata": {},
   "outputs": [
    {
     "data": {
      "text/plain": [
       "array([[ 4.137 ,  4.576 ,  4.7667,  0.7044,  0.2654,  0.0747],\n",
       "       [ 9.145 , 10.4484, 11.3248,  2.7225,  1.4191,  0.5427],\n",
       "       [19.0516, 22.2658, 25.0118,  8.0721,  4.858 ,  2.112 ],\n",
       "       [24.8796, 29.2425, 33.1769, 11.4628,  7.0999,  3.1656]])"
      ]
     },
     "execution_count": null,
     "metadata": {},
     "output_type": "execute_result"
    }
   ],
   "source": [
    "impact_of_self_jump_mag = np.hstack([risky_prices, risk_premium]).round(4)\n",
    "impact_of_self_jump_mag"
   ]
  },
  {
   "cell_type": "code",
   "execution_count": null,
   "metadata": {},
   "outputs": [
    {
     "name": "stdout",
     "output_type": "stream",
     "text": [
      "\\begin{tabular}{lrrrrrr}\n",
      " & 0 & 1 & 2 & 3 & 4 & 5 \\\\\n",
      "0 & 4.1370 & 4.5760 & 4.7667 & 0.7044 & 0.2654 & 0.0747 \\\\\n",
      "1 & 9.1450 & 10.4484 & 11.3248 & 2.7225 & 1.4191 & 0.5427 \\\\\n",
      "2 & 19.0516 & 22.2658 & 25.0118 & 8.0721 & 4.8580 & 2.1120 \\\\\n",
      "3 & 24.8796 & 29.2425 & 33.1769 & 11.4628 & 7.0999 & 3.1656 \\\\\n",
      "\\end{tabular}\n",
      "\n"
     ]
    }
   ],
   "source": [
    "print(pd.DataFrame(impact_of_self_jump_mag).style.to_latex().replace(\"00 \", \" \"))"
   ]
  },
  {
   "cell_type": "markdown",
   "metadata": {},
   "source": [
    "## Tables 9-12: Prices with catbond"
   ]
  },
  {
   "cell_type": "code",
   "execution_count": null,
   "metadata": {},
   "outputs": [],
   "source": [
    "K = 40.0\n",
    "F = 25.0"
   ]
  },
  {
   "cell_type": "code",
   "execution_count": null,
   "metadata": {},
   "outputs": [
    {
     "name": "stdout",
     "output_type": "stream",
     "text": [
      "CPU times: user 26.4 s, sys: 682 ms, total: 27 s\n",
      "Wall time: 27.1 s\n"
     ]
    }
   ],
   "source": [
    "%%time\n",
    "catbond_prices = reinsurance_prices(\n",
    "    R,\n",
    "    seed,\n",
    "    maturity,\n",
    "    k,\n",
    "    eta_r,\n",
    "    m,\n",
    "    phi_V,\n",
    "    sigma_V,\n",
    "    phi_L,\n",
    "    sigma_L,\n",
    "    upsilon,\n",
    "    V_0,\n",
    "    L_0,\n",
    "    r_0,\n",
    "    simulators,\n",
    "    mu_C,\n",
    "    sigma_C,\n",
    "    markup,\n",
    "    A=As,\n",
    "    M=Ms,\n",
    "    catbond=True,\n",
    "    K=K,\n",
    "    F=F,\n",
    ")"
   ]
  },
  {
   "cell_type": "code",
   "execution_count": null,
   "metadata": {},
   "outputs": [
    {
     "name": "stdout",
     "output_type": "stream",
     "text": [
      "Prices of reinsurance when the reinsurer issues a catbond\n",
      "\n",
      "Poisson\n"
     ]
    },
    {
     "data": {
      "text/html": [
       "<div>\n",
       "<style scoped>\n",
       "    .dataframe tbody tr th:only-of-type {\n",
       "        vertical-align: middle;\n",
       "    }\n",
       "\n",
       "    .dataframe tbody tr th {\n",
       "        vertical-align: top;\n",
       "    }\n",
       "\n",
       "    .dataframe thead th {\n",
       "        text-align: right;\n",
       "    }\n",
       "</style>\n",
       "<table border=\"1\" class=\"dataframe\">\n",
       "  <thead>\n",
       "    <tr style=\"text-align: right;\">\n",
       "      <th></th>\n",
       "      <th>$M=60$</th>\n",
       "      <th>$M=65$</th>\n",
       "      <th>$M=70$</th>\n",
       "      <th>$M=75$</th>\n",
       "      <th>$M=80$</th>\n",
       "      <th>$M=85$</th>\n",
       "      <th>$M=90$</th>\n",
       "    </tr>\n",
       "  </thead>\n",
       "  <tbody>\n",
       "    <tr>\n",
       "      <th>$A=10$</th>\n",
       "      <td>7.3128</td>\n",
       "      <td>7.3231</td>\n",
       "      <td>7.3282</td>\n",
       "      <td>7.3305</td>\n",
       "      <td>7.3316</td>\n",
       "      <td>7.3321</td>\n",
       "      <td>7.3324</td>\n",
       "    </tr>\n",
       "    <tr>\n",
       "      <th>$A=15$</th>\n",
       "      <td>4.6226</td>\n",
       "      <td>4.6335</td>\n",
       "      <td>4.6390</td>\n",
       "      <td>4.6416</td>\n",
       "      <td>4.6428</td>\n",
       "      <td>4.6433</td>\n",
       "      <td>4.6436</td>\n",
       "    </tr>\n",
       "    <tr>\n",
       "      <th>$A=20$</th>\n",
       "      <td>2.8142</td>\n",
       "      <td>2.8256</td>\n",
       "      <td>2.8314</td>\n",
       "      <td>2.8343</td>\n",
       "      <td>2.8356</td>\n",
       "      <td>2.8362</td>\n",
       "      <td>2.8365</td>\n",
       "    </tr>\n",
       "    <tr>\n",
       "      <th>$A=25$</th>\n",
       "      <td>1.6549</td>\n",
       "      <td>1.6665</td>\n",
       "      <td>1.6726</td>\n",
       "      <td>1.6756</td>\n",
       "      <td>1.6770</td>\n",
       "      <td>1.6777</td>\n",
       "      <td>1.6780</td>\n",
       "    </tr>\n",
       "    <tr>\n",
       "      <th>$A=30$</th>\n",
       "      <td>0.9439</td>\n",
       "      <td>0.9557</td>\n",
       "      <td>0.9619</td>\n",
       "      <td>0.9650</td>\n",
       "      <td>0.9666</td>\n",
       "      <td>0.9673</td>\n",
       "      <td>0.9677</td>\n",
       "    </tr>\n",
       "  </tbody>\n",
       "</table>\n",
       "</div>"
      ],
      "text/plain": [
       "        $M=60$  $M=65$  $M=70$  $M=75$  $M=80$  $M=85$  $M=90$\n",
       "$A=10$  7.3128  7.3231  7.3282  7.3305  7.3316  7.3321  7.3324\n",
       "$A=15$  4.6226  4.6335  4.6390  4.6416  4.6428  4.6433  4.6436\n",
       "$A=20$  2.8142  2.8256  2.8314  2.8343  2.8356  2.8362  2.8365\n",
       "$A=25$  1.6549  1.6665  1.6726  1.6756  1.6770  1.6777  1.6780\n",
       "$A=30$  0.9439  0.9557  0.9619  0.9650  0.9666  0.9673  0.9677"
      ]
     },
     "metadata": {},
     "output_type": "display_data"
    },
    {
     "name": "stdout",
     "output_type": "stream",
     "text": [
      "\\begin{tabular}{c|c|c|c|c|c|c|c}\n",
      " & $M=60$ & $M=65$ & $M=70$ & $M=75$ & $M=80$ & $M=85$ & $M=90$ \\\\\n",
      "$A=10$ & 7.3128 & 7.3231 & 7.3282 & 7.3305 & 7.3316 & 7.3321 & 7.3324 \\\\\n",
      "$A=15$ & 4.6226 & 4.6335 & 4.6390 & 4.6416 & 4.6428 & 4.6433 & 4.6436 \\\\\n",
      "$A=20$ & 2.8142 & 2.8256 & 2.8314 & 2.8343 & 2.8356 & 2.8362 & 2.8365 \\\\\n",
      "$A=25$ & 1.6549 & 1.6665 & 1.6726 & 1.6756 & 1.6770 & 1.6777 & 1.6780 \\\\\n",
      "$A=30$ & 0.9439 & 0.9557 & 0.9619 & 0.9650 & 0.9666 & 0.9673 & 0.9677 \\\\\n",
      "\\end{tabular}\n",
      "\n",
      "Cox\n"
     ]
    },
    {
     "data": {
      "text/html": [
       "<div>\n",
       "<style scoped>\n",
       "    .dataframe tbody tr th:only-of-type {\n",
       "        vertical-align: middle;\n",
       "    }\n",
       "\n",
       "    .dataframe tbody tr th {\n",
       "        vertical-align: top;\n",
       "    }\n",
       "\n",
       "    .dataframe thead th {\n",
       "        text-align: right;\n",
       "    }\n",
       "</style>\n",
       "<table border=\"1\" class=\"dataframe\">\n",
       "  <thead>\n",
       "    <tr style=\"text-align: right;\">\n",
       "      <th></th>\n",
       "      <th>$M=60$</th>\n",
       "      <th>$M=65$</th>\n",
       "      <th>$M=70$</th>\n",
       "      <th>$M=75$</th>\n",
       "      <th>$M=80$</th>\n",
       "      <th>$M=85$</th>\n",
       "      <th>$M=90$</th>\n",
       "    </tr>\n",
       "  </thead>\n",
       "  <tbody>\n",
       "    <tr>\n",
       "      <th>$A=10$</th>\n",
       "      <td>7.2916</td>\n",
       "      <td>7.3029</td>\n",
       "      <td>7.3085</td>\n",
       "      <td>7.3112</td>\n",
       "      <td>7.3125</td>\n",
       "      <td>7.3131</td>\n",
       "      <td>7.3135</td>\n",
       "    </tr>\n",
       "    <tr>\n",
       "      <th>$A=15$</th>\n",
       "      <td>4.6336</td>\n",
       "      <td>4.6457</td>\n",
       "      <td>4.6518</td>\n",
       "      <td>4.6547</td>\n",
       "      <td>4.6562</td>\n",
       "      <td>4.6568</td>\n",
       "      <td>4.6572</td>\n",
       "    </tr>\n",
       "    <tr>\n",
       "      <th>$A=20$</th>\n",
       "      <td>2.8405</td>\n",
       "      <td>2.8532</td>\n",
       "      <td>2.8596</td>\n",
       "      <td>2.8628</td>\n",
       "      <td>2.8644</td>\n",
       "      <td>2.8652</td>\n",
       "      <td>2.8655</td>\n",
       "    </tr>\n",
       "    <tr>\n",
       "      <th>$A=25$</th>\n",
       "      <td>1.6864</td>\n",
       "      <td>1.6995</td>\n",
       "      <td>1.7062</td>\n",
       "      <td>1.7096</td>\n",
       "      <td>1.7113</td>\n",
       "      <td>1.7121</td>\n",
       "      <td>1.7125</td>\n",
       "    </tr>\n",
       "    <tr>\n",
       "      <th>$A=30$</th>\n",
       "      <td>0.9718</td>\n",
       "      <td>0.9850</td>\n",
       "      <td>0.9919</td>\n",
       "      <td>0.9954</td>\n",
       "      <td>0.9973</td>\n",
       "      <td>0.9982</td>\n",
       "      <td>0.9986</td>\n",
       "    </tr>\n",
       "  </tbody>\n",
       "</table>\n",
       "</div>"
      ],
      "text/plain": [
       "        $M=60$  $M=65$  $M=70$  $M=75$  $M=80$  $M=85$  $M=90$\n",
       "$A=10$  7.2916  7.3029  7.3085  7.3112  7.3125  7.3131  7.3135\n",
       "$A=15$  4.6336  4.6457  4.6518  4.6547  4.6562  4.6568  4.6572\n",
       "$A=20$  2.8405  2.8532  2.8596  2.8628  2.8644  2.8652  2.8655\n",
       "$A=25$  1.6864  1.6995  1.7062  1.7096  1.7113  1.7121  1.7125\n",
       "$A=30$  0.9718  0.9850  0.9919  0.9954  0.9973  0.9982  0.9986"
      ]
     },
     "metadata": {},
     "output_type": "display_data"
    },
    {
     "name": "stdout",
     "output_type": "stream",
     "text": [
      "\\begin{tabular}{c|c|c|c|c|c|c|c}\n",
      " & $M=60$ & $M=65$ & $M=70$ & $M=75$ & $M=80$ & $M=85$ & $M=90$ \\\\\n",
      "$A=10$ & 7.2916 & 7.3029 & 7.3085 & 7.3112 & 7.3125 & 7.3131 & 7.3135 \\\\\n",
      "$A=15$ & 4.6336 & 4.6457 & 4.6518 & 4.6547 & 4.6562 & 4.6568 & 4.6572 \\\\\n",
      "$A=20$ & 2.8405 & 2.8532 & 2.8596 & 2.8628 & 2.8644 & 2.8652 & 2.8655 \\\\\n",
      "$A=25$ & 1.6864 & 1.6995 & 1.7062 & 1.7096 & 1.7113 & 1.7121 & 1.7125 \\\\\n",
      "$A=30$ & 0.9718 & 0.9850 & 0.9919 & 0.9954 & 0.9973 & 0.9982 & 0.9986 \\\\\n",
      "\\end{tabular}\n",
      "\n",
      "Hawkes\n"
     ]
    },
    {
     "data": {
      "text/html": [
       "<div>\n",
       "<style scoped>\n",
       "    .dataframe tbody tr th:only-of-type {\n",
       "        vertical-align: middle;\n",
       "    }\n",
       "\n",
       "    .dataframe tbody tr th {\n",
       "        vertical-align: top;\n",
       "    }\n",
       "\n",
       "    .dataframe thead th {\n",
       "        text-align: right;\n",
       "    }\n",
       "</style>\n",
       "<table border=\"1\" class=\"dataframe\">\n",
       "  <thead>\n",
       "    <tr style=\"text-align: right;\">\n",
       "      <th></th>\n",
       "      <th>$M=60$</th>\n",
       "      <th>$M=65$</th>\n",
       "      <th>$M=70$</th>\n",
       "      <th>$M=75$</th>\n",
       "      <th>$M=80$</th>\n",
       "      <th>$M=85$</th>\n",
       "      <th>$M=90$</th>\n",
       "    </tr>\n",
       "  </thead>\n",
       "  <tbody>\n",
       "    <tr>\n",
       "      <th>$A=10$</th>\n",
       "      <td>8.3079</td>\n",
       "      <td>8.4123</td>\n",
       "      <td>8.4851</td>\n",
       "      <td>8.5351</td>\n",
       "      <td>8.5693</td>\n",
       "      <td>8.5929</td>\n",
       "      <td>8.6092</td>\n",
       "    </tr>\n",
       "    <tr>\n",
       "      <th>$A=15$</th>\n",
       "      <td>6.0684</td>\n",
       "      <td>6.1794</td>\n",
       "      <td>6.2582</td>\n",
       "      <td>6.3133</td>\n",
       "      <td>6.3512</td>\n",
       "      <td>6.3772</td>\n",
       "      <td>6.3950</td>\n",
       "    </tr>\n",
       "    <tr>\n",
       "      <th>$A=20$</th>\n",
       "      <td>4.4015</td>\n",
       "      <td>4.5171</td>\n",
       "      <td>4.6009</td>\n",
       "      <td>4.6605</td>\n",
       "      <td>4.7023</td>\n",
       "      <td>4.7310</td>\n",
       "      <td>4.7506</td>\n",
       "    </tr>\n",
       "    <tr>\n",
       "      <th>$A=25$</th>\n",
       "      <td>3.1593</td>\n",
       "      <td>3.2776</td>\n",
       "      <td>3.3648</td>\n",
       "      <td>3.4281</td>\n",
       "      <td>3.4733</td>\n",
       "      <td>3.5049</td>\n",
       "      <td>3.5267</td>\n",
       "    </tr>\n",
       "    <tr>\n",
       "      <th>$A=30$</th>\n",
       "      <td>2.2359</td>\n",
       "      <td>2.3553</td>\n",
       "      <td>2.4444</td>\n",
       "      <td>2.5104</td>\n",
       "      <td>2.5584</td>\n",
       "      <td>2.5926</td>\n",
       "      <td>2.6165</td>\n",
       "    </tr>\n",
       "  </tbody>\n",
       "</table>\n",
       "</div>"
      ],
      "text/plain": [
       "        $M=60$  $M=65$  $M=70$  $M=75$  $M=80$  $M=85$  $M=90$\n",
       "$A=10$  8.3079  8.4123  8.4851  8.5351  8.5693  8.5929  8.6092\n",
       "$A=15$  6.0684  6.1794  6.2582  6.3133  6.3512  6.3772  6.3950\n",
       "$A=20$  4.4015  4.5171  4.6009  4.6605  4.7023  4.7310  4.7506\n",
       "$A=25$  3.1593  3.2776  3.3648  3.4281  3.4733  3.5049  3.5267\n",
       "$A=30$  2.2359  2.3553  2.4444  2.5104  2.5584  2.5926  2.6165"
      ]
     },
     "metadata": {},
     "output_type": "display_data"
    },
    {
     "name": "stdout",
     "output_type": "stream",
     "text": [
      "\\begin{tabular}{c|c|c|c|c|c|c|c}\n",
      " & $M=60$ & $M=65$ & $M=70$ & $M=75$ & $M=80$ & $M=85$ & $M=90$ \\\\\n",
      "$A=10$ & 8.3079 & 8.4123 & 8.4851 & 8.5351 & 8.5693 & 8.5929 & 8.6092 \\\\\n",
      "$A=15$ & 6.0684 & 6.1794 & 6.2582 & 6.3133 & 6.3512 & 6.3772 & 6.3950 \\\\\n",
      "$A=20$ & 4.4015 & 4.5171 & 4.6009 & 4.6605 & 4.7023 & 4.7310 & 4.7506 \\\\\n",
      "$A=25$ & 3.1593 & 3.2776 & 3.3648 & 3.4281 & 3.4733 & 3.5049 & 3.5267 \\\\\n",
      "$A=30$ & 2.2359 & 2.3553 & 2.4444 & 2.5104 & 2.5584 & 2.5926 & 2.6165 \\\\\n",
      "\\end{tabular}\n",
      "\n",
      "DCP\n"
     ]
    },
    {
     "data": {
      "text/html": [
       "<div>\n",
       "<style scoped>\n",
       "    .dataframe tbody tr th:only-of-type {\n",
       "        vertical-align: middle;\n",
       "    }\n",
       "\n",
       "    .dataframe tbody tr th {\n",
       "        vertical-align: top;\n",
       "    }\n",
       "\n",
       "    .dataframe thead th {\n",
       "        text-align: right;\n",
       "    }\n",
       "</style>\n",
       "<table border=\"1\" class=\"dataframe\">\n",
       "  <thead>\n",
       "    <tr style=\"text-align: right;\">\n",
       "      <th></th>\n",
       "      <th>$M=60$</th>\n",
       "      <th>$M=65$</th>\n",
       "      <th>$M=70$</th>\n",
       "      <th>$M=75$</th>\n",
       "      <th>$M=80$</th>\n",
       "      <th>$M=85$</th>\n",
       "      <th>$M=90$</th>\n",
       "    </tr>\n",
       "  </thead>\n",
       "  <tbody>\n",
       "    <tr>\n",
       "      <th>$A=10$</th>\n",
       "      <td>8.3890</td>\n",
       "      <td>8.4915</td>\n",
       "      <td>8.5629</td>\n",
       "      <td>8.6113</td>\n",
       "      <td>8.6438</td>\n",
       "      <td>8.6663</td>\n",
       "      <td>8.6818</td>\n",
       "    </tr>\n",
       "    <tr>\n",
       "      <th>$A=15$</th>\n",
       "      <td>6.1227</td>\n",
       "      <td>6.2318</td>\n",
       "      <td>6.3093</td>\n",
       "      <td>6.3625</td>\n",
       "      <td>6.3985</td>\n",
       "      <td>6.4232</td>\n",
       "      <td>6.4401</td>\n",
       "    </tr>\n",
       "    <tr>\n",
       "      <th>$A=20$</th>\n",
       "      <td>4.4338</td>\n",
       "      <td>4.5474</td>\n",
       "      <td>4.6298</td>\n",
       "      <td>4.6875</td>\n",
       "      <td>4.7271</td>\n",
       "      <td>4.7544</td>\n",
       "      <td>4.7730</td>\n",
       "    </tr>\n",
       "    <tr>\n",
       "      <th>$A=25$</th>\n",
       "      <td>3.1769</td>\n",
       "      <td>3.2931</td>\n",
       "      <td>3.3788</td>\n",
       "      <td>3.4401</td>\n",
       "      <td>3.4831</td>\n",
       "      <td>3.5131</td>\n",
       "      <td>3.5337</td>\n",
       "    </tr>\n",
       "    <tr>\n",
       "      <th>$A=30$</th>\n",
       "      <td>2.2431</td>\n",
       "      <td>2.3605</td>\n",
       "      <td>2.4480</td>\n",
       "      <td>2.5117</td>\n",
       "      <td>2.5574</td>\n",
       "      <td>2.5900</td>\n",
       "      <td>2.6127</td>\n",
       "    </tr>\n",
       "  </tbody>\n",
       "</table>\n",
       "</div>"
      ],
      "text/plain": [
       "        $M=60$  $M=65$  $M=70$  $M=75$  $M=80$  $M=85$  $M=90$\n",
       "$A=10$  8.3890  8.4915  8.5629  8.6113  8.6438  8.6663  8.6818\n",
       "$A=15$  6.1227  6.2318  6.3093  6.3625  6.3985  6.4232  6.4401\n",
       "$A=20$  4.4338  4.5474  4.6298  4.6875  4.7271  4.7544  4.7730\n",
       "$A=25$  3.1769  3.2931  3.3788  3.4401  3.4831  3.5131  3.5337\n",
       "$A=30$  2.2431  2.3605  2.4480  2.5117  2.5574  2.5900  2.6127"
      ]
     },
     "metadata": {},
     "output_type": "display_data"
    },
    {
     "name": "stdout",
     "output_type": "stream",
     "text": [
      "\\begin{tabular}{c|c|c|c|c|c|c|c}\n",
      " & $M=60$ & $M=65$ & $M=70$ & $M=75$ & $M=80$ & $M=85$ & $M=90$ \\\\\n",
      "$A=10$ & 8.3890 & 8.4915 & 8.5629 & 8.6113 & 8.6438 & 8.6663 & 8.6818 \\\\\n",
      "$A=15$ & 6.1227 & 6.2318 & 6.3093 & 6.3625 & 6.3985 & 6.4232 & 6.4401 \\\\\n",
      "$A=20$ & 4.4338 & 4.5474 & 4.6298 & 4.6875 & 4.7271 & 4.7544 & 4.7730 \\\\\n",
      "$A=25$ & 3.1769 & 3.2931 & 3.3788 & 3.4401 & 3.4831 & 3.5131 & 3.5337 \\\\\n",
      "$A=30$ & 2.2431 & 2.3605 & 2.4480 & 2.5117 & 2.5574 & 2.5900 & 2.6127 \\\\\n",
      "\\end{tabular}\n",
      "\n"
     ]
    }
   ],
   "source": [
    "print(\"Prices of reinsurance when the reinsurer issues a catbond\\n\")\n",
    "\n",
    "for c in range(4):\n",
    "    print(cat_models[c])\n",
    "    print(prices_to_tex(catbond_prices[c], As, Ms))"
   ]
  },
  {
   "cell_type": "markdown",
   "metadata": {},
   "source": [
    "## Tables 13-16: Percentage increase in costs after issuing a catbond"
   ]
  },
  {
   "cell_type": "code",
   "execution_count": null,
   "metadata": {},
   "outputs": [
    {
     "name": "stdout",
     "output_type": "stream",
     "text": [
      "Percentage increase in price for reinsurance after the reinsurer issues a catbond\n",
      "\n",
      "Poisson\n"
     ]
    },
    {
     "data": {
      "text/html": [
       "<div>\n",
       "<style scoped>\n",
       "    .dataframe tbody tr th:only-of-type {\n",
       "        vertical-align: middle;\n",
       "    }\n",
       "\n",
       "    .dataframe tbody tr th {\n",
       "        vertical-align: top;\n",
       "    }\n",
       "\n",
       "    .dataframe thead th {\n",
       "        text-align: right;\n",
       "    }\n",
       "</style>\n",
       "<table border=\"1\" class=\"dataframe\">\n",
       "  <thead>\n",
       "    <tr style=\"text-align: right;\">\n",
       "      <th></th>\n",
       "      <th>$M=60$</th>\n",
       "      <th>$M=65$</th>\n",
       "      <th>$M=70$</th>\n",
       "      <th>$M=75$</th>\n",
       "      <th>$M=80$</th>\n",
       "      <th>$M=85$</th>\n",
       "      <th>$M=90$</th>\n",
       "    </tr>\n",
       "  </thead>\n",
       "  <tbody>\n",
       "    <tr>\n",
       "      <th>$A=10$</th>\n",
       "      <td>0.68</td>\n",
       "      <td>0.72</td>\n",
       "      <td>0.74</td>\n",
       "      <td>0.75</td>\n",
       "      <td>0.75</td>\n",
       "      <td>0.76</td>\n",
       "      <td>0.76</td>\n",
       "    </tr>\n",
       "    <tr>\n",
       "      <th>$A=15$</th>\n",
       "      <td>0.76</td>\n",
       "      <td>0.82</td>\n",
       "      <td>0.86</td>\n",
       "      <td>0.87</td>\n",
       "      <td>0.88</td>\n",
       "      <td>0.88</td>\n",
       "      <td>0.88</td>\n",
       "    </tr>\n",
       "    <tr>\n",
       "      <th>$A=20$</th>\n",
       "      <td>0.79</td>\n",
       "      <td>0.89</td>\n",
       "      <td>0.94</td>\n",
       "      <td>0.97</td>\n",
       "      <td>0.99</td>\n",
       "      <td>0.99</td>\n",
       "      <td>0.99</td>\n",
       "    </tr>\n",
       "    <tr>\n",
       "      <th>$A=25$</th>\n",
       "      <td>0.75</td>\n",
       "      <td>0.88</td>\n",
       "      <td>0.97</td>\n",
       "      <td>1.02</td>\n",
       "      <td>1.05</td>\n",
       "      <td>1.06</td>\n",
       "      <td>1.06</td>\n",
       "    </tr>\n",
       "    <tr>\n",
       "      <th>$A=30$</th>\n",
       "      <td>0.64</td>\n",
       "      <td>0.80</td>\n",
       "      <td>0.92</td>\n",
       "      <td>1.00</td>\n",
       "      <td>1.05</td>\n",
       "      <td>1.07</td>\n",
       "      <td>1.08</td>\n",
       "    </tr>\n",
       "  </tbody>\n",
       "</table>\n",
       "</div>"
      ],
      "text/plain": [
       "        $M=60$  $M=65$  $M=70$  $M=75$  $M=80$  $M=85$  $M=90$\n",
       "$A=10$    0.68    0.72    0.74    0.75    0.75    0.76    0.76\n",
       "$A=15$    0.76    0.82    0.86    0.87    0.88    0.88    0.88\n",
       "$A=20$    0.79    0.89    0.94    0.97    0.99    0.99    0.99\n",
       "$A=25$    0.75    0.88    0.97    1.02    1.05    1.06    1.06\n",
       "$A=30$    0.64    0.80    0.92    1.00    1.05    1.07    1.08"
      ]
     },
     "metadata": {},
     "output_type": "display_data"
    },
    {
     "name": "stdout",
     "output_type": "stream",
     "text": [
      "\\begin{tabular}{c|c|c|c|c|c|c|c}\n",
      " & $M=60$ & $M=65$ & $M=70$ & $M=75$ & $M=80$ & $M=85$ & $M=90$ \\\\\n",
      "$A=10$ & 0.68\\% & 0.72\\% & 0.74\\% & 0.75\\% & 0.75\\% & 0.76\\% & 0.76\\% \\\\\n",
      "$A=15$ & 0.76\\% & 0.82\\% & 0.86\\% & 0.87\\% & 0.88\\% & 0.88\\% & 0.88\\% \\\\\n",
      "$A=20$ & 0.79\\% & 0.89\\% & 0.94\\% & 0.97\\% & 0.99\\% & 0.99\\% & 0.99\\% \\\\\n",
      "$A=25$ & 0.75\\% & 0.88\\% & 0.97\\% & 1.02\\% & 1.05\\% & 1.06\\% & 1.06\\% \\\\\n",
      "$A=30$ & 0.64\\% & 0.80\\% & 0.92\\% & 1.00\\% & 1.05\\% & 1.07\\% & 1.08\\% \\\\\n",
      "\\end{tabular}\n",
      "\n",
      "Cox\n"
     ]
    },
    {
     "data": {
      "text/html": [
       "<div>\n",
       "<style scoped>\n",
       "    .dataframe tbody tr th:only-of-type {\n",
       "        vertical-align: middle;\n",
       "    }\n",
       "\n",
       "    .dataframe tbody tr th {\n",
       "        vertical-align: top;\n",
       "    }\n",
       "\n",
       "    .dataframe thead th {\n",
       "        text-align: right;\n",
       "    }\n",
       "</style>\n",
       "<table border=\"1\" class=\"dataframe\">\n",
       "  <thead>\n",
       "    <tr style=\"text-align: right;\">\n",
       "      <th></th>\n",
       "      <th>$M=60$</th>\n",
       "      <th>$M=65$</th>\n",
       "      <th>$M=70$</th>\n",
       "      <th>$M=75$</th>\n",
       "      <th>$M=80$</th>\n",
       "      <th>$M=85$</th>\n",
       "      <th>$M=90$</th>\n",
       "    </tr>\n",
       "  </thead>\n",
       "  <tbody>\n",
       "    <tr>\n",
       "      <th>$A=10$</th>\n",
       "      <td>0.74</td>\n",
       "      <td>0.78</td>\n",
       "      <td>0.80</td>\n",
       "      <td>0.81</td>\n",
       "      <td>0.82</td>\n",
       "      <td>0.82</td>\n",
       "      <td>0.82</td>\n",
       "    </tr>\n",
       "    <tr>\n",
       "      <th>$A=15$</th>\n",
       "      <td>0.82</td>\n",
       "      <td>0.89</td>\n",
       "      <td>0.93</td>\n",
       "      <td>0.95</td>\n",
       "      <td>0.96</td>\n",
       "      <td>0.96</td>\n",
       "      <td>0.96</td>\n",
       "    </tr>\n",
       "    <tr>\n",
       "      <th>$A=20$</th>\n",
       "      <td>0.85</td>\n",
       "      <td>0.96</td>\n",
       "      <td>1.02</td>\n",
       "      <td>1.06</td>\n",
       "      <td>1.07</td>\n",
       "      <td>1.08</td>\n",
       "      <td>1.08</td>\n",
       "    </tr>\n",
       "    <tr>\n",
       "      <th>$A=25$</th>\n",
       "      <td>0.82</td>\n",
       "      <td>0.97</td>\n",
       "      <td>1.06</td>\n",
       "      <td>1.12</td>\n",
       "      <td>1.14</td>\n",
       "      <td>1.16</td>\n",
       "      <td>1.16</td>\n",
       "    </tr>\n",
       "    <tr>\n",
       "      <th>$A=30$</th>\n",
       "      <td>0.71</td>\n",
       "      <td>0.89</td>\n",
       "      <td>1.03</td>\n",
       "      <td>1.11</td>\n",
       "      <td>1.16</td>\n",
       "      <td>1.19</td>\n",
       "      <td>1.20</td>\n",
       "    </tr>\n",
       "  </tbody>\n",
       "</table>\n",
       "</div>"
      ],
      "text/plain": [
       "        $M=60$  $M=65$  $M=70$  $M=75$  $M=80$  $M=85$  $M=90$\n",
       "$A=10$    0.74    0.78    0.80    0.81    0.82    0.82    0.82\n",
       "$A=15$    0.82    0.89    0.93    0.95    0.96    0.96    0.96\n",
       "$A=20$    0.85    0.96    1.02    1.06    1.07    1.08    1.08\n",
       "$A=25$    0.82    0.97    1.06    1.12    1.14    1.16    1.16\n",
       "$A=30$    0.71    0.89    1.03    1.11    1.16    1.19    1.20"
      ]
     },
     "metadata": {},
     "output_type": "display_data"
    },
    {
     "name": "stdout",
     "output_type": "stream",
     "text": [
      "\\begin{tabular}{c|c|c|c|c|c|c|c}\n",
      " & $M=60$ & $M=65$ & $M=70$ & $M=75$ & $M=80$ & $M=85$ & $M=90$ \\\\\n",
      "$A=10$ & 0.74\\% & 0.78\\% & 0.80\\% & 0.81\\% & 0.82\\% & 0.82\\% & 0.82\\% \\\\\n",
      "$A=15$ & 0.82\\% & 0.89\\% & 0.93\\% & 0.95\\% & 0.96\\% & 0.96\\% & 0.96\\% \\\\\n",
      "$A=20$ & 0.85\\% & 0.96\\% & 1.02\\% & 1.06\\% & 1.07\\% & 1.08\\% & 1.08\\% \\\\\n",
      "$A=25$ & 0.82\\% & 0.97\\% & 1.06\\% & 1.12\\% & 1.14\\% & 1.16\\% & 1.16\\% \\\\\n",
      "$A=30$ & 0.71\\% & 0.89\\% & 1.03\\% & 1.11\\% & 1.16\\% & 1.19\\% & 1.20\\% \\\\\n",
      "\\end{tabular}\n",
      "\n",
      "Hawkes\n"
     ]
    },
    {
     "data": {
      "text/html": [
       "<div>\n",
       "<style scoped>\n",
       "    .dataframe tbody tr th:only-of-type {\n",
       "        vertical-align: middle;\n",
       "    }\n",
       "\n",
       "    .dataframe tbody tr th {\n",
       "        vertical-align: top;\n",
       "    }\n",
       "\n",
       "    .dataframe thead th {\n",
       "        text-align: right;\n",
       "    }\n",
       "</style>\n",
       "<table border=\"1\" class=\"dataframe\">\n",
       "  <thead>\n",
       "    <tr style=\"text-align: right;\">\n",
       "      <th></th>\n",
       "      <th>$M=60$</th>\n",
       "      <th>$M=65$</th>\n",
       "      <th>$M=70$</th>\n",
       "      <th>$M=75$</th>\n",
       "      <th>$M=80$</th>\n",
       "      <th>$M=85$</th>\n",
       "      <th>$M=90$</th>\n",
       "    </tr>\n",
       "  </thead>\n",
       "  <tbody>\n",
       "    <tr>\n",
       "      <th>$A=10$</th>\n",
       "      <td>2.71</td>\n",
       "      <td>3.07</td>\n",
       "      <td>3.31</td>\n",
       "      <td>3.46</td>\n",
       "      <td>3.55</td>\n",
       "      <td>3.61</td>\n",
       "      <td>3.64</td>\n",
       "    </tr>\n",
       "    <tr>\n",
       "      <th>$A=15$</th>\n",
       "      <td>2.70</td>\n",
       "      <td>3.18</td>\n",
       "      <td>3.54</td>\n",
       "      <td>3.78</td>\n",
       "      <td>3.94</td>\n",
       "      <td>4.03</td>\n",
       "      <td>4.09</td>\n",
       "    </tr>\n",
       "    <tr>\n",
       "      <th>$A=20$</th>\n",
       "      <td>2.45</td>\n",
       "      <td>3.05</td>\n",
       "      <td>3.54</td>\n",
       "      <td>3.91</td>\n",
       "      <td>4.15</td>\n",
       "      <td>4.31</td>\n",
       "      <td>4.40</td>\n",
       "    </tr>\n",
       "    <tr>\n",
       "      <th>$A=25$</th>\n",
       "      <td>2.02</td>\n",
       "      <td>2.68</td>\n",
       "      <td>3.29</td>\n",
       "      <td>3.78</td>\n",
       "      <td>4.15</td>\n",
       "      <td>4.40</td>\n",
       "      <td>4.56</td>\n",
       "    </tr>\n",
       "    <tr>\n",
       "      <th>$A=30$</th>\n",
       "      <td>1.48</td>\n",
       "      <td>2.14</td>\n",
       "      <td>2.81</td>\n",
       "      <td>3.43</td>\n",
       "      <td>3.93</td>\n",
       "      <td>4.30</td>\n",
       "      <td>4.55</td>\n",
       "    </tr>\n",
       "  </tbody>\n",
       "</table>\n",
       "</div>"
      ],
      "text/plain": [
       "        $M=60$  $M=65$  $M=70$  $M=75$  $M=80$  $M=85$  $M=90$\n",
       "$A=10$    2.71    3.07    3.31    3.46    3.55    3.61    3.64\n",
       "$A=15$    2.70    3.18    3.54    3.78    3.94    4.03    4.09\n",
       "$A=20$    2.45    3.05    3.54    3.91    4.15    4.31    4.40\n",
       "$A=25$    2.02    2.68    3.29    3.78    4.15    4.40    4.56\n",
       "$A=30$    1.48    2.14    2.81    3.43    3.93    4.30    4.55"
      ]
     },
     "metadata": {},
     "output_type": "display_data"
    },
    {
     "name": "stdout",
     "output_type": "stream",
     "text": [
      "\\begin{tabular}{c|c|c|c|c|c|c|c}\n",
      " & $M=60$ & $M=65$ & $M=70$ & $M=75$ & $M=80$ & $M=85$ & $M=90$ \\\\\n",
      "$A=10$ & 2.71\\% & 3.07\\% & 3.31\\% & 3.46\\% & 3.55\\% & 3.61\\% & 3.64\\% \\\\\n",
      "$A=15$ & 2.70\\% & 3.18\\% & 3.54\\% & 3.78\\% & 3.94\\% & 4.03\\% & 4.09\\% \\\\\n",
      "$A=20$ & 2.45\\% & 3.05\\% & 3.54\\% & 3.91\\% & 4.15\\% & 4.31\\% & 4.40\\% \\\\\n",
      "$A=25$ & 2.02\\% & 2.68\\% & 3.29\\% & 3.78\\% & 4.15\\% & 4.40\\% & 4.56\\% \\\\\n",
      "$A=30$ & 1.48\\% & 2.14\\% & 2.81\\% & 3.43\\% & 3.93\\% & 4.30\\% & 4.55\\% \\\\\n",
      "\\end{tabular}\n",
      "\n",
      "DCP\n"
     ]
    },
    {
     "data": {
      "text/html": [
       "<div>\n",
       "<style scoped>\n",
       "    .dataframe tbody tr th:only-of-type {\n",
       "        vertical-align: middle;\n",
       "    }\n",
       "\n",
       "    .dataframe tbody tr th {\n",
       "        vertical-align: top;\n",
       "    }\n",
       "\n",
       "    .dataframe thead th {\n",
       "        text-align: right;\n",
       "    }\n",
       "</style>\n",
       "<table border=\"1\" class=\"dataframe\">\n",
       "  <thead>\n",
       "    <tr style=\"text-align: right;\">\n",
       "      <th></th>\n",
       "      <th>$M=60$</th>\n",
       "      <th>$M=65$</th>\n",
       "      <th>$M=70$</th>\n",
       "      <th>$M=75$</th>\n",
       "      <th>$M=80$</th>\n",
       "      <th>$M=85$</th>\n",
       "      <th>$M=90$</th>\n",
       "    </tr>\n",
       "  </thead>\n",
       "  <tbody>\n",
       "    <tr>\n",
       "      <th>$A=10$</th>\n",
       "      <td>2.68</td>\n",
       "      <td>3.03</td>\n",
       "      <td>3.26</td>\n",
       "      <td>3.41</td>\n",
       "      <td>3.49</td>\n",
       "      <td>3.54</td>\n",
       "      <td>3.58</td>\n",
       "    </tr>\n",
       "    <tr>\n",
       "      <th>$A=15$</th>\n",
       "      <td>2.66</td>\n",
       "      <td>3.14</td>\n",
       "      <td>3.49</td>\n",
       "      <td>3.72</td>\n",
       "      <td>3.87</td>\n",
       "      <td>3.95</td>\n",
       "      <td>4.00</td>\n",
       "    </tr>\n",
       "    <tr>\n",
       "      <th>$A=20$</th>\n",
       "      <td>2.42</td>\n",
       "      <td>3.01</td>\n",
       "      <td>3.49</td>\n",
       "      <td>3.84</td>\n",
       "      <td>4.07</td>\n",
       "      <td>4.22</td>\n",
       "      <td>4.31</td>\n",
       "    </tr>\n",
       "    <tr>\n",
       "      <th>$A=25$</th>\n",
       "      <td>1.99</td>\n",
       "      <td>2.64</td>\n",
       "      <td>3.24</td>\n",
       "      <td>3.72</td>\n",
       "      <td>4.07</td>\n",
       "      <td>4.30</td>\n",
       "      <td>4.45</td>\n",
       "    </tr>\n",
       "    <tr>\n",
       "      <th>$A=30$</th>\n",
       "      <td>1.45</td>\n",
       "      <td>2.10</td>\n",
       "      <td>2.77</td>\n",
       "      <td>3.36</td>\n",
       "      <td>3.84</td>\n",
       "      <td>4.19</td>\n",
       "      <td>4.43</td>\n",
       "    </tr>\n",
       "  </tbody>\n",
       "</table>\n",
       "</div>"
      ],
      "text/plain": [
       "        $M=60$  $M=65$  $M=70$  $M=75$  $M=80$  $M=85$  $M=90$\n",
       "$A=10$    2.68    3.03    3.26    3.41    3.49    3.54    3.58\n",
       "$A=15$    2.66    3.14    3.49    3.72    3.87    3.95    4.00\n",
       "$A=20$    2.42    3.01    3.49    3.84    4.07    4.22    4.31\n",
       "$A=25$    1.99    2.64    3.24    3.72    4.07    4.30    4.45\n",
       "$A=30$    1.45    2.10    2.77    3.36    3.84    4.19    4.43"
      ]
     },
     "metadata": {},
     "output_type": "display_data"
    },
    {
     "name": "stdout",
     "output_type": "stream",
     "text": [
      "\\begin{tabular}{c|c|c|c|c|c|c|c}\n",
      " & $M=60$ & $M=65$ & $M=70$ & $M=75$ & $M=80$ & $M=85$ & $M=90$ \\\\\n",
      "$A=10$ & 2.68\\% & 3.03\\% & 3.26\\% & 3.41\\% & 3.49\\% & 3.54\\% & 3.58\\% \\\\\n",
      "$A=15$ & 2.66\\% & 3.14\\% & 3.49\\% & 3.72\\% & 3.87\\% & 3.95\\% & 4.00\\% \\\\\n",
      "$A=20$ & 2.42\\% & 3.01\\% & 3.49\\% & 3.84\\% & 4.07\\% & 4.22\\% & 4.31\\% \\\\\n",
      "$A=25$ & 1.99\\% & 2.64\\% & 3.24\\% & 3.72\\% & 4.07\\% & 4.30\\% & 4.45\\% \\\\\n",
      "$A=30$ & 1.45\\% & 2.10\\% & 2.77\\% & 3.36\\% & 3.84\\% & 4.19\\% & 4.43\\% \\\\\n",
      "\\end{tabular}\n",
      "\n"
     ]
    }
   ],
   "source": [
    "print(\"Percentage increase in price for reinsurance after the reinsurer issues a catbond\\n\")\n",
    "\n",
    "for c in range(4):\n",
    "    print(cat_models[c])\n",
    "    percentage_increase = ((catbond_prices[c] - prices[c]) / prices[c] * 100).round(2)\n",
    "    print(prices_to_tex(percentage_increase, As, Ms).replace(\"00 \", \"\\% \"))"
   ]
  },
  {
   "cell_type": "markdown",
   "metadata": {},
   "source": [
    "## Table 17: Default risk premium with catbond"
   ]
  },
  {
   "cell_type": "code",
   "execution_count": null,
   "metadata": {},
   "outputs": [
    {
     "name": "stdout",
     "output_type": "stream",
     "text": [
      "CPU times: user 1min 15s, sys: 1.72 s, total: 1min 17s\n",
      "Wall time: 1min 17s\n"
     ]
    }
   ],
   "source": [
    "%%time\n",
    "\n",
    "K = 40.0\n",
    "F = 25.0\n",
    "\n",
    "risky_prices = reinsurance_prices(\n",
    "    R,\n",
    "    seed,\n",
    "    maturity,\n",
    "    k,\n",
    "    eta_r,\n",
    "    m,\n",
    "    phi_V,\n",
    "    sigma_V,\n",
    "    phi_L,\n",
    "    sigma_L,\n",
    "    upsilon,\n",
    "    V_0,\n",
    "    L_0,\n",
    "    r_0,\n",
    "    simulators,\n",
    "    mu_C,\n",
    "    sigma_C,\n",
    "    markup,\n",
    ")[:, np.newaxis]\n",
    "\n",
    "safe_prices = reinsurance_prices(\n",
    "    R,\n",
    "    seed,\n",
    "    maturity,\n",
    "    k,\n",
    "    eta_r,\n",
    "    m,\n",
    "    phi_V,\n",
    "    sigma_V,\n",
    "    phi_L,\n",
    "    sigma_L,\n",
    "    upsilon,\n",
    "    V_0,\n",
    "    L_0,\n",
    "    r_0,\n",
    "    simulators,\n",
    "    mu_C,\n",
    "    sigma_C,\n",
    "    markup,\n",
    "    defaultable=False,\n",
    ")[:, np.newaxis]\n",
    "\n",
    "catbond_prices = reinsurance_prices(\n",
    "    R,\n",
    "    seed,\n",
    "    maturity,\n",
    "    k,\n",
    "    eta_r,\n",
    "    m,\n",
    "    phi_V,\n",
    "    sigma_V,\n",
    "    phi_L,\n",
    "    sigma_L,\n",
    "    upsilon,\n",
    "    V_0,\n",
    "    L_0,\n",
    "    r_0,\n",
    "    simulators,\n",
    "    mu_C,\n",
    "    sigma_C,\n",
    "    markup,\n",
    "    catbond=True,\n",
    "    K=K,\n",
    "    F=F,\n",
    ")[:, np.newaxis]\n",
    "\n"
   ]
  },
  {
   "cell_type": "code",
   "execution_count": null,
   "metadata": {},
   "outputs": [
    {
     "data": {
      "text/plain": [
       "array([[0.0279],\n",
       "       [0.0306],\n",
       "       [0.2004],\n",
       "       [0.197 ]])"
      ]
     },
     "execution_count": null,
     "metadata": {},
     "output_type": "execute_result"
    }
   ],
   "source": [
    "catbond_premium = catbond_prices - risky_prices\n",
    "catbond_premium.round(4)"
   ]
  },
  {
   "cell_type": "code",
   "execution_count": null,
   "metadata": {},
   "outputs": [
    {
     "data": {
      "text/plain": [
       "array([[2.8086, 2.8365, 2.8495, 0.0279],\n",
       "       [2.8349, 2.8655, 2.879 , 0.0306],\n",
       "       [4.5502, 4.7506, 4.8205, 0.2004],\n",
       "       [4.576 , 4.773 , 4.8414, 0.197 ]])"
      ]
     },
     "execution_count": null,
     "metadata": {},
     "output_type": "execute_result"
    }
   ],
   "source": [
    "catbond_risk_premiums = np.hstack((risky_prices, catbond_prices, safe_prices, catbond_premium)).round(4)\n",
    "catbond_risk_premiums"
   ]
  },
  {
   "cell_type": "code",
   "execution_count": null,
   "metadata": {},
   "outputs": [
    {
     "name": "stdout",
     "output_type": "stream",
     "text": [
      "\\begin{tabular}{lrrrr}\n",
      " & 0 & 1 & 2 & 3 \\\\\n",
      "0 & 2.8086 & 2.8365 & 2.8495 & 0.0279 \\\\\n",
      "1 & 2.8349 & 2.8655 & 2.8790 & 0.0306 \\\\\n",
      "2 & 4.5502 & 4.7506 & 4.8205 & 0.2004 \\\\\n",
      "3 & 4.5760 & 4.7730 & 4.8414 & 0.1970 \\\\\n",
      "\\end{tabular}\n",
      "\n"
     ]
    }
   ],
   "source": [
    "print(pd.DataFrame(catbond_risk_premiums).style.to_latex().replace(\"00 \", \" \"))"
   ]
  }
 ],
 "metadata": {
  "jupytext": {
   "formats": "ipynb,auto:light"
  },
  "kernelspec": {
   "display_name": "Python [conda env:catbond]",
   "language": "python",
   "name": "conda-env-catbond-py"
  }
 },
 "nbformat": 4,
 "nbformat_minor": 2
}
