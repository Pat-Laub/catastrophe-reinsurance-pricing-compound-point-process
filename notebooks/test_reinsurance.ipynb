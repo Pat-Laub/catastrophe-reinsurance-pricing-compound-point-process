{
 "cells": [
  {
   "cell_type": "code",
   "execution_count": 1,
   "metadata": {},
   "outputs": [],
   "source": [
    "%config InlineBackend.figure_format='retina'\n",
    "\n",
    "# Add the parent directory to the path so that we can import the modules.\n",
    "import os\n",
    "import sys\n",
    "\n",
    "module_path = os.path.abspath(os.path.join(\"..\"))\n",
    "if module_path not in sys.path:\n",
    "    sys.path.append(module_path)\n",
    "\n",
    "import matplotlib.pyplot as plt\n",
    "import pandas as pd\n",
    "\n",
    "from dynamic_contagion import *\n",
    "from market_conditions import *\n",
    "from reinsurance import *"
   ]
  },
  {
   "cell_type": "code",
   "execution_count": 2,
   "metadata": {},
   "outputs": [],
   "source": [
    "# Other parameters\n",
    "maturity = 3\n",
    "markup = 0.4\n",
    "R = int(1e5)\n",
    "seed = 123\n",
    "\n",
    "# Asset parameters\n",
    "V_0 = 130\n",
    "phi_V = -3  # * (1.3) # = V0 / L0\n",
    "sigma_V = 0.05\n",
    "\n",
    "# Liability parameters\n",
    "L_0 = 100\n",
    "phi_L = -3\n",
    "sigma_L = 0.02\n",
    "\n",
    "# Interest rate parameters\n",
    "r_0 = 0.02\n",
    "k = 0.2\n",
    "m = 0.05  # 0.5\n",
    "upsilon = 0.1\n",
    "eta_r = -0.01"
   ]
  },
  {
   "cell_type": "code",
   "execution_count": 3,
   "metadata": {},
   "outputs": [],
   "source": [
    "all_time_series = get_market_conditions(\n",
    "    R,\n",
    "    seed,\n",
    "    maturity,\n",
    "    k,\n",
    "    eta_r,\n",
    "    m,\n",
    "    phi_V,\n",
    "    sigma_V,\n",
    "    phi_L,\n",
    "    sigma_L,\n",
    "    upsilon,\n",
    "    V_0,\n",
    "    L_0,\n",
    "    r_0,\n",
    ")\n",
    "\n",
    "V_T, L_T, int_r_t = summarise_market_conditions(all_time_series, maturity)"
   ]
  },
  {
   "cell_type": "code",
   "execution_count": 4,
   "metadata": {},
   "outputs": [],
   "source": [
    "assert np.isnan(all_time_series).mean() == 0"
   ]
  },
  {
   "attachments": {},
   "cell_type": "markdown",
   "metadata": {},
   "source": [
    "## Generate catastrophe scenarios"
   ]
  },
  {
   "cell_type": "code",
   "execution_count": 5,
   "metadata": {},
   "outputs": [],
   "source": [
    "# Poisson process\n",
    "def simulate_poisson(seed):\n",
    "    lambda_ = 0.5\n",
    "    rg = rnd.default_rng(seed)\n",
    "    return rg.poisson(lambda_ * maturity)\n",
    "\n",
    "\n",
    "# Cox proces\n",
    "def simulate_cox(seed):\n",
    "    lambda0 = 0.49\n",
    "    a = 0.4\n",
    "    rho = 0.4\n",
    "    delta = 1\n",
    "\n",
    "    rg = rnd.default_rng(seed)\n",
    "    selfJumpSizeDist = lambda rg: 0\n",
    "    extJumpSizeDist = lambda rg: rg.uniform(0, 0.5)\n",
    "\n",
    "    return simulate_num_dynamic_contagion(\n",
    "        rg, maturity, lambda0, a, rho, delta, selfJumpSizeDist, extJumpSizeDist\n",
    "    )\n",
    "\n",
    "\n",
    "# Hawkes process\n",
    "def simulate_hawkes(seed):\n",
    "    lambda0 = 0.47\n",
    "    a = 0.26\n",
    "    rho = 0.4\n",
    "    delta = 1\n",
    "\n",
    "    rg = rnd.default_rng(seed)\n",
    "    selfJumpSizeDist = lambda rg: rg.uniform()\n",
    "    extJumpSizeDist = lambda rg: 0\n",
    "\n",
    "    return simulate_num_dynamic_contagion(\n",
    "        rg, maturity, lambda0, a, rho, delta, selfJumpSizeDist, extJumpSizeDist\n",
    "    )\n",
    "\n",
    "\n",
    "# Dynamic contagion process\n",
    "def simulate_dcp(seed):\n",
    "    lambda0 = 0.29\n",
    "    a = 0.26\n",
    "    rho = 0.4\n",
    "    delta = 1\n",
    "\n",
    "    rg = rnd.default_rng(seed)\n",
    "    selfJumpSizeDist = lambda rg: rg.uniform()\n",
    "    extJumpSizeDist = lambda rg: rg.uniform(0, 0.5)\n",
    "\n",
    "    return simulate_num_dynamic_contagion(\n",
    "        rg, maturity, lambda0, a, rho, delta, selfJumpSizeDist, extJumpSizeDist\n",
    "    )"
   ]
  },
  {
   "cell_type": "code",
   "execution_count": 6,
   "metadata": {},
   "outputs": [
    {
     "name": "stdout",
     "output_type": "stream",
     "text": [
      "CPU times: user 6.97 s, sys: 93.8 ms, total: 7.07 s\n",
      "Wall time: 7.07 s\n"
     ]
    }
   ],
   "source": [
    "%%time\n",
    "# Catastrophe loss size distribution parameters\n",
    "mu_C = 2\n",
    "sigma_C = 0.5\n",
    "\n",
    "seed = 123\n",
    "\n",
    "C_T_poisson, num_cats_poisson = simulate_catastrophe_losses(\n",
    "    seed, R, simulate_poisson, mu_C, sigma_C\n",
    ")\n",
    "\n",
    "C_T_cox, num_cats_cox = simulate_catastrophe_losses(\n",
    "    seed, R, simulate_cox, mu_C, sigma_C\n",
    ")\n",
    "\n",
    "C_T_hawkes, num_cats_hawkes = simulate_catastrophe_losses(\n",
    "    seed, R, simulate_hawkes, mu_C, sigma_C\n",
    ")\n",
    "\n",
    "C_T_dcp, num_cats_dcp = simulate_catastrophe_losses(\n",
    "    seed, R, simulate_dcp, mu_C, sigma_C\n",
    ")"
   ]
  },
  {
   "cell_type": "code",
   "execution_count": 7,
   "metadata": {},
   "outputs": [],
   "source": [
    "# Poisson process\n",
    "def simulate_poisson(seed):\n",
    "    lambda_ = 0.5\n",
    "    rg = rnd.default_rng(seed)\n",
    "    return rg.poisson(lambda_ * maturity)\n",
    "\n",
    "\n",
    "# Cox proces\n",
    "def simulate_cox(seed):\n",
    "    lambda0 = 0.49\n",
    "    a = 0.4\n",
    "    rho = 0.4\n",
    "    delta = 1\n",
    "\n",
    "    return simulate_num_dynamic_contagion_uniform_jumps(\n",
    "        seed, maturity, lambda0, a, rho, delta, 0.0, 0.0, 0.0, 0.5\n",
    "    )\n",
    "\n",
    "\n",
    "# Hawkes process\n",
    "def simulate_hawkes(seed):\n",
    "    lambda0 = 0.47\n",
    "    a = 0.26\n",
    "    rho = 0.4\n",
    "    delta = 1\n",
    "\n",
    "    return simulate_num_dynamic_contagion_uniform_jumps(\n",
    "        seed, maturity, lambda0, a, rho, delta, 0.0, 1.0, 0.0, 0.0\n",
    "    )\n",
    "\n",
    "\n",
    "# Dynamic contagion process\n",
    "def simulate_dcp(seed):\n",
    "    lambda0 = 0.29\n",
    "    a = 0.26\n",
    "    rho = 0.4\n",
    "    delta = 1\n",
    "\n",
    "    return simulate_num_dynamic_contagion_uniform_jumps(\n",
    "        seed, maturity, lambda0, a, rho, delta, 0.0, 1.0, 0.0, 0.5\n",
    "    )"
   ]
  },
  {
   "cell_type": "code",
   "execution_count": 8,
   "metadata": {},
   "outputs": [
    {
     "name": "stdout",
     "output_type": "stream",
     "text": [
      "CPU times: user 2.49 s, sys: 44.3 ms, total: 2.53 s\n",
      "Wall time: 2.53 s\n"
     ]
    }
   ],
   "source": [
    "%%time\n",
    "# Catastrophe loss size distribution parameters\n",
    "mu_C = 2\n",
    "sigma_C = 0.5\n",
    "\n",
    "seed = 123\n",
    "\n",
    "C_T_poisson, num_cats_poisson = simulate_catastrophe_losses(\n",
    "    seed, R, simulate_poisson, mu_C, sigma_C\n",
    ")\n",
    "\n",
    "C_T_cox, num_cats_cox = simulate_catastrophe_losses(\n",
    "    seed, R, simulate_cox, mu_C, sigma_C\n",
    ")\n",
    "\n",
    "C_T_hawkes, num_cats_hawkes = simulate_catastrophe_losses(\n",
    "    seed, R, simulate_hawkes, mu_C, sigma_C\n",
    ")\n",
    "\n",
    "C_T_dcp, num_cats_dcp = simulate_catastrophe_losses(\n",
    "    seed, R, simulate_dcp, mu_C, sigma_C\n",
    ")"
   ]
  },
  {
   "cell_type": "code",
   "execution_count": 9,
   "metadata": {},
   "outputs": [
    {
     "name": "stdout",
     "output_type": "stream",
     "text": [
      "Average number of catastrophes from Poisson process: 1.50\n",
      "Average number of catastrophes from Cox process: 1.49\n",
      "Average number of catastrophes from Hawkes process: 1.48\n",
      "Average number of catastrophes from dynamic contagion process: 1.49\n"
     ]
    }
   ],
   "source": [
    "print(\n",
    "    f\"Average number of catastrophes from Poisson process: {np.mean(num_cats_poisson):.2f}\"\n",
    ")\n",
    "print(f\"Average number of catastrophes from Cox process: {np.mean(num_cats_cox):.2f}\")\n",
    "print(\n",
    "    f\"Average number of catastrophes from Hawkes process: {np.mean(num_cats_hawkes):.2f}\"\n",
    ")\n",
    "print(\n",
    "    f\"Average number of catastrophes from dynamic contagion process: {np.mean(num_cats_dcp):.2f}\"\n",
    ")"
   ]
  },
  {
   "cell_type": "code",
   "execution_count": 10,
   "metadata": {},
   "outputs": [
    {
     "name": "stdout",
     "output_type": "stream",
     "text": [
      "Mean/variance catastrophe loss from Poisson process: 12.53, 134.95\n",
      "Mean/variance catastrophe loss from Cox process: 12.47, 138.13\n",
      "Mean/variance catastrophe loss from Hawkes process: 12.38, 269.68\n",
      "Mean/variance catastrophe loss from dynamic contagion process: 12.46, 269.36\n"
     ]
    }
   ],
   "source": [
    "print(\n",
    "    f\"Mean/variance catastrophe loss from Poisson process: {np.mean(C_T_poisson):.2f}, {np.var(C_T_poisson):.2f}\"\n",
    ")\n",
    "print(\n",
    "    f\"Mean/variance catastrophe loss from Cox process: {np.mean(C_T_cox):.2f}, {np.var(C_T_cox):.2f}\"\n",
    ")\n",
    "print(\n",
    "    f\"Mean/variance catastrophe loss from Hawkes process: {np.mean(C_T_hawkes):.2f}, {np.var(C_T_hawkes):.2f}\"\n",
    ")\n",
    "print(\n",
    "    f\"Mean/variance catastrophe loss from dynamic contagion process: {np.mean(C_T_dcp):.2f}, {np.var(C_T_dcp):.2f}\"\n",
    ")"
   ]
  },
  {
   "cell_type": "code",
   "execution_count": 11,
   "metadata": {},
   "outputs": [
    {
     "name": "stdout",
     "output_type": "stream",
     "text": [
      "Min/max catastrophe loss from Poisson process: 0.00, 107.04\n",
      "Min/max catastrophe loss from Cox process: 0.00, 113.80\n",
      "Min/max catastrophe loss from Hawkes process: 0.00, 228.34\n",
      "Min/max catastrophe loss from dynamic contagion process: 0.00, 219.89\n"
     ]
    }
   ],
   "source": [
    "print(\n",
    "    f\"Min/max catastrophe loss from Poisson process: {np.min(C_T_poisson):.2f}, {np.max(C_T_poisson):.2f}\"\n",
    ")\n",
    "print(\n",
    "    f\"Min/max catastrophe loss from Cox process: {np.min(C_T_cox):.2f}, {np.max(C_T_cox):.2f}\"\n",
    ")\n",
    "print(\n",
    "    f\"Min/max catastrophe loss from Hawkes process: {np.min(C_T_hawkes):.2f}, {np.max(C_T_hawkes):.2f}\"\n",
    ")\n",
    "print(\n",
    "    f\"Min/max catastrophe loss from dynamic contagion process: {np.min(C_T_dcp):.2f}, {np.max(C_T_dcp):.2f}\"\n",
    ")"
   ]
  },
  {
   "cell_type": "code",
   "execution_count": 12,
   "metadata": {},
   "outputs": [
    {
     "data": {
      "image/png": "[encoded data removed]",
      "text/plain": [
       "<Figure size 800x250 with 1 Axes>"
      ]
     },
     "metadata": {
      "image/png": {
       "height": 255,
       "width": 729
      }
     },
     "output_type": "display_data"
    }
   ],
   "source": [
    "# Plot a grouped vertical bar charts showing the number of simulations which had `n` catastrophes according to each of the arrival processes.\n",
    "def plot_num_cats(num_cats_poisson, num_cats_cox, num_cats_hawkes, num_cats_dcp):\n",
    "    num_cats_poisson = np.floor(num_cats_poisson)\n",
    "    num_cats_cox = np.floor(num_cats_cox)\n",
    "    num_cats_hawkes = np.floor(num_cats_hawkes)\n",
    "    num_cats_dcp = np.floor(num_cats_dcp)\n",
    "\n",
    "    max_cats = np.max(\n",
    "        [\n",
    "            np.max(num_cats_poisson),\n",
    "            np.max(num_cats_cox),\n",
    "            np.max(num_cats_hawkes),\n",
    "            np.max(num_cats_dcp),\n",
    "        ]\n",
    "    )\n",
    "    min_cats = np.min(\n",
    "        [\n",
    "            np.min(num_cats_poisson),\n",
    "            np.min(num_cats_cox),\n",
    "            np.min(num_cats_hawkes),\n",
    "            np.min(num_cats_dcp),\n",
    "        ]\n",
    "    )\n",
    "\n",
    "    num_bins = int(max_cats - min_cats + 1)\n",
    "\n",
    "    bins = np.linspace(min_cats, max_cats, num_bins + 1)\n",
    "    bins = np.floor(bins)\n",
    "\n",
    "    hist_poisson, _ = np.histogram(num_cats_poisson, bins=bins)\n",
    "    hist_cox, _ = np.histogram(num_cats_cox, bins=bins)\n",
    "    hist_hawkes, _ = np.histogram(num_cats_hawkes, bins=bins)\n",
    "    hist_dcp, _ = np.histogram(num_cats_dcp, bins=bins)\n",
    "\n",
    "    width = 0.2\n",
    "    x = np.arange(len(bins) - 1)\n",
    "\n",
    "    plt.bar(x - width, hist_poisson, width, label=\"Poisson\")\n",
    "    plt.bar(x, hist_cox, width, label=\"Cox\")\n",
    "    plt.bar(x + width, hist_hawkes, width, label=\"Hawkes\")\n",
    "    plt.bar(x + 2 * width, hist_dcp, width, label=\"DCP\")\n",
    "\n",
    "    plt.xticks(x, bins[:-1])\n",
    "    plt.legend()\n",
    "\n",
    "    plt.xlim(0.5, 11.0)\n",
    "    plt.xlabel(\"Number of catastrophes\")\n",
    "    plt.ylabel(\"Number of simulations\")\n",
    "\n",
    "    # Change the aspect ratio to be wider\n",
    "    plt.gcf().set_size_inches(8, 2.5)\n",
    "\n",
    "    # Remove the top and right spines\n",
    "    plt.gca().spines[\"top\"].set_visible(False)\n",
    "    plt.gca().spines[\"right\"].set_visible(False)\n",
    "\n",
    "\n",
    "plot_num_cats(num_cats_poisson, num_cats_cox, num_cats_hawkes, num_cats_dcp)\n",
    "plt.savefig(\"num_catastrophe_hists.png\")"
   ]
  },
  {
   "attachments": {},
   "cell_type": "markdown",
   "metadata": {},
   "source": [
    "## Tables 1-4 (LaTeX)"
   ]
  },
  {
   "cell_type": "code",
   "execution_count": 13,
   "metadata": {},
   "outputs": [],
   "source": [
    "ROUNDING = 4"
   ]
  },
  {
   "cell_type": "code",
   "execution_count": 14,
   "metadata": {},
   "outputs": [
    {
     "data": {
      "text/html": [
       "<div>\n",
       "<style scoped>\n",
       "    .dataframe tbody tr th:only-of-type {\n",
       "        vertical-align: middle;\n",
       "    }\n",
       "\n",
       "    .dataframe tbody tr th {\n",
       "        vertical-align: top;\n",
       "    }\n",
       "\n",
       "    .dataframe thead th {\n",
       "        text-align: right;\n",
       "    }\n",
       "</style>\n",
       "<table border=\"1\" class=\"dataframe\">\n",
       "  <thead>\n",
       "    <tr style=\"text-align: right;\">\n",
       "      <th></th>\n",
       "      <th>$M=60$</th>\n",
       "      <th>$M=65$</th>\n",
       "      <th>$M=70$</th>\n",
       "      <th>$M=75$</th>\n",
       "      <th>$M=80$</th>\n",
       "      <th>$M=85$</th>\n",
       "      <th>$M=90$</th>\n",
       "    </tr>\n",
       "  </thead>\n",
       "  <tbody>\n",
       "    <tr>\n",
       "      <th>$A=10$</th>\n",
       "      <td>7.2393</td>\n",
       "      <td>7.2459</td>\n",
       "      <td>7.2490</td>\n",
       "      <td>7.2506</td>\n",
       "      <td>7.2514</td>\n",
       "      <td>7.2517</td>\n",
       "      <td>7.2519</td>\n",
       "    </tr>\n",
       "    <tr>\n",
       "      <th>$A=15$</th>\n",
       "      <td>4.5757</td>\n",
       "      <td>4.5828</td>\n",
       "      <td>4.5861</td>\n",
       "      <td>4.5878</td>\n",
       "      <td>4.5887</td>\n",
       "      <td>4.5891</td>\n",
       "      <td>4.5893</td>\n",
       "    </tr>\n",
       "    <tr>\n",
       "      <th>$A=20$</th>\n",
       "      <td>2.7836</td>\n",
       "      <td>2.7914</td>\n",
       "      <td>2.7949</td>\n",
       "      <td>2.7968</td>\n",
       "      <td>2.7977</td>\n",
       "      <td>2.7981</td>\n",
       "      <td>2.7983</td>\n",
       "    </tr>\n",
       "    <tr>\n",
       "      <th>$A=25$</th>\n",
       "      <td>1.6387</td>\n",
       "      <td>1.6471</td>\n",
       "      <td>1.6511</td>\n",
       "      <td>1.6530</td>\n",
       "      <td>1.6540</td>\n",
       "      <td>1.6544</td>\n",
       "      <td>1.6547</td>\n",
       "    </tr>\n",
       "    <tr>\n",
       "      <th>$A=30$</th>\n",
       "      <td>0.9342</td>\n",
       "      <td>0.9433</td>\n",
       "      <td>0.9476</td>\n",
       "      <td>0.9498</td>\n",
       "      <td>0.9508</td>\n",
       "      <td>0.9513</td>\n",
       "      <td>0.9516</td>\n",
       "    </tr>\n",
       "  </tbody>\n",
       "</table>\n",
       "</div>"
      ],
      "text/plain": [
       "        $M=60$  $M=65$  $M=70$  $M=75$  $M=80$  $M=85$  $M=90$\n",
       "$A=10$  7.2393  7.2459  7.2490  7.2506  7.2514  7.2517  7.2519\n",
       "$A=15$  4.5757  4.5828  4.5861  4.5878  4.5887  4.5891  4.5893\n",
       "$A=20$  2.7836  2.7914  2.7949  2.7968  2.7977  2.7981  2.7983\n",
       "$A=25$  1.6387  1.6471  1.6511  1.6530  1.6540  1.6544  1.6547\n",
       "$A=30$  0.9342  0.9433  0.9476  0.9498  0.9508  0.9513  0.9516"
      ]
     },
     "metadata": {},
     "output_type": "display_data"
    },
    {
     "name": "stdout",
     "output_type": "stream",
     "text": [
      "\\begin{tabular}{c|c|c|c|c|c|c|c}\n",
      " & $M=60$ & $M=65$ & $M=70$ & $M=75$ & $M=80$ & $M=85$ & $M=90$ \\\\\n",
      "$A=10$ & 7.2393 & 7.2459 & 7.2490 & 7.2506 & 7.2514 & 7.2517 & 7.2519 \\\\\n",
      "$A=15$ & 4.5757 & 4.5828 & 4.5861 & 4.5878 & 4.5887 & 4.5891 & 4.5893 \\\\\n",
      "$A=20$ & 2.7836 & 2.7914 & 2.7949 & 2.7968 & 2.7977 & 2.7981 & 2.7983 \\\\\n",
      "$A=25$ & 1.6387 & 1.6471 & 1.6511 & 1.6530 & 1.6540 & 1.6544 & 1.6547 \\\\\n",
      "$A=30$ & 0.9342 & 0.9433 & 0.9476 & 0.9498 & 0.9508 & 0.9513 & 0.9516 \\\\\n",
      "\\end{tabular}\n",
      "\n"
     ]
    }
   ],
   "source": [
    "prices_poisson = calculate_prices(V_T, L_T, int_r_t, C_T_poisson, markup).round(\n",
    "    ROUNDING\n",
    ")\n",
    "display(prices_poisson)\n",
    "print(\n",
    "    prices_poisson.style.to_latex()\n",
    "    .replace(\"00 \", \" \")\n",
    "    .replace(\"lrrrrrrr\", \"c|c|c|c|c|c|c|c\")\n",
    ")"
   ]
  },
  {
   "cell_type": "code",
   "execution_count": 15,
   "metadata": {},
   "outputs": [
    {
     "data": {
      "text/html": [
       "<div>\n",
       "<style scoped>\n",
       "    .dataframe tbody tr th:only-of-type {\n",
       "        vertical-align: middle;\n",
       "    }\n",
       "\n",
       "    .dataframe tbody tr th {\n",
       "        vertical-align: top;\n",
       "    }\n",
       "\n",
       "    .dataframe thead th {\n",
       "        text-align: right;\n",
       "    }\n",
       "</style>\n",
       "<table border=\"1\" class=\"dataframe\">\n",
       "  <thead>\n",
       "    <tr style=\"text-align: right;\">\n",
       "      <th></th>\n",
       "      <th>$M=60$</th>\n",
       "      <th>$M=65$</th>\n",
       "      <th>$M=70$</th>\n",
       "      <th>$M=75$</th>\n",
       "      <th>$M=80$</th>\n",
       "      <th>$M=85$</th>\n",
       "      <th>$M=90$</th>\n",
       "    </tr>\n",
       "  </thead>\n",
       "  <tbody>\n",
       "    <tr>\n",
       "      <th>$A=10$</th>\n",
       "      <td>7.2455</td>\n",
       "      <td>7.2528</td>\n",
       "      <td>7.2564</td>\n",
       "      <td>7.2577</td>\n",
       "      <td>7.2583</td>\n",
       "      <td>7.2586</td>\n",
       "      <td>7.2588</td>\n",
       "    </tr>\n",
       "    <tr>\n",
       "      <th>$A=15$</th>\n",
       "      <td>4.6069</td>\n",
       "      <td>4.6148</td>\n",
       "      <td>4.6187</td>\n",
       "      <td>4.6201</td>\n",
       "      <td>4.6207</td>\n",
       "      <td>4.6211</td>\n",
       "      <td>4.6213</td>\n",
       "    </tr>\n",
       "    <tr>\n",
       "      <th>$A=20$</th>\n",
       "      <td>2.8289</td>\n",
       "      <td>2.8374</td>\n",
       "      <td>2.8417</td>\n",
       "      <td>2.8432</td>\n",
       "      <td>2.8439</td>\n",
       "      <td>2.8443</td>\n",
       "      <td>2.8444</td>\n",
       "    </tr>\n",
       "    <tr>\n",
       "      <th>$A=25$</th>\n",
       "      <td>1.6869</td>\n",
       "      <td>1.6962</td>\n",
       "      <td>1.7008</td>\n",
       "      <td>1.7025</td>\n",
       "      <td>1.7032</td>\n",
       "      <td>1.7036</td>\n",
       "      <td>1.7038</td>\n",
       "    </tr>\n",
       "    <tr>\n",
       "      <th>$A=30$</th>\n",
       "      <td>0.9810</td>\n",
       "      <td>0.9911</td>\n",
       "      <td>0.9962</td>\n",
       "      <td>0.9980</td>\n",
       "      <td>0.9988</td>\n",
       "      <td>0.9992</td>\n",
       "      <td>0.9994</td>\n",
       "    </tr>\n",
       "  </tbody>\n",
       "</table>\n",
       "</div>"
      ],
      "text/plain": [
       "        $M=60$  $M=65$  $M=70$  $M=75$  $M=80$  $M=85$  $M=90$\n",
       "$A=10$  7.2455  7.2528  7.2564  7.2577  7.2583  7.2586  7.2588\n",
       "$A=15$  4.6069  4.6148  4.6187  4.6201  4.6207  4.6211  4.6213\n",
       "$A=20$  2.8289  2.8374  2.8417  2.8432  2.8439  2.8443  2.8444\n",
       "$A=25$  1.6869  1.6962  1.7008  1.7025  1.7032  1.7036  1.7038\n",
       "$A=30$  0.9810  0.9911  0.9962  0.9980  0.9988  0.9992  0.9994"
      ]
     },
     "metadata": {},
     "output_type": "display_data"
    },
    {
     "name": "stdout",
     "output_type": "stream",
     "text": [
      "\\begin{tabular}{c|c|c|c|c|c|c|c}\n",
      " & $M=60$ & $M=65$ & $M=70$ & $M=75$ & $M=80$ & $M=85$ & $M=90$ \\\\\n",
      "$A=10$ & 7.2455 & 7.2528 & 7.2564 & 7.2577 & 7.2583 & 7.2586 & 7.2588 \\\\\n",
      "$A=15$ & 4.6069 & 4.6148 & 4.6187 & 4.6201 & 4.6207 & 4.6211 & 4.6213 \\\\\n",
      "$A=20$ & 2.8289 & 2.8374 & 2.8417 & 2.8432 & 2.8439 & 2.8443 & 2.8444 \\\\\n",
      "$A=25$ & 1.6869 & 1.6962 & 1.7008 & 1.7025 & 1.7032 & 1.7036 & 1.7038 \\\\\n",
      "$A=30$ & 0.9810 & 0.9911 & 0.9962 & 0.9980 & 0.9988 & 0.9992 & 0.9994 \\\\\n",
      "\\end{tabular}\n",
      "\n"
     ]
    }
   ],
   "source": [
    "prices_cox = calculate_prices(V_T, L_T, int_r_t, C_T_cox, markup).round(ROUNDING)\n",
    "display(prices_cox)\n",
    "print(\n",
    "    prices_cox.style.to_latex()\n",
    "    .replace(\"00 \", \" \")\n",
    "    .replace(\"lrrrrrrr\", \"c|c|c|c|c|c|c|c\")\n",
    ")"
   ]
  },
  {
   "cell_type": "code",
   "execution_count": 16,
   "metadata": {},
   "outputs": [
    {
     "data": {
      "text/html": [
       "<div>\n",
       "<style scoped>\n",
       "    .dataframe tbody tr th:only-of-type {\n",
       "        vertical-align: middle;\n",
       "    }\n",
       "\n",
       "    .dataframe tbody tr th {\n",
       "        vertical-align: top;\n",
       "    }\n",
       "\n",
       "    .dataframe thead th {\n",
       "        text-align: right;\n",
       "    }\n",
       "</style>\n",
       "<table border=\"1\" class=\"dataframe\">\n",
       "  <thead>\n",
       "    <tr style=\"text-align: right;\">\n",
       "      <th></th>\n",
       "      <th>$M=60$</th>\n",
       "      <th>$M=65$</th>\n",
       "      <th>$M=70$</th>\n",
       "      <th>$M=75$</th>\n",
       "      <th>$M=80$</th>\n",
       "      <th>$M=85$</th>\n",
       "      <th>$M=90$</th>\n",
       "    </tr>\n",
       "  </thead>\n",
       "  <tbody>\n",
       "    <tr>\n",
       "      <th>$A=10$</th>\n",
       "      <td>8.0602</td>\n",
       "      <td>8.1339</td>\n",
       "      <td>8.1847</td>\n",
       "      <td>8.2201</td>\n",
       "      <td>8.2455</td>\n",
       "      <td>8.2633</td>\n",
       "      <td>8.2761</td>\n",
       "    </tr>\n",
       "    <tr>\n",
       "      <th>$A=15$</th>\n",
       "      <td>5.8893</td>\n",
       "      <td>5.9693</td>\n",
       "      <td>6.0242</td>\n",
       "      <td>6.0621</td>\n",
       "      <td>6.0892</td>\n",
       "      <td>6.1080</td>\n",
       "      <td>6.1215</td>\n",
       "    </tr>\n",
       "    <tr>\n",
       "      <th>$A=20$</th>\n",
       "      <td>4.2772</td>\n",
       "      <td>4.3644</td>\n",
       "      <td>4.4240</td>\n",
       "      <td>4.4649</td>\n",
       "      <td>4.4939</td>\n",
       "      <td>4.5140</td>\n",
       "      <td>4.5282</td>\n",
       "    </tr>\n",
       "    <tr>\n",
       "      <th>$A=25$</th>\n",
       "      <td>3.0838</td>\n",
       "      <td>3.1792</td>\n",
       "      <td>3.2441</td>\n",
       "      <td>3.2886</td>\n",
       "      <td>3.3199</td>\n",
       "      <td>3.3415</td>\n",
       "      <td>3.3567</td>\n",
       "    </tr>\n",
       "    <tr>\n",
       "      <th>$A=30$</th>\n",
       "      <td>2.1903</td>\n",
       "      <td>2.2936</td>\n",
       "      <td>2.3645</td>\n",
       "      <td>2.4129</td>\n",
       "      <td>2.4469</td>\n",
       "      <td>2.4702</td>\n",
       "      <td>2.4865</td>\n",
       "    </tr>\n",
       "  </tbody>\n",
       "</table>\n",
       "</div>"
      ],
      "text/plain": [
       "        $M=60$  $M=65$  $M=70$  $M=75$  $M=80$  $M=85$  $M=90$\n",
       "$A=10$  8.0602  8.1339  8.1847  8.2201  8.2455  8.2633  8.2761\n",
       "$A=15$  5.8893  5.9693  6.0242  6.0621  6.0892  6.1080  6.1215\n",
       "$A=20$  4.2772  4.3644  4.4240  4.4649  4.4939  4.5140  4.5282\n",
       "$A=25$  3.0838  3.1792  3.2441  3.2886  3.3199  3.3415  3.3567\n",
       "$A=30$  2.1903  2.2936  2.3645  2.4129  2.4469  2.4702  2.4865"
      ]
     },
     "metadata": {},
     "output_type": "display_data"
    },
    {
     "name": "stdout",
     "output_type": "stream",
     "text": [
      "\\begin{tabular}{c|c|c|c|c|c|c|c}\n",
      " & $M=60$ & $M=65$ & $M=70$ & $M=75$ & $M=80$ & $M=85$ & $M=90$ \\\\\n",
      "$A=10$ & 8.0602 & 8.1339 & 8.1847 & 8.2201 & 8.2455 & 8.2633 & 8.2761 \\\\\n",
      "$A=15$ & 5.8893 & 5.9693 & 6.0242 & 6.0621 & 6.0892 & 6.1080 & 6.1215 \\\\\n",
      "$A=20$ & 4.2772 & 4.3644 & 4.4240 & 4.4649 & 4.4939 & 4.5140 & 4.5282 \\\\\n",
      "$A=25$ & 3.0838 & 3.1792 & 3.2441 & 3.2886 & 3.3199 & 3.3415 & 3.3567 \\\\\n",
      "$A=30$ & 2.1903 & 2.2936 & 2.3645 & 2.4129 & 2.4469 & 2.4702 & 2.4865 \\\\\n",
      "\\end{tabular}\n",
      "\n"
     ]
    }
   ],
   "source": [
    "prices_hawkes = calculate_prices(V_T, L_T, int_r_t, C_T_hawkes, markup).round(ROUNDING)\n",
    "display(prices_hawkes)\n",
    "print(\n",
    "    prices_hawkes.style.to_latex()\n",
    "    .replace(\"00 \", \" \")\n",
    "    .replace(\"lrrrrrrr\", \"c|c|c|c|c|c|c|c\")\n",
    ")"
   ]
  },
  {
   "cell_type": "code",
   "execution_count": 17,
   "metadata": {},
   "outputs": [
    {
     "data": {
      "text/html": [
       "<div>\n",
       "<style scoped>\n",
       "    .dataframe tbody tr th:only-of-type {\n",
       "        vertical-align: middle;\n",
       "    }\n",
       "\n",
       "    .dataframe tbody tr th {\n",
       "        vertical-align: top;\n",
       "    }\n",
       "\n",
       "    .dataframe thead th {\n",
       "        text-align: right;\n",
       "    }\n",
       "</style>\n",
       "<table border=\"1\" class=\"dataframe\">\n",
       "  <thead>\n",
       "    <tr style=\"text-align: right;\">\n",
       "      <th></th>\n",
       "      <th>$M=60$</th>\n",
       "      <th>$M=65$</th>\n",
       "      <th>$M=70$</th>\n",
       "      <th>$M=75$</th>\n",
       "      <th>$M=80$</th>\n",
       "      <th>$M=85$</th>\n",
       "      <th>$M=90$</th>\n",
       "    </tr>\n",
       "  </thead>\n",
       "  <tbody>\n",
       "    <tr>\n",
       "      <th>$A=10$</th>\n",
       "      <td>8.1381</td>\n",
       "      <td>8.2089</td>\n",
       "      <td>8.2574</td>\n",
       "      <td>8.2913</td>\n",
       "      <td>8.3157</td>\n",
       "      <td>8.3329</td>\n",
       "      <td>8.3454</td>\n",
       "    </tr>\n",
       "    <tr>\n",
       "      <th>$A=15$</th>\n",
       "      <td>5.9360</td>\n",
       "      <td>6.0128</td>\n",
       "      <td>6.0652</td>\n",
       "      <td>6.1014</td>\n",
       "      <td>6.1273</td>\n",
       "      <td>6.1455</td>\n",
       "      <td>6.1587</td>\n",
       "    </tr>\n",
       "    <tr>\n",
       "      <th>$A=20$</th>\n",
       "      <td>4.3044</td>\n",
       "      <td>4.3884</td>\n",
       "      <td>4.4452</td>\n",
       "      <td>4.4844</td>\n",
       "      <td>4.5121</td>\n",
       "      <td>4.5314</td>\n",
       "      <td>4.5454</td>\n",
       "    </tr>\n",
       "    <tr>\n",
       "      <th>$A=25$</th>\n",
       "      <td>3.0967</td>\n",
       "      <td>3.1887</td>\n",
       "      <td>3.2509</td>\n",
       "      <td>3.2934</td>\n",
       "      <td>3.3234</td>\n",
       "      <td>3.3441</td>\n",
       "      <td>3.3589</td>\n",
       "    </tr>\n",
       "    <tr>\n",
       "      <th>$A=30$</th>\n",
       "      <td>2.2006</td>\n",
       "      <td>2.2999</td>\n",
       "      <td>2.3680</td>\n",
       "      <td>2.4147</td>\n",
       "      <td>2.4473</td>\n",
       "      <td>2.4696</td>\n",
       "      <td>2.4855</td>\n",
       "    </tr>\n",
       "  </tbody>\n",
       "</table>\n",
       "</div>"
      ],
      "text/plain": [
       "        $M=60$  $M=65$  $M=70$  $M=75$  $M=80$  $M=85$  $M=90$\n",
       "$A=10$  8.1381  8.2089  8.2574  8.2913  8.3157  8.3329  8.3454\n",
       "$A=15$  5.9360  6.0128  6.0652  6.1014  6.1273  6.1455  6.1587\n",
       "$A=20$  4.3044  4.3884  4.4452  4.4844  4.5121  4.5314  4.5454\n",
       "$A=25$  3.0967  3.1887  3.2509  3.2934  3.3234  3.3441  3.3589\n",
       "$A=30$  2.2006  2.2999  2.3680  2.4147  2.4473  2.4696  2.4855"
      ]
     },
     "metadata": {},
     "output_type": "display_data"
    },
    {
     "name": "stdout",
     "output_type": "stream",
     "text": [
      "\\begin{tabular}{c|c|c|c|c|c|c|c}\n",
      " & $M=60$ & $M=65$ & $M=70$ & $M=75$ & $M=80$ & $M=85$ & $M=90$ \\\\\n",
      "$A=10$ & 8.1381 & 8.2089 & 8.2574 & 8.2913 & 8.3157 & 8.3329 & 8.3454 \\\\\n",
      "$A=15$ & 5.9360 & 6.0128 & 6.0652 & 6.1014 & 6.1273 & 6.1455 & 6.1587 \\\\\n",
      "$A=20$ & 4.3044 & 4.3884 & 4.4452 & 4.4844 & 4.5121 & 4.5314 & 4.5454 \\\\\n",
      "$A=25$ & 3.0967 & 3.1887 & 3.2509 & 3.2934 & 3.3234 & 3.3441 & 3.3589 \\\\\n",
      "$A=30$ & 2.2006 & 2.2999 & 2.3680 & 2.4147 & 2.4473 & 2.4696 & 2.4855 \\\\\n",
      "\\end{tabular}\n",
      "\n"
     ]
    }
   ],
   "source": [
    "prices_dcp = calculate_prices(V_T, L_T, int_r_t, C_T_dcp, markup).round(ROUNDING)\n",
    "display(prices_dcp)\n",
    "print(\n",
    "    prices_dcp.style.to_latex()\n",
    "    .replace(\"00 \", \" \")\n",
    "    .replace(\"lrrrrrrr\", \"c|c|c|c|c|c|c|c\")\n",
    ")"
   ]
  },
  {
   "cell_type": "code",
   "execution_count": 19,
   "metadata": {},
   "outputs": [
    {
     "data": {
      "text/plain": [
       "4.545407562727567"
      ]
     },
     "execution_count": 19,
     "metadata": {},
     "output_type": "execute_result"
    }
   ],
   "source": [
    "price_dcp = calculate_prices(V_T, L_T, int_r_t, C_T_dcp, markup, A=20, M=90)\n",
    "price_dcp"
   ]
  },
  {
   "cell_type": "code",
   "execution_count": 20,
   "metadata": {},
   "outputs": [
    {
     "name": "stdout",
     "output_type": "stream",
     "text": [
      "CPU times: user 1.49 s, sys: 86.5 ms, total: 1.58 s\n",
      "Wall time: 1.58 s\n"
     ]
    },
    {
     "data": {
      "text/plain": [
       "2.801521070833136"
      ]
     },
     "execution_count": 20,
     "metadata": {},
     "output_type": "execute_result"
    }
   ],
   "source": [
    "%%time\n",
    "prices = reinsurance_prices(\n",
    "    R,\n",
    "    seed,\n",
    "    maturity,\n",
    "    k,\n",
    "    eta_r,\n",
    "    m,\n",
    "    phi_V,\n",
    "    sigma_V,\n",
    "    phi_L,\n",
    "    sigma_L,\n",
    "    upsilon,\n",
    "    V_0,\n",
    "    L_0,\n",
    "    r_0,\n",
    "    simulate_poisson,\n",
    "    mu_C,\n",
    "    sigma_C,\n",
    "    markup,\n",
    ")\n",
    "\n",
    "prices"
   ]
  }
 ],
 "metadata": {
  "kernelspec": {
   "display_name": "catbond",
   "language": "python",
   "name": "python3"
  },
  "language_info": {
   "codemirror_mode": {
    "name": "ipython",
    "version": 3
   },
   "file_extension": ".py",
   "mimetype": "text/x-python",
   "name": "python",
   "nbconvert_exporter": "python",
   "pygments_lexer": "ipython3",
   "version": "3.10.0"
  },
  "orig_nbformat": 4,
  "vscode": {
   "interpreter": {
    "hash": "dd4dc5c54768b9716edc77d917d2c6c129af2b0827205d4c9646f7e32a294aa7"
   }
  }
 },
 "nbformat": 4,
 "nbformat_minor": 2
}
