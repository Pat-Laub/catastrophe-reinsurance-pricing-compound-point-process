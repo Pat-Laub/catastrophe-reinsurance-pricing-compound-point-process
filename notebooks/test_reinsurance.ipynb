{
 "cells": [
  {
   "cell_type": "code",
   "execution_count": 1,
   "metadata": {},
   "outputs": [],
   "source": [
    "# Add the parent directory to the path so that we can import the modules.\n",
    "import os\n",
    "import sys\n",
    "\n",
    "module_path = os.path.abspath(os.path.join(\"..\"))\n",
    "if module_path not in sys.path:\n",
    "    sys.path.append(module_path)\n",
    "\n",
    "from market_conditions import *\n",
    "from dynamic_contagion import *\n",
    "from reinsurance import *\n",
    "\n",
    "import matplotlib.pyplot as plt\n",
    "import pandas as pd"
   ]
  },
  {
   "cell_type": "code",
   "execution_count": 2,
   "metadata": {},
   "outputs": [],
   "source": [
    "# Other parameters\n",
    "maturity = 3\n",
    "markup = 0.4\n",
    "R = int(1e5)\n",
    "seed = 123\n",
    "\n",
    "# Asset parameters\n",
    "V_0 = 130\n",
    "phi_V = -3  # * (1.3) # = V0 / L0\n",
    "sigma_V = 0.05\n",
    "\n",
    "# Liability parameters\n",
    "L_0 = 100\n",
    "phi_L = -3\n",
    "sigma_L = 0.02\n",
    "\n",
    "# Interest rate parameters\n",
    "r_0 = 0.02\n",
    "kappa = 0.2\n",
    "m = 0.05  # 0.5\n",
    "upsilon = 0.1\n",
    "lambda_r = -0.01"
   ]
  },
  {
   "cell_type": "code",
   "execution_count": 3,
   "metadata": {},
   "outputs": [
    {
     "name": "stdout",
     "output_type": "stream",
     "text": [
      "Loading 'c:\\Users\\Patrick\\Dropbox\\Jiwook Project Local\\catastrophe-reinsurance-pricing-compound-point-process\\data\\mc-R=100000,seed=123,maturity=3,kappa=0.2,lambda_r=-0.01,m=0.05,phi_V=-3,sigma_V=0.05,phi_L=-3,sigma_L=0.02,upsilon=0.1,V_0=130,L_0=100,r_0=0.02.npy'\n"
     ]
    },
    {
     "name": "stderr",
     "output_type": "stream",
     "text": [
      "100%|██████████| 100000/100000 [00:00<00:00, 214628.80it/s]\n"
     ]
    }
   ],
   "source": [
    "all_time_series = get_market_conditions(\n",
    "    R=R,\n",
    "    seed=seed,\n",
    "    maturity=maturity,\n",
    "    kappa=kappa,\n",
    "    lambda_r=lambda_r,\n",
    "    m=m,\n",
    "    phi_V=phi_V,\n",
    "    sigma_V=sigma_V,\n",
    "    phi_L=phi_L,\n",
    "    sigma_L=sigma_L,\n",
    "    upsilon=upsilon,\n",
    "    V_0=V_0,\n",
    "    L_0=L_0,\n",
    "    r_0=r_0,\n",
    ")\n",
    "\n",
    "V_T, L_T, int_r_t = summarise_market_conditions(all_time_series, maturity)"
   ]
  },
  {
   "cell_type": "code",
   "execution_count": 4,
   "metadata": {},
   "outputs": [],
   "source": [
    "assert np.isnan(all_time_series).mean() == 0"
   ]
  },
  {
   "cell_type": "code",
   "execution_count": 5,
   "metadata": {},
   "outputs": [],
   "source": [
    "# Poisson process\n",
    "def simulate_poisson(rg):\n",
    "    lambda_ = 0.5\n",
    "    return rg.poisson(lambda_ * maturity)\n",
    "\n",
    "\n",
    "# Cox proces\n",
    "def simulate_cox(rg):\n",
    "    lambda0 = 0.49\n",
    "    a = 0.4\n",
    "    rho = 0.4\n",
    "    delta = 1\n",
    "\n",
    "    selfJumpSizeDist = lambda rg: 0\n",
    "    extJumpSizeDist = lambda rg: rg.uniform(0, 0.5)\n",
    "\n",
    "    return simulate_num_dynamic_contagion(\n",
    "        rg, maturity, lambda0, a, rho, delta, selfJumpSizeDist, extJumpSizeDist\n",
    "    )\n",
    "\n",
    "\n",
    "# Hawkes process\n",
    "def simulate_hawkes(rg):\n",
    "    lambda0 = 0.47\n",
    "    a = 0.26\n",
    "    rho = 0.4\n",
    "    delta = 1\n",
    "\n",
    "    selfJumpSizeDist = lambda rg: rg.uniform()\n",
    "    extJumpSizeDist = lambda rg: 0\n",
    "\n",
    "    return simulate_num_dynamic_contagion(\n",
    "        rg, maturity, lambda0, a, rho, delta, selfJumpSizeDist, extJumpSizeDist\n",
    "    )\n",
    "\n",
    "\n",
    "# Dynamic contagion process\n",
    "def simulate_dcp(rg):\n",
    "    lambda0 = 0.29\n",
    "    a = 0.26\n",
    "    rho = 0.4\n",
    "    delta = 1\n",
    "\n",
    "    selfJumpSizeDist = lambda rg: rg.uniform()\n",
    "    extJumpSizeDist = lambda rg: rg.uniform(0, 0.5)\n",
    "\n",
    "    return simulate_num_dynamic_contagion(\n",
    "        rg, maturity, lambda0, a, rho, delta, selfJumpSizeDist, extJumpSizeDist\n",
    "    )"
   ]
  },
  {
   "cell_type": "code",
   "execution_count": 6,
   "metadata": {},
   "outputs": [
    {
     "data": {
      "application/vnd.jupyter.widget-view+json": {
       "model_id": "f7390a6feb9743399e4b0e04607d1b17",
       "version_major": 2,
       "version_minor": 0
      },
      "text/plain": [
       "  0%|          | 0/100000 [00:00<?, ?it/s]"
      ]
     },
     "metadata": {},
     "output_type": "display_data"
    },
    {
     "data": {
      "application/vnd.jupyter.widget-view+json": {
       "model_id": "ebcb716eab984ffc995f5a34ea46657c",
       "version_major": 2,
       "version_minor": 0
      },
      "text/plain": [
       "  0%|          | 0/100000 [00:00<?, ?it/s]"
      ]
     },
     "metadata": {},
     "output_type": "display_data"
    },
    {
     "data": {
      "application/vnd.jupyter.widget-view+json": {
       "model_id": "07b8f4265e954f7e9ef228b97ed5c1a1",
       "version_major": 2,
       "version_minor": 0
      },
      "text/plain": [
       "  0%|          | 0/100000 [00:00<?, ?it/s]"
      ]
     },
     "metadata": {},
     "output_type": "display_data"
    },
    {
     "data": {
      "application/vnd.jupyter.widget-view+json": {
       "model_id": "585fe23a0fe74defb70476e468f88fd5",
       "version_major": 2,
       "version_minor": 0
      },
      "text/plain": [
       "  0%|          | 0/100000 [00:00<?, ?it/s]"
      ]
     },
     "metadata": {},
     "output_type": "display_data"
    }
   ],
   "source": [
    "# Catastrophe loss size distribution parameters\n",
    "mu_C = 2\n",
    "sigma_C = 0.5\n",
    "\n",
    "seed = 123\n",
    "rg = rnd.default_rng(seed)\n",
    "\n",
    "C_T_poisson, num_cats_poisson = simulate_catastrophe_losses(\n",
    "    rg, R, simulate_poisson, mu_C, sigma_C\n",
    ")\n",
    "\n",
    "C_T_cox, num_cats_cox = simulate_catastrophe_losses(rg, R, simulate_cox, mu_C, sigma_C)\n",
    "\n",
    "C_T_hawkes, num_cats_hawkes = simulate_catastrophe_losses(\n",
    "    rg, R, simulate_hawkes, mu_C, sigma_C\n",
    ")\n",
    "\n",
    "C_T_dcp, num_cats_dcp = simulate_catastrophe_losses(rg, R, simulate_dcp, mu_C, sigma_C)"
   ]
  },
  {
   "cell_type": "code",
   "execution_count": 7,
   "metadata": {},
   "outputs": [
    {
     "name": "stdout",
     "output_type": "stream",
     "text": [
      "Average number of catastrophes from Poisson process: 1.50\n",
      "Average number of catastrophes from Cox process: 1.49\n",
      "Average number of catastrophes from Hawkes process: 1.47\n",
      "Average number of catastrophes from dynamic contagion process: 1.50\n"
     ]
    }
   ],
   "source": [
    "print(\n",
    "    f\"Average number of catastrophes from Poisson process: {np.mean(num_cats_poisson):.2f}\"\n",
    ")\n",
    "print(f\"Average number of catastrophes from Cox process: {np.mean(num_cats_cox):.2f}\")\n",
    "print(\n",
    "    f\"Average number of catastrophes from Hawkes process: {np.mean(num_cats_hawkes):.2f}\"\n",
    ")\n",
    "print(\n",
    "    f\"Average number of catastrophes from dynamic contagion process: {np.mean(num_cats_dcp):.2f}\"\n",
    ")"
   ]
  },
  {
   "cell_type": "code",
   "execution_count": 8,
   "metadata": {},
   "outputs": [
    {
     "name": "stdout",
     "output_type": "stream",
     "text": [
      "Mean/variance catastrophe loss from Poisson process: 12.54, 134.82\n",
      "Mean/variance catastrophe loss from Cox process: 12.48, 138.17\n",
      "Mean/variance catastrophe loss from Hawkes process: 12.33, 266.94\n",
      "Mean/variance catastrophe loss from dynamic contagion process: 12.53, 270.69\n"
     ]
    }
   ],
   "source": [
    "print(\n",
    "    f\"Mean/variance catastrophe loss from Poisson process: {np.mean(C_T_poisson):.2f}, {np.var(C_T_poisson):.2f}\"\n",
    ")\n",
    "print(\n",
    "    f\"Mean/variance catastrophe loss from Cox process: {np.mean(C_T_cox):.2f}, {np.var(C_T_cox):.2f}\"\n",
    ")\n",
    "print(\n",
    "    f\"Mean/variance catastrophe loss from Hawkes process: {np.mean(C_T_hawkes):.2f}, {np.var(C_T_hawkes):.2f}\"\n",
    ")\n",
    "print(\n",
    "    f\"Mean/variance catastrophe loss from dynamic contagion process: {np.mean(C_T_dcp):.2f}, {np.var(C_T_dcp):.2f}\"\n",
    ")"
   ]
  },
  {
   "cell_type": "code",
   "execution_count": 9,
   "metadata": {},
   "outputs": [
    {
     "name": "stdout",
     "output_type": "stream",
     "text": [
      "Min/max catastrophe loss from Poisson process: 0.00, 111.82\n",
      "Min/max catastrophe loss from Cox process: 0.00, 131.92\n",
      "Min/max catastrophe loss from Hawkes process: 0.00, 238.59\n",
      "Min/max catastrophe loss from dynamic contagion process: 0.00, 208.32\n"
     ]
    }
   ],
   "source": [
    "print(\n",
    "    f\"Min/max catastrophe loss from Poisson process: {np.min(C_T_poisson):.2f}, {np.max(C_T_poisson):.2f}\"\n",
    ")\n",
    "print(\n",
    "    f\"Min/max catastrophe loss from Cox process: {np.min(C_T_cox):.2f}, {np.max(C_T_cox):.2f}\"\n",
    ")\n",
    "print(\n",
    "    f\"Min/max catastrophe loss from Hawkes process: {np.min(C_T_hawkes):.2f}, {np.max(C_T_hawkes):.2f}\"\n",
    ")\n",
    "print(\n",
    "    f\"Min/max catastrophe loss from dynamic contagion process: {np.min(C_T_dcp):.2f}, {np.max(C_T_dcp):.2f}\"\n",
    ")"
   ]
  },
  {
   "cell_type": "code",
   "execution_count": 10,
   "metadata": {},
   "outputs": [
    {
     "data": {
      "image/png": "[encoded data removed]",
      "text/plain": [
       "<Figure size 640x480 with 1 Axes>"
      ]
     },
     "metadata": {},
     "output_type": "display_data"
    }
   ],
   "source": [
    "# Plot a grouped vertical bar charts showing the number of simulations which had `n` catastrophes according to each of the arrival processes.\n",
    "def plot_num_cats(num_cats_poisson, num_cats_cox, num_cats_hawkes, num_cats_dcp):\n",
    "    num_cats_poisson = np.floor(num_cats_poisson)\n",
    "    num_cats_cox = np.floor(num_cats_cox)\n",
    "    num_cats_hawkes = np.floor(num_cats_hawkes)\n",
    "    num_cats_dcp = np.floor(num_cats_dcp)\n",
    "\n",
    "    max_cats = np.max(\n",
    "        [\n",
    "            np.max(num_cats_poisson),\n",
    "            np.max(num_cats_cox),\n",
    "            np.max(num_cats_hawkes),\n",
    "            np.max(num_cats_dcp),\n",
    "        ]\n",
    "    )\n",
    "    min_cats = np.min(\n",
    "        [\n",
    "            np.min(num_cats_poisson),\n",
    "            np.min(num_cats_cox),\n",
    "            np.min(num_cats_hawkes),\n",
    "            np.min(num_cats_dcp),\n",
    "        ]\n",
    "    )\n",
    "\n",
    "    max_cats = min(max_cats, 10)\n",
    "\n",
    "    num_bins = int(max_cats - min_cats + 1)\n",
    "\n",
    "    bins = np.linspace(min_cats, max_cats, num_bins + 1)\n",
    "    bins = np.floor(bins)\n",
    "\n",
    "    hist_poisson, _ = np.histogram(num_cats_poisson, bins=bins)\n",
    "    hist_cox, _ = np.histogram(num_cats_cox, bins=bins)\n",
    "    hist_hawkes, _ = np.histogram(num_cats_hawkes, bins=bins)\n",
    "    hist_dcp, _ = np.histogram(num_cats_dcp, bins=bins)\n",
    "\n",
    "    width = 0.2\n",
    "    x = np.arange(len(bins) - 1)\n",
    "\n",
    "    plt.bar(x - width, hist_poisson, width, label=\"Poisson\")\n",
    "    plt.bar(x, hist_cox, width, label=\"Cox\")\n",
    "    plt.bar(x + width, hist_hawkes, width, label=\"Hawkes\")\n",
    "    plt.bar(x + 2 * width, hist_dcp, width, label=\"DCP\")\n",
    "\n",
    "    plt.xticks(x, bins[:-1])\n",
    "    plt.legend()\n",
    "\n",
    "\n",
    "plot_num_cats(num_cats_poisson, num_cats_cox, num_cats_hawkes, num_cats_dcp)"
   ]
  },
  {
   "cell_type": "code",
   "execution_count": 11,
   "metadata": {},
   "outputs": [
    {
     "data": {
      "text/html": [
       "<div>\n",
       "<style scoped>\n",
       "    .dataframe tbody tr th:only-of-type {\n",
       "        vertical-align: middle;\n",
       "    }\n",
       "\n",
       "    .dataframe tbody tr th {\n",
       "        vertical-align: top;\n",
       "    }\n",
       "\n",
       "    .dataframe thead th {\n",
       "        text-align: right;\n",
       "    }\n",
       "</style>\n",
       "<table border=\"1\" class=\"dataframe\">\n",
       "  <thead>\n",
       "    <tr style=\"text-align: right;\">\n",
       "      <th></th>\n",
       "      <th>M=60</th>\n",
       "      <th>M=65</th>\n",
       "      <th>M=70</th>\n",
       "      <th>M=75</th>\n",
       "      <th>M=80</th>\n",
       "      <th>M=85</th>\n",
       "      <th>M=90</th>\n",
       "    </tr>\n",
       "  </thead>\n",
       "  <tbody>\n",
       "    <tr>\n",
       "      <th>A=10</th>\n",
       "      <td>7.245159</td>\n",
       "      <td>7.252326</td>\n",
       "      <td>7.255910</td>\n",
       "      <td>7.257670</td>\n",
       "      <td>7.258447</td>\n",
       "      <td>7.258779</td>\n",
       "      <td>7.258987</td>\n",
       "    </tr>\n",
       "    <tr>\n",
       "      <th>A=15</th>\n",
       "      <td>4.572936</td>\n",
       "      <td>4.580775</td>\n",
       "      <td>4.584705</td>\n",
       "      <td>4.586579</td>\n",
       "      <td>4.587418</td>\n",
       "      <td>4.587768</td>\n",
       "      <td>4.587988</td>\n",
       "    </tr>\n",
       "    <tr>\n",
       "      <th>A=20</th>\n",
       "      <td>2.777340</td>\n",
       "      <td>2.785852</td>\n",
       "      <td>2.790128</td>\n",
       "      <td>2.792184</td>\n",
       "      <td>2.793084</td>\n",
       "      <td>2.793457</td>\n",
       "      <td>2.793689</td>\n",
       "    </tr>\n",
       "    <tr>\n",
       "      <th>A=25</th>\n",
       "      <td>1.632286</td>\n",
       "      <td>1.641500</td>\n",
       "      <td>1.646136</td>\n",
       "      <td>1.648355</td>\n",
       "      <td>1.649352</td>\n",
       "      <td>1.649753</td>\n",
       "      <td>1.649999</td>\n",
       "    </tr>\n",
       "    <tr>\n",
       "      <th>A=30</th>\n",
       "      <td>0.926693</td>\n",
       "      <td>0.936705</td>\n",
       "      <td>0.941683</td>\n",
       "      <td>0.944098</td>\n",
       "      <td>0.945173</td>\n",
       "      <td>0.945630</td>\n",
       "      <td>0.945897</td>\n",
       "    </tr>\n",
       "  </tbody>\n",
       "</table>\n",
       "</div>"
      ],
      "text/plain": [
       "          M=60      M=65      M=70      M=75      M=80      M=85      M=90\n",
       "A=10  7.245159  7.252326  7.255910  7.257670  7.258447  7.258779  7.258987\n",
       "A=15  4.572936  4.580775  4.584705  4.586579  4.587418  4.587768  4.587988\n",
       "A=20  2.777340  2.785852  2.790128  2.792184  2.793084  2.793457  2.793689\n",
       "A=25  1.632286  1.641500  1.646136  1.648355  1.649352  1.649753  1.649999\n",
       "A=30  0.926693  0.936705  0.941683  0.944098  0.945173  0.945630  0.945897"
      ]
     },
     "execution_count": 11,
     "metadata": {},
     "output_type": "execute_result"
    }
   ],
   "source": [
    "prices_poisson = calculate_prices(V_T, L_T, int_r_t, C_T_poisson, markup)\n",
    "prices_poisson"
   ]
  },
  {
   "cell_type": "code",
   "execution_count": 12,
   "metadata": {},
   "outputs": [
    {
     "data": {
      "text/html": [
       "<div>\n",
       "<style scoped>\n",
       "    .dataframe tbody tr th:only-of-type {\n",
       "        vertical-align: middle;\n",
       "    }\n",
       "\n",
       "    .dataframe tbody tr th {\n",
       "        vertical-align: top;\n",
       "    }\n",
       "\n",
       "    .dataframe thead th {\n",
       "        text-align: right;\n",
       "    }\n",
       "</style>\n",
       "<table border=\"1\" class=\"dataframe\">\n",
       "  <thead>\n",
       "    <tr style=\"text-align: right;\">\n",
       "      <th></th>\n",
       "      <th>M=60</th>\n",
       "      <th>M=65</th>\n",
       "      <th>M=70</th>\n",
       "      <th>M=75</th>\n",
       "      <th>M=80</th>\n",
       "      <th>M=85</th>\n",
       "      <th>M=90</th>\n",
       "    </tr>\n",
       "  </thead>\n",
       "  <tbody>\n",
       "    <tr>\n",
       "      <th>A=10</th>\n",
       "      <td>7.243868</td>\n",
       "      <td>7.251743</td>\n",
       "      <td>7.255651</td>\n",
       "      <td>7.257533</td>\n",
       "      <td>7.258338</td>\n",
       "      <td>7.258712</td>\n",
       "      <td>7.258886</td>\n",
       "    </tr>\n",
       "    <tr>\n",
       "      <th>A=15</th>\n",
       "      <td>4.598286</td>\n",
       "      <td>4.606791</td>\n",
       "      <td>4.610980</td>\n",
       "      <td>4.612986</td>\n",
       "      <td>4.613845</td>\n",
       "      <td>4.614241</td>\n",
       "      <td>4.614424</td>\n",
       "    </tr>\n",
       "    <tr>\n",
       "      <th>A=20</th>\n",
       "      <td>2.821773</td>\n",
       "      <td>2.831016</td>\n",
       "      <td>2.835508</td>\n",
       "      <td>2.837667</td>\n",
       "      <td>2.838594</td>\n",
       "      <td>2.839021</td>\n",
       "      <td>2.839216</td>\n",
       "    </tr>\n",
       "    <tr>\n",
       "      <th>A=25</th>\n",
       "      <td>1.681876</td>\n",
       "      <td>1.691930</td>\n",
       "      <td>1.696839</td>\n",
       "      <td>1.699148</td>\n",
       "      <td>1.700141</td>\n",
       "      <td>1.700608</td>\n",
       "      <td>1.700822</td>\n",
       "    </tr>\n",
       "    <tr>\n",
       "      <th>A=30</th>\n",
       "      <td>0.974720</td>\n",
       "      <td>0.985648</td>\n",
       "      <td>0.990968</td>\n",
       "      <td>0.993456</td>\n",
       "      <td>0.994524</td>\n",
       "      <td>0.995028</td>\n",
       "      <td>0.995268</td>\n",
       "    </tr>\n",
       "  </tbody>\n",
       "</table>\n",
       "</div>"
      ],
      "text/plain": [
       "          M=60      M=65      M=70      M=75      M=80      M=85      M=90\n",
       "A=10  7.243868  7.251743  7.255651  7.257533  7.258338  7.258712  7.258886\n",
       "A=15  4.598286  4.606791  4.610980  4.612986  4.613845  4.614241  4.614424\n",
       "A=20  2.821773  2.831016  2.835508  2.837667  2.838594  2.839021  2.839216\n",
       "A=25  1.681876  1.691930  1.696839  1.699148  1.700141  1.700608  1.700822\n",
       "A=30  0.974720  0.985648  0.990968  0.993456  0.994524  0.995028  0.995268"
      ]
     },
     "execution_count": 12,
     "metadata": {},
     "output_type": "execute_result"
    }
   ],
   "source": [
    "prices_cox = calculate_prices(V_T, L_T, int_r_t, C_T_cox, markup)\n",
    "prices_cox"
   ]
  },
  {
   "cell_type": "code",
   "execution_count": 13,
   "metadata": {},
   "outputs": [
    {
     "data": {
      "text/html": [
       "<div>\n",
       "<style scoped>\n",
       "    .dataframe tbody tr th:only-of-type {\n",
       "        vertical-align: middle;\n",
       "    }\n",
       "\n",
       "    .dataframe tbody tr th {\n",
       "        vertical-align: top;\n",
       "    }\n",
       "\n",
       "    .dataframe thead th {\n",
       "        text-align: right;\n",
       "    }\n",
       "</style>\n",
       "<table border=\"1\" class=\"dataframe\">\n",
       "  <thead>\n",
       "    <tr style=\"text-align: right;\">\n",
       "      <th></th>\n",
       "      <th>M=60</th>\n",
       "      <th>M=65</th>\n",
       "      <th>M=70</th>\n",
       "      <th>M=75</th>\n",
       "      <th>M=80</th>\n",
       "      <th>M=85</th>\n",
       "      <th>M=90</th>\n",
       "    </tr>\n",
       "  </thead>\n",
       "  <tbody>\n",
       "    <tr>\n",
       "      <th>A=10</th>\n",
       "      <td>8.024117</td>\n",
       "      <td>8.095024</td>\n",
       "      <td>8.144022</td>\n",
       "      <td>8.178577</td>\n",
       "      <td>8.202993</td>\n",
       "      <td>8.220145</td>\n",
       "      <td>8.232513</td>\n",
       "    </tr>\n",
       "    <tr>\n",
       "      <th>A=15</th>\n",
       "      <td>5.843674</td>\n",
       "      <td>5.920697</td>\n",
       "      <td>5.973555</td>\n",
       "      <td>6.010459</td>\n",
       "      <td>6.036543</td>\n",
       "      <td>6.054751</td>\n",
       "      <td>6.067815</td>\n",
       "    </tr>\n",
       "    <tr>\n",
       "      <th>A=20</th>\n",
       "      <td>4.234558</td>\n",
       "      <td>4.318534</td>\n",
       "      <td>4.375945</td>\n",
       "      <td>4.415742</td>\n",
       "      <td>4.443561</td>\n",
       "      <td>4.463010</td>\n",
       "      <td>4.476895</td>\n",
       "    </tr>\n",
       "    <tr>\n",
       "      <th>A=25</th>\n",
       "      <td>3.040101</td>\n",
       "      <td>3.131666</td>\n",
       "      <td>3.194142</td>\n",
       "      <td>3.237293</td>\n",
       "      <td>3.267321</td>\n",
       "      <td>3.288020</td>\n",
       "      <td>3.302831</td>\n",
       "    </tr>\n",
       "    <tr>\n",
       "      <th>A=30</th>\n",
       "      <td>2.153086</td>\n",
       "      <td>2.252192</td>\n",
       "      <td>2.320299</td>\n",
       "      <td>2.367213</td>\n",
       "      <td>2.399757</td>\n",
       "      <td>2.422079</td>\n",
       "      <td>2.437839</td>\n",
       "    </tr>\n",
       "  </tbody>\n",
       "</table>\n",
       "</div>"
      ],
      "text/plain": [
       "          M=60      M=65      M=70      M=75      M=80      M=85      M=90\n",
       "A=10  8.024117  8.095024  8.144022  8.178577  8.202993  8.220145  8.232513\n",
       "A=15  5.843674  5.920697  5.973555  6.010459  6.036543  6.054751  6.067815\n",
       "A=20  4.234558  4.318534  4.375945  4.415742  4.443561  4.463010  4.476895\n",
       "A=25  3.040101  3.131666  3.194142  3.237293  3.267321  3.288020  3.302831\n",
       "A=30  2.153086  2.252192  2.320299  2.367213  2.399757  2.422079  2.437839"
      ]
     },
     "execution_count": 13,
     "metadata": {},
     "output_type": "execute_result"
    }
   ],
   "source": [
    "prices_hawkes = calculate_prices(V_T, L_T, int_r_t, C_T_hawkes, markup)\n",
    "prices_hawkes"
   ]
  },
  {
   "cell_type": "code",
   "execution_count": 14,
   "metadata": {},
   "outputs": [
    {
     "data": {
      "text/html": [
       "<div>\n",
       "<style scoped>\n",
       "    .dataframe tbody tr th:only-of-type {\n",
       "        vertical-align: middle;\n",
       "    }\n",
       "\n",
       "    .dataframe tbody tr th {\n",
       "        vertical-align: top;\n",
       "    }\n",
       "\n",
       "    .dataframe thead th {\n",
       "        text-align: right;\n",
       "    }\n",
       "</style>\n",
       "<table border=\"1\" class=\"dataframe\">\n",
       "  <thead>\n",
       "    <tr style=\"text-align: right;\">\n",
       "      <th></th>\n",
       "      <th>M=60</th>\n",
       "      <th>M=65</th>\n",
       "      <th>M=70</th>\n",
       "      <th>M=75</th>\n",
       "      <th>M=80</th>\n",
       "      <th>M=85</th>\n",
       "      <th>M=90</th>\n",
       "    </tr>\n",
       "  </thead>\n",
       "  <tbody>\n",
       "    <tr>\n",
       "      <th>A=10</th>\n",
       "      <td>8.198952</td>\n",
       "      <td>8.270028</td>\n",
       "      <td>8.319298</td>\n",
       "      <td>8.354328</td>\n",
       "      <td>8.379680</td>\n",
       "      <td>8.397446</td>\n",
       "      <td>8.410201</td>\n",
       "    </tr>\n",
       "    <tr>\n",
       "      <th>A=15</th>\n",
       "      <td>5.986706</td>\n",
       "      <td>6.064020</td>\n",
       "      <td>6.117095</td>\n",
       "      <td>6.154545</td>\n",
       "      <td>6.181577</td>\n",
       "      <td>6.200466</td>\n",
       "      <td>6.213943</td>\n",
       "    </tr>\n",
       "    <tr>\n",
       "      <th>A=20</th>\n",
       "      <td>4.342291</td>\n",
       "      <td>4.426660</td>\n",
       "      <td>4.484366</td>\n",
       "      <td>4.524690</td>\n",
       "      <td>4.553578</td>\n",
       "      <td>4.573695</td>\n",
       "      <td>4.588026</td>\n",
       "    </tr>\n",
       "    <tr>\n",
       "      <th>A=25</th>\n",
       "      <td>3.120210</td>\n",
       "      <td>3.212254</td>\n",
       "      <td>3.275192</td>\n",
       "      <td>3.319102</td>\n",
       "      <td>3.350266</td>\n",
       "      <td>3.371752</td>\n",
       "      <td>3.386964</td>\n",
       "    </tr>\n",
       "    <tr>\n",
       "      <th>A=30</th>\n",
       "      <td>2.208713</td>\n",
       "      <td>2.308089</td>\n",
       "      <td>2.376650</td>\n",
       "      <td>2.424417</td>\n",
       "      <td>2.458468</td>\n",
       "      <td>2.481665</td>\n",
       "      <td>2.497931</td>\n",
       "    </tr>\n",
       "  </tbody>\n",
       "</table>\n",
       "</div>"
      ],
      "text/plain": [
       "          M=60      M=65      M=70      M=75      M=80      M=85      M=90\n",
       "A=10  8.198952  8.270028  8.319298  8.354328  8.379680  8.397446  8.410201\n",
       "A=15  5.986706  6.064020  6.117095  6.154545  6.181577  6.200466  6.213943\n",
       "A=20  4.342291  4.426660  4.484366  4.524690  4.553578  4.573695  4.588026\n",
       "A=25  3.120210  3.212254  3.275192  3.319102  3.350266  3.371752  3.386964\n",
       "A=30  2.208713  2.308089  2.376650  2.424417  2.458468  2.481665  2.497931"
      ]
     },
     "execution_count": 14,
     "metadata": {},
     "output_type": "execute_result"
    }
   ],
   "source": [
    "prices_dcp = calculate_prices(V_T, L_T, int_r_t, C_T_dcp, markup)\n",
    "prices_dcp"
   ]
  }
 ],
 "metadata": {
  "kernelspec": {
   "display_name": "catbond",
   "language": "python",
   "name": "python3"
  },
  "language_info": {
   "codemirror_mode": {
    "name": "ipython",
    "version": 3
   },
   "file_extension": ".py",
   "mimetype": "text/x-python",
   "name": "python",
   "nbconvert_exporter": "python",
   "pygments_lexer": "ipython3",
   "version": "3.10.8"
  },
  "orig_nbformat": 4,
  "vscode": {
   "interpreter": {
    "hash": "45062e76df119c224491543ade1c775deff687d4d3c0827043d2aedbe8a88908"
   }
  }
 },
 "nbformat": 4,
 "nbformat_minor": 2
}
