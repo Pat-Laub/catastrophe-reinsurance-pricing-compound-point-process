{
 "cells": [
  {
   "cell_type": "code",
   "execution_count": 1,
   "metadata": {},
   "outputs": [],
   "source": [
    "%config InlineBackend.figure_format='retina'\n",
    "\n",
    "# Add the parent directory to the path so that we can import the modules.\n",
    "import os\n",
    "import sys\n",
    "\n",
    "module_path = os.path.abspath(os.path.join(\"..\"))\n",
    "if module_path not in sys.path:\n",
    "    sys.path.append(module_path)\n",
    "\n",
    "from market_conditions import *\n",
    "from dynamic_contagion import *\n",
    "from reinsurance import *\n",
    "\n",
    "import matplotlib.pyplot as plt\n",
    "import pandas as pd"
   ]
  },
  {
   "cell_type": "code",
   "execution_count": 2,
   "metadata": {},
   "outputs": [],
   "source": [
    "# Other parameters\n",
    "maturity = 3\n",
    "markup = 0.4\n",
    "R = int(1e5)\n",
    "seed = 123\n",
    "\n",
    "# Asset parameters\n",
    "V_0 = 130\n",
    "phi_V = -3  # * (1.3) # = V0 / L0\n",
    "sigma_V = 0.05\n",
    "\n",
    "# Liability parameters\n",
    "L_0 = 100\n",
    "phi_L = -3\n",
    "sigma_L = 0.02\n",
    "\n",
    "# Interest rate parameters\n",
    "r_0 = 0.02\n",
    "kappa = 0.2\n",
    "m = 0.05  # 0.5\n",
    "upsilon = 0.1\n",
    "lambda_r = -0.01"
   ]
  },
  {
   "cell_type": "code",
   "execution_count": 3,
   "metadata": {},
   "outputs": [
    {
     "name": "stdout",
     "output_type": "stream",
     "text": [
      "Loading 'c:\\Users\\Patrick\\Dropbox\\Jiwook Project Local\\catastrophe-reinsurance-pricing-compound-point-process\\data\\mc-R=100000,seed=123,maturity=3,kappa=0.2,lambda_r=-0.01,m=0.05,phi_V=-3,sigma_V=0.05,phi_L=-3,sigma_L=0.02,upsilon=0.1,V_0=130,L_0=100,r_0=0.02.npy'\n"
     ]
    },
    {
     "name": "stderr",
     "output_type": "stream",
     "text": [
      "100%|██████████| 100000/100000 [00:00<00:00, 215559.67it/s]\n"
     ]
    }
   ],
   "source": [
    "all_time_series = get_market_conditions(\n",
    "    R=R,\n",
    "    seed=seed,\n",
    "    maturity=maturity,\n",
    "    kappa=kappa,\n",
    "    lambda_r=lambda_r,\n",
    "    m=m,\n",
    "    phi_V=phi_V,\n",
    "    sigma_V=sigma_V,\n",
    "    phi_L=phi_L,\n",
    "    sigma_L=sigma_L,\n",
    "    upsilon=upsilon,\n",
    "    V_0=V_0,\n",
    "    L_0=L_0,\n",
    "    r_0=r_0,\n",
    ")\n",
    "\n",
    "V_T, L_T, int_r_t = summarise_market_conditions(all_time_series, maturity)"
   ]
  },
  {
   "cell_type": "code",
   "execution_count": 4,
   "metadata": {},
   "outputs": [],
   "source": [
    "assert np.isnan(all_time_series).mean() == 0"
   ]
  },
  {
   "cell_type": "code",
   "execution_count": 5,
   "metadata": {},
   "outputs": [],
   "source": [
    "# Poisson process\n",
    "def simulate_poisson(rg):\n",
    "    lambda_ = 0.5\n",
    "    return rg.poisson(lambda_ * maturity)\n",
    "\n",
    "\n",
    "# Cox proces\n",
    "def simulate_cox(rg):\n",
    "    lambda0 = 0.49\n",
    "    a = 0.4\n",
    "    rho = 0.4\n",
    "    delta = 1\n",
    "\n",
    "    selfJumpSizeDist = lambda rg: 0\n",
    "    extJumpSizeDist = lambda rg: rg.uniform(0, 0.5)\n",
    "\n",
    "    return simulate_num_dynamic_contagion(\n",
    "        rg, maturity, lambda0, a, rho, delta, selfJumpSizeDist, extJumpSizeDist\n",
    "    )\n",
    "\n",
    "\n",
    "# Hawkes process\n",
    "def simulate_hawkes(rg):\n",
    "    lambda0 = 0.47\n",
    "    a = 0.26\n",
    "    rho = 0.4\n",
    "    delta = 1\n",
    "\n",
    "    selfJumpSizeDist = lambda rg: rg.uniform()\n",
    "    extJumpSizeDist = lambda rg: 0\n",
    "\n",
    "    return simulate_num_dynamic_contagion(\n",
    "        rg, maturity, lambda0, a, rho, delta, selfJumpSizeDist, extJumpSizeDist\n",
    "    )\n",
    "\n",
    "\n",
    "# Dynamic contagion process\n",
    "def simulate_dcp(rg):\n",
    "    lambda0 = 0.29\n",
    "    a = 0.26\n",
    "    rho = 0.4\n",
    "    delta = 1\n",
    "\n",
    "    selfJumpSizeDist = lambda rg: rg.uniform()\n",
    "    extJumpSizeDist = lambda rg: rg.uniform(0, 0.5)\n",
    "\n",
    "    return simulate_num_dynamic_contagion(\n",
    "        rg, maturity, lambda0, a, rho, delta, selfJumpSizeDist, extJumpSizeDist\n",
    "    )"
   ]
  },
  {
   "cell_type": "code",
   "execution_count": 6,
   "metadata": {},
   "outputs": [
    {
     "data": {
      "application/vnd.jupyter.widget-view+json": {
       "model_id": "dd5e019bf2bc4f55b3d58ad1d99810d0",
       "version_major": 2,
       "version_minor": 0
      },
      "text/plain": [
       "  0%|          | 0/100000 [00:00<?, ?it/s]"
      ]
     },
     "metadata": {},
     "output_type": "display_data"
    },
    {
     "data": {
      "application/vnd.jupyter.widget-view+json": {
       "model_id": "05d55f566c9a4847a33f9ed530e23d36",
       "version_major": 2,
       "version_minor": 0
      },
      "text/plain": [
       "  0%|          | 0/100000 [00:00<?, ?it/s]"
      ]
     },
     "metadata": {},
     "output_type": "display_data"
    },
    {
     "data": {
      "application/vnd.jupyter.widget-view+json": {
       "model_id": "0bacad9dcb964f8caab57630a0945d25",
       "version_major": 2,
       "version_minor": 0
      },
      "text/plain": [
       "  0%|          | 0/100000 [00:00<?, ?it/s]"
      ]
     },
     "metadata": {},
     "output_type": "display_data"
    },
    {
     "data": {
      "application/vnd.jupyter.widget-view+json": {
       "model_id": "ea453f4b5e0f48a58f054964071dd8b6",
       "version_major": 2,
       "version_minor": 0
      },
      "text/plain": [
       "  0%|          | 0/100000 [00:00<?, ?it/s]"
      ]
     },
     "metadata": {},
     "output_type": "display_data"
    }
   ],
   "source": [
    "# Catastrophe loss size distribution parameters\n",
    "mu_C = 2\n",
    "sigma_C = 0.5\n",
    "\n",
    "seed = 123\n",
    "rg = rnd.default_rng(seed)\n",
    "\n",
    "C_T_poisson, num_cats_poisson = simulate_catastrophe_losses(\n",
    "    rg, R, simulate_poisson, mu_C, sigma_C\n",
    ")\n",
    "\n",
    "C_T_cox, num_cats_cox = simulate_catastrophe_losses(rg, R, simulate_cox, mu_C, sigma_C)\n",
    "\n",
    "C_T_hawkes, num_cats_hawkes = simulate_catastrophe_losses(\n",
    "    rg, R, simulate_hawkes, mu_C, sigma_C\n",
    ")\n",
    "\n",
    "C_T_dcp, num_cats_dcp = simulate_catastrophe_losses(rg, R, simulate_dcp, mu_C, sigma_C)"
   ]
  },
  {
   "cell_type": "code",
   "execution_count": 7,
   "metadata": {},
   "outputs": [
    {
     "name": "stdout",
     "output_type": "stream",
     "text": [
      "Average number of catastrophes from Poisson process: 1.50\n",
      "Average number of catastrophes from Cox process: 1.49\n",
      "Average number of catastrophes from Hawkes process: 1.47\n",
      "Average number of catastrophes from dynamic contagion process: 1.50\n"
     ]
    }
   ],
   "source": [
    "print(\n",
    "    f\"Average number of catastrophes from Poisson process: {np.mean(num_cats_poisson):.2f}\"\n",
    ")\n",
    "print(f\"Average number of catastrophes from Cox process: {np.mean(num_cats_cox):.2f}\")\n",
    "print(\n",
    "    f\"Average number of catastrophes from Hawkes process: {np.mean(num_cats_hawkes):.2f}\"\n",
    ")\n",
    "print(\n",
    "    f\"Average number of catastrophes from dynamic contagion process: {np.mean(num_cats_dcp):.2f}\"\n",
    ")"
   ]
  },
  {
   "cell_type": "code",
   "execution_count": 8,
   "metadata": {},
   "outputs": [
    {
     "name": "stdout",
     "output_type": "stream",
     "text": [
      "Mean/variance catastrophe loss from Poisson process: 12.54, 134.82\n",
      "Mean/variance catastrophe loss from Cox process: 12.48, 138.17\n",
      "Mean/variance catastrophe loss from Hawkes process: 12.33, 266.94\n",
      "Mean/variance catastrophe loss from dynamic contagion process: 12.53, 270.69\n"
     ]
    }
   ],
   "source": [
    "print(\n",
    "    f\"Mean/variance catastrophe loss from Poisson process: {np.mean(C_T_poisson):.2f}, {np.var(C_T_poisson):.2f}\"\n",
    ")\n",
    "print(\n",
    "    f\"Mean/variance catastrophe loss from Cox process: {np.mean(C_T_cox):.2f}, {np.var(C_T_cox):.2f}\"\n",
    ")\n",
    "print(\n",
    "    f\"Mean/variance catastrophe loss from Hawkes process: {np.mean(C_T_hawkes):.2f}, {np.var(C_T_hawkes):.2f}\"\n",
    ")\n",
    "print(\n",
    "    f\"Mean/variance catastrophe loss from dynamic contagion process: {np.mean(C_T_dcp):.2f}, {np.var(C_T_dcp):.2f}\"\n",
    ")"
   ]
  },
  {
   "cell_type": "code",
   "execution_count": 9,
   "metadata": {},
   "outputs": [
    {
     "name": "stdout",
     "output_type": "stream",
     "text": [
      "Min/max catastrophe loss from Poisson process: 0.00, 111.82\n",
      "Min/max catastrophe loss from Cox process: 0.00, 131.92\n",
      "Min/max catastrophe loss from Hawkes process: 0.00, 238.59\n",
      "Min/max catastrophe loss from dynamic contagion process: 0.00, 208.32\n"
     ]
    }
   ],
   "source": [
    "print(\n",
    "    f\"Min/max catastrophe loss from Poisson process: {np.min(C_T_poisson):.2f}, {np.max(C_T_poisson):.2f}\"\n",
    ")\n",
    "print(\n",
    "    f\"Min/max catastrophe loss from Cox process: {np.min(C_T_cox):.2f}, {np.max(C_T_cox):.2f}\"\n",
    ")\n",
    "print(\n",
    "    f\"Min/max catastrophe loss from Hawkes process: {np.min(C_T_hawkes):.2f}, {np.max(C_T_hawkes):.2f}\"\n",
    ")\n",
    "print(\n",
    "    f\"Min/max catastrophe loss from dynamic contagion process: {np.min(C_T_dcp):.2f}, {np.max(C_T_dcp):.2f}\"\n",
    ")"
   ]
  },
  {
   "cell_type": "code",
   "execution_count": 10,
   "metadata": {},
   "outputs": [
    {
     "data": {
      "image/png": "[encoded data removed]",
      "text/plain": [
       "<Figure size 800x250 with 1 Axes>"
      ]
     },
     "metadata": {
      "image/png": {
       "height": 255,
       "width": 729
      }
     },
     "output_type": "display_data"
    }
   ],
   "source": [
    "# Plot a grouped vertical bar charts showing the number of simulations which had `n` catastrophes according to each of the arrival processes.\n",
    "def plot_num_cats(num_cats_poisson, num_cats_cox, num_cats_hawkes, num_cats_dcp):\n",
    "    num_cats_poisson = np.floor(num_cats_poisson)\n",
    "    num_cats_cox = np.floor(num_cats_cox)\n",
    "    num_cats_hawkes = np.floor(num_cats_hawkes)\n",
    "    num_cats_dcp = np.floor(num_cats_dcp)\n",
    "\n",
    "    max_cats = np.max(\n",
    "        [\n",
    "            np.max(num_cats_poisson),\n",
    "            np.max(num_cats_cox),\n",
    "            np.max(num_cats_hawkes),\n",
    "            np.max(num_cats_dcp),\n",
    "        ]\n",
    "    )\n",
    "    min_cats = np.min(\n",
    "        [\n",
    "            np.min(num_cats_poisson),\n",
    "            np.min(num_cats_cox),\n",
    "            np.min(num_cats_hawkes),\n",
    "            np.min(num_cats_dcp),\n",
    "        ]\n",
    "    )\n",
    "    \n",
    "    num_bins = int(max_cats - min_cats + 1)\n",
    "\n",
    "    bins = np.linspace(min_cats, max_cats, num_bins + 1)\n",
    "    bins = np.floor(bins)\n",
    "\n",
    "    hist_poisson, _ = np.histogram(num_cats_poisson, bins=bins)\n",
    "    hist_cox, _ = np.histogram(num_cats_cox, bins=bins)\n",
    "    hist_hawkes, _ = np.histogram(num_cats_hawkes, bins=bins)\n",
    "    hist_dcp, _ = np.histogram(num_cats_dcp, bins=bins)\n",
    "\n",
    "    width = 0.2\n",
    "    x = np.arange(len(bins) - 1)\n",
    "\n",
    "    plt.bar(x - width, hist_poisson, width, label=\"Poisson\")\n",
    "    plt.bar(x, hist_cox, width, label=\"Cox\")\n",
    "    plt.bar(x + width, hist_hawkes, width, label=\"Hawkes\")\n",
    "    plt.bar(x + 2 * width, hist_dcp, width, label=\"DCP\")\n",
    "\n",
    "    plt.xticks(x, bins[:-1])\n",
    "    plt.legend()\n",
    "\n",
    "    plt.xlim(0.5, 11.0)\n",
    "    plt.xlabel(\"Number of catastrophes\")\n",
    "    plt.ylabel(\"Number of simulations\")\n",
    "\n",
    "    # Change the aspect ratio to be wider\n",
    "    plt.gcf().set_size_inches(8, 2.5)\n",
    "\n",
    "    # Remove the top and right spines\n",
    "    plt.gca().spines[\"top\"].set_visible(False)\n",
    "    plt.gca().spines[\"right\"].set_visible(False)\n",
    "\n",
    "\n",
    "plot_num_cats(num_cats_poisson, num_cats_cox, num_cats_hawkes, num_cats_dcp)\n",
    "plt.savefig(\"num_catastrophe_hists.png\")"
   ]
  },
  {
   "cell_type": "code",
   "execution_count": 11,
   "metadata": {},
   "outputs": [],
   "source": [
    "ROUNDING = 4"
   ]
  },
  {
   "cell_type": "code",
   "execution_count": 12,
   "metadata": {},
   "outputs": [
    {
     "data": {
      "text/html": [
       "<div>\n",
       "<style scoped>\n",
       "    .dataframe tbody tr th:only-of-type {\n",
       "        vertical-align: middle;\n",
       "    }\n",
       "\n",
       "    .dataframe tbody tr th {\n",
       "        vertical-align: top;\n",
       "    }\n",
       "\n",
       "    .dataframe thead th {\n",
       "        text-align: right;\n",
       "    }\n",
       "</style>\n",
       "<table border=\"1\" class=\"dataframe\">\n",
       "  <thead>\n",
       "    <tr style=\"text-align: right;\">\n",
       "      <th></th>\n",
       "      <th>$M=60$</th>\n",
       "      <th>$M=65$</th>\n",
       "      <th>$M=70$</th>\n",
       "      <th>$M=75$</th>\n",
       "      <th>$M=80$</th>\n",
       "      <th>$M=85$</th>\n",
       "      <th>$M=90$</th>\n",
       "    </tr>\n",
       "  </thead>\n",
       "  <tbody>\n",
       "    <tr>\n",
       "      <th>$A=10$</th>\n",
       "      <td>7.2452</td>\n",
       "      <td>7.2523</td>\n",
       "      <td>7.2559</td>\n",
       "      <td>7.2577</td>\n",
       "      <td>7.2584</td>\n",
       "      <td>7.2588</td>\n",
       "      <td>7.2590</td>\n",
       "    </tr>\n",
       "    <tr>\n",
       "      <th>$A=15$</th>\n",
       "      <td>4.5729</td>\n",
       "      <td>4.5808</td>\n",
       "      <td>4.5847</td>\n",
       "      <td>4.5866</td>\n",
       "      <td>4.5874</td>\n",
       "      <td>4.5878</td>\n",
       "      <td>4.5880</td>\n",
       "    </tr>\n",
       "    <tr>\n",
       "      <th>$A=20$</th>\n",
       "      <td>2.7773</td>\n",
       "      <td>2.7859</td>\n",
       "      <td>2.7901</td>\n",
       "      <td>2.7922</td>\n",
       "      <td>2.7931</td>\n",
       "      <td>2.7935</td>\n",
       "      <td>2.7937</td>\n",
       "    </tr>\n",
       "    <tr>\n",
       "      <th>$A=25$</th>\n",
       "      <td>1.6323</td>\n",
       "      <td>1.6415</td>\n",
       "      <td>1.6461</td>\n",
       "      <td>1.6484</td>\n",
       "      <td>1.6494</td>\n",
       "      <td>1.6498</td>\n",
       "      <td>1.6500</td>\n",
       "    </tr>\n",
       "    <tr>\n",
       "      <th>$A=30$</th>\n",
       "      <td>0.9267</td>\n",
       "      <td>0.9367</td>\n",
       "      <td>0.9417</td>\n",
       "      <td>0.9441</td>\n",
       "      <td>0.9452</td>\n",
       "      <td>0.9456</td>\n",
       "      <td>0.9459</td>\n",
       "    </tr>\n",
       "  </tbody>\n",
       "</table>\n",
       "</div>"
      ],
      "text/plain": [
       "        $M=60$  $M=65$  $M=70$  $M=75$  $M=80$  $M=85$  $M=90$\n",
       "$A=10$  7.2452  7.2523  7.2559  7.2577  7.2584  7.2588  7.2590\n",
       "$A=15$  4.5729  4.5808  4.5847  4.5866  4.5874  4.5878  4.5880\n",
       "$A=20$  2.7773  2.7859  2.7901  2.7922  2.7931  2.7935  2.7937\n",
       "$A=25$  1.6323  1.6415  1.6461  1.6484  1.6494  1.6498  1.6500\n",
       "$A=30$  0.9267  0.9367  0.9417  0.9441  0.9452  0.9456  0.9459"
      ]
     },
     "metadata": {},
     "output_type": "display_data"
    },
    {
     "name": "stdout",
     "output_type": "stream",
     "text": [
      "\\begin{tabular}{c|c|c|c|c|c|c|c}\n",
      " & $M=60$ & $M=65$ & $M=70$ & $M=75$ & $M=80$ & $M=85$ & $M=90$ \\\\\n",
      "$A=10$ & 7.2452 & 7.2523 & 7.2559 & 7.2577 & 7.2584 & 7.2588 & 7.2590 \\\\\n",
      "$A=15$ & 4.5729 & 4.5808 & 4.5847 & 4.5866 & 4.5874 & 4.5878 & 4.5880 \\\\\n",
      "$A=20$ & 2.7773 & 2.7859 & 2.7901 & 2.7922 & 2.7931 & 2.7935 & 2.7937 \\\\\n",
      "$A=25$ & 1.6323 & 1.6415 & 1.6461 & 1.6484 & 1.6494 & 1.6498 & 1.6500 \\\\\n",
      "$A=30$ & 0.9267 & 0.9367 & 0.9417 & 0.9441 & 0.9452 & 0.9456 & 0.9459 \\\\\n",
      "\\end{tabular}\n",
      "\n"
     ]
    }
   ],
   "source": [
    "prices_poisson = calculate_prices(V_T, L_T, int_r_t, C_T_poisson, markup).round(ROUNDING)\n",
    "display(prices_poisson)\n",
    "print(prices_poisson.style.to_latex().replace(\"00 \", \" \").replace(\"lrrrrrrr\", \"c|c|c|c|c|c|c|c\"))"
   ]
  },
  {
   "cell_type": "code",
   "execution_count": 13,
   "metadata": {},
   "outputs": [
    {
     "data": {
      "text/html": [
       "<div>\n",
       "<style scoped>\n",
       "    .dataframe tbody tr th:only-of-type {\n",
       "        vertical-align: middle;\n",
       "    }\n",
       "\n",
       "    .dataframe tbody tr th {\n",
       "        vertical-align: top;\n",
       "    }\n",
       "\n",
       "    .dataframe thead th {\n",
       "        text-align: right;\n",
       "    }\n",
       "</style>\n",
       "<table border=\"1\" class=\"dataframe\">\n",
       "  <thead>\n",
       "    <tr style=\"text-align: right;\">\n",
       "      <th></th>\n",
       "      <th>$M=60$</th>\n",
       "      <th>$M=65$</th>\n",
       "      <th>$M=70$</th>\n",
       "      <th>$M=75$</th>\n",
       "      <th>$M=80$</th>\n",
       "      <th>$M=85$</th>\n",
       "      <th>$M=90$</th>\n",
       "    </tr>\n",
       "  </thead>\n",
       "  <tbody>\n",
       "    <tr>\n",
       "      <th>$A=10$</th>\n",
       "      <td>7.2439</td>\n",
       "      <td>7.2517</td>\n",
       "      <td>7.2557</td>\n",
       "      <td>7.2575</td>\n",
       "      <td>7.2583</td>\n",
       "      <td>7.2587</td>\n",
       "      <td>7.2589</td>\n",
       "    </tr>\n",
       "    <tr>\n",
       "      <th>$A=15$</th>\n",
       "      <td>4.5983</td>\n",
       "      <td>4.6068</td>\n",
       "      <td>4.6110</td>\n",
       "      <td>4.6130</td>\n",
       "      <td>4.6138</td>\n",
       "      <td>4.6142</td>\n",
       "      <td>4.6144</td>\n",
       "    </tr>\n",
       "    <tr>\n",
       "      <th>$A=20$</th>\n",
       "      <td>2.8218</td>\n",
       "      <td>2.8310</td>\n",
       "      <td>2.8355</td>\n",
       "      <td>2.8377</td>\n",
       "      <td>2.8386</td>\n",
       "      <td>2.8390</td>\n",
       "      <td>2.8392</td>\n",
       "    </tr>\n",
       "    <tr>\n",
       "      <th>$A=25$</th>\n",
       "      <td>1.6819</td>\n",
       "      <td>1.6919</td>\n",
       "      <td>1.6968</td>\n",
       "      <td>1.6991</td>\n",
       "      <td>1.7001</td>\n",
       "      <td>1.7006</td>\n",
       "      <td>1.7008</td>\n",
       "    </tr>\n",
       "    <tr>\n",
       "      <th>$A=30$</th>\n",
       "      <td>0.9747</td>\n",
       "      <td>0.9856</td>\n",
       "      <td>0.9910</td>\n",
       "      <td>0.9935</td>\n",
       "      <td>0.9945</td>\n",
       "      <td>0.9950</td>\n",
       "      <td>0.9953</td>\n",
       "    </tr>\n",
       "  </tbody>\n",
       "</table>\n",
       "</div>"
      ],
      "text/plain": [
       "        $M=60$  $M=65$  $M=70$  $M=75$  $M=80$  $M=85$  $M=90$\n",
       "$A=10$  7.2439  7.2517  7.2557  7.2575  7.2583  7.2587  7.2589\n",
       "$A=15$  4.5983  4.6068  4.6110  4.6130  4.6138  4.6142  4.6144\n",
       "$A=20$  2.8218  2.8310  2.8355  2.8377  2.8386  2.8390  2.8392\n",
       "$A=25$  1.6819  1.6919  1.6968  1.6991  1.7001  1.7006  1.7008\n",
       "$A=30$  0.9747  0.9856  0.9910  0.9935  0.9945  0.9950  0.9953"
      ]
     },
     "metadata": {},
     "output_type": "display_data"
    },
    {
     "name": "stdout",
     "output_type": "stream",
     "text": [
      "\\begin{tabular}{c|c|c|c|c|c|c|c}\n",
      " & $M=60$ & $M=65$ & $M=70$ & $M=75$ & $M=80$ & $M=85$ & $M=90$ \\\\\n",
      "$A=10$ & 7.2439 & 7.2517 & 7.2557 & 7.2575 & 7.2583 & 7.2587 & 7.2589 \\\\\n",
      "$A=15$ & 4.5983 & 4.6068 & 4.6110 & 4.6130 & 4.6138 & 4.6142 & 4.6144 \\\\\n",
      "$A=20$ & 2.8218 & 2.8310 & 2.8355 & 2.8377 & 2.8386 & 2.8390 & 2.8392 \\\\\n",
      "$A=25$ & 1.6819 & 1.6919 & 1.6968 & 1.6991 & 1.7001 & 1.7006 & 1.7008 \\\\\n",
      "$A=30$ & 0.9747 & 0.9856 & 0.9910 & 0.9935 & 0.9945 & 0.9950 & 0.9953 \\\\\n",
      "\\end{tabular}\n",
      "\n"
     ]
    }
   ],
   "source": [
    "prices_cox = calculate_prices(V_T, L_T, int_r_t, C_T_cox, markup).round(ROUNDING)\n",
    "display(prices_cox)\n",
    "print(prices_cox.style.to_latex().replace(\"00 \", \" \").replace(\"lrrrrrrr\", \"c|c|c|c|c|c|c|c\"))"
   ]
  },
  {
   "cell_type": "code",
   "execution_count": 14,
   "metadata": {},
   "outputs": [
    {
     "data": {
      "text/html": [
       "<div>\n",
       "<style scoped>\n",
       "    .dataframe tbody tr th:only-of-type {\n",
       "        vertical-align: middle;\n",
       "    }\n",
       "\n",
       "    .dataframe tbody tr th {\n",
       "        vertical-align: top;\n",
       "    }\n",
       "\n",
       "    .dataframe thead th {\n",
       "        text-align: right;\n",
       "    }\n",
       "</style>\n",
       "<table border=\"1\" class=\"dataframe\">\n",
       "  <thead>\n",
       "    <tr style=\"text-align: right;\">\n",
       "      <th></th>\n",
       "      <th>$M=60$</th>\n",
       "      <th>$M=65$</th>\n",
       "      <th>$M=70$</th>\n",
       "      <th>$M=75$</th>\n",
       "      <th>$M=80$</th>\n",
       "      <th>$M=85$</th>\n",
       "      <th>$M=90$</th>\n",
       "    </tr>\n",
       "  </thead>\n",
       "  <tbody>\n",
       "    <tr>\n",
       "      <th>$A=10$</th>\n",
       "      <td>8.0241</td>\n",
       "      <td>8.0950</td>\n",
       "      <td>8.1440</td>\n",
       "      <td>8.1786</td>\n",
       "      <td>8.2030</td>\n",
       "      <td>8.2201</td>\n",
       "      <td>8.2325</td>\n",
       "    </tr>\n",
       "    <tr>\n",
       "      <th>$A=15$</th>\n",
       "      <td>5.8437</td>\n",
       "      <td>5.9207</td>\n",
       "      <td>5.9736</td>\n",
       "      <td>6.0105</td>\n",
       "      <td>6.0365</td>\n",
       "      <td>6.0548</td>\n",
       "      <td>6.0678</td>\n",
       "    </tr>\n",
       "    <tr>\n",
       "      <th>$A=20$</th>\n",
       "      <td>4.2346</td>\n",
       "      <td>4.3185</td>\n",
       "      <td>4.3759</td>\n",
       "      <td>4.4157</td>\n",
       "      <td>4.4436</td>\n",
       "      <td>4.4630</td>\n",
       "      <td>4.4769</td>\n",
       "    </tr>\n",
       "    <tr>\n",
       "      <th>$A=25$</th>\n",
       "      <td>3.0401</td>\n",
       "      <td>3.1317</td>\n",
       "      <td>3.1941</td>\n",
       "      <td>3.2373</td>\n",
       "      <td>3.2673</td>\n",
       "      <td>3.2880</td>\n",
       "      <td>3.3028</td>\n",
       "    </tr>\n",
       "    <tr>\n",
       "      <th>$A=30$</th>\n",
       "      <td>2.1531</td>\n",
       "      <td>2.2522</td>\n",
       "      <td>2.3203</td>\n",
       "      <td>2.3672</td>\n",
       "      <td>2.3998</td>\n",
       "      <td>2.4221</td>\n",
       "      <td>2.4378</td>\n",
       "    </tr>\n",
       "  </tbody>\n",
       "</table>\n",
       "</div>"
      ],
      "text/plain": [
       "        $M=60$  $M=65$  $M=70$  $M=75$  $M=80$  $M=85$  $M=90$\n",
       "$A=10$  8.0241  8.0950  8.1440  8.1786  8.2030  8.2201  8.2325\n",
       "$A=15$  5.8437  5.9207  5.9736  6.0105  6.0365  6.0548  6.0678\n",
       "$A=20$  4.2346  4.3185  4.3759  4.4157  4.4436  4.4630  4.4769\n",
       "$A=25$  3.0401  3.1317  3.1941  3.2373  3.2673  3.2880  3.3028\n",
       "$A=30$  2.1531  2.2522  2.3203  2.3672  2.3998  2.4221  2.4378"
      ]
     },
     "metadata": {},
     "output_type": "display_data"
    },
    {
     "name": "stdout",
     "output_type": "stream",
     "text": [
      "\\begin{tabular}{c|c|c|c|c|c|c|c}\n",
      " & $M=60$ & $M=65$ & $M=70$ & $M=75$ & $M=80$ & $M=85$ & $M=90$ \\\\\n",
      "$A=10$ & 8.0241 & 8.0950 & 8.1440 & 8.1786 & 8.2030 & 8.2201 & 8.2325 \\\\\n",
      "$A=15$ & 5.8437 & 5.9207 & 5.9736 & 6.0105 & 6.0365 & 6.0548 & 6.0678 \\\\\n",
      "$A=20$ & 4.2346 & 4.3185 & 4.3759 & 4.4157 & 4.4436 & 4.4630 & 4.4769 \\\\\n",
      "$A=25$ & 3.0401 & 3.1317 & 3.1941 & 3.2373 & 3.2673 & 3.2880 & 3.3028 \\\\\n",
      "$A=30$ & 2.1531 & 2.2522 & 2.3203 & 2.3672 & 2.3998 & 2.4221 & 2.4378 \\\\\n",
      "\\end{tabular}\n",
      "\n"
     ]
    }
   ],
   "source": [
    "prices_hawkes = calculate_prices(V_T, L_T, int_r_t, C_T_hawkes, markup).round(ROUNDING)\n",
    "display(prices_hawkes)\n",
    "print(prices_hawkes.style.to_latex().replace(\"00 \", \" \").replace(\"lrrrrrrr\", \"c|c|c|c|c|c|c|c\"))"
   ]
  },
  {
   "cell_type": "code",
   "execution_count": 15,
   "metadata": {},
   "outputs": [
    {
     "data": {
      "text/html": [
       "<div>\n",
       "<style scoped>\n",
       "    .dataframe tbody tr th:only-of-type {\n",
       "        vertical-align: middle;\n",
       "    }\n",
       "\n",
       "    .dataframe tbody tr th {\n",
       "        vertical-align: top;\n",
       "    }\n",
       "\n",
       "    .dataframe thead th {\n",
       "        text-align: right;\n",
       "    }\n",
       "</style>\n",
       "<table border=\"1\" class=\"dataframe\">\n",
       "  <thead>\n",
       "    <tr style=\"text-align: right;\">\n",
       "      <th></th>\n",
       "      <th>$M=60$</th>\n",
       "      <th>$M=65$</th>\n",
       "      <th>$M=70$</th>\n",
       "      <th>$M=75$</th>\n",
       "      <th>$M=80$</th>\n",
       "      <th>$M=85$</th>\n",
       "      <th>$M=90$</th>\n",
       "    </tr>\n",
       "  </thead>\n",
       "  <tbody>\n",
       "    <tr>\n",
       "      <th>$A=10$</th>\n",
       "      <td>8.1990</td>\n",
       "      <td>8.2700</td>\n",
       "      <td>8.3193</td>\n",
       "      <td>8.3543</td>\n",
       "      <td>8.3797</td>\n",
       "      <td>8.3974</td>\n",
       "      <td>8.4102</td>\n",
       "    </tr>\n",
       "    <tr>\n",
       "      <th>$A=15$</th>\n",
       "      <td>5.9867</td>\n",
       "      <td>6.0640</td>\n",
       "      <td>6.1171</td>\n",
       "      <td>6.1545</td>\n",
       "      <td>6.1816</td>\n",
       "      <td>6.2005</td>\n",
       "      <td>6.2139</td>\n",
       "    </tr>\n",
       "    <tr>\n",
       "      <th>$A=20$</th>\n",
       "      <td>4.3423</td>\n",
       "      <td>4.4267</td>\n",
       "      <td>4.4844</td>\n",
       "      <td>4.5247</td>\n",
       "      <td>4.5536</td>\n",
       "      <td>4.5737</td>\n",
       "      <td>4.5880</td>\n",
       "    </tr>\n",
       "    <tr>\n",
       "      <th>$A=25$</th>\n",
       "      <td>3.1202</td>\n",
       "      <td>3.2123</td>\n",
       "      <td>3.2752</td>\n",
       "      <td>3.3191</td>\n",
       "      <td>3.3503</td>\n",
       "      <td>3.3718</td>\n",
       "      <td>3.3870</td>\n",
       "    </tr>\n",
       "    <tr>\n",
       "      <th>$A=30$</th>\n",
       "      <td>2.2087</td>\n",
       "      <td>2.3081</td>\n",
       "      <td>2.3767</td>\n",
       "      <td>2.4244</td>\n",
       "      <td>2.4585</td>\n",
       "      <td>2.4817</td>\n",
       "      <td>2.4979</td>\n",
       "    </tr>\n",
       "  </tbody>\n",
       "</table>\n",
       "</div>"
      ],
      "text/plain": [
       "        $M=60$  $M=65$  $M=70$  $M=75$  $M=80$  $M=85$  $M=90$\n",
       "$A=10$  8.1990  8.2700  8.3193  8.3543  8.3797  8.3974  8.4102\n",
       "$A=15$  5.9867  6.0640  6.1171  6.1545  6.1816  6.2005  6.2139\n",
       "$A=20$  4.3423  4.4267  4.4844  4.5247  4.5536  4.5737  4.5880\n",
       "$A=25$  3.1202  3.2123  3.2752  3.3191  3.3503  3.3718  3.3870\n",
       "$A=30$  2.2087  2.3081  2.3767  2.4244  2.4585  2.4817  2.4979"
      ]
     },
     "metadata": {},
     "output_type": "display_data"
    },
    {
     "name": "stdout",
     "output_type": "stream",
     "text": [
      "\\begin{tabular}{c|c|c|c|c|c|c|c}\n",
      " & $M=60$ & $M=65$ & $M=70$ & $M=75$ & $M=80$ & $M=85$ & $M=90$ \\\\\n",
      "$A=10$ & 8.1990 & 8.2700 & 8.3193 & 8.3543 & 8.3797 & 8.3974 & 8.4102 \\\\\n",
      "$A=15$ & 5.9867 & 6.0640 & 6.1171 & 6.1545 & 6.1816 & 6.2005 & 6.2139 \\\\\n",
      "$A=20$ & 4.3423 & 4.4267 & 4.4844 & 4.5247 & 4.5536 & 4.5737 & 4.5880 \\\\\n",
      "$A=25$ & 3.1202 & 3.2123 & 3.2752 & 3.3191 & 3.3503 & 3.3718 & 3.3870 \\\\\n",
      "$A=30$ & 2.2087 & 2.3081 & 2.3767 & 2.4244 & 2.4585 & 2.4817 & 2.4979 \\\\\n",
      "\\end{tabular}\n",
      "\n"
     ]
    }
   ],
   "source": [
    "prices_dcp = calculate_prices(V_T, L_T, int_r_t, C_T_dcp, markup).round(ROUNDING)\n",
    "display(prices_dcp)\n",
    "print(prices_dcp.style.to_latex().replace(\"00 \", \" \").replace(\"lrrrrrrr\", \"c|c|c|c|c|c|c|c\"))"
   ]
  }
 ],
 "metadata": {
  "kernelspec": {
   "display_name": "catbond",
   "language": "python",
   "name": "python3"
  },
  "language_info": {
   "codemirror_mode": {
    "name": "ipython",
    "version": 3
   },
   "file_extension": ".py",
   "mimetype": "text/x-python",
   "name": "python",
   "nbconvert_exporter": "python",
   "pygments_lexer": "ipython3",
   "version": "3.10.8"
  },
  "orig_nbformat": 4,
  "vscode": {
   "interpreter": {
    "hash": "45062e76df119c224491543ade1c775deff687d4d3c0827043d2aedbe8a88908"
   }
  }
 },
 "nbformat": 4,
 "nbformat_minor": 2
}
