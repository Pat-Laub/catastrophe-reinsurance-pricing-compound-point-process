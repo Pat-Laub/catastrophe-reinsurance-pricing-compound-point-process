{
 "cells": [
  {
   "cell_type": "code",
   "execution_count": 1,
   "metadata": {},
   "outputs": [],
   "source": [
    "%config InlineBackend.figure_format='retina'\n",
    "\n",
    "# Add the parent directory to the path so that we can import the modules.\n",
    "from functools import partial\n",
    "import os\n",
    "import sys\n",
    "\n",
    "module_path = os.path.abspath(os.path.join(\"..\"))\n",
    "if module_path not in sys.path:\n",
    "    sys.path.append(module_path)\n",
    "\n",
    "from market_conditions import *\n",
    "from dynamic_contagion import *\n",
    "from reinsurance import *\n",
    "\n",
    "import matplotlib.pyplot as plt\n",
    "import pandas as pd"
   ]
  },
  {
   "cell_type": "code",
   "execution_count": 2,
   "metadata": {},
   "outputs": [],
   "source": [
    "# Other parameters\n",
    "maturity = 3\n",
    "markup = 0.4\n",
    "R = int(1e6)\n",
    "seed = 123\n",
    "\n",
    "# Asset parameters\n",
    "V_0 = 130\n",
    "phi_V = -3  # * (1.3) # = V0 / L0\n",
    "sigma_V = 0.05\n",
    "\n",
    "# Liability parameters\n",
    "L_0 = 100\n",
    "phi_L = -3\n",
    "sigma_L = 0.02\n",
    "\n",
    "# Interest rate parameters\n",
    "r_0 = 0.02\n",
    "k = 0.2\n",
    "m = 0.05  # 0.5\n",
    "upsilon = 0.1\n",
    "eta_r = -0.01\n",
    "\n",
    "# Catastrophe loss size distribution parameters\n",
    "mu_C = 2\n",
    "sigma_C = 0.5"
   ]
  },
  {
   "cell_type": "code",
   "execution_count": 3,
   "metadata": {},
   "outputs": [],
   "source": [
    "# Poisson process\n",
    "def simulate_poisson(seed):\n",
    "    lambda_ = 0.5\n",
    "    rg = rnd.default_rng(seed)\n",
    "    return rg.poisson(lambda_ * maturity)\n",
    "\n",
    "\n",
    "# Cox proces\n",
    "def simulate_cox(seed):\n",
    "    lambda0 = 0.49\n",
    "    a = 0.4\n",
    "    rho = 0.4\n",
    "    delta = 1\n",
    "\n",
    "    return simulate_num_dynamic_contagion_uniform_jumps(\n",
    "        seed, maturity, lambda0, a, rho, delta, 0.0, 0.0, 0.0, 0.5\n",
    "    )\n",
    "\n",
    "\n",
    "# Hawkes process\n",
    "def simulate_hawkes(seed):\n",
    "    lambda0 = 0.47\n",
    "    a = 0.26\n",
    "    rho = 0.4\n",
    "    delta = 1\n",
    "\n",
    "    return simulate_num_dynamic_contagion_uniform_jumps(\n",
    "        seed, maturity, lambda0, a, rho, delta, 0.0, 1.0, 0.0, 0.0\n",
    "    )\n",
    "\n",
    "\n",
    "# Dynamic contagion process\n",
    "def simulate_dcp(seed):\n",
    "    lambda0 = 0.29\n",
    "    a = 0.26\n",
    "    rho = 0.4\n",
    "    delta = 1\n",
    "\n",
    "    return simulate_num_dynamic_contagion_uniform_jumps(\n",
    "        seed, maturity, lambda0, a, rho, delta, 0.0, 1.0, 0.0, 0.5\n",
    "    )"
   ]
  },
  {
   "attachments": {},
   "cell_type": "markdown",
   "metadata": {},
   "source": [
    "## Tables 1-4"
   ]
  },
  {
   "cell_type": "code",
   "execution_count": 4,
   "metadata": {},
   "outputs": [
    {
     "name": "stdout",
     "output_type": "stream",
     "text": [
      "Can't find 'c:\\Users\\Patrick\\Dropbox\\Jiwook Project Local\\catastrophe-reinsurance-pricing-compound-point-process\\data\\mc-R=1000000,seed=123,maturity=3,k=0.2,lambda_r=-0.01,m=0.05,phi_V=-3,sigma_V=0.05,phi_L=-3,sigma_L=0.02,upsilon=0.1,V_0=130,L_0=100,r_0=0.02.npy', generating market conditions\n",
      "Saving c:\\Users\\Patrick\\Dropbox\\Jiwook Project Local\\catastrophe-reinsurance-pricing-compound-point-process\\data\\mc-R=1000000,seed=123,maturity=3,k=0.2,lambda_r=-0.01,m=0.05,phi_V=-3,sigma_V=0.05,phi_L=-3,sigma_L=0.02,upsilon=0.1,V_0=130,L_0=100,r_0=0.02.npy\n"
     ]
    },
    {
     "name": "stderr",
     "output_type": "stream",
     "text": [
      "100%|██████████| 1000000/1000000 [00:20<00:00, 48421.43it/s]\n",
      "100%|██████████| 1000000/1000000 [00:06<00:00, 151617.08it/s]\n",
      "100%|██████████| 1000000/1000000 [00:05<00:00, 167877.77it/s]\n",
      "100%|██████████| 1000000/1000000 [00:06<00:00, 166652.59it/s]\n",
      "100%|██████████| 4/4 [01:44<00:00, 26.02s/it]"
     ]
    },
    {
     "name": "stdout",
     "output_type": "stream",
     "text": [
      "CPU times: total: 3min 38s\n",
      "Wall time: 11min 35s\n"
     ]
    },
    {
     "name": "stderr",
     "output_type": "stream",
     "text": [
      "\n"
     ]
    },
    {
     "data": {
      "text/plain": [
       "(4, 5, 7)"
      ]
     },
     "execution_count": 4,
     "metadata": {},
     "output_type": "execute_result"
    }
   ],
   "source": [
    "%%time\n",
    "prices = reinsurance_prices(\n",
    "    R,\n",
    "    seed,\n",
    "    maturity,\n",
    "    k,\n",
    "    eta_r,\n",
    "    m,\n",
    "    phi_V,\n",
    "    sigma_V,\n",
    "    phi_L,\n",
    "    sigma_L,\n",
    "    upsilon,\n",
    "    V_0,\n",
    "    L_0,\n",
    "    r_0,\n",
    "    (simulate_poisson, simulate_cox, simulate_hawkes, simulate_dcp),\n",
    "    mu_C,\n",
    "    sigma_C,\n",
    "    markup,\n",
    "    As=(10.0, 15.0, 20.0, 25.0, 30.0),\n",
    "    Ms=(60.0, 65.0, 70.0, 75.0, 80.0, 85.0, 90.0),\n",
    ")\n",
    "\n",
    "prices.shape"
   ]
  },
  {
   "cell_type": "code",
   "execution_count": 5,
   "metadata": {},
   "outputs": [
    {
     "name": "stdout",
     "output_type": "stream",
     "text": [
      "Poisson\n"
     ]
    },
    {
     "data": {
      "text/html": [
       "<div>\n",
       "<style scoped>\n",
       "    .dataframe tbody tr th:only-of-type {\n",
       "        vertical-align: middle;\n",
       "    }\n",
       "\n",
       "    .dataframe tbody tr th {\n",
       "        vertical-align: top;\n",
       "    }\n",
       "\n",
       "    .dataframe thead th {\n",
       "        text-align: right;\n",
       "    }\n",
       "</style>\n",
       "<table border=\"1\" class=\"dataframe\">\n",
       "  <thead>\n",
       "    <tr style=\"text-align: right;\">\n",
       "      <th></th>\n",
       "      <th>0</th>\n",
       "      <th>1</th>\n",
       "      <th>2</th>\n",
       "      <th>3</th>\n",
       "      <th>4</th>\n",
       "      <th>5</th>\n",
       "      <th>6</th>\n",
       "    </tr>\n",
       "  </thead>\n",
       "  <tbody>\n",
       "    <tr>\n",
       "      <th>0</th>\n",
       "      <td>7.2633</td>\n",
       "      <td>7.2706</td>\n",
       "      <td>7.2742</td>\n",
       "      <td>7.2759</td>\n",
       "      <td>7.2767</td>\n",
       "      <td>7.2771</td>\n",
       "      <td>7.2773</td>\n",
       "    </tr>\n",
       "    <tr>\n",
       "      <th>1</th>\n",
       "      <td>4.5877</td>\n",
       "      <td>4.5956</td>\n",
       "      <td>4.5995</td>\n",
       "      <td>4.6013</td>\n",
       "      <td>4.6022</td>\n",
       "      <td>4.6026</td>\n",
       "      <td>4.6028</td>\n",
       "    </tr>\n",
       "    <tr>\n",
       "      <th>2</th>\n",
       "      <td>2.7921</td>\n",
       "      <td>2.8008</td>\n",
       "      <td>2.8050</td>\n",
       "      <td>2.8070</td>\n",
       "      <td>2.8079</td>\n",
       "      <td>2.8083</td>\n",
       "      <td>2.8086</td>\n",
       "    </tr>\n",
       "    <tr>\n",
       "      <th>3</th>\n",
       "      <td>1.6426</td>\n",
       "      <td>1.6519</td>\n",
       "      <td>1.6565</td>\n",
       "      <td>1.6587</td>\n",
       "      <td>1.6597</td>\n",
       "      <td>1.6602</td>\n",
       "      <td>1.6604</td>\n",
       "    </tr>\n",
       "    <tr>\n",
       "      <th>4</th>\n",
       "      <td>0.9380</td>\n",
       "      <td>0.9481</td>\n",
       "      <td>0.9531</td>\n",
       "      <td>0.9554</td>\n",
       "      <td>0.9565</td>\n",
       "      <td>0.9570</td>\n",
       "      <td>0.9573</td>\n",
       "    </tr>\n",
       "  </tbody>\n",
       "</table>\n",
       "</div>"
      ],
      "text/plain": [
       "        0       1       2       3       4       5       6\n",
       "0  7.2633  7.2706  7.2742  7.2759  7.2767  7.2771  7.2773\n",
       "1  4.5877  4.5956  4.5995  4.6013  4.6022  4.6026  4.6028\n",
       "2  2.7921  2.8008  2.8050  2.8070  2.8079  2.8083  2.8086\n",
       "3  1.6426  1.6519  1.6565  1.6587  1.6597  1.6602  1.6604\n",
       "4  0.9380  0.9481  0.9531  0.9554  0.9565  0.9570  0.9573"
      ]
     },
     "metadata": {},
     "output_type": "display_data"
    },
    {
     "name": "stdout",
     "output_type": "stream",
     "text": [
      "Cox\n"
     ]
    },
    {
     "data": {
      "text/html": [
       "<div>\n",
       "<style scoped>\n",
       "    .dataframe tbody tr th:only-of-type {\n",
       "        vertical-align: middle;\n",
       "    }\n",
       "\n",
       "    .dataframe tbody tr th {\n",
       "        vertical-align: top;\n",
       "    }\n",
       "\n",
       "    .dataframe thead th {\n",
       "        text-align: right;\n",
       "    }\n",
       "</style>\n",
       "<table border=\"1\" class=\"dataframe\">\n",
       "  <thead>\n",
       "    <tr style=\"text-align: right;\">\n",
       "      <th></th>\n",
       "      <th>0</th>\n",
       "      <th>1</th>\n",
       "      <th>2</th>\n",
       "      <th>3</th>\n",
       "      <th>4</th>\n",
       "      <th>5</th>\n",
       "      <th>6</th>\n",
       "    </tr>\n",
       "  </thead>\n",
       "  <tbody>\n",
       "    <tr>\n",
       "      <th>0</th>\n",
       "      <td>7.2382</td>\n",
       "      <td>7.2462</td>\n",
       "      <td>7.2502</td>\n",
       "      <td>7.2521</td>\n",
       "      <td>7.2531</td>\n",
       "      <td>7.2536</td>\n",
       "      <td>7.2538</td>\n",
       "    </tr>\n",
       "    <tr>\n",
       "      <th>1</th>\n",
       "      <td>4.5959</td>\n",
       "      <td>4.6047</td>\n",
       "      <td>4.6090</td>\n",
       "      <td>4.6110</td>\n",
       "      <td>4.6121</td>\n",
       "      <td>4.6126</td>\n",
       "      <td>4.6129</td>\n",
       "    </tr>\n",
       "    <tr>\n",
       "      <th>2</th>\n",
       "      <td>2.8164</td>\n",
       "      <td>2.8260</td>\n",
       "      <td>2.8307</td>\n",
       "      <td>2.8329</td>\n",
       "      <td>2.8340</td>\n",
       "      <td>2.8346</td>\n",
       "      <td>2.8349</td>\n",
       "    </tr>\n",
       "    <tr>\n",
       "      <th>3</th>\n",
       "      <td>1.6727</td>\n",
       "      <td>1.6832</td>\n",
       "      <td>1.6883</td>\n",
       "      <td>1.6907</td>\n",
       "      <td>1.6920</td>\n",
       "      <td>1.6925</td>\n",
       "      <td>1.6928</td>\n",
       "    </tr>\n",
       "    <tr>\n",
       "      <th>4</th>\n",
       "      <td>0.9650</td>\n",
       "      <td>0.9763</td>\n",
       "      <td>0.9818</td>\n",
       "      <td>0.9845</td>\n",
       "      <td>0.9858</td>\n",
       "      <td>0.9864</td>\n",
       "      <td>0.9868</td>\n",
       "    </tr>\n",
       "  </tbody>\n",
       "</table>\n",
       "</div>"
      ],
      "text/plain": [
       "        0       1       2       3       4       5       6\n",
       "0  7.2382  7.2462  7.2502  7.2521  7.2531  7.2536  7.2538\n",
       "1  4.5959  4.6047  4.6090  4.6110  4.6121  4.6126  4.6129\n",
       "2  2.8164  2.8260  2.8307  2.8329  2.8340  2.8346  2.8349\n",
       "3  1.6727  1.6832  1.6883  1.6907  1.6920  1.6925  1.6928\n",
       "4  0.9650  0.9763  0.9818  0.9845  0.9858  0.9864  0.9868"
      ]
     },
     "metadata": {},
     "output_type": "display_data"
    },
    {
     "name": "stdout",
     "output_type": "stream",
     "text": [
      "Hawkes\n"
     ]
    },
    {
     "data": {
      "text/html": [
       "<div>\n",
       "<style scoped>\n",
       "    .dataframe tbody tr th:only-of-type {\n",
       "        vertical-align: middle;\n",
       "    }\n",
       "\n",
       "    .dataframe tbody tr th {\n",
       "        vertical-align: top;\n",
       "    }\n",
       "\n",
       "    .dataframe thead th {\n",
       "        text-align: right;\n",
       "    }\n",
       "</style>\n",
       "<table border=\"1\" class=\"dataframe\">\n",
       "  <thead>\n",
       "    <tr style=\"text-align: right;\">\n",
       "      <th></th>\n",
       "      <th>0</th>\n",
       "      <th>1</th>\n",
       "      <th>2</th>\n",
       "      <th>3</th>\n",
       "      <th>4</th>\n",
       "      <th>5</th>\n",
       "      <th>6</th>\n",
       "    </tr>\n",
       "  </thead>\n",
       "  <tbody>\n",
       "    <tr>\n",
       "      <th>0</th>\n",
       "      <td>8.0884</td>\n",
       "      <td>8.1620</td>\n",
       "      <td>8.2134</td>\n",
       "      <td>8.2496</td>\n",
       "      <td>8.2754</td>\n",
       "      <td>8.2937</td>\n",
       "      <td>8.3069</td>\n",
       "    </tr>\n",
       "    <tr>\n",
       "      <th>1</th>\n",
       "      <td>5.9090</td>\n",
       "      <td>5.9889</td>\n",
       "      <td>6.0443</td>\n",
       "      <td>6.0831</td>\n",
       "      <td>6.1106</td>\n",
       "      <td>6.1301</td>\n",
       "      <td>6.1439</td>\n",
       "    </tr>\n",
       "    <tr>\n",
       "      <th>2</th>\n",
       "      <td>4.2961</td>\n",
       "      <td>4.3833</td>\n",
       "      <td>4.4435</td>\n",
       "      <td>4.4853</td>\n",
       "      <td>4.5147</td>\n",
       "      <td>4.5355</td>\n",
       "      <td>4.5502</td>\n",
       "    </tr>\n",
       "    <tr>\n",
       "      <th>3</th>\n",
       "      <td>3.0969</td>\n",
       "      <td>3.1919</td>\n",
       "      <td>3.2576</td>\n",
       "      <td>3.3031</td>\n",
       "      <td>3.3349</td>\n",
       "      <td>3.3571</td>\n",
       "      <td>3.3728</td>\n",
       "    </tr>\n",
       "    <tr>\n",
       "      <th>4</th>\n",
       "      <td>2.2032</td>\n",
       "      <td>2.3060</td>\n",
       "      <td>2.3775</td>\n",
       "      <td>2.4272</td>\n",
       "      <td>2.4617</td>\n",
       "      <td>2.4858</td>\n",
       "      <td>2.5026</td>\n",
       "    </tr>\n",
       "  </tbody>\n",
       "</table>\n",
       "</div>"
      ],
      "text/plain": [
       "        0       1       2       3       4       5       6\n",
       "0  8.0884  8.1620  8.2134  8.2496  8.2754  8.2937  8.3069\n",
       "1  5.9090  5.9889  6.0443  6.0831  6.1106  6.1301  6.1439\n",
       "2  4.2961  4.3833  4.4435  4.4853  4.5147  4.5355  4.5502\n",
       "3  3.0969  3.1919  3.2576  3.3031  3.3349  3.3571  3.3728\n",
       "4  2.2032  2.3060  2.3775  2.4272  2.4617  2.4858  2.5026"
      ]
     },
     "metadata": {},
     "output_type": "display_data"
    },
    {
     "name": "stdout",
     "output_type": "stream",
     "text": [
      "DCP\n"
     ]
    },
    {
     "data": {
      "text/html": [
       "<div>\n",
       "<style scoped>\n",
       "    .dataframe tbody tr th:only-of-type {\n",
       "        vertical-align: middle;\n",
       "    }\n",
       "\n",
       "    .dataframe tbody tr th {\n",
       "        vertical-align: top;\n",
       "    }\n",
       "\n",
       "    .dataframe thead th {\n",
       "        text-align: right;\n",
       "    }\n",
       "</style>\n",
       "<table border=\"1\" class=\"dataframe\">\n",
       "  <thead>\n",
       "    <tr style=\"text-align: right;\">\n",
       "      <th></th>\n",
       "      <th>0</th>\n",
       "      <th>1</th>\n",
       "      <th>2</th>\n",
       "      <th>3</th>\n",
       "      <th>4</th>\n",
       "      <th>5</th>\n",
       "      <th>6</th>\n",
       "    </tr>\n",
       "  </thead>\n",
       "  <tbody>\n",
       "    <tr>\n",
       "      <th>0</th>\n",
       "      <td>8.1700</td>\n",
       "      <td>8.2422</td>\n",
       "      <td>8.2926</td>\n",
       "      <td>8.3277</td>\n",
       "      <td>8.3521</td>\n",
       "      <td>8.3696</td>\n",
       "      <td>8.3821</td>\n",
       "    </tr>\n",
       "    <tr>\n",
       "      <th>1</th>\n",
       "      <td>5.9639</td>\n",
       "      <td>6.0423</td>\n",
       "      <td>6.0967</td>\n",
       "      <td>6.1343</td>\n",
       "      <td>6.1603</td>\n",
       "      <td>6.1789</td>\n",
       "      <td>6.1921</td>\n",
       "    </tr>\n",
       "    <tr>\n",
       "      <th>2</th>\n",
       "      <td>4.3290</td>\n",
       "      <td>4.4146</td>\n",
       "      <td>4.4737</td>\n",
       "      <td>4.5142</td>\n",
       "      <td>4.5422</td>\n",
       "      <td>4.5620</td>\n",
       "      <td>4.5760</td>\n",
       "    </tr>\n",
       "    <tr>\n",
       "      <th>3</th>\n",
       "      <td>3.1150</td>\n",
       "      <td>3.2083</td>\n",
       "      <td>3.2728</td>\n",
       "      <td>3.3168</td>\n",
       "      <td>3.3470</td>\n",
       "      <td>3.3682</td>\n",
       "      <td>3.3831</td>\n",
       "    </tr>\n",
       "    <tr>\n",
       "      <th>4</th>\n",
       "      <td>2.2110</td>\n",
       "      <td>2.3118</td>\n",
       "      <td>2.3820</td>\n",
       "      <td>2.4301</td>\n",
       "      <td>2.4629</td>\n",
       "      <td>2.4857</td>\n",
       "      <td>2.5017</td>\n",
       "    </tr>\n",
       "  </tbody>\n",
       "</table>\n",
       "</div>"
      ],
      "text/plain": [
       "        0       1       2       3       4       5       6\n",
       "0  8.1700  8.2422  8.2926  8.3277  8.3521  8.3696  8.3821\n",
       "1  5.9639  6.0423  6.0967  6.1343  6.1603  6.1789  6.1921\n",
       "2  4.3290  4.4146  4.4737  4.5142  4.5422  4.5620  4.5760\n",
       "3  3.1150  3.2083  3.2728  3.3168  3.3470  3.3682  3.3831\n",
       "4  2.2110  2.3118  2.3820  2.4301  2.4629  2.4857  2.5017"
      ]
     },
     "metadata": {},
     "output_type": "display_data"
    }
   ],
   "source": [
    "# Tables 1 to 4\n",
    "cat_models = (\"Poisson\", \"Cox\", \"Hawkes\", \"DCP\")\n",
    "for c in range(4):\n",
    "    print(cat_models[c])\n",
    "    display(pd.DataFrame(prices[c]).round(4))"
   ]
  },
  {
   "attachments": {},
   "cell_type": "markdown",
   "metadata": {},
   "source": [
    "## Table 5: Default risk premium"
   ]
  },
  {
   "cell_type": "code",
   "execution_count": 6,
   "metadata": {},
   "outputs": [
    {
     "name": "stdout",
     "output_type": "stream",
     "text": [
      "Loading 'c:\\Users\\Patrick\\Dropbox\\Jiwook Project Local\\catastrophe-reinsurance-pricing-compound-point-process\\data\\mc-R=1000000,seed=123,maturity=3,k=0.2,lambda_r=-0.01,m=0.05,phi_V=-3,sigma_V=0.05,phi_L=-3,sigma_L=0.02,upsilon=0.1,V_0=130,L_0=100,r_0=0.02.npy'\n"
     ]
    },
    {
     "name": "stderr",
     "output_type": "stream",
     "text": [
      "100%|██████████| 1000000/1000000 [00:20<00:00, 48027.04it/s]\n",
      "100%|██████████| 1000000/1000000 [00:06<00:00, 161397.43it/s]\n",
      "100%|██████████| 1000000/1000000 [00:06<00:00, 163451.51it/s]\n",
      "100%|██████████| 1000000/1000000 [00:05<00:00, 168817.09it/s]\n",
      "100%|██████████| 4/4 [00:40<00:00, 10.22s/it]\n"
     ]
    },
    {
     "name": "stdout",
     "output_type": "stream",
     "text": [
      "CPU times: total: 9.34 s\n",
      "Wall time: 47.9 s\n"
     ]
    }
   ],
   "source": [
    "%%time\n",
    "risky_prices = reinsurance_prices(\n",
    "    R,\n",
    "    seed,\n",
    "    maturity,\n",
    "    k,\n",
    "    eta_r,\n",
    "    m,\n",
    "    phi_V,\n",
    "    sigma_V,\n",
    "    phi_L,\n",
    "    sigma_L,\n",
    "    upsilon,\n",
    "    V_0,\n",
    "    L_0,\n",
    "    r_0,\n",
    "    (simulate_poisson, simulate_cox, simulate_hawkes, simulate_dcp),\n",
    "    mu_C,\n",
    "    sigma_C,\n",
    "    markup,\n",
    ")[:, np.newaxis]"
   ]
  },
  {
   "cell_type": "code",
   "execution_count": 7,
   "metadata": {},
   "outputs": [
    {
     "data": {
      "text/plain": [
       "array([[2.8086],\n",
       "       [2.8349],\n",
       "       [4.5502],\n",
       "       [4.576 ]])"
      ]
     },
     "execution_count": 7,
     "metadata": {},
     "output_type": "execute_result"
    }
   ],
   "source": [
    "risky_prices.round(4)"
   ]
  },
  {
   "cell_type": "code",
   "execution_count": 8,
   "metadata": {},
   "outputs": [
    {
     "name": "stdout",
     "output_type": "stream",
     "text": [
      "Loading 'c:\\Users\\Patrick\\Dropbox\\Jiwook Project Local\\catastrophe-reinsurance-pricing-compound-point-process\\data\\mc-R=1000000,seed=123,maturity=3,k=0.2,lambda_r=-0.01,m=0.05,phi_V=-3,sigma_V=0.05,phi_L=-3,sigma_L=0.02,upsilon=0.1,V_0=130,L_0=100,r_0=0.02.npy'\n"
     ]
    },
    {
     "name": "stderr",
     "output_type": "stream",
     "text": [
      "100%|██████████| 1000000/1000000 [00:20<00:00, 48833.35it/s]\n",
      "100%|██████████| 1000000/1000000 [00:06<00:00, 162431.65it/s]\n",
      "100%|██████████| 1000000/1000000 [00:05<00:00, 168474.81it/s]\n",
      "100%|██████████| 1000000/1000000 [00:06<00:00, 165136.42it/s]\n",
      "100%|██████████| 4/4 [00:39<00:00,  9.93s/it]\n"
     ]
    },
    {
     "name": "stdout",
     "output_type": "stream",
     "text": [
      "CPU times: total: 9.19 s\n",
      "Wall time: 46.6 s\n"
     ]
    }
   ],
   "source": [
    "%%time\n",
    "safe_prices = reinsurance_prices(\n",
    "    R,\n",
    "    seed,\n",
    "    maturity,\n",
    "    k,\n",
    "    eta_r,\n",
    "    m,\n",
    "    phi_V,\n",
    "    sigma_V,\n",
    "    phi_L,\n",
    "    sigma_L,\n",
    "    upsilon,\n",
    "    V_0,\n",
    "    L_0,\n",
    "    r_0,\n",
    "    (simulate_poisson, simulate_cox, simulate_hawkes, simulate_dcp),\n",
    "    mu_C,\n",
    "    sigma_C,\n",
    "    markup,\n",
    "    defaultable=False,\n",
    ")[:, np.newaxis]"
   ]
  },
  {
   "cell_type": "code",
   "execution_count": 9,
   "metadata": {},
   "outputs": [
    {
     "data": {
      "text/plain": [
       "array([[2.8495],\n",
       "       [2.879 ],\n",
       "       [4.8205],\n",
       "       [4.8414]])"
      ]
     },
     "execution_count": 9,
     "metadata": {},
     "output_type": "execute_result"
    }
   ],
   "source": [
    "safe_prices.round(4)"
   ]
  },
  {
   "cell_type": "code",
   "execution_count": 10,
   "metadata": {},
   "outputs": [
    {
     "data": {
      "text/plain": [
       "array([[0.0409],\n",
       "       [0.0441],\n",
       "       [0.2703],\n",
       "       [0.2654]])"
      ]
     },
     "execution_count": 10,
     "metadata": {},
     "output_type": "execute_result"
    }
   ],
   "source": [
    "risk_premium = safe_prices - risky_prices\n",
    "risk_premium.round(4)"
   ]
  },
  {
   "cell_type": "code",
   "execution_count": 11,
   "metadata": {},
   "outputs": [
    {
     "data": {
      "text/plain": [
       "array([[2.8086, 2.8495, 0.0409],\n",
       "       [2.8349, 2.879 , 0.0441],\n",
       "       [4.5502, 4.8205, 0.2703],\n",
       "       [4.576 , 4.8414, 0.2654]])"
      ]
     },
     "execution_count": 11,
     "metadata": {},
     "output_type": "execute_result"
    }
   ],
   "source": [
    "np.hstack((risky_prices, safe_prices, risk_premium)).round(4)"
   ]
  },
  {
   "attachments": {},
   "cell_type": "markdown",
   "metadata": {},
   "source": [
    "## Table 6: Impacts of externally-excited jump frequency rate"
   ]
  },
  {
   "cell_type": "code",
   "execution_count": 12,
   "metadata": {},
   "outputs": [],
   "source": [
    "def simulate_dcp_variations(seed, rho):\n",
    "    lambda0 = 0.29\n",
    "    a = 0.26\n",
    "    delta = 1\n",
    "\n",
    "    return simulate_num_dynamic_contagion_uniform_jumps(\n",
    "        seed, maturity, lambda0, a, rho, delta, 0.0, 1.0, 0.0, 0.5\n",
    "    )\n",
    "\n",
    "\n",
    "simulators = [partial(simulate_dcp_variations, rho=rho) for rho in (0.4, 3, 10, 20)]"
   ]
  },
  {
   "cell_type": "code",
   "execution_count": 13,
   "metadata": {},
   "outputs": [
    {
     "name": "stdout",
     "output_type": "stream",
     "text": [
      "Can't find 'c:\\Users\\Patrick\\Dropbox\\Jiwook Project Local\\catastrophe-reinsurance-pricing-compound-point-process\\data\\mc-R=1000000,seed=123,maturity=3,k=0.2,lambda_r=-0.01,m=0.05,phi_V=-3,sigma_V=0.05,phi_L=-3,sigma_L=0.02,upsilon=0.1,V_0=110,L_0=100,r_0=0.02.npy', generating market conditions\n",
      "Saving c:\\Users\\Patrick\\Dropbox\\Jiwook Project Local\\catastrophe-reinsurance-pricing-compound-point-process\\data\\mc-R=1000000,seed=123,maturity=3,k=0.2,lambda_r=-0.01,m=0.05,phi_V=-3,sigma_V=0.05,phi_L=-3,sigma_L=0.02,upsilon=0.1,V_0=110,L_0=100,r_0=0.02.npy\n"
     ]
    },
    {
     "name": "stderr",
     "output_type": "stream",
     "text": [
      "100%|██████████| 1000000/1000000 [00:07<00:00, 135287.06it/s]\n",
      "100%|██████████| 1000000/1000000 [00:08<00:00, 124396.33it/s]\n",
      "100%|██████████| 1000000/1000000 [00:09<00:00, 105643.12it/s]\n",
      "100%|██████████| 1000000/1000000 [00:12<00:00, 81114.82it/s]\n",
      "100%|██████████| 4/4 [00:40<00:00, 10.12s/it]\n"
     ]
    },
    {
     "name": "stdout",
     "output_type": "stream",
     "text": [
      "Loading 'c:\\Users\\Patrick\\Dropbox\\Jiwook Project Local\\catastrophe-reinsurance-pricing-compound-point-process\\data\\mc-R=1000000,seed=123,maturity=3,k=0.2,lambda_r=-0.01,m=0.05,phi_V=-3,sigma_V=0.05,phi_L=-3,sigma_L=0.02,upsilon=0.1,V_0=130,L_0=100,r_0=0.02.npy'\n"
     ]
    },
    {
     "name": "stderr",
     "output_type": "stream",
     "text": [
      "100%|██████████| 1000000/1000000 [00:16<00:00, 61811.68it/s]\n",
      "100%|██████████| 1000000/1000000 [00:17<00:00, 58135.87it/s]\n",
      "100%|██████████| 1000000/1000000 [00:20<00:00, 49862.46it/s]\n",
      "100%|██████████| 1000000/1000000 [00:24<00:00, 40507.99it/s]\n",
      "100%|██████████| 4/4 [01:22<00:00, 20.58s/it]\n"
     ]
    },
    {
     "name": "stdout",
     "output_type": "stream",
     "text": [
      "Can't find 'c:\\Users\\Patrick\\Dropbox\\Jiwook Project Local\\catastrophe-reinsurance-pricing-compound-point-process\\data\\mc-R=1000000,seed=123,maturity=3,k=0.2,lambda_r=-0.01,m=0.05,phi_V=-3,sigma_V=0.05,phi_L=-3,sigma_L=0.02,upsilon=0.1,V_0=150,L_0=100,r_0=0.02.npy', generating market conditions\n",
      "Saving c:\\Users\\Patrick\\Dropbox\\Jiwook Project Local\\catastrophe-reinsurance-pricing-compound-point-process\\data\\mc-R=1000000,seed=123,maturity=3,k=0.2,lambda_r=-0.01,m=0.05,phi_V=-3,sigma_V=0.05,phi_L=-3,sigma_L=0.02,upsilon=0.1,V_0=150,L_0=100,r_0=0.02.npy\n"
     ]
    },
    {
     "name": "stderr",
     "output_type": "stream",
     "text": [
      "100%|██████████| 1000000/1000000 [00:07<00:00, 132823.37it/s]\n",
      "100%|██████████| 1000000/1000000 [00:07<00:00, 133978.39it/s]\n",
      "100%|██████████| 1000000/1000000 [00:08<00:00, 113202.89it/s]\n",
      "100%|██████████| 1000000/1000000 [00:11<00:00, 88304.37it/s]\n",
      "100%|██████████| 4/4 [00:37<00:00,  9.39s/it]\n"
     ]
    },
    {
     "name": "stdout",
     "output_type": "stream",
     "text": [
      "CPU times: total: 9min 24s\n",
      "Wall time: 27min 15s\n"
     ]
    }
   ],
   "source": [
    "%%time\n",
    "risky_prices = reinsurance_prices(\n",
    "    R,\n",
    "    seed,\n",
    "    maturity,\n",
    "    k,\n",
    "    eta_r,\n",
    "    m,\n",
    "    phi_V,\n",
    "    sigma_V,\n",
    "    phi_L,\n",
    "    sigma_L,\n",
    "    upsilon,\n",
    "    tuple(int(scale * L_0) for scale in (1.1, 1.3, 1.5)),\n",
    "    L_0,\n",
    "    r_0,\n",
    "    simulators,\n",
    "    mu_C,\n",
    "    sigma_C,\n",
    "    markup,\n",
    ").T"
   ]
  },
  {
   "cell_type": "code",
   "execution_count": 14,
   "metadata": {},
   "outputs": [
    {
     "data": {
      "text/plain": [
       "array([[ 4.137 ,  4.576 ,  4.7667],\n",
       "       [13.5344, 15.2673, 16.2062],\n",
       "       [39.8862, 46.4095, 51.3561],\n",
       "       [56.6998, 66.8516, 76.0095]])"
      ]
     },
     "execution_count": 14,
     "metadata": {},
     "output_type": "execute_result"
    }
   ],
   "source": [
    "risky_prices.round(4)"
   ]
  },
  {
   "cell_type": "code",
   "execution_count": 15,
   "metadata": {},
   "outputs": [
    {
     "name": "stdout",
     "output_type": "stream",
     "text": [
      "Loading 'c:\\Users\\Patrick\\Dropbox\\Jiwook Project Local\\catastrophe-reinsurance-pricing-compound-point-process\\data\\mc-R=1000000,seed=123,maturity=3,k=0.2,lambda_r=-0.01,m=0.05,phi_V=-3,sigma_V=0.05,phi_L=-3,sigma_L=0.02,upsilon=0.1,V_0=110,L_0=100,r_0=0.02.npy'\n"
     ]
    },
    {
     "name": "stderr",
     "output_type": "stream",
     "text": [
      "100%|██████████| 1000000/1000000 [00:07<00:00, 140947.28it/s]\n",
      "100%|██████████| 1000000/1000000 [00:06<00:00, 143335.13it/s]\n",
      "100%|██████████| 1000000/1000000 [00:08<00:00, 112701.47it/s]\n",
      "100%|██████████| 1000000/1000000 [00:11<00:00, 90147.11it/s]\n",
      "100%|██████████| 4/4 [00:35<00:00,  8.76s/it]\n"
     ]
    },
    {
     "name": "stdout",
     "output_type": "stream",
     "text": [
      "CPU times: total: 15 s\n",
      "Wall time: 42.6 s\n"
     ]
    }
   ],
   "source": [
    "%%time\n",
    "safe_prices = reinsurance_prices(\n",
    "    R,\n",
    "    seed,\n",
    "    maturity,\n",
    "    k,\n",
    "    eta_r,\n",
    "    m,\n",
    "    phi_V,\n",
    "    sigma_V,\n",
    "    phi_L,\n",
    "    sigma_L,\n",
    "    upsilon,\n",
    "    tuple(int(scale * L_0) for scale in (1.1, 1.3, 1.5)),\n",
    "    L_0,\n",
    "    r_0,\n",
    "    simulators,\n",
    "    mu_C,\n",
    "    sigma_C,\n",
    "    markup,\n",
    "    defaultable=False,\n",
    ").T"
   ]
  },
  {
   "cell_type": "code",
   "execution_count": 16,
   "metadata": {},
   "outputs": [
    {
     "data": {
      "text/plain": [
       "array([[ 4.8414,  4.8414,  4.8414],\n",
       "       [16.6552, 16.6552, 16.6552],\n",
       "       [54.5809, 54.5809, 54.5809],\n",
       "       [83.1984, 83.1984, 83.1984]])"
      ]
     },
     "execution_count": 16,
     "metadata": {},
     "output_type": "execute_result"
    }
   ],
   "source": [
    "safe_prices.round(4)"
   ]
  },
  {
   "cell_type": "code",
   "execution_count": 17,
   "metadata": {},
   "outputs": [],
   "source": [
    "risk_premium = safe_prices - risky_prices"
   ]
  },
  {
   "cell_type": "code",
   "execution_count": 18,
   "metadata": {},
   "outputs": [
    {
     "data": {
      "text/plain": [
       "array([[4.13700e+00, 4.57600e+00, 4.76670e+00, 7.04400e-01, 2.65400e-01,\n",
       "        7.47000e-02],\n",
       "       [1.35344e+01, 1.52673e+01, 1.62062e+01, 3.12080e+00, 1.38790e+00,\n",
       "        4.49000e-01],\n",
       "       [3.98862e+01, 4.64095e+01, 5.13561e+01, 1.46947e+01, 8.17130e+00,\n",
       "        3.22480e+00],\n",
       "       [5.66998e+01, 6.68516e+01, 7.60095e+01, 2.64986e+01, 1.63468e+01,\n",
       "        7.18890e+00]])"
      ]
     },
     "execution_count": 18,
     "metadata": {},
     "output_type": "execute_result"
    }
   ],
   "source": [
    "np.hstack([risky_prices, risk_premium]).round(4)"
   ]
  },
  {
   "attachments": {},
   "cell_type": "markdown",
   "metadata": {},
   "source": [
    "## Table 7: Impacts of externally-excited jump magnitude"
   ]
  },
  {
   "cell_type": "code",
   "execution_count": 19,
   "metadata": {},
   "outputs": [],
   "source": [
    "def simulate_dcp_variations(seed, mu_F=0.25, mu_G=0.5):\n",
    "    lambda0 = 0.29\n",
    "    a = 0.26\n",
    "    delta = 1\n",
    "    rho = 0.4\n",
    "\n",
    "    return simulate_num_dynamic_contagion_uniform_jumps(\n",
    "        seed, maturity, lambda0, a, rho, delta, 0.0, 2 * mu_G, 0.0, 2 * mu_F\n",
    "    )\n",
    "\n",
    "\n",
    "simulators = [\n",
    "    partial(simulate_dcp_variations, mu_F=mu_F) for mu_F in (0.25, 1.0, 4.0, 8.0)\n",
    "]"
   ]
  },
  {
   "cell_type": "code",
   "execution_count": 20,
   "metadata": {},
   "outputs": [
    {
     "name": "stdout",
     "output_type": "stream",
     "text": [
      "Loading 'c:\\Users\\Patrick\\Dropbox\\Jiwook Project Local\\catastrophe-reinsurance-pricing-compound-point-process\\data\\mc-R=1000000,seed=123,maturity=3,k=0.2,lambda_r=-0.01,m=0.05,phi_V=-3,sigma_V=0.05,phi_L=-3,sigma_L=0.02,upsilon=0.1,V_0=110,L_0=100,r_0=0.02.npy'\n"
     ]
    },
    {
     "name": "stderr",
     "output_type": "stream",
     "text": [
      "100%|██████████| 1000000/1000000 [00:06<00:00, 150021.60it/s]\n",
      "100%|██████████| 1000000/1000000 [00:06<00:00, 157537.20it/s]\n",
      "100%|██████████| 1000000/1000000 [00:06<00:00, 147961.40it/s]\n",
      "100%|██████████| 1000000/1000000 [00:07<00:00, 136091.47it/s]\n",
      "100%|██████████| 4/4 [00:29<00:00,  7.40s/it]\n"
     ]
    },
    {
     "name": "stdout",
     "output_type": "stream",
     "text": [
      "Loading 'c:\\Users\\Patrick\\Dropbox\\Jiwook Project Local\\catastrophe-reinsurance-pricing-compound-point-process\\data\\mc-R=1000000,seed=123,maturity=3,k=0.2,lambda_r=-0.01,m=0.05,phi_V=-3,sigma_V=0.05,phi_L=-3,sigma_L=0.02,upsilon=0.1,V_0=130,L_0=100,r_0=0.02.npy'\n"
     ]
    },
    {
     "name": "stderr",
     "output_type": "stream",
     "text": [
      "100%|██████████| 1000000/1000000 [00:06<00:00, 160898.46it/s]\n",
      "100%|██████████| 1000000/1000000 [00:06<00:00, 160348.50it/s]\n",
      "100%|██████████| 1000000/1000000 [00:06<00:00, 154638.86it/s]\n",
      "100%|██████████| 1000000/1000000 [00:06<00:00, 148975.74it/s]\n",
      "100%|██████████| 4/4 [00:27<00:00,  6.97s/it]\n"
     ]
    },
    {
     "name": "stdout",
     "output_type": "stream",
     "text": [
      "Loading 'c:\\Users\\Patrick\\Dropbox\\Jiwook Project Local\\catastrophe-reinsurance-pricing-compound-point-process\\data\\mc-R=1000000,seed=123,maturity=3,k=0.2,lambda_r=-0.01,m=0.05,phi_V=-3,sigma_V=0.05,phi_L=-3,sigma_L=0.02,upsilon=0.1,V_0=150,L_0=100,r_0=0.02.npy'\n"
     ]
    },
    {
     "name": "stderr",
     "output_type": "stream",
     "text": [
      "100%|██████████| 1000000/1000000 [00:06<00:00, 154294.62it/s]\n",
      "100%|██████████| 1000000/1000000 [00:06<00:00, 154801.02it/s]\n",
      "100%|██████████| 1000000/1000000 [00:06<00:00, 158842.12it/s]\n",
      "100%|██████████| 1000000/1000000 [00:06<00:00, 149155.03it/s]\n",
      "100%|██████████| 4/4 [00:28<00:00,  7.00s/it]\n"
     ]
    },
    {
     "name": "stdout",
     "output_type": "stream",
     "text": [
      "Loading 'c:\\Users\\Patrick\\Dropbox\\Jiwook Project Local\\catastrophe-reinsurance-pricing-compound-point-process\\data\\mc-R=1000000,seed=123,maturity=3,k=0.2,lambda_r=-0.01,m=0.05,phi_V=-3,sigma_V=0.05,phi_L=-3,sigma_L=0.02,upsilon=0.1,V_0=110,L_0=100,r_0=0.02.npy'\n"
     ]
    },
    {
     "name": "stderr",
     "output_type": "stream",
     "text": [
      "100%|██████████| 1000000/1000000 [00:06<00:00, 156862.23it/s]\n",
      "100%|██████████| 1000000/1000000 [00:06<00:00, 158333.90it/s]\n",
      "100%|██████████| 1000000/1000000 [00:06<00:00, 154526.83it/s]\n",
      "100%|██████████| 1000000/1000000 [00:06<00:00, 151760.99it/s]\n",
      "100%|██████████| 4/4 [00:26<00:00,  6.69s/it]"
     ]
    },
    {
     "name": "stdout",
     "output_type": "stream",
     "text": [
      "CPU times: total: 41.2 s\n",
      "Wall time: 2min 21s\n"
     ]
    },
    {
     "name": "stderr",
     "output_type": "stream",
     "text": [
      "\n"
     ]
    }
   ],
   "source": [
    "%%time\n",
    "risky_prices = reinsurance_prices(\n",
    "    R,\n",
    "    seed,\n",
    "    maturity,\n",
    "    k,\n",
    "    eta_r,\n",
    "    m,\n",
    "    phi_V,\n",
    "    sigma_V,\n",
    "    phi_L,\n",
    "    sigma_L,\n",
    "    upsilon,\n",
    "    tuple(int(scale * L_0) for scale in (1.1, 1.3, 1.5)),\n",
    "    L_0,\n",
    "    r_0,\n",
    "    simulators,\n",
    "    mu_C,\n",
    "    sigma_C,\n",
    "    markup,\n",
    ").T\n",
    "\n",
    "safe_prices = reinsurance_prices(\n",
    "    R,\n",
    "    seed,\n",
    "    maturity,\n",
    "    k,\n",
    "    eta_r,\n",
    "    m,\n",
    "    phi_V,\n",
    "    sigma_V,\n",
    "    phi_L,\n",
    "    sigma_L,\n",
    "    upsilon,\n",
    "    tuple(int(scale * L_0) for scale in (1.1, 1.3, 1.5)),\n",
    "    L_0,\n",
    "    r_0,\n",
    "    simulators,\n",
    "    mu_C,\n",
    "    sigma_C,\n",
    "    markup,\n",
    "    defaultable=False,\n",
    ").T\n",
    "\n",
    "risk_premium = safe_prices - risky_prices"
   ]
  },
  {
   "cell_type": "code",
   "execution_count": 21,
   "metadata": {},
   "outputs": [
    {
     "data": {
      "text/plain": [
       "array([[ 4.137 ,  4.576 ,  4.7667,  0.7044,  0.2654,  0.0747],\n",
       "       [ 8.5331,  9.5955, 10.1627,  1.9013,  0.8389,  0.2717],\n",
       "       [23.304 , 27.0421, 29.9316,  8.6188,  4.8807,  1.9912],\n",
       "       [31.4876, 36.8698, 41.4919, 13.5394,  8.1572,  3.5351]])"
      ]
     },
     "execution_count": 21,
     "metadata": {},
     "output_type": "execute_result"
    }
   ],
   "source": [
    "np.hstack([risky_prices, risk_premium]).round(4)"
   ]
  },
  {
   "attachments": {},
   "cell_type": "markdown",
   "metadata": {},
   "source": [
    "## Table 8: Impacts of self-excited jump magnitude"
   ]
  },
  {
   "cell_type": "code",
   "execution_count": 22,
   "metadata": {},
   "outputs": [
    {
     "name": "stdout",
     "output_type": "stream",
     "text": [
      "Loading 'c:\\Users\\Patrick\\Dropbox\\Jiwook Project Local\\catastrophe-reinsurance-pricing-compound-point-process\\data\\mc-R=1000000,seed=123,maturity=3,k=0.2,lambda_r=-0.01,m=0.05,phi_V=-3,sigma_V=0.05,phi_L=-3,sigma_L=0.02,upsilon=0.1,V_0=110,L_0=100,r_0=0.02.npy'\n"
     ]
    },
    {
     "name": "stderr",
     "output_type": "stream",
     "text": [
      "100%|██████████| 1000000/1000000 [00:06<00:00, 150611.89it/s]\n",
      "100%|██████████| 1000000/1000000 [00:06<00:00, 156349.86it/s]\n",
      "100%|██████████| 1000000/1000000 [00:06<00:00, 154133.26it/s]\n",
      "100%|██████████| 1000000/1000000 [00:12<00:00, 80632.91it/s]\n",
      "100%|██████████| 4/4 [00:34<00:00,  8.55s/it]\n"
     ]
    },
    {
     "name": "stdout",
     "output_type": "stream",
     "text": [
      "Loading 'c:\\Users\\Patrick\\Dropbox\\Jiwook Project Local\\catastrophe-reinsurance-pricing-compound-point-process\\data\\mc-R=1000000,seed=123,maturity=3,k=0.2,lambda_r=-0.01,m=0.05,phi_V=-3,sigma_V=0.05,phi_L=-3,sigma_L=0.02,upsilon=0.1,V_0=130,L_0=100,r_0=0.02.npy'\n"
     ]
    },
    {
     "name": "stderr",
     "output_type": "stream",
     "text": [
      "100%|██████████| 1000000/1000000 [00:06<00:00, 150759.99it/s]\n",
      "100%|██████████| 1000000/1000000 [00:06<00:00, 152753.14it/s]\n",
      "100%|██████████| 1000000/1000000 [00:06<00:00, 147492.36it/s]\n",
      "100%|██████████| 1000000/1000000 [00:12<00:00, 80680.07it/s]\n",
      "100%|██████████| 4/4 [00:34<00:00,  8.62s/it]\n"
     ]
    },
    {
     "name": "stdout",
     "output_type": "stream",
     "text": [
      "Loading 'c:\\Users\\Patrick\\Dropbox\\Jiwook Project Local\\catastrophe-reinsurance-pricing-compound-point-process\\data\\mc-R=1000000,seed=123,maturity=3,k=0.2,lambda_r=-0.01,m=0.05,phi_V=-3,sigma_V=0.05,phi_L=-3,sigma_L=0.02,upsilon=0.1,V_0=150,L_0=100,r_0=0.02.npy'\n"
     ]
    },
    {
     "name": "stderr",
     "output_type": "stream",
     "text": [
      "100%|██████████| 1000000/1000000 [00:06<00:00, 152800.97it/s]\n",
      "100%|██████████| 1000000/1000000 [00:06<00:00, 152488.41it/s]\n",
      "100%|██████████| 1000000/1000000 [00:06<00:00, 155480.33it/s]\n",
      "100%|██████████| 1000000/1000000 [00:12<00:00, 79681.36it/s]\n",
      "100%|██████████| 4/4 [00:34<00:00,  8.53s/it]\n"
     ]
    },
    {
     "name": "stdout",
     "output_type": "stream",
     "text": [
      "Loading 'c:\\Users\\Patrick\\Dropbox\\Jiwook Project Local\\catastrophe-reinsurance-pricing-compound-point-process\\data\\mc-R=1000000,seed=123,maturity=3,k=0.2,lambda_r=-0.01,m=0.05,phi_V=-3,sigma_V=0.05,phi_L=-3,sigma_L=0.02,upsilon=0.1,V_0=110,L_0=100,r_0=0.02.npy'\n"
     ]
    },
    {
     "name": "stderr",
     "output_type": "stream",
     "text": [
      "100%|██████████| 1000000/1000000 [00:06<00:00, 154438.95it/s]\n",
      "100%|██████████| 1000000/1000000 [00:06<00:00, 152870.73it/s]\n",
      "100%|██████████| 1000000/1000000 [00:06<00:00, 154971.54it/s]\n",
      "100%|██████████| 1000000/1000000 [00:12<00:00, 79306.43it/s]\n",
      "100%|██████████| 4/4 [00:33<00:00,  8.27s/it]"
     ]
    },
    {
     "name": "stdout",
     "output_type": "stream",
     "text": [
      "CPU times: total: 1min 5s\n",
      "Wall time: 2min 45s\n"
     ]
    },
    {
     "name": "stderr",
     "output_type": "stream",
     "text": [
      "\n"
     ]
    }
   ],
   "source": [
    "%%time\n",
    "\n",
    "simulators = [\n",
    "    partial(simulate_dcp_variations, mu_G=mu_G) for mu_G in (0.5, 1.0, 2.0, 3.0)\n",
    "]\n",
    "\n",
    "risky_prices = reinsurance_prices(\n",
    "    R,\n",
    "    seed,\n",
    "    maturity,\n",
    "    k,\n",
    "    eta_r,\n",
    "    m,\n",
    "    phi_V,\n",
    "    sigma_V,\n",
    "    phi_L,\n",
    "    sigma_L,\n",
    "    upsilon,\n",
    "    tuple(int(scale * L_0) for scale in (1.1, 1.3, 1.5)),\n",
    "    L_0,\n",
    "    r_0,\n",
    "    simulators,\n",
    "    mu_C,\n",
    "    sigma_C,\n",
    "    markup,\n",
    ").T\n",
    "\n",
    "safe_prices = reinsurance_prices(\n",
    "    R,\n",
    "    seed,\n",
    "    maturity,\n",
    "    k,\n",
    "    eta_r,\n",
    "    m,\n",
    "    phi_V,\n",
    "    sigma_V,\n",
    "    phi_L,\n",
    "    sigma_L,\n",
    "    upsilon,\n",
    "    tuple(int(scale * L_0) for scale in (1.1, 1.3, 1.5)),\n",
    "    L_0,\n",
    "    r_0,\n",
    "    simulators,\n",
    "    mu_C,\n",
    "    sigma_C,\n",
    "    markup,\n",
    "    defaultable=False,\n",
    ").T\n",
    "\n",
    "risk_premium = safe_prices - risky_prices"
   ]
  },
  {
   "cell_type": "code",
   "execution_count": 23,
   "metadata": {},
   "outputs": [
    {
     "data": {
      "text/plain": [
       "array([[ 4.137 ,  4.576 ,  4.7667,  0.7044,  0.2654,  0.0747],\n",
       "       [ 9.145 , 10.4484, 11.3248,  2.7225,  1.4191,  0.5427],\n",
       "       [19.0516, 22.2658, 25.0118,  8.0721,  4.858 ,  2.112 ],\n",
       "       [24.8796, 29.2425, 33.1769, 11.4628,  7.0999,  3.1656]])"
      ]
     },
     "execution_count": 23,
     "metadata": {},
     "output_type": "execute_result"
    }
   ],
   "source": [
    "np.hstack([risky_prices, risk_premium]).round(4)"
   ]
  }
 ],
 "metadata": {
  "kernelspec": {
   "display_name": "catbond",
   "language": "python",
   "name": "python3"
  },
  "language_info": {
   "codemirror_mode": {
    "name": "ipython",
    "version": 3
   },
   "file_extension": ".py",
   "mimetype": "text/x-python",
   "name": "python",
   "nbconvert_exporter": "python",
   "pygments_lexer": "ipython3",
   "version": "3.10.0 (default, Mar  3 2022, 03:54:28) [Clang 12.0.0 ]"
  },
  "orig_nbformat": 4,
  "vscode": {
   "interpreter": {
    "hash": "dd4dc5c54768b9716edc77d917d2c6c129af2b0827205d4c9646f7e32a294aa7"
   }
  }
 },
 "nbformat": 4,
 "nbformat_minor": 2
}
